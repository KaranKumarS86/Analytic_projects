{
 "cells": [
  {
   "cell_type": "code",
   "execution_count": 1,
   "id": "644d0b95",
   "metadata": {},
   "outputs": [],
   "source": [
    " language_codes=['ar','bg', 'br', 'cz', 'da', 'de', 'el', 'en', 'es', 'et', 'fa', 'fi',\n",
    "                 'fr', 'hi', 'hr', 'hu', 'hy', 'id', 'it', 'ja', 'lt', 'lv', 'nl', 'no',\n",
    "                 'pl', 'pt', 'ro', 'ru', 'sk', 'sl', 'sv', 'tr', 'uk', 'zh']\n"
   ]
  },
  {
   "cell_type": "code",
   "execution_count": 3,
   "id": "74566a3c",
   "metadata": {},
   "outputs": [],
   "source": [
    "Category_link=\"https://www.amazon.de/-/en/gp/bestsellers/beauty/64487031/ref=zg_bs_nav_beauty_2_64486031\""
   ]
  },
  {
   "cell_type": "code",
   "execution_count": 4,
   "id": "1d75bda9",
   "metadata": {},
   "outputs": [],
   "source": [
    "import pandas as pd\n",
    "\n",
    "from selenium import webdriver\n",
    "from selenium.webdriver.common.by import By\n",
    "from selenium.webdriver.support.ui import WebDriverWait\n",
    "import selenium.webdriver.support.expected_conditions as EC\n",
    "\n",
    "from tqdm.notebook import tqdm\n",
    "\n",
    "import time\n",
    "\n",
    "from bs4 import BeautifulSoup\n",
    "import requests\n",
    "\n"
   ]
  },
  {
   "cell_type": "code",
   "execution_count": 5,
   "id": "512c4f5d",
   "metadata": {},
   "outputs": [],
   "source": [
    "#\"C:\\Users\\nitin\\Downloads\\hp printers uk 1494.xlsx\""
   ]
  },
  {
   "cell_type": "code",
   "execution_count": 6,
   "id": "02e760eb",
   "metadata": {},
   "outputs": [
    {
     "name": "stderr",
     "output_type": "stream",
     "text": [
      "C:\\Users\\visha\\AppData\\Local\\Temp\\ipykernel_13092\\468632191.py:3: DeprecationWarning: executable_path has been deprecated, please pass in a Service object\n",
      "  driver = webdriver.Chrome(executable_path = r\"C:\\Users\\visha\\Downloads\\chromedriver.exe\",chrome_options = chrome_options)\n",
      "C:\\Users\\visha\\AppData\\Local\\Temp\\ipykernel_13092\\468632191.py:3: DeprecationWarning: use options instead of chrome_options\n",
      "  driver = webdriver.Chrome(executable_path = r\"C:\\Users\\visha\\Downloads\\chromedriver.exe\",chrome_options = chrome_options)\n"
     ]
    }
   ],
   "source": [
    "chrome_options = webdriver.ChromeOptions()\n",
    "chrome_options.add_argument(\"--incognito\")\n",
    "driver = webdriver.Chrome(executable_path = r\"C:\\Users\\visha\\Downloads\\chromedriver.exe\",chrome_options = chrome_options)\n"
   ]
  },
  {
   "cell_type": "code",
   "execution_count": 7,
   "id": "8d56cc75",
   "metadata": {},
   "outputs": [],
   "source": [
    "# titles=[]\n",
    "# for i in range (2):\n",
    "#     link=Category_link+\"/ref=zg_bs_pg_2?_encoding=UTF8&pg={}\".format(i+1)\n",
    "#     print(link)\n",
    "#     driver.get(link)    \n",
    "#     driver.execute_script(\"window.scrollTo(0,3000)\")\n",
    "    \n",
    "#     for y in range (10):\n",
    "#         driver.execute_script(\"window.scrollTo(0, window.scrollY+1000);\")\n",
    "#         time.sleep(2)\n",
    "#     soup=BeautifulSoup(driver.page_source, \"html.parser\")\n",
    "#     titles.extend([z.text for z in soup.find_all('div',class_=['_cDEzb_p13n-sc-css-line-clamp-3_g3dy1','_cDEzb_p13n-sc-css-line-clamp-4_2q2cc'])])\n",
    "#     print(len(titles))    "
   ]
  },
  {
   "cell_type": "code",
   "execution_count": 9,
   "id": "1b5e2571",
   "metadata": {},
   "outputs": [
    {
     "name": "stdout",
     "output_type": "stream",
     "text": [
      "https://www.amazon.de/-/en/gp/bestsellers/beauty/64487031/ref=zg_bs_nav_beauty_2_64486031/ref=zg_bs_pg_2?_encoding=UTF8&pg=1\n",
      "50\n",
      "https://www.amazon.de/-/en/gp/bestsellers/beauty/64487031/ref=zg_bs_nav_beauty_2_64486031/ref=zg_bs_pg_2?_encoding=UTF8&pg=2\n",
      "100\n"
     ]
    }
   ],
   "source": [
    "titles=[]\n",
    "for i in range (2):\n",
    "    link=Category_link+\"/ref=zg_bs_pg_2?_encoding=UTF8&pg={}\".format(i+1)\n",
    "    print(link)\n",
    "    driver.get(link)\n",
    "    driver.execute_script(\"window.scrollTo(0,5000)\")\n",
    "    time.sleep(2)\n",
    "    driver.execute_script(\"window.scrollTo(0,6000)\")\n",
    "    time.sleep(2)\n",
    "    driver.execute_script(\"window.scrollTo(0,7000)\")\n",
    "    time.sleep(2)\n",
    "    driver.execute_script(\"window.scrollTo(0,8000)\")\n",
    "    time.sleep(2)\n",
    "    driver.execute_script(\"window.scrollTo(0,9000)\")\n",
    "    time.sleep(4)\n",
    "    soup=BeautifulSoup(driver.page_source, \"html.parser\")\n",
    "    titles.extend([z.text for z in soup.find_all('div',class_=['_cDEzb_p13n-sc-css-line-clamp-3_g3dy1','_cDEzb_p13n-sc-css-line-clamp-4_2q2cc'])])\n",
    "    print(len(titles))"
   ]
  },
  {
   "cell_type": "code",
   "execution_count": 10,
   "id": "f2387822",
   "metadata": {},
   "outputs": [],
   "source": [
    "# for amazon\n",
    "clss=['_p13n-zg-nav-tree-all_style_zg-browse-item__1rdKf _p13n-zg-nav-tree-all_style_zg-browse-height-large__1z5B8',\n",
    "      '_p13n-zg-nav-tree-all_style_zg-browse-item__1rdKf _p13n-zg-nav-tree-all_style_zg-browse-height-small__nleKL']\n",
    "def get_subcat_links(link):\n",
    "    driver.get(link)\n",
    "    soup=BeautifulSoup(driver.page_source, \"html.parser\")\n",
    "    department=soup.find_all('div',class_=clss)\n",
    "    z_link=[((link.split(\"/\")[0]+(\"//\")+link.split(\"/\")[2])+d.find(\"a\", href= True)['href']).split(\"/ref\")[0] for d in department if d.find(\"a\", href= True)]\n",
    "    z_subcat=[(d.find(\"a\", href= True).text) for d in department if d.find(\"a\", href= True)]\n",
    "    return([z_link,z_subcat])\n",
    "def cat_title(link):\n",
    "    driver.get(link)\n",
    "    soup=BeautifulSoup(driver.page_source, \"html.parser\")\n",
    "    title_cat=soup.find('div',class_='_cDEzb_card-title_2sYgw')\n",
    "    return(title_cat.text.replace(\"Bestsellers in \",\"\"))\n",
    "\n",
    "# req_cat=[cat_title(x) for x in (get_subcat_links(Category_link)[0])+([Category_link])  ]\n",
    "# req_cat"
   ]
  },
  {
   "cell_type": "code",
   "execution_count": 11,
   "id": "bf2e7a9f",
   "metadata": {},
   "outputs": [
    {
     "data": {
      "text/plain": [
       "['Best Sellers in Hair Styling Products']"
      ]
     },
     "execution_count": 11,
     "metadata": {},
     "output_type": "execute_result"
    }
   ],
   "source": [
    "req_cat=[cat_title(Category_link)]\n",
    "req_cat"
   ]
  },
  {
   "cell_type": "code",
   "execution_count": 12,
   "id": "b3251fed",
   "metadata": {},
   "outputs": [],
   "source": [
    "import yake\n",
    "import pandas as pd"
   ]
  },
  {
   "cell_type": "code",
   "execution_count": 13,
   "id": "c1d620fa",
   "metadata": {},
   "outputs": [],
   "source": [
    "# #flipkart\n",
    "\n",
    "# import pandas as pd\n",
    "# import bs4\n",
    "# from bs4 import BeautifulSoup as bs\n",
    "# import requests\n",
    "\n",
    "# link='https://www.flipkart.com/food-products/edible-oil/pr?sid=eat%2C18p&q=edible+oils&otracker=categorytree&sort=popularity&page=2'\n",
    "# page = requests.get(link)\n",
    "# soup = bs(page.content, 'html.parser')\n",
    "\n",
    "# #mygh=[]\n",
    "\n",
    "\n",
    "# for data in soup.findAll('div', class_='_1AtVbE col-12-12'):\n",
    "    \n",
    "#     for d in data.findAll('a',href=True,class_='s1Q9rs'):  #,class_='s1Q9rs'\n",
    "        \n",
    "#         title=d['href'].split('/')[1].replace('-',\" \")\n",
    "        \n",
    "#         mygh.append(title)\n",
    "# mygh"
   ]
  },
  {
   "cell_type": "code",
   "execution_count": 14,
   "id": "83162379",
   "metadata": {},
   "outputs": [],
   "source": [
    "# # Input csv file from h10 category page with 100 asins with titles\n",
    "\n",
    "# cvdf=pd.read_csv(r\"C:\\Users\\nitin\\Downloads\\data-shopee-serp-63919f96de567323966f1e50.csv\")\n",
    "# titles=list(cvdf['title'])"
   ]
  },
  {
   "cell_type": "code",
   "execution_count": 15,
   "id": "323167e7",
   "metadata": {
    "scrolled": true
   },
   "outputs": [],
   "source": [
    "text=\". \".join(titles)"
   ]
  },
  {
   "cell_type": "code",
   "execution_count": 16,
   "id": "6883a605",
   "metadata": {},
   "outputs": [
    {
     "data": {
      "text/plain": [
       "\"Olaplex No.7 Bonding Oil 30ml. ghd bodyguard - heat protect spray. Eco Styler Olive Oil Styling Gel, Hair Gel, 473 ml. Wella EIMI Extra Volume mousse - hair mousse for extra volume - protects against heat and dehydration - strong hold without sticking and weighing down, 300 ml. AMERICAN CREW - Forming Cream, 85 g, Stylingcreme für Männer, Haarprodukt mit mittlerem Halt, Stylingprodukt für flexibel formbares Haar & Finish mit natürlichem Glanz. Moroccanoil Curls Defining Cream. Tigi Bed Head for Men, Matte Separation Workable Wax ear plugs Black. Color Wow Dream Coat Anti-Frizz Spray for Super Smooth Hair, Heat Protection for Hair Lasts up to 3 Hair Washes, Shine Spray for Smooth Hair, 200 ml. Charlemagne Premium Sea Salt Spray Salt Spray Salt Water Sea Salt Hairspray More Texture More Volume for Hair Matte Salt Water Spray for Beach Curls Look Fresh Unisex Fragrance 200 ml. Redken Scalp Shampoo. American Crew Fiber Pliable Molding Creme High Hold No Shine Finish Hair by Unknown. Uervoton Hair Spray Bottle, 160 ml, Continuous Mister, Empty Water Bottle, Aerosol Fine Mist Hair Spray Bottle, for Taming Hair in the Morning, Hair Styling, Plants, Pets. Redstyle Professional Hairwax Styling. Wella Professionals EIMI Thermal Image Heat Protection Spray – Protective Hair Spray with Two Phase Formula – Flexible Hold for a Natural Look when Hair Styling – 1 x 150ml. Hair Wax Stick, Wax Wigs Edge Control Slick, Non Greasy Styling Hair Pomade Stick for Flyaways Frizz Hair - 75g. Taft Hair Spray Power Invisible Holding Level 5 (250 ml), Styling Spray without Gluing and No Weight, Hair Spray without Silicone for Up to 24 Hours Hold. L'Oréal Paris Elvital Heat Protection Spray for Long, Straight Hair, Leave-In Hair Treatment Against Frizz, No Rinse, With Vitamins and Castor Oil, Dream Length Defeat The Heat, 1 x 150 ml. got2b Beach Matte Matt Paste (100 ml), Styling Paste for Matte Surfer Looks, for Scratching, Texturing or Taming without Gluing, Medium Hold. Wella Professional WP Sculpt Force Flubber Gel 1 x 250 ml. TIGI Catwalk Curl Collection Curls Rock Amplifier - 150 ml. L'oréal Men Expert Barber Club, Messy Look Matt Paste, Hair Wax with Strong Hold, Malleable, Flexible Structure, Hair Paste for Men, 75 ml. L’Oréal Professionnel Elnett de Luxe Heat Styling Spray Smooth, Pack of 1 (1 x 170 ml). Wella Professionals Invigo Nutri-Enrich – feuchtigkeitsspendende Haarpflege für trockenes und beanspruchtes Haar – mit Panthenol und Vitamin E für geschmeidiges Haar voller Vitalität. Taft Hair spray volume, hold level 5 (250 ml), styling spray gives fine hair volume and hold, hair spray without silicone for up to 24 hours of hold. Olaplex Protective Hair Serum. Da 'Dude Da 'Wax Extra Strong Hair cream 100\\xa0ml\\xa0–\\xa0Long-lasting in a Wooden Box with Wax Matte Finish Gift Bag. AnWoor Hair Wax Stick, 2.7fl.oz Styling Pomade for Wigs, Hair Strands, Frizz, Baby Hair. Wella Styling Gel EIMI Pearl Styler. Charlemagne Original Pomade, Water-Based Pomade for Men, Perfect & Strong Hold, Elegant Scent, Perfect Shine, Barbershop Hair Pomade, 100 ml. Wella EIMI Grip Cream - Professional Styling Cream - 1 x 75 ml. John Frieda Volume Lift Blow Dry Lotion. Taft Styling Wax Power with holding grade 5 (75 ml), textured like a hair wax and holds like a hair gel without sticking, for up to 48 hours of power hold. Reuzel Fibre Pomade, Hair Holding Wax for Men, 113 g. Wella EIMI Perfect Setting Heat Protection Spray - Volume Spray with Light Hold - Nourishing Blow Dryer Spray for a Natural Look with Healthy Shine - 1 x 150 ml. L'Oréal Paris Root Laminating Spray for Continuous and Natural Transitions, Conceals Roots until the Next Hair Wash, Magic Retouch, Cool Brown, 1 x 90 ml. Reuzel Extreme Hold Matte Pomade, 113 g. Goldwell Roughman Matt Styling Paste 3x100ml. Kérastase Strengthening Hair Treatment for Fine and Brittle Hair, Against Hair Loss and Hair Breakage, Sérum Anti-Chute Fortifiant, Genesis, 90 ml. Goldwell Sign Roughman, matting cream paste, pack of 1 (1 x 100 ml). John Frieda Frizz Ease Styling Foam - Contents: 150 ml - For air-dried waves - Reinforces and defines curls and waves - From the dream curls series - Vegan friendly. Goldwell, Sign Superego, Styling Cream, Pack of 1 x 75 ml. Bed Head by Tigi Masterpiece Shiny Hair Spray for Strong Hold and Shine 340ml. John Frieda Frizz Ease Dream Curls Daily Styling Spray, (200 ml), Gives Natural Curls Shape, Elasticity and Bounce. That's Me by Marc Eggers TAHT'S ME Men's Hair Wax 100ml - Best Hair Wax for Strong Hold with Almond Oil - Hair Wax for All Hair Types, Made with Professional Hairdressers from Italy. Gummy Styling Wax Matte Finish 150 ml. Wella Eimi Pearl Styler, 1 pack (1 x 150ml). Goldwell Stylesign Creative Texture Roughman Matte Cream Paste 100 ml x 2. L'Oréal Paris Root concealer spray in XL value pack for continuous and natural transitions, conceals roots until the next hair wash, Magic Retouch, brown to medium brown, 150 ml. Wella EIMI super set professional hair spray extra strong hold UV and heat protection 300ml. L'Oréal Paris Studio Line Hot & Smooth Thermal Smoothing Balm 200 ml. L'Oréal Paris Elnett Crème de Mousse Locks (1 x 200 ml). Nivea Men Craft Stylers Defining Styling Gel, Hair Gel with Semi-Matte Finish, Quick and Easy Hair Styling with Strong Hold, Pack of 1 (1 x 150 ml). Argan Deluxe Curl Styling Cream for Curly Girl Method Natural Curls Care Styling Cream by ADLX Saloncare 240ml. Goldwell Stylesign Ultra Volume Lagoom Jam Styling Gel for Straight, Wavy, Curly Hair 150ml. Wella EIMI Body Crafter - Flexible Volume Spray - 1 x 150ml. Coconut\\xa0Heat Protection Spray - Treatment for Dry Hair\\xa0–\\xa0Anti-Frizz, UV Protection, Gives Volume 10-in-1\\xa0Styling Product\\xa0–\\xa0250\\xa0ml. Kérastase Nutritive Nourishing Heat Protection for Dry, Fine to Medium Hair, For More Shine and Softness, Nectar Thermique Beautifying Anti-Frizz Blow Dry Milk, Nutritive, 150 ml. John Frieda Defining Curls Cream, From the Frizz Ease Dream Curls Series, With Abyssinian Oil 150 ml. Syoss Max Hold Hair Spray 5 (6 x 400 ml), Hair Spray with 48 Hours Mega Strong Hold, Quick Drying Styling Spray for Mega Resistance, Easy to Brush Out. L'Oréal Professionnel Matting Hair Styling Paste, Modelling Paste for Various Looks and Ultimate Hold, No Gluing, Poker Paste, 75 ml. got2b Hair varnish spray glue hold 6 (300 ml), 72 h hair spray for ultra strong hair styles, without sticking or drying out, fixed until the next hair wash. Schwarzkopf OSiS+ Flexwax Ultra Strong Cream Wax 85 ml. WELLA High Hair Sculpt Force Flubber XXL. Syoss Fiber Flex Hair Spray Holding Level 4 (400 ml), Extra Strong Hair Spray for Flexible Volume and Natural Hair Feeling, Styling Spray Gives 48 Hours Flexible Hold. L'Oréal Professionnel Paris Tecni.ART Pli Shaper Thermal Spray, Strong Hold, No Gluing, Fixes Hairstyles Long-Lasting, Styling Spray with Heat Protection and Memory Effect, 190 ml. Paul Mitchell Extra-Body Boost Volume Spray for Fine Hair, Roots Spray for Flexible Hold. Goldwell Dualsenses Rich Repair Restoring Serum Spray 1 Pack of 150 ml. Bed Head by TIGI Manipulator Firm Grip Texture Paste 2oz. ghd Curly Ever After - Curl Hold Spray 120 ml. Paul Mitchell Freeze and Shine Super Spray Professional Hair. Charlemagne Premium Matte Pomade – Strong Hold – Elegant Fragrance – Matt Look Finish for the Hair – Matt Hair Wax for Men / Men – 100 ml – Hair Cream Made in the UK – Barber Quality. Schwarzkopf OSiS Dust It Hair Powder Tin 10g. Kinky Curly Curling Custard. Slick Gorilla Hair Styling Texturising Powder 20 g (Hair Styling Powder). Moroccanoil Hydrating styling cream.. Schwarzkopf Blondme Premium Care Developer, 1000 ml 1000ml. Wella Eimi Dynamic Fix-45 Second Hair Spray 3 x 500 ml. Wella EIMI Foam. Eco Styler Olive Oil Styling Gel - Hair Gel 235 ml. L'Oréal Men Expert Extreme Fix Indestructible Gel: Hair Gel for Striking Creative Styles / Looks Extremely Strong Hold Hair Styling Cream - No Gluing 150 ml. RITUALS The Ritual of Sakura Hair & Body Spray 50ml - With Rice Milk & Cherry Blossom - Skin Renewing Properties. Wella EIMI Pearl Styler, 1 Pack, (1x 100 ml). BARBER MARMARA Hair Powder Men 20 g | Hair Powder with Matte Effect for Women and Men | Styling Powder Matte Look | Hair Styling | Modelling Styling Powder | Barber Shop Matte Powder | Volume Powder. Paul Mitchell Super Skinny Serum - Anti-Frizz Fluid Smooths and Protects Unruly Hair, Hair Care in Hairdressing Quality. Eco Styler Olive Oil Styling Gel, 32 oz/946 ml. American Crew Defining Paste 3\\xa0oz. by Amerian Crew. Taft Styling Gel Power with Holding Level 5 (150 ml), Hair Gel for Strengthened Hair and No Gluing, for up to 48 Hours of Hold even in Moisture and Wind. American Crew - Fibre Cream, 100 ml, Styling Cream for Men, Hair Product with Medium Hold, Styling Product for Flexible Mouldable Hair & Finish with Natural Shine. Bed Head by TIGI Manipulator Matte Strong Hold Hair Wax Paste 2oz. Kérastase Discipline Fluidissime Spray Pack of 1, 150\\xa0ml. Wella Professionals EIMI Rugged Texture, 150 ml. Bed Head by TIGI Queen For A Day Volume Thickening Spray for Fine Hair, 11 Oz. Ampro Shine -N:Jam Extra Hold 4oz. AMERICAN CREW Classic Boost Powder 10g Styling Powder for Men Medium Hold Hair Product Styling Product for Thicker Gripper Hair & Matte Finish. Wella EIMI super set professional hair spray extra strong hold UV and heat protection 75ml. SEB MAN THE SCULPTOR - Mattifying Hair Clay with Minerals - Styling Cream for Textured Sty. Wella EIMI Pearl Styler Gel Original 30ml. Taft Styling Gel Power Elastic with Indestructible Holding Level 5 (150 ml), Hair Gel for Strengthened Hair and No Gluing, Gel for Up to 48 Hours Hold. Slick Gorilla Sea Salt Spray 200 ml. Wella EIMI Texture Touch – Matte Modelling Putty – Flexible Support – 1 x 75 ml\""
      ]
     },
     "execution_count": 16,
     "metadata": {},
     "output_type": "execute_result"
    }
   ],
   "source": [
    "text"
   ]
  },
  {
   "cell_type": "markdown",
   "id": "ea1b580f",
   "metadata": {},
   "source": [
    "# Keyword Extraction\n"
   ]
  },
  {
   "cell_type": "code",
   "execution_count": 17,
   "id": "63d8ecd3",
   "metadata": {},
   "outputs": [],
   "source": [
    "# input language of titles\n",
    "kw_extractor = yake.KeywordExtractor()\n",
    "language = \"en\"\n",
    "\n",
    "deduplication_threshold = 0.9\n",
    "numOfKeywords = 50\n",
    "keys=[]\n",
    "scores=[]"
   ]
  },
  {
   "cell_type": "code",
   "execution_count": 18,
   "id": "6069d34f",
   "metadata": {},
   "outputs": [
    {
     "data": {
      "text/plain": [
       "50"
      ]
     },
     "execution_count": 18,
     "metadata": {},
     "output_type": "execute_result"
    }
   ],
   "source": [
    "max_ngram_size = 3\n",
    "custom_kw_extractor = yake.KeywordExtractor(lan=language, n=max_ngram_size, dedupLim=deduplication_threshold, top=numOfKeywords, features=None)\n",
    "keywords = custom_kw_extractor.extract_keywords(text)\n",
    "\n",
    "for kw in keywords:\n",
    "    keys.append(kw[0])\n",
    "    scores.append(kw[1])\n",
    "len(keywords)"
   ]
  },
  {
   "cell_type": "code",
   "execution_count": 19,
   "id": "6f6e9d4a",
   "metadata": {},
   "outputs": [
    {
     "data": {
      "text/plain": [
       "50"
      ]
     },
     "execution_count": 19,
     "metadata": {},
     "output_type": "execute_result"
    }
   ],
   "source": [
    "max_ngram_size = 2\n",
    "custom_kw_extractor = yake.KeywordExtractor(lan=language, n=max_ngram_size, dedupLim=deduplication_threshold, top=numOfKeywords, features=None)\n",
    "keywords = custom_kw_extractor.extract_keywords(text)\n",
    "\n",
    "for kw in keywords:\n",
    "    keys.append(kw[0])\n",
    "    scores.append(kw[1])\n",
    "len(keywords)"
   ]
  },
  {
   "cell_type": "code",
   "execution_count": 20,
   "id": "71eaa13b",
   "metadata": {},
   "outputs": [
    {
     "data": {
      "text/plain": [
       "50"
      ]
     },
     "execution_count": 20,
     "metadata": {},
     "output_type": "execute_result"
    }
   ],
   "source": [
    "max_ngram_size = 1\n",
    "custom_kw_extractor = yake.KeywordExtractor(lan=language, n=max_ngram_size, dedupLim=deduplication_threshold, top=numOfKeywords, features=None)\n",
    "keywords1 = custom_kw_extractor.extract_keywords(text)\n",
    "\n",
    "for kw in keywords1:\n",
    "    keys.append(kw[0])\n",
    "    scores.append(kw[1])\n",
    "len(keywords)"
   ]
  },
  {
   "cell_type": "code",
   "execution_count": 21,
   "id": "e1330fc1",
   "metadata": {},
   "outputs": [],
   "source": [
    "numOfKeywords = 20\n",
    "\n",
    "max_ngram_size = 3\n",
    "custom_kw_extractor = yake.KeywordExtractor(lan=language, n=max_ngram_size, dedupLim=deduplication_threshold, top=numOfKeywords, features=None)\n",
    "keywords = custom_kw_extractor.extract_keywords(text)\n",
    "\n",
    "for kw in keywords:\n",
    "    keys.append(kw[0])\n",
    "    scores.append(kw[1])"
   ]
  },
  {
   "cell_type": "code",
   "execution_count": 22,
   "id": "2a9a8f84",
   "metadata": {},
   "outputs": [
    {
     "data": {
      "text/plain": [
       "119"
      ]
     },
     "execution_count": 22,
     "metadata": {},
     "output_type": "execute_result"
    }
   ],
   "source": [
    "key_score_df=pd.DataFrame({'keyword': keys, 'score':scores})\n",
    "keys=list(set(keys))\n",
    "len(keys)"
   ]
  },
  {
   "cell_type": "code",
   "execution_count": 23,
   "id": "74f7a506",
   "metadata": {},
   "outputs": [
    {
     "data": {
      "text/plain": [
       "['Matte Finish',\n",
       " 'Bonding Oil',\n",
       " 'Hair Product Styling',\n",
       " 'Men Hair Wax',\n",
       " 'Salt Spray',\n",
       " 'Cream',\n",
       " 'Taft Hair Spray',\n",
       " 'Power',\n",
       " 'Flexible',\n",
       " 'Protection Spray',\n",
       " 'Smooth',\n",
       " 'spray',\n",
       " 'Hair Styling Cream',\n",
       " 'strong hold',\n",
       " 'Styling Hair',\n",
       " 'Pack',\n",
       " 'Hair spray volume',\n",
       " 'EIMI Pearl',\n",
       " 'spray extra strong',\n",
       " 'Styling Spray',\n",
       " 'Oil Styling Gel',\n",
       " 'hair spray extra',\n",
       " 'Curl Hold Spray',\n",
       " 'Styling Hair Pomade',\n",
       " 'Super',\n",
       " 'Matte',\n",
       " 'professional hair spray',\n",
       " 'Spray Salt',\n",
       " 'Holding',\n",
       " 'Volume Spray',\n",
       " 'Wax Matte',\n",
       " 'Spray Salt Spray',\n",
       " 'Strong Hold Hair',\n",
       " 'Extra Strong Hair',\n",
       " 'Dream',\n",
       " 'strong',\n",
       " 'Styling',\n",
       " 'Hair Pomade',\n",
       " 'Wella',\n",
       " 'Hair Powder',\n",
       " 'Hold Hair Styling',\n",
       " 'hold',\n",
       " 'Protection',\n",
       " 'Hair Styling',\n",
       " 'Medium',\n",
       " 'Oil',\n",
       " 'Frizz',\n",
       " 'Spray Bottle',\n",
       " 'Styling Cream',\n",
       " 'Olive Oil Styling',\n",
       " 'Gel',\n",
       " 'Hair Spray Holding',\n",
       " 'Professional',\n",
       " 'Heat Protection Spray',\n",
       " 'fine hair',\n",
       " 'Oil Styling',\n",
       " 'Styling Gel EIMI',\n",
       " 'Fine',\n",
       " 'Men',\n",
       " 'Smooth Hair',\n",
       " 'Hours',\n",
       " 'Curls',\n",
       " 'Heat Styling Spray',\n",
       " 'Strong Hair',\n",
       " 'Styling Gel',\n",
       " 'Hair Spray Power',\n",
       " 'Hair',\n",
       " 'Hold Hair Spray',\n",
       " 'Strong Hair cream',\n",
       " 'Wax Matte Finish',\n",
       " 'Volume',\n",
       " 'Spray Professional Hair',\n",
       " 'Strong Hair Spray',\n",
       " 'Level',\n",
       " 'Hold Hair',\n",
       " 'Tigi',\n",
       " 'Matt',\n",
       " 'Head',\n",
       " 'Paste',\n",
       " 'Hair cream',\n",
       " 'heat',\n",
       " 'Bonding',\n",
       " 'Heat Protection',\n",
       " 'Pomade',\n",
       " 'Styling Wax',\n",
       " 'Styling Product',\n",
       " 'Hold Hair Wax',\n",
       " 'Texture',\n",
       " 'Wax',\n",
       " 'Styler',\n",
       " 'Gluing',\n",
       " 'Hair Styling Powder',\n",
       " 'Hair Wax Paste',\n",
       " 'Styling Spray Smooth',\n",
       " 'Natural',\n",
       " 'Hair Wax',\n",
       " 'Flexible Hold',\n",
       " 'Styling Powder',\n",
       " 'EIMI',\n",
       " 'Hair Wax Stick',\n",
       " 'Hair Spray Bottle',\n",
       " 'professional hair',\n",
       " 'Powder',\n",
       " 'Hair Styling Paste',\n",
       " 'Curl',\n",
       " 'Styling Paste',\n",
       " 'Styling Gel Power',\n",
       " 'Finish',\n",
       " 'Hair Spray',\n",
       " 'Wella EIMI',\n",
       " 'Product',\n",
       " 'Styling Wax Matte',\n",
       " 'Paris',\n",
       " 'Shine',\n",
       " 'CREW',\n",
       " 'Salt',\n",
       " 'Extra',\n",
       " 'Hair Gel',\n",
       " \"L'Oréal\"]"
      ]
     },
     "execution_count": 23,
     "metadata": {},
     "output_type": "execute_result"
    }
   ],
   "source": [
    "keys"
   ]
  },
  {
   "cell_type": "markdown",
   "id": "78d3c3a7",
   "metadata": {},
   "source": [
    "# Human recommended keywords"
   ]
  },
  {
   "cell_type": "code",
   "execution_count": 24,
   "id": "d5db4153",
   "metadata": {},
   "outputs": [
    {
     "data": {
      "text/plain": [
       "119"
      ]
     },
     "execution_count": 24,
     "metadata": {},
     "output_type": "execute_result"
    }
   ],
   "source": [
    "#jk=pd.read_excel(r\"C:\\Users\\nitin\\Downloads\\Keys.xlsx\")  #input excel file for keywords\n",
    "keys1=[]#list(jk['Keys'])\n",
    "keys.extend(keys1)\n",
    "len(keys)"
   ]
  },
  {
   "cell_type": "code",
   "execution_count": 25,
   "id": "fc44e7d8",
   "metadata": {},
   "outputs": [],
   "source": [
    "# jk=pd.read_excel(r\"C:\\Users\\nitin\\Downloads\\Book11.xlsx\")\n",
    "# keys=list(jk['keys'])"
   ]
  },
  {
   "cell_type": "code",
   "execution_count": 26,
   "id": "5b8b7419",
   "metadata": {},
   "outputs": [
    {
     "data": {
      "text/plain": [
       "119"
      ]
     },
     "execution_count": 26,
     "metadata": {},
     "output_type": "execute_result"
    }
   ],
   "source": [
    "len(keys)\n"
   ]
  },
  {
   "cell_type": "markdown",
   "id": "d983629f",
   "metadata": {},
   "source": [
    "# Keyword validation on Amazon"
   ]
  },
  {
   "cell_type": "code",
   "execution_count": 27,
   "id": "cf87f041",
   "metadata": {},
   "outputs": [],
   "source": [
    "\n",
    "\n",
    "from selenium import webdriver\n",
    "from selenium.webdriver.common.by import By\n",
    "import requests\n",
    "from selenium.webdriver.support.ui import WebDriverWait\n",
    "import selenium.webdriver.support.expected_conditions as EC\n",
    "from tqdm.notebook import tqdm\n",
    "import time"
   ]
  },
  {
   "cell_type": "code",
   "execution_count": 28,
   "id": "39b47db5",
   "metadata": {},
   "outputs": [],
   "source": [
    "# chrome_options = webdriver.ChromeOptions()\n",
    "# chrome_options.add_argument(\"--incognito\")\n",
    "# driver = webdriver.Chrome(executable_path = r'chromedriver.exe',chrome_options = chrome_options)\n"
   ]
  },
  {
   "cell_type": "code",
   "execution_count": 29,
   "id": "8220f272",
   "metadata": {},
   "outputs": [],
   "source": [
    "webpage=\"https://www.amazon.de\"\n",
    "driver.get(webpage)\n",
    "\n",
    "#input pincode in incognito mode"
   ]
  },
  {
   "cell_type": "code",
   "execution_count": 30,
   "id": "3b2bb66b",
   "metadata": {},
   "outputs": [],
   "source": [
    "cat_df=pd.DataFrame(columns=['keyword','cats','brands'])"
   ]
  },
  {
   "cell_type": "code",
   "execution_count": 31,
   "id": "735e8a99",
   "metadata": {
    "scrolled": true
   },
   "outputs": [
    {
     "data": {
      "application/vnd.jupyter.widget-view+json": {
       "model_id": "1fdf86319b42468684ef07e4df3d12f9",
       "version_major": 2,
       "version_minor": 0
      },
      "text/plain": [
       "  0%|          | 0/119 [00:00<?, ?it/s]"
      ]
     },
     "metadata": {},
     "output_type": "display_data"
    },
    {
     "name": "stdout",
     "output_type": "stream",
     "text": [
      "Matte Finish\n",
      "https://www.amazon.de/s?k=Matte+Finish&page=1\n",
      "['Pens, Pencils & Writing Supplies', 'Pencils', 'DIY & Tools', 'Beauty', 'Arts & Crafts', 'Drawing']\n",
      "['STABILO', 'Pelikan', 'edding', 'Lamy', 'Amazon Basics', 'BIC']\n"
     ]
    },
    {
     "name": "stderr",
     "output_type": "stream",
     "text": [
      "C:\\Users\\visha\\AppData\\Local\\Temp\\ipykernel_13092\\1884963508.py:25: FutureWarning: The frame.append method is deprecated and will be removed from pandas in a future version. Use pandas.concat instead.\n",
      "  cat_df=cat_df.append(temp_df, ignore_index= True)\n"
     ]
    },
    {
     "name": "stdout",
     "output_type": "stream",
     "text": [
      "Bonding Oil\n",
      "https://www.amazon.de/s?k=Bonding+Oil&page=1\n",
      "['DIY & Tools', 'Universal Adhesives', 'Business, Industry & Science', 'Art & Craft Adhesives', 'Vehicle Oils & Fluids', 'Health & Personal Care', 'Car & Motorbike Care']\n",
      "[]\n",
      "Hair Product Styling\n",
      "https://www.amazon.de/s?k=Hair+Product+Styling&page=1\n"
     ]
    },
    {
     "name": "stderr",
     "output_type": "stream",
     "text": [
      "C:\\Users\\visha\\AppData\\Local\\Temp\\ipykernel_13092\\1884963508.py:25: FutureWarning: The frame.append method is deprecated and will be removed from pandas in a future version. Use pandas.concat instead.\n",
      "  cat_df=cat_df.append(temp_df, ignore_index= True)\n"
     ]
    },
    {
     "name": "stdout",
     "output_type": "stream",
     "text": [
      "['Hair Care', 'Hair Gels', 'Hair Styling Putty, Clay & Wax', 'Hair Sprays', 'Hair Deep Conditioners & Treatments']\n",
      "['ghd', 'REVLON PROFESSIONAL', \"L'Óreal Paris\", 'Wella Professionals', 'Garnier', 'Braun', 'Syoss']\n",
      "Men Hair Wax\n",
      "https://www.amazon.de/s?k=Men+Hair+Wax&page=1\n"
     ]
    },
    {
     "name": "stderr",
     "output_type": "stream",
     "text": [
      "C:\\Users\\visha\\AppData\\Local\\Temp\\ipykernel_13092\\1884963508.py:25: FutureWarning: The frame.append method is deprecated and will be removed from pandas in a future version. Use pandas.concat instead.\n",
      "  cat_df=cat_df.append(temp_df, ignore_index= True)\n"
     ]
    },
    {
     "name": "stdout",
     "output_type": "stream",
     "text": [
      "['Hair Styling Products', 'Hair Styling Putty, Clay & Wax', 'Hair Styling Waxes', 'Hair Styling Clays', 'Hair Styling Creams & Lotions', 'Hair Styling Pomades', 'Hair Gels']\n",
      "['AMERICAN CREW', 'TAFT']\n",
      "Salt Spray\n",
      "https://www.amazon.de/s?k=Salt+Spray&page=1\n"
     ]
    },
    {
     "name": "stderr",
     "output_type": "stream",
     "text": [
      "C:\\Users\\visha\\AppData\\Local\\Temp\\ipykernel_13092\\1884963508.py:25: FutureWarning: The frame.append method is deprecated and will be removed from pandas in a future version. Use pandas.concat instead.\n",
      "  cat_df=cat_df.append(temp_df, ignore_index= True)\n"
     ]
    },
    {
     "name": "stdout",
     "output_type": "stream",
     "text": [
      "['Hair Styling Products', 'Hair Sprays']\n",
      "['TIGI', 'Schwarzkopf', 'WELLA', 'Charlemagne', 'Wella Professionals']\n",
      "Cream\n",
      "https://www.amazon.de/s?k=Cream&page=1\n"
     ]
    },
    {
     "name": "stderr",
     "output_type": "stream",
     "text": [
      "C:\\Users\\visha\\AppData\\Local\\Temp\\ipykernel_13092\\1884963508.py:25: FutureWarning: The frame.append method is deprecated and will be removed from pandas in a future version. Use pandas.concat instead.\n",
      "  cat_df=cat_df.append(temp_df, ignore_index= True)\n"
     ]
    },
    {
     "name": "stdout",
     "output_type": "stream",
     "text": [
      "[\"Women's Clothing\", \"Women's Blouses & Shirts\", 'CDs & Vinyl', 'Classic British Rock', 'Blues Rock', 'Dairy & Chilled Cream', 'DVD & Blu-ray', 'Movies']\n",
      "['Cream']\n",
      "Taft Hair Spray\n",
      "https://www.amazon.de/s?k=Taft+Hair+Spray&page=1\n"
     ]
    },
    {
     "name": "stderr",
     "output_type": "stream",
     "text": [
      "C:\\Users\\visha\\AppData\\Local\\Temp\\ipykernel_13092\\1884963508.py:25: FutureWarning: The frame.append method is deprecated and will be removed from pandas in a future version. Use pandas.concat instead.\n",
      "  cat_df=cat_df.append(temp_df, ignore_index= True)\n"
     ]
    },
    {
     "name": "stdout",
     "output_type": "stream",
     "text": [
      "['Hair Styling Products', 'Hair Sprays']\n",
      "['TAFT', 'Syoss', 'Got2B', 'Schwarzkopf', 'Wella Professionals']\n",
      "Power\n",
      "https://www.amazon.de/s?k=Power&page=1\n"
     ]
    },
    {
     "name": "stderr",
     "output_type": "stream",
     "text": [
      "C:\\Users\\visha\\AppData\\Local\\Temp\\ipykernel_13092\\1884963508.py:25: FutureWarning: The frame.append method is deprecated and will be removed from pandas in a future version. Use pandas.concat instead.\n",
      "  cat_df=cat_df.append(temp_df, ignore_index= True)\n"
     ]
    },
    {
     "name": "stdout",
     "output_type": "stream",
     "text": [
      "['Books', 'Guidebooks & Self Help', 'School & Studies', 'History', 'Law', 'Kindle Store', 'Kindle eBooks', 'DIY & Tools']\n",
      "[]\n",
      "Flexible\n",
      "https://www.amazon.de/s?k=Flexible&page=1\n"
     ]
    },
    {
     "name": "stderr",
     "output_type": "stream",
     "text": [
      "C:\\Users\\visha\\AppData\\Local\\Temp\\ipykernel_13092\\1884963508.py:25: FutureWarning: The frame.append method is deprecated and will be removed from pandas in a future version. Use pandas.concat instead.\n",
      "  cat_df=cat_df.append(temp_df, ignore_index= True)\n"
     ]
    },
    {
     "name": "stdout",
     "output_type": "stream",
     "text": [
      "['Solar Panels', \"Women's Shoes\", \"Women's Jewellery\", 'Garden Tools & Watering Equipment', 'DIY & Tools', \"Boys' Shoes\", 'Wiring & Connecting']\n",
      "['EF ECOFLOW', 'ECO-WORTHY', 'Renogy', 'reVolt', 'enjoy solar', 'Topunive']\n",
      "Protection Spray\n",
      "https://www.amazon.de/s?k=Protection+Spray&page=1\n"
     ]
    },
    {
     "name": "stderr",
     "output_type": "stream",
     "text": [
      "C:\\Users\\visha\\AppData\\Local\\Temp\\ipykernel_13092\\1884963508.py:25: FutureWarning: The frame.append method is deprecated and will be removed from pandas in a future version. Use pandas.concat instead.\n",
      "  cat_df=cat_df.append(temp_df, ignore_index= True)\n"
     ]
    },
    {
     "name": "stdout",
     "output_type": "stream",
     "text": [
      "['Shoe Care Products & Accessories', 'Shoe Treatments & Polishes', 'Home Care & Cleaning', 'Cleaning Agents', 'DIY & Tools', 'Car & Motorbike Care', 'Camping & Hiking']\n",
      "['Collonil', 'Solitaire', 'Bama', 'crep protect']\n",
      "Smooth\n",
      "https://www.amazon.de/s?k=Smooth&page=1\n"
     ]
    },
    {
     "name": "stderr",
     "output_type": "stream",
     "text": [
      "C:\\Users\\visha\\AppData\\Local\\Temp\\ipykernel_13092\\1884963508.py:25: FutureWarning: The frame.append method is deprecated and will be removed from pandas in a future version. Use pandas.concat instead.\n",
      "  cat_df=cat_df.append(temp_df, ignore_index= True)\n"
     ]
    },
    {
     "name": "stdout",
     "output_type": "stream",
     "text": [
      "['Hair Care', 'Hair Texturisers', 'Hair Straighteners', 'Hair Masks', 'Chemical Hair Straighteners', 'Hair Styling Products', 'Home & Kitchen']\n",
      "['Schwarzkopf']\n",
      "spray\n",
      "https://www.amazon.de/s?k=spray&page=1\n"
     ]
    },
    {
     "name": "stderr",
     "output_type": "stream",
     "text": [
      "C:\\Users\\visha\\AppData\\Local\\Temp\\ipykernel_13092\\1884963508.py:25: FutureWarning: The frame.append method is deprecated and will be removed from pandas in a future version. Use pandas.concat instead.\n",
      "  cat_df=cat_df.append(temp_df, ignore_index= True)\n"
     ]
    },
    {
     "name": "stdout",
     "output_type": "stream",
     "text": [
      "['Painting', 'DIY & Tools', 'Spray Paint', 'Beauty', 'Hair Styling Products', 'Haidressser Spray Bottles', 'Health & Personal Care']\n",
      "['edding', 'Febreze']\n",
      "Hair Styling Cream\n",
      "https://www.amazon.de/s?k=Hair+Styling+Cream&page=1\n"
     ]
    },
    {
     "name": "stderr",
     "output_type": "stream",
     "text": [
      "C:\\Users\\visha\\AppData\\Local\\Temp\\ipykernel_13092\\1884963508.py:25: FutureWarning: The frame.append method is deprecated and will be removed from pandas in a future version. Use pandas.concat instead.\n",
      "  cat_df=cat_df.append(temp_df, ignore_index= True)\n"
     ]
    },
    {
     "name": "stdout",
     "output_type": "stream",
     "text": [
      "['Hair Care', 'Hair Styling Putty, Clay & Wax', 'Hair Gels', 'Hair Styling Creams & Lotions']\n",
      "[\"L'Óreal Paris\", 'AMERICAN CREW', 'TIGI', 'Reuzel', 'Wella Professionals', 'John Frieda', 'Goldwell', 'See more']\n",
      "strong hold\n",
      "https://www.amazon.de/s?k=strong+hold&page=1\n"
     ]
    },
    {
     "name": "stderr",
     "output_type": "stream",
     "text": [
      "C:\\Users\\visha\\AppData\\Local\\Temp\\ipykernel_13092\\1884963508.py:25: FutureWarning: The frame.append method is deprecated and will be removed from pandas in a future version. Use pandas.concat instead.\n",
      "  cat_df=cat_df.append(temp_df, ignore_index= True)\n"
     ]
    },
    {
     "name": "stdout",
     "output_type": "stream",
     "text": [
      "['Fashion', \"Women's Sports Bras\", \"Women's Adhesive Bras\", 'Hardware', 'Adhesives & Sealers', 'Beauty', 'Hair Care']\n",
      "['Triumph', 'Nike', 'Under Armour', 'PUMA', 'Sloggi', 'Anita', 'Champion', 'See more']\n",
      "Styling Hair\n",
      "https://www.amazon.de/s?k=Styling+Hair&page=1\n"
     ]
    },
    {
     "name": "stderr",
     "output_type": "stream",
     "text": [
      "C:\\Users\\visha\\AppData\\Local\\Temp\\ipykernel_13092\\1884963508.py:25: FutureWarning: The frame.append method is deprecated and will be removed from pandas in a future version. Use pandas.concat instead.\n",
      "  cat_df=cat_df.append(temp_df, ignore_index= True)\n"
     ]
    },
    {
     "name": "stdout",
     "output_type": "stream",
     "text": [
      "['Hair Care', 'Hair Styling Creams & Lotions', 'Hair Gels', 'Hair Sprays', 'Hair Styling Putty, Clay & Wax', 'Hair Styling Waxes', 'Hair Clips']\n",
      "['Remington', 'PHILIPS', 'ghd', 'REVLON PROFESSIONAL', \"L'Óreal Paris\", 'Wella Professionals', 'Garnier', 'See more']\n",
      "Pack\n",
      "https://www.amazon.de/s?k=Pack&page=1\n"
     ]
    },
    {
     "name": "stderr",
     "output_type": "stream",
     "text": [
      "C:\\Users\\visha\\AppData\\Local\\Temp\\ipykernel_13092\\1884963508.py:25: FutureWarning: The frame.append method is deprecated and will be removed from pandas in a future version. Use pandas.concat instead.\n",
      "  cat_df=cat_df.append(temp_df, ignore_index= True)\n"
     ]
    },
    {
     "name": "stdout",
     "output_type": "stream",
     "text": [
      "['Packing Organisers', \"Women's Knickers\", \"Women's Bikini & Briefs\", 'Camping & Hiking Bags, Packs & Accessories', 'Fashion Waist Packs', \"Men's Boxer Shorts\", 'Electronics & Photo']\n",
      "[]\n",
      "Hair spray volume\n",
      "https://www.amazon.de/s?k=Hair+spray+volume&page=1\n"
     ]
    },
    {
     "name": "stderr",
     "output_type": "stream",
     "text": [
      "C:\\Users\\visha\\AppData\\Local\\Temp\\ipykernel_13092\\1884963508.py:25: FutureWarning: The frame.append method is deprecated and will be removed from pandas in a future version. Use pandas.concat instead.\n",
      "  cat_df=cat_df.append(temp_df, ignore_index= True)\n"
     ]
    },
    {
     "name": "stdout",
     "output_type": "stream",
     "text": [
      "['Hair Styling Products', 'Hair Sprays']\n",
      "[\"L'Óreal Paris\", 'TAFT', 'John Frieda', 'Syoss', 'NIVEA', 'REVLON PROFESSIONAL', 'Schwarzkopf']\n",
      "EIMI Pearl\n",
      "https://www.amazon.de/s?k=EIMI+Pearl&page=1\n"
     ]
    },
    {
     "name": "stderr",
     "output_type": "stream",
     "text": [
      "C:\\Users\\visha\\AppData\\Local\\Temp\\ipykernel_13092\\1884963508.py:25: FutureWarning: The frame.append method is deprecated and will be removed from pandas in a future version. Use pandas.concat instead.\n",
      "  cat_df=cat_df.append(temp_df, ignore_index= True)\n"
     ]
    },
    {
     "name": "stdout",
     "output_type": "stream",
     "text": [
      "['Hair Care', 'Hair Sprays', 'Hair Gels', 'Hair Styling Mousses']\n",
      "['Syoss', 'Wella Professionals', 'TAFT', 'TIGI', 'EIMI']\n",
      "spray extra strong\n",
      "https://www.amazon.de/s?k=spray+extra+strong&page=1\n"
     ]
    },
    {
     "name": "stderr",
     "output_type": "stream",
     "text": [
      "C:\\Users\\visha\\AppData\\Local\\Temp\\ipykernel_13092\\1884963508.py:25: FutureWarning: The frame.append method is deprecated and will be removed from pandas in a future version. Use pandas.concat instead.\n",
      "  cat_df=cat_df.append(temp_df, ignore_index= True)\n"
     ]
    },
    {
     "name": "stdout",
     "output_type": "stream",
     "text": [
      "['DIY & Tools', 'Spray Paint', 'Adhesives & Sealers', 'Home Care & Cleaning', 'Hair Sprays', 'Spray Cans', 'Home & Kitchen']\n",
      "['DUPLI-COLOR', 'CL COSMOS LAC', 'BigDean', 'Wagner']\n",
      "Styling Spray\n",
      "https://www.amazon.de/s?k=Styling+Spray&page=1\n"
     ]
    },
    {
     "name": "stderr",
     "output_type": "stream",
     "text": [
      "C:\\Users\\visha\\AppData\\Local\\Temp\\ipykernel_13092\\1884963508.py:25: FutureWarning: The frame.append method is deprecated and will be removed from pandas in a future version. Use pandas.concat instead.\n",
      "  cat_df=cat_df.append(temp_df, ignore_index= True)\n"
     ]
    },
    {
     "name": "stdout",
     "output_type": "stream",
     "text": [
      "['Hair Styling Products']\n",
      "[\"L'Oréal Paris\", 'Syoss', 'Wella Professionals', 'REDKEN', 'John Frieda', 'TAFT', 'ghd', 'See more']\n",
      "Oil Styling Gel\n",
      "https://www.amazon.de/s?k=Oil+Styling+Gel&page=1\n"
     ]
    },
    {
     "name": "stderr",
     "output_type": "stream",
     "text": [
      "C:\\Users\\visha\\AppData\\Local\\Temp\\ipykernel_13092\\1884963508.py:25: FutureWarning: The frame.append method is deprecated and will be removed from pandas in a future version. Use pandas.concat instead.\n",
      "  cat_df=cat_df.append(temp_df, ignore_index= True)\n"
     ]
    },
    {
     "name": "stdout",
     "output_type": "stream",
     "text": [
      "['Hair Care', 'Hair Gels', 'Hair Styling Putty, Clay & Wax']\n",
      "[\"L'Óreal Paris\", 'WELLA', 'TIGI', 'John Frieda']\n",
      "hair spray extra\n",
      "https://www.amazon.de/s?k=hair+spray+extra&page=1\n"
     ]
    },
    {
     "name": "stderr",
     "output_type": "stream",
     "text": [
      "C:\\Users\\visha\\AppData\\Local\\Temp\\ipykernel_13092\\1884963508.py:25: FutureWarning: The frame.append method is deprecated and will be removed from pandas in a future version. Use pandas.concat instead.\n",
      "  cat_df=cat_df.append(temp_df, ignore_index= True)\n"
     ]
    },
    {
     "name": "stdout",
     "output_type": "stream",
     "text": [
      "['Hair Care']\n",
      "[\"L'Oréal Paris\", 'Wella Professionals', 'REDKEN', 'TAFT', 'ghd', 'TIGI', 'EIMI', 'See more']\n",
      "Curl Hold Spray\n",
      "https://www.amazon.de/s?k=Curl+Hold+Spray&page=1\n"
     ]
    },
    {
     "name": "stderr",
     "output_type": "stream",
     "text": [
      "C:\\Users\\visha\\AppData\\Local\\Temp\\ipykernel_13092\\1884963508.py:25: FutureWarning: The frame.append method is deprecated and will be removed from pandas in a future version. Use pandas.concat instead.\n",
      "  cat_df=cat_df.append(temp_df, ignore_index= True)\n"
     ]
    },
    {
     "name": "stdout",
     "output_type": "stream",
     "text": [
      "['Hair Sprays', 'Hair Styling Putty, Clay & Wax', 'Hair Heat Protection Sprays', 'Hair Styling Creams & Lotions', 'Hair Gels', 'Shampoos & Conditioners', 'Hair Styling Irons']\n",
      "['TAFT', 'John Frieda', 'TIGI']\n",
      "Styling Hair Pomade\n",
      "https://www.amazon.de/s?k=Styling+Hair+Pomade&page=1\n"
     ]
    },
    {
     "name": "stderr",
     "output_type": "stream",
     "text": [
      "C:\\Users\\visha\\AppData\\Local\\Temp\\ipykernel_13092\\1884963508.py:25: FutureWarning: The frame.append method is deprecated and will be removed from pandas in a future version. Use pandas.concat instead.\n",
      "  cat_df=cat_df.append(temp_df, ignore_index= True)\n"
     ]
    },
    {
     "name": "stdout",
     "output_type": "stream",
     "text": [
      "['Hair Care', 'Hair Styling Putty, Clay & Wax', 'Hair Styling Pomades']\n",
      "[\"L'Óreal Paris\", 'AMERICAN CREW', 'TIGI', 'Reuzel', 'Wella Professionals', 'Goldwell', 'Schwarzkopf']\n",
      "Super\n",
      "https://www.amazon.de/s?k=Super&page=1\n"
     ]
    },
    {
     "name": "stderr",
     "output_type": "stream",
     "text": [
      "C:\\Users\\visha\\AppData\\Local\\Temp\\ipykernel_13092\\1884963508.py:25: FutureWarning: The frame.append method is deprecated and will be removed from pandas in a future version. Use pandas.concat instead.\n",
      "  cat_df=cat_df.append(temp_df, ignore_index= True)\n"
     ]
    },
    {
     "name": "stdout",
     "output_type": "stream",
     "text": [
      "['Prime Video', 'Movies']\n",
      "[]\n",
      "Matte\n",
      "https://www.amazon.de/s?k=Matte&page=1\n"
     ]
    },
    {
     "name": "stderr",
     "output_type": "stream",
     "text": [
      "C:\\Users\\visha\\AppData\\Local\\Temp\\ipykernel_13092\\1884963508.py:25: FutureWarning: The frame.append method is deprecated and will be removed from pandas in a future version. Use pandas.concat instead.\n",
      "  cat_df=cat_df.append(temp_df, ignore_index= True)\n"
     ]
    },
    {
     "name": "stdout",
     "output_type": "stream",
     "text": [
      "['Prime Video', 'Movies', 'TV', 'Yoga Mats', \"Women's Tights\", 'DIY & Tools', 'Cooking & Dining', 'Kitchen Linen']\n",
      "[]\n",
      "professional hair spray\n",
      "https://www.amazon.de/s?k=professional+hair+spray&page=1\n"
     ]
    },
    {
     "name": "stderr",
     "output_type": "stream",
     "text": [
      "C:\\Users\\visha\\AppData\\Local\\Temp\\ipykernel_13092\\1884963508.py:25: FutureWarning: The frame.append method is deprecated and will be removed from pandas in a future version. Use pandas.concat instead.\n",
      "  cat_df=cat_df.append(temp_df, ignore_index= True)\n"
     ]
    },
    {
     "name": "stdout",
     "output_type": "stream",
     "text": [
      "['Hair Care']\n",
      "[\"L'Oréal Paris\", 'Syoss', 'Wella Professionals', 'REDKEN', 'John Frieda', 'TAFT', 'ghd', 'See more']\n",
      "Spray Salt\n",
      "https://www.amazon.de/s?k=Spray+Salt&page=1\n"
     ]
    },
    {
     "name": "stderr",
     "output_type": "stream",
     "text": [
      "C:\\Users\\visha\\AppData\\Local\\Temp\\ipykernel_13092\\1884963508.py:25: FutureWarning: The frame.append method is deprecated and will be removed from pandas in a future version. Use pandas.concat instead.\n",
      "  cat_df=cat_df.append(temp_df, ignore_index= True)\n"
     ]
    },
    {
     "name": "stdout",
     "output_type": "stream",
     "text": [
      "['Grocery', 'Salt', 'Mixed Spices & Seasonings', 'Shower Gels', 'Hair Sprays', 'Cooking & Dining', 'Oil Dispensing Oil Sprayers']\n",
      "['popcornloop']\n",
      "Holding\n",
      "https://www.amazon.de/s?k=Holding&page=1\n"
     ]
    },
    {
     "name": "stderr",
     "output_type": "stream",
     "text": [
      "C:\\Users\\visha\\AppData\\Local\\Temp\\ipykernel_13092\\1884963508.py:25: FutureWarning: The frame.append method is deprecated and will be removed from pandas in a future version. Use pandas.concat instead.\n",
      "  cat_df=cat_df.append(temp_df, ignore_index= True)\n"
     ]
    },
    {
     "name": "stdout",
     "output_type": "stream",
     "text": [
      "['Fitness', 'Strength Training Equipment', 'DIY & Tools', 'Power & Hand Tools', 'Business, Industry & Science', 'Automotive', 'Books']\n",
      "[]\n",
      "Volume Spray\n",
      "https://www.amazon.de/s?k=Volume+Spray&page=1\n"
     ]
    },
    {
     "name": "stderr",
     "output_type": "stream",
     "text": [
      "C:\\Users\\visha\\AppData\\Local\\Temp\\ipykernel_13092\\1884963508.py:25: FutureWarning: The frame.append method is deprecated and will be removed from pandas in a future version. Use pandas.concat instead.\n",
      "  cat_df=cat_df.append(temp_df, ignore_index= True)\n"
     ]
    },
    {
     "name": "stdout",
     "output_type": "stream",
     "text": [
      "['Hair Styling Products', 'Hair Sprays', 'Hair Styling Mousses', 'Shampoos & Conditioners', 'Hair Deep Conditioners & Treatments', 'Fragrances', 'Hair Colour']\n",
      "['Paul Mitchell', 'Guhl', 'EIMI', 'Wella Professionals', 'Schwarzkopf', 'Tigì', 'SEBASTIAN']\n",
      "Wax Matte\n",
      "https://www.amazon.de/s?k=Wax+Matte&page=1\n"
     ]
    },
    {
     "name": "stderr",
     "output_type": "stream",
     "text": [
      "C:\\Users\\visha\\AppData\\Local\\Temp\\ipykernel_13092\\1884963508.py:25: FutureWarning: The frame.append method is deprecated and will be removed from pandas in a future version. Use pandas.concat instead.\n",
      "  cat_df=cat_df.append(temp_df, ignore_index= True)\n"
     ]
    },
    {
     "name": "stdout",
     "output_type": "stream",
     "text": [
      "['Hair Styling Products', 'Hair Styling Waxes', 'Hair Styling Putty, Clay & Wax', 'Hair Styling Clays']\n",
      "['barber marmara', 'Tigì', \"L'Oréal Men Expert\", 'AMERICAN CREW', 'Fonex', 'ID Hair']\n",
      "Spray Salt Spray\n",
      "https://www.amazon.de/s?k=Spray+Salt+Spray&page=1\n"
     ]
    },
    {
     "name": "stderr",
     "output_type": "stream",
     "text": [
      "C:\\Users\\visha\\AppData\\Local\\Temp\\ipykernel_13092\\1884963508.py:25: FutureWarning: The frame.append method is deprecated and will be removed from pandas in a future version. Use pandas.concat instead.\n",
      "  cat_df=cat_df.append(temp_df, ignore_index= True)\n"
     ]
    },
    {
     "name": "stdout",
     "output_type": "stream",
     "text": [
      "['Beauty', 'Hair Sprays', 'Health & Personal Care']\n",
      "['Syoss', 'Wella Professionals', 'REDKEN', 'John Frieda', 'TIGI', 'EIMI']\n",
      "Strong Hold Hair\n",
      "https://www.amazon.de/s?k=Strong+Hold+Hair&page=1\n"
     ]
    },
    {
     "name": "stderr",
     "output_type": "stream",
     "text": [
      "C:\\Users\\visha\\AppData\\Local\\Temp\\ipykernel_13092\\1884963508.py:25: FutureWarning: The frame.append method is deprecated and will be removed from pandas in a future version. Use pandas.concat instead.\n",
      "  cat_df=cat_df.append(temp_df, ignore_index= True)\n"
     ]
    },
    {
     "name": "stdout",
     "output_type": "stream",
     "text": [
      "['Hair Care', 'Hair Sprays', 'Hair Gels', 'Hair Styling Putty, Clay & Wax']\n",
      "[\"L'Oréal Paris\", 'Syoss', 'Wella Professionals', 'REDKEN', 'John Frieda', 'TAFT', 'ghd', 'See more']\n",
      "Extra Strong Hair\n",
      "https://www.amazon.de/s?k=Extra+Strong+Hair&page=1\n"
     ]
    },
    {
     "name": "stderr",
     "output_type": "stream",
     "text": [
      "C:\\Users\\visha\\AppData\\Local\\Temp\\ipykernel_13092\\1884963508.py:25: FutureWarning: The frame.append method is deprecated and will be removed from pandas in a future version. Use pandas.concat instead.\n",
      "  cat_df=cat_df.append(temp_df, ignore_index= True)\n"
     ]
    },
    {
     "name": "stdout",
     "output_type": "stream",
     "text": [
      "['Beauty', 'Shampoos', 'Hair Styling Products', 'Hair Oils', 'Hair Loss Prevention Products', 'Hair Deep Conditioners & Treatments', 'Hair Conditioners']\n",
      "['REDKEN', 'Head & Shoulders', \"L'Óreal Paris\", 'Sebamed', 'Fanola', 'Syoss', 'Sante Naturkosmetik']\n",
      "Dream\n",
      "https://www.amazon.de/s?k=Dream&page=1\n"
     ]
    },
    {
     "name": "stderr",
     "output_type": "stream",
     "text": [
      "C:\\Users\\visha\\AppData\\Local\\Temp\\ipykernel_13092\\1884963508.py:25: FutureWarning: The frame.append method is deprecated and will be removed from pandas in a future version. Use pandas.concat instead.\n",
      "  cat_df=cat_df.append(temp_df, ignore_index= True)\n"
     ]
    },
    {
     "name": "stdout",
     "output_type": "stream",
     "text": [
      "['Prime Video', 'Movies', 'TV', 'Books', 'New Age', 'New Age Dreams', 'Counselling', 'Kindle Store']\n",
      "[]\n",
      "strong\n",
      "https://www.amazon.de/s?k=strong&page=1\n"
     ]
    },
    {
     "name": "stderr",
     "output_type": "stream",
     "text": [
      "C:\\Users\\visha\\AppData\\Local\\Temp\\ipykernel_13092\\1884963508.py:25: FutureWarning: The frame.append method is deprecated and will be removed from pandas in a future version. Use pandas.concat instead.\n",
      "  cat_df=cat_df.append(temp_df, ignore_index= True)\n"
     ]
    },
    {
     "name": "stdout",
     "output_type": "stream",
     "text": [
      "['Prime Video', 'Movies', 'Books', 'Study Guides', 'Teen & Young Adult', 'Genre Fiction', 'Popular Mathematics', 'Literary Fiction', 'Languages']\n",
      "[]\n",
      "Styling\n",
      "https://www.amazon.de/s?k=Styling&page=1\n"
     ]
    },
    {
     "name": "stderr",
     "output_type": "stream",
     "text": [
      "C:\\Users\\visha\\AppData\\Local\\Temp\\ipykernel_13092\\1884963508.py:25: FutureWarning: The frame.append method is deprecated and will be removed from pandas in a future version. Use pandas.concat instead.\n",
      "  cat_df=cat_df.append(temp_df, ignore_index= True)\n"
     ]
    },
    {
     "name": "stdout",
     "output_type": "stream",
     "text": [
      "['Beauty', 'Hair Styling Accessories', 'Curling Tongs']\n",
      "['Invisibobble', 'Toppik', 'MapofBeauty', 'Kavya', 'Lolalet']\n",
      "Hair Pomade\n",
      "https://www.amazon.de/s?k=Hair+Pomade&page=1\n"
     ]
    },
    {
     "name": "stderr",
     "output_type": "stream",
     "text": [
      "C:\\Users\\visha\\AppData\\Local\\Temp\\ipykernel_13092\\1884963508.py:25: FutureWarning: The frame.append method is deprecated and will be removed from pandas in a future version. Use pandas.concat instead.\n",
      "  cat_df=cat_df.append(temp_df, ignore_index= True)\n"
     ]
    },
    {
     "name": "stdout",
     "output_type": "stream",
     "text": [
      "['Hair Styling Putty, Clay & Wax', 'Hair Styling Pomades', 'Hair Styling Waxes', 'Hair Styling Clays', 'Hair Gels', 'Hair Deep Conditioners & Treatments', 'Hair Sprays']\n",
      "['Schmiere FEINSTE HAAR-POMADE', 'Charlemagne', 'AMERICAN CREW', 'Wella Professionals', 'UPPERCUT DELUXE', 'Layrite', 'Astro Professionals', 'See more']\n",
      "Wella\n",
      "https://www.amazon.de/s?k=Wella&page=1\n"
     ]
    },
    {
     "name": "stderr",
     "output_type": "stream",
     "text": [
      "C:\\Users\\visha\\AppData\\Local\\Temp\\ipykernel_13092\\1884963508.py:25: FutureWarning: The frame.append method is deprecated and will be removed from pandas in a future version. Use pandas.concat instead.\n",
      "  cat_df=cat_df.append(temp_df, ignore_index= True)\n"
     ]
    },
    {
     "name": "stdout",
     "output_type": "stream",
     "text": [
      "['Hair Care', 'Semi-Permanent Hair Colour', 'Permanent Hair Colour', 'Hair Sprays', 'Shampoos', 'Hair Deep Conditioners & Treatments', 'Hair Oils']\n",
      "['Wella Professionals', 'WELLA', 'EIMI', 'Wella Eimi']\n",
      "Hair Powder\n",
      "https://www.amazon.de/s?k=Hair+Powder&page=1\n"
     ]
    },
    {
     "name": "stderr",
     "output_type": "stream",
     "text": [
      "C:\\Users\\visha\\AppData\\Local\\Temp\\ipykernel_13092\\1884963508.py:25: FutureWarning: The frame.append method is deprecated and will be removed from pandas in a future version. Use pandas.concat instead.\n",
      "  cat_df=cat_df.append(temp_df, ignore_index= True)\n"
     ]
    },
    {
     "name": "stdout",
     "output_type": "stream",
     "text": [
      "['Hair Care', 'Hair Mascaras', 'Hair Styling Putty, Clay & Wax', 'Hair Root Lifting Powders', 'Permanent Hair Colour', 'Hair Deep Conditioners & Treatments', 'Hair Sprays']\n",
      "['TAFT', 'Schwarzkopf', 'IMPERIO', 'Got2B', \"L'Oréal Paris\", 'barber marmara', 'Take Hair ENDLICH WIEDER VOLLES HAAR', 'See more']\n",
      "Hold Hair Styling\n",
      "https://www.amazon.de/s?k=Hold+Hair+Styling&page=1\n"
     ]
    },
    {
     "name": "stderr",
     "output_type": "stream",
     "text": [
      "C:\\Users\\visha\\AppData\\Local\\Temp\\ipykernel_13092\\1884963508.py:25: FutureWarning: The frame.append method is deprecated and will be removed from pandas in a future version. Use pandas.concat instead.\n",
      "  cat_df=cat_df.append(temp_df, ignore_index= True)\n"
     ]
    },
    {
     "name": "stdout",
     "output_type": "stream",
     "text": [
      "['Hair Care', 'Bun Shapers', 'Combs', 'Hair Pins', 'Hair Clips', 'Ponytail Holders', 'Hair Gels']\n",
      "['ghd', 'REVLON PROFESSIONAL', \"L'Óreal Paris\", 'Wella Professionals', 'Garnier', 'Syoss']\n",
      "hold\n",
      "https://www.amazon.de/s?k=hold&page=1\n"
     ]
    },
    {
     "name": "stderr",
     "output_type": "stream",
     "text": [
      "C:\\Users\\visha\\AppData\\Local\\Temp\\ipykernel_13092\\1884963508.py:25: FutureWarning: The frame.append method is deprecated and will be removed from pandas in a future version. Use pandas.concat instead.\n",
      "  cat_df=cat_df.append(temp_df, ignore_index= True)\n"
     ]
    },
    {
     "name": "stdout",
     "output_type": "stream",
     "text": [
      "['Books', 'Prime Video', 'Movies', 'TV', 'DIY & Tools']\n",
      "[]\n",
      "Protection\n",
      "https://www.amazon.de/s?k=Protection&page=1\n"
     ]
    },
    {
     "name": "stderr",
     "output_type": "stream",
     "text": [
      "C:\\Users\\visha\\AppData\\Local\\Temp\\ipykernel_13092\\1884963508.py:25: FutureWarning: The frame.append method is deprecated and will be removed from pandas in a future version. Use pandas.concat instead.\n",
      "  cat_df=cat_df.append(temp_df, ignore_index= True)\n"
     ]
    },
    {
     "name": "stdout",
     "output_type": "stream",
     "text": [
      "['Prime Video', 'Movies', 'DIY & Tools', 'Safety & Security', 'Door Hardware & Locks', 'Fashion', 'Luggage & Travel Gear', 'Mobile Phones & Communication', 'Books']\n",
      "[]\n",
      "Hair Styling\n",
      "https://www.amazon.de/s?k=Hair+Styling&page=1\n"
     ]
    },
    {
     "name": "stderr",
     "output_type": "stream",
     "text": [
      "C:\\Users\\visha\\AppData\\Local\\Temp\\ipykernel_13092\\1884963508.py:25: FutureWarning: The frame.append method is deprecated and will be removed from pandas in a future version. Use pandas.concat instead.\n",
      "  cat_df=cat_df.append(temp_df, ignore_index= True)\n"
     ]
    },
    {
     "name": "stdout",
     "output_type": "stream",
     "text": [
      "['Hair Care', 'Curling Tongs', 'Hair Rollers', 'Bun Shapers', 'Ponytail Holders', 'Hair Clips', 'Hot Air Stylers']\n",
      "['Remington', 'REVLON PROFESSIONAL', 'Syoss', 'AMERICAN CREW', 'sularpek', 'EIMI', 'PHILIPS', 'See more']\n",
      "Medium\n",
      "https://www.amazon.de/s?k=Medium&page=1\n"
     ]
    },
    {
     "name": "stderr",
     "output_type": "stream",
     "text": [
      "C:\\Users\\visha\\AppData\\Local\\Temp\\ipykernel_13092\\1884963508.py:25: FutureWarning: The frame.append method is deprecated and will be removed from pandas in a future version. Use pandas.concat instead.\n",
      "  cat_df=cat_df.append(temp_df, ignore_index= True)\n"
     ]
    },
    {
     "name": "stdout",
     "output_type": "stream",
     "text": [
      "['Fashion', 'Suitcases', \"Women's Handbags & Shoulder Bags\", 'Carry-Ons', 'Casual Daypacks', 'Home & Kitchen']\n",
      "['PUMA', 'Tommy Hilfiger', 'adidas', 'Nike', 'Under Armour', 'Skechers', 'TOM TAILOR']\n",
      "Oil\n",
      "https://www.amazon.de/s?k=Oil&page=1\n"
     ]
    },
    {
     "name": "stderr",
     "output_type": "stream",
     "text": [
      "C:\\Users\\visha\\AppData\\Local\\Temp\\ipykernel_13092\\1884963508.py:25: FutureWarning: The frame.append method is deprecated and will be removed from pandas in a future version. Use pandas.concat instead.\n",
      "  cat_df=cat_df.append(temp_df, ignore_index= True)\n"
     ]
    },
    {
     "name": "stdout",
     "output_type": "stream",
     "text": [
      "['Car Engine Oils', 'Grocery', 'Salad Oils', 'Oil & Vinegar Gifts', 'Carrier & Essential Oils', 'Vitamins, Minerals & Supplements', 'Beauty']\n",
      "['Castrol', 'Liqui Moly', 'MANNOL', 'Mobil', 'EUROLUB', 'Amazon Basics', 'ARAL', 'See more']\n",
      "Frizz\n",
      "https://www.amazon.de/s?k=Frizz&page=1\n"
     ]
    },
    {
     "name": "stderr",
     "output_type": "stream",
     "text": [
      "C:\\Users\\visha\\AppData\\Local\\Temp\\ipykernel_13092\\1884963508.py:25: FutureWarning: The frame.append method is deprecated and will be removed from pandas in a future version. Use pandas.concat instead.\n",
      "  cat_df=cat_df.append(temp_df, ignore_index= True)\n"
     ]
    },
    {
     "name": "stdout",
     "output_type": "stream",
     "text": [
      "['Hair Care', 'Hair Deep Conditioners & Treatments', 'Hair Sprays', 'Hair Serums', 'Shampoo & Conditioner Sets', 'Shampoos', 'Hair Conditioners']\n",
      "['John Frieda', 'Pantene', 'WELLA', 'Wella Professionals', 'Paul Mitchell', 'REDKEN', 'Maria Nila']\n",
      "Spray Bottle\n",
      "https://www.amazon.de/s?k=Spray+Bottle&page=1\n"
     ]
    },
    {
     "name": "stderr",
     "output_type": "stream",
     "text": [
      "C:\\Users\\visha\\AppData\\Local\\Temp\\ipykernel_13092\\1884963508.py:25: FutureWarning: The frame.append method is deprecated and will be removed from pandas in a future version. Use pandas.concat instead.\n",
      "  cat_df=cat_df.append(temp_df, ignore_index= True)\n"
     ]
    },
    {
     "name": "stdout",
     "output_type": "stream",
     "text": [
      "['Spray Bottles', 'Garden Sprayers', 'Haidressser Spray Bottles', 'Hair Sprays', 'Atomisers', 'Refillable Cosmetic Spray Bottles', 'Garden Hose Nozzles & Spray Guns']\n",
      "['Gloria', 'MR.SIGA', 'Relaxdays', 'Uttex', 'Youngever', 'Nanoprotect', 'Nomara Organics Made with Love', 'See more']\n",
      "Styling Cream\n",
      "https://www.amazon.de/s?k=Styling+Cream&page=1\n"
     ]
    },
    {
     "name": "stderr",
     "output_type": "stream",
     "text": [
      "C:\\Users\\visha\\AppData\\Local\\Temp\\ipykernel_13092\\1884963508.py:25: FutureWarning: The frame.append method is deprecated and will be removed from pandas in a future version. Use pandas.concat instead.\n",
      "  cat_df=cat_df.append(temp_df, ignore_index= True)\n"
     ]
    },
    {
     "name": "stdout",
     "output_type": "stream",
     "text": [
      "['Hair Care', 'Hair Styling Creams & Lotions', 'Hair Gels', 'Hair Styling Putty, Clay & Wax']\n",
      "['AMERICAN CREW', 'NIVEA', 'TIGI', 'Goldwell', 'CANTU', 'Alcina', 'Milk Shake']\n",
      "Olive Oil Styling\n",
      "https://www.amazon.de/s?k=Olive+Oil+Styling&page=1\n"
     ]
    },
    {
     "name": "stderr",
     "output_type": "stream",
     "text": [
      "C:\\Users\\visha\\AppData\\Local\\Temp\\ipykernel_13092\\1884963508.py:25: FutureWarning: The frame.append method is deprecated and will be removed from pandas in a future version. Use pandas.concat instead.\n",
      "  cat_df=cat_df.append(temp_df, ignore_index= True)\n"
     ]
    },
    {
     "name": "stdout",
     "output_type": "stream",
     "text": [
      "['Beauty', 'Hair Oils', 'Hair Gels', 'Shampoos & Conditioners', 'Hair Sprays', 'Skin Care', 'Oils, Vinegars & Salad Dressings']\n",
      "[\"L'Oréal Paris\", 'Garnier', 'Gliss Kur', 'WELEDA', 'WELLA', 'OGX', 'BIONOBLE', 'See more']\n",
      "Gel\n",
      "https://www.amazon.de/s?k=Gel&page=1\n"
     ]
    },
    {
     "name": "stderr",
     "output_type": "stream",
     "text": [
      "C:\\Users\\visha\\AppData\\Local\\Temp\\ipykernel_13092\\1884963508.py:25: FutureWarning: The frame.append method is deprecated and will be removed from pandas in a future version. Use pandas.concat instead.\n",
      "  cat_df=cat_df.append(temp_df, ignore_index= True)\n"
     ]
    },
    {
     "name": "stdout",
     "output_type": "stream",
     "text": [
      "[\"Kids' Dress Up & Pretend Play\", 'Office Supplies', 'Prime Video', 'Movies', 'TV', 'Books', 'Investing & Money']\n",
      "['Betzold', 'KOIROI']\n",
      "Hair Spray Holding\n",
      "https://www.amazon.de/s?k=Hair+Spray+Holding&page=1\n"
     ]
    },
    {
     "name": "stderr",
     "output_type": "stream",
     "text": [
      "C:\\Users\\visha\\AppData\\Local\\Temp\\ipykernel_13092\\1884963508.py:25: FutureWarning: The frame.append method is deprecated and will be removed from pandas in a future version. Use pandas.concat instead.\n",
      "  cat_df=cat_df.append(temp_df, ignore_index= True)\n"
     ]
    },
    {
     "name": "stdout",
     "output_type": "stream",
     "text": [
      "['Beauty', 'Hair Sprays', 'Hair Styling Accessories', 'Home & Kitchen']\n",
      "[\"L'Oréal Paris\", 'Syoss', 'Wella Professionals', 'REDKEN', 'John Frieda', 'TAFT', 'TIGI', 'See more']\n",
      "Professional\n",
      "https://www.amazon.de/s?k=Professional&page=1\n"
     ]
    },
    {
     "name": "stderr",
     "output_type": "stream",
     "text": [
      "C:\\Users\\visha\\AppData\\Local\\Temp\\ipykernel_13092\\1884963508.py:25: FutureWarning: The frame.append method is deprecated and will be removed from pandas in a future version. Use pandas.concat instead.\n",
      "  cat_df=cat_df.append(temp_df, ignore_index= True)\n"
     ]
    },
    {
     "name": "stdout",
     "output_type": "stream",
     "text": [
      "['Household Wet & Dry Mops', 'Dehumidifiers', 'Kitchen Tools & Gadgets', 'Nutcrackers', 'Commercial Floor Care', 'Small Kitchen Appliances', \"Women's Tankini Sets\"]\n",
      "['Leifheit', 'Myiosus']\n",
      "Heat Protection Spray\n",
      "https://www.amazon.de/s?k=Heat+Protection+Spray&page=1\n"
     ]
    },
    {
     "name": "stderr",
     "output_type": "stream",
     "text": [
      "C:\\Users\\visha\\AppData\\Local\\Temp\\ipykernel_13092\\1884963508.py:25: FutureWarning: The frame.append method is deprecated and will be removed from pandas in a future version. Use pandas.concat instead.\n",
      "  cat_df=cat_df.append(temp_df, ignore_index= True)\n"
     ]
    },
    {
     "name": "stdout",
     "output_type": "stream",
     "text": [
      "['Hair Styling Products', 'Hair Heat Protection Sprays', 'Hair Sprays', 'Hair Serums', 'Hair Gels', 'Shampoos & Conditioners']\n",
      "['ghd', \"L'Oréal Paris\", 'Wella Professionals', 'TAFT', 'REDKEN', 'Syoss', 'John Frieda', 'See more']\n",
      "fine hair\n",
      "https://www.amazon.de/s?k=fine+hair&page=1\n"
     ]
    },
    {
     "name": "stderr",
     "output_type": "stream",
     "text": [
      "C:\\Users\\visha\\AppData\\Local\\Temp\\ipykernel_13092\\1884963508.py:25: FutureWarning: The frame.append method is deprecated and will be removed from pandas in a future version. Use pandas.concat instead.\n",
      "  cat_df=cat_df.append(temp_df, ignore_index= True)\n"
     ]
    },
    {
     "name": "stdout",
     "output_type": "stream",
     "text": [
      "['Hair Care', 'Shampoos', 'Hair Sprays', 'Hair Deep Conditioners & Treatments', 'Hair Conditioners', 'Hairbrushes', 'Hair Mascaras']\n",
      "['Urtekram', 'Paul Mitchell', \"L'Oréal Professionnel\", 'REDKEN', 'OGX']\n",
      "Oil Styling\n",
      "https://www.amazon.de/s?k=Oil+Styling&page=1\n"
     ]
    },
    {
     "name": "stderr",
     "output_type": "stream",
     "text": [
      "C:\\Users\\visha\\AppData\\Local\\Temp\\ipykernel_13092\\1884963508.py:25: FutureWarning: The frame.append method is deprecated and will be removed from pandas in a future version. Use pandas.concat instead.\n",
      "  cat_df=cat_df.append(temp_df, ignore_index= True)\n"
     ]
    },
    {
     "name": "stdout",
     "output_type": "stream",
     "text": [
      "['Beauty', 'Hair Styling Products', 'Hair Oils']\n",
      "[\"L'Oréal Paris\", 'Garnier', 'Gliss Kur', 'WELLA', 'OGX', 'BIONOBLE', 'Pantene', 'See more']\n",
      "Styling Gel EIMI\n",
      "https://www.amazon.de/s?k=Styling+Gel+EIMI&page=1\n"
     ]
    },
    {
     "name": "stderr",
     "output_type": "stream",
     "text": [
      "C:\\Users\\visha\\AppData\\Local\\Temp\\ipykernel_13092\\1884963508.py:25: FutureWarning: The frame.append method is deprecated and will be removed from pandas in a future version. Use pandas.concat instead.\n",
      "  cat_df=cat_df.append(temp_df, ignore_index= True)\n"
     ]
    },
    {
     "name": "stdout",
     "output_type": "stream",
     "text": [
      "['Hair Styling Products']\n",
      "[\"L'Óreal Paris\", 'Wella Professionals', 'NIVEA', 'Got2B', 'WELLA', 'TIGI', 'John Frieda']\n",
      "Fine\n",
      "https://www.amazon.de/s?k=Fine&page=1\n"
     ]
    },
    {
     "name": "stderr",
     "output_type": "stream",
     "text": [
      "C:\\Users\\visha\\AppData\\Local\\Temp\\ipykernel_13092\\1884963508.py:25: FutureWarning: The frame.append method is deprecated and will be removed from pandas in a future version. Use pandas.concat instead.\n",
      "  cat_df=cat_df.append(temp_df, ignore_index= True)\n"
     ]
    },
    {
     "name": "stdout",
     "output_type": "stream",
     "text": [
      "['Power & Hand Tools', 'Oscillating Tools', 'Oscillating Tool Accessories', 'Drill Drivers', 'Rotary Tools', 'Prime Video', 'Movies', 'Wet-Dry Vacuums']\n",
      "['Fein']\n",
      "Men\n",
      "https://www.amazon.de/s?k=Men&page=1\n"
     ]
    },
    {
     "name": "stderr",
     "output_type": "stream",
     "text": [
      "C:\\Users\\visha\\AppData\\Local\\Temp\\ipykernel_13092\\1884963508.py:25: FutureWarning: The frame.append method is deprecated and will be removed from pandas in a future version. Use pandas.concat instead.\n",
      "  cat_df=cat_df.append(temp_df, ignore_index= True)\n"
     ]
    },
    {
     "name": "stdout",
     "output_type": "stream",
     "text": [
      "[\"Men's Fashion\", \"Men's Cardigans\", \"Men's T-Shirts\", \"Men's Hoodies\", \"Men's Jumpers\", \"Men's Jeans\", \"Men's Trousers\"]\n",
      "['JACK & JONES', 'Tommy Hilfiger', 'Champion', 'PUMA', 'BOSS', 'adidas', 'TOM TAILOR', 'See more']\n",
      "Smooth Hair\n",
      "https://www.amazon.de/s?k=Smooth+Hair&page=1\n"
     ]
    },
    {
     "name": "stderr",
     "output_type": "stream",
     "text": [
      "C:\\Users\\visha\\AppData\\Local\\Temp\\ipykernel_13092\\1884963508.py:25: FutureWarning: The frame.append method is deprecated and will be removed from pandas in a future version. Use pandas.concat instead.\n",
      "  cat_df=cat_df.append(temp_df, ignore_index= True)\n"
     ]
    },
    {
     "name": "stdout",
     "output_type": "stream",
     "text": [
      "['Hair Care', 'Hair Straighteners', 'Hair Sprays', 'Hair Deep Conditioners & Treatments', 'Hair Gels', 'Shampoos', 'Hair Masks']\n",
      "['Remington', 'PHILIPS', 'ghd', 'REVLON PROFESSIONAL', \"L'Óreal Paris\", 'Wella Professionals', 'Garnier', 'See more']\n",
      "Hours\n",
      "https://www.amazon.de/s?k=Hours&page=1\n"
     ]
    },
    {
     "name": "stderr",
     "output_type": "stream",
     "text": [
      "C:\\Users\\visha\\AppData\\Local\\Temp\\ipykernel_13092\\1884963508.py:25: FutureWarning: The frame.append method is deprecated and will be removed from pandas in a future version. Use pandas.concat instead.\n",
      "  cat_df=cat_df.append(temp_df, ignore_index= True)\n"
     ]
    },
    {
     "name": "stdout",
     "output_type": "stream",
     "text": [
      "['Prime Video', 'Movies', 'TV', 'DVD & Blu-ray', 'Movies', 'Digital Music']\n",
      "[]\n",
      "Curls\n",
      "https://www.amazon.de/s?k=Curls&page=1\n"
     ]
    },
    {
     "name": "stderr",
     "output_type": "stream",
     "text": [
      "C:\\Users\\visha\\AppData\\Local\\Temp\\ipykernel_13092\\1884963508.py:25: FutureWarning: The frame.append method is deprecated and will be removed from pandas in a future version. Use pandas.concat instead.\n",
      "  cat_df=cat_df.append(temp_df, ignore_index= True)\n"
     ]
    },
    {
     "name": "stdout",
     "output_type": "stream",
     "text": [
      "['Hair Care', 'Hair Rollers', 'Curling Tongs', 'Hair Styling Putty, Clay & Wax', 'Shampoos & Conditioners', 'Hot Air Stylers', 'Hairbrushes']\n",
      "['Remington', 'PHILIPS', 'BaByliss', 'BESTOPE PRO', 'John Frieda', 'Denman', 'URAQT', 'See more']\n",
      "Heat Styling Spray\n",
      "https://www.amazon.de/s?k=Heat+Styling+Spray&page=1\n"
     ]
    },
    {
     "name": "stderr",
     "output_type": "stream",
     "text": [
      "C:\\Users\\visha\\AppData\\Local\\Temp\\ipykernel_13092\\1884963508.py:25: FutureWarning: The frame.append method is deprecated and will be removed from pandas in a future version. Use pandas.concat instead.\n",
      "  cat_df=cat_df.append(temp_df, ignore_index= True)\n"
     ]
    },
    {
     "name": "stdout",
     "output_type": "stream",
     "text": [
      "['DIY & Tools', 'Spray Paint', 'Colour Application', 'Central Heating Systems & Accessories', 'Hair Care', 'Hair Sprays']\n",
      "[]\n",
      "Strong Hair\n",
      "https://www.amazon.de/s?k=Strong+Hair&page=1\n"
     ]
    },
    {
     "name": "stderr",
     "output_type": "stream",
     "text": [
      "C:\\Users\\visha\\AppData\\Local\\Temp\\ipykernel_13092\\1884963508.py:25: FutureWarning: The frame.append method is deprecated and will be removed from pandas in a future version. Use pandas.concat instead.\n",
      "  cat_df=cat_df.append(temp_df, ignore_index= True)\n"
     ]
    },
    {
     "name": "stdout",
     "output_type": "stream",
     "text": [
      "['Hair Care', 'Shampoos', 'Hair Deep Conditioners & Treatments', 'Hair Extensions', 'Hair Styling Products', 'Hair Oils', 'Hair Masks']\n",
      "['Remington', 'ghd', 'REVLON PROFESSIONAL', \"L'Óreal Paris\", 'Wella Professionals', 'Garnier', 'Syoss']\n",
      "Styling Gel\n",
      "https://www.amazon.de/s?k=Styling+Gel&page=1\n"
     ]
    },
    {
     "name": "stderr",
     "output_type": "stream",
     "text": [
      "C:\\Users\\visha\\AppData\\Local\\Temp\\ipykernel_13092\\1884963508.py:25: FutureWarning: The frame.append method is deprecated and will be removed from pandas in a future version. Use pandas.concat instead.\n",
      "  cat_df=cat_df.append(temp_df, ignore_index= True)\n"
     ]
    },
    {
     "name": "stdout",
     "output_type": "stream",
     "text": [
      "['Hair Care', 'Hair Gels']\n",
      "[\"L'Óreal Paris\", 'Wella Professionals', 'NIVEA', 'Got2B', 'TAFT', 'WELLA', 'TIGI', 'See more']\n",
      "Hair Spray Power\n",
      "https://www.amazon.de/s?k=Hair+Spray+Power&page=1\n"
     ]
    },
    {
     "name": "stderr",
     "output_type": "stream",
     "text": [
      "C:\\Users\\visha\\AppData\\Local\\Temp\\ipykernel_13092\\1884963508.py:25: FutureWarning: The frame.append method is deprecated and will be removed from pandas in a future version. Use pandas.concat instead.\n",
      "  cat_df=cat_df.append(temp_df, ignore_index= True)\n"
     ]
    },
    {
     "name": "stdout",
     "output_type": "stream",
     "text": [
      "['Hair Care']\n",
      "[\"L'Oréal Paris\", 'TAFT']\n",
      "Hair\n",
      "https://www.amazon.de/s?k=Hair&page=1\n"
     ]
    },
    {
     "name": "stderr",
     "output_type": "stream",
     "text": [
      "C:\\Users\\visha\\AppData\\Local\\Temp\\ipykernel_13092\\1884963508.py:25: FutureWarning: The frame.append method is deprecated and will be removed from pandas in a future version. Use pandas.concat instead.\n",
      "  cat_df=cat_df.append(temp_df, ignore_index= True)\n"
     ]
    },
    {
     "name": "stdout",
     "output_type": "stream",
     "text": [
      "['Hair Care', 'Hair Rollers', 'Hair Styling Irons', 'Hair Oils', 'Hairpieces', 'Biotin', 'Scalp Massagers']\n",
      "['Remington', 'REVLON PROFESSIONAL', 'Wella Professionals', 'WELEDA', 'BIONOBLE', 'Rowenta', 'Efalock Professional', 'See more']\n",
      "Hold Hair Spray\n",
      "https://www.amazon.de/s?k=Hold+Hair+Spray&page=1\n"
     ]
    },
    {
     "name": "stderr",
     "output_type": "stream",
     "text": [
      "C:\\Users\\visha\\AppData\\Local\\Temp\\ipykernel_13092\\1884963508.py:25: FutureWarning: The frame.append method is deprecated and will be removed from pandas in a future version. Use pandas.concat instead.\n",
      "  cat_df=cat_df.append(temp_df, ignore_index= True)\n"
     ]
    },
    {
     "name": "stdout",
     "output_type": "stream",
     "text": [
      "['Hair Styling Products']\n",
      "[\"L'Oréal Paris\", 'Syoss', 'Wella Professionals', 'REDKEN', 'John Frieda', 'TAFT', 'ghd', 'See more']\n",
      "Strong Hair cream\n",
      "https://www.amazon.de/s?k=Strong+Hair+cream&page=1\n"
     ]
    },
    {
     "name": "stderr",
     "output_type": "stream",
     "text": [
      "C:\\Users\\visha\\AppData\\Local\\Temp\\ipykernel_13092\\1884963508.py:25: FutureWarning: The frame.append method is deprecated and will be removed from pandas in a future version. Use pandas.concat instead.\n",
      "  cat_df=cat_df.append(temp_df, ignore_index= True)\n"
     ]
    },
    {
     "name": "stdout",
     "output_type": "stream",
     "text": [
      "['Hair Care', 'Hair Deep Conditioners & Treatments', 'Hair Styling Putty, Clay & Wax', 'Shampoos', 'Hair Oils', 'Hair Gels', 'Hair Styling Creams & Lotions']\n",
      "['ghd', 'REVLON PROFESSIONAL', \"L'Óreal Paris\", 'Wella Professionals', 'Garnier', 'Syoss']\n",
      "Wax Matte Finish\n",
      "https://www.amazon.de/s?k=Wax+Matte+Finish&page=1\n"
     ]
    },
    {
     "name": "stderr",
     "output_type": "stream",
     "text": [
      "C:\\Users\\visha\\AppData\\Local\\Temp\\ipykernel_13092\\1884963508.py:25: FutureWarning: The frame.append method is deprecated and will be removed from pandas in a future version. Use pandas.concat instead.\n",
      "  cat_df=cat_df.append(temp_df, ignore_index= True)\n"
     ]
    },
    {
     "name": "stdout",
     "output_type": "stream",
     "text": [
      "['Hair Styling Products', 'Hair Styling Waxes', 'Hair Styling Putty, Clay & Wax', 'Automotive', 'Vehicle Polishes', 'Car Paint Care', 'Finishes, Sealers & Stains']\n",
      "['TAFT', 'Nivea Men', 'MORFOSE', 'AMERICAN CREW', 'Gummy', 'Redone', 'Schwarzkopf']\n",
      "Volume\n",
      "https://www.amazon.de/s?k=Volume&page=1\n"
     ]
    },
    {
     "name": "stderr",
     "output_type": "stream",
     "text": [
      "C:\\Users\\visha\\AppData\\Local\\Temp\\ipykernel_13092\\1884963508.py:25: FutureWarning: The frame.append method is deprecated and will be removed from pandas in a future version. Use pandas.concat instead.\n",
      "  cat_df=cat_df.append(temp_df, ignore_index= True)\n"
     ]
    },
    {
     "name": "stdout",
     "output_type": "stream",
     "text": [
      "['Hair Care', 'Hair Sprays', 'Shampoos', 'Hair Styling Mousses', 'Hair Styling Putty, Clay & Wax', 'Hair Deep Conditioners & Treatments', 'Hair Rollers']\n",
      "['Wella Professionals', 'Paul Mitchell', 'John Frieda', 'Glynt', 'TAFT', 'MÁDARA', 'Goldwell', 'See more']\n",
      "Spray Professional Hair\n",
      "https://www.amazon.de/s?k=Spray+Professional+Hair&page=1\n"
     ]
    },
    {
     "name": "stderr",
     "output_type": "stream",
     "text": [
      "C:\\Users\\visha\\AppData\\Local\\Temp\\ipykernel_13092\\1884963508.py:25: FutureWarning: The frame.append method is deprecated and will be removed from pandas in a future version. Use pandas.concat instead.\n",
      "  cat_df=cat_df.append(temp_df, ignore_index= True)\n"
     ]
    },
    {
     "name": "stdout",
     "output_type": "stream",
     "text": [
      "['Hair Styling Products', 'Hair Sprays']\n",
      "[\"L'Oréal Paris\", 'Syoss', 'Wella Professionals', 'REDKEN', 'John Frieda', 'TAFT', 'ghd', 'See more']\n",
      "Strong Hair Spray\n",
      "https://www.amazon.de/s?k=Strong+Hair+Spray&page=1\n"
     ]
    },
    {
     "name": "stderr",
     "output_type": "stream",
     "text": [
      "C:\\Users\\visha\\AppData\\Local\\Temp\\ipykernel_13092\\1884963508.py:25: FutureWarning: The frame.append method is deprecated and will be removed from pandas in a future version. Use pandas.concat instead.\n",
      "  cat_df=cat_df.append(temp_df, ignore_index= True)\n"
     ]
    },
    {
     "name": "stdout",
     "output_type": "stream",
     "text": [
      "['Hair Styling Products']\n",
      "[\"L'Oréal Paris\", 'Syoss', 'Wella Professionals', 'REDKEN', 'TAFT', 'TIGI', 'EIMI', 'See more']\n",
      "Level\n",
      "https://www.amazon.de/s?k=Level&page=1\n"
     ]
    },
    {
     "name": "stderr",
     "output_type": "stream",
     "text": [
      "C:\\Users\\visha\\AppData\\Local\\Temp\\ipykernel_13092\\1884963508.py:25: FutureWarning: The frame.append method is deprecated and will be removed from pandas in a future version. Use pandas.concat instead.\n",
      "  cat_df=cat_df.append(temp_df, ignore_index= True)\n"
     ]
    },
    {
     "name": "stdout",
     "output_type": "stream",
     "text": [
      "['DIY & Tools', 'Laser Measuring Devices & Accessories', 'Levelling Compounds', 'Tile Wedges']\n",
      "['kwb', 'Bosch Professional', 'Bosch', 'PeakTech', 'HUEPAR', 'Stabila', 'Bosch Home and Garden', 'See more']\n",
      "Hold Hair\n",
      "https://www.amazon.de/s?k=Hold+Hair&page=1\n"
     ]
    },
    {
     "name": "stderr",
     "output_type": "stream",
     "text": [
      "C:\\Users\\visha\\AppData\\Local\\Temp\\ipykernel_13092\\1884963508.py:25: FutureWarning: The frame.append method is deprecated and will be removed from pandas in a future version. Use pandas.concat instead.\n",
      "  cat_df=cat_df.append(temp_df, ignore_index= True)\n"
     ]
    },
    {
     "name": "stdout",
     "output_type": "stream",
     "text": [
      "['Hair Care', 'Hair Sprays', 'Hair Styling Accessories', 'Hair Styling Putty, Clay & Wax', 'Hair Gels', 'Hair Extensions & Wigs']\n",
      "['PHILIPS', 'ghd', 'REVLON PROFESSIONAL', \"L'Óreal Paris\", 'Wella Professionals', 'Garnier', 'Syoss']\n",
      "Tigi\n",
      "https://www.amazon.de/s?k=Tigi&page=1\n"
     ]
    },
    {
     "name": "stderr",
     "output_type": "stream",
     "text": [
      "C:\\Users\\visha\\AppData\\Local\\Temp\\ipykernel_13092\\1884963508.py:25: FutureWarning: The frame.append method is deprecated and will be removed from pandas in a future version. Use pandas.concat instead.\n",
      "  cat_df=cat_df.append(temp_df, ignore_index= True)\n"
     ]
    },
    {
     "name": "stdout",
     "output_type": "stream",
     "text": [
      "['Hair Care', 'Shampoo & Conditioner Sets', 'Hair Sprays', 'Hair Styling Creams & Lotions', 'Hair Styling Putty, Clay & Wax', 'Shampoos', 'Hair Conditioners']\n",
      "['TIGI']\n",
      "Matt\n",
      "https://www.amazon.de/s?k=Matt&page=1\n"
     ]
    },
    {
     "name": "stderr",
     "output_type": "stream",
     "text": [
      "C:\\Users\\visha\\AppData\\Local\\Temp\\ipykernel_13092\\1884963508.py:25: FutureWarning: The frame.append method is deprecated and will be removed from pandas in a future version. Use pandas.concat instead.\n",
      "  cat_df=cat_df.append(temp_df, ignore_index= True)\n"
     ]
    },
    {
     "name": "stdout",
     "output_type": "stream",
     "text": [
      "['Prime Video', 'Movies', 'TV', 'Yoga Mats', \"Women's Tights\", 'DIY & Tools', 'Cooking & Dining', 'Kitchen Linen']\n",
      "[]\n",
      "Head\n",
      "https://www.amazon.de/s?k=Head&page=1\n"
     ]
    },
    {
     "name": "stderr",
     "output_type": "stream",
     "text": [
      "C:\\Users\\visha\\AppData\\Local\\Temp\\ipykernel_13092\\1884963508.py:25: FutureWarning: The frame.append method is deprecated and will be removed from pandas in a future version. Use pandas.concat instead.\n",
      "  cat_df=cat_df.append(temp_df, ignore_index= True)\n"
     ]
    },
    {
     "name": "stdout",
     "output_type": "stream",
     "text": [
      "['Ladders', 'Stepladders', 'Multi-purpose Ladders', 'Telescopic Ladders', 'Extension Ladders', 'Folding Steps', 'Scaffoldings']\n",
      "['Hailo', 'Drabest', 'Masko', 'Relaxdays', 'WENKO', 'Joparri', 'Vago-Tools', 'See more']\n",
      "Paste\n",
      "https://www.amazon.de/s?k=Paste&page=1\n"
     ]
    },
    {
     "name": "stderr",
     "output_type": "stream",
     "text": [
      "C:\\Users\\visha\\AppData\\Local\\Temp\\ipykernel_13092\\1884963508.py:25: FutureWarning: The frame.append method is deprecated and will be removed from pandas in a future version. Use pandas.concat instead.\n",
      "  cat_df=cat_df.append(temp_df, ignore_index= True)\n"
     ]
    },
    {
     "name": "stdout",
     "output_type": "stream",
     "text": [
      "['Wallpaper & Wallpapering Supplies', 'Wallpaper', 'Wallpaper Adhesives', 'Business, Industry & Science', 'Papier-Mâché', 'Art Pastes', \"Kids' Arts & Crafts Adhesives\"]\n",
      "['Metylan', 'UHU', 'Baufan', 'Erfurt', 'PUFAS', 'Primaster', 'Solvite']\n",
      "Hair cream\n",
      "https://www.amazon.de/s?k=Hair+cream&page=1\n"
     ]
    },
    {
     "name": "stderr",
     "output_type": "stream",
     "text": [
      "C:\\Users\\visha\\AppData\\Local\\Temp\\ipykernel_13092\\1884963508.py:25: FutureWarning: The frame.append method is deprecated and will be removed from pandas in a future version. Use pandas.concat instead.\n",
      "  cat_df=cat_df.append(temp_df, ignore_index= True)\n"
     ]
    },
    {
     "name": "stdout",
     "output_type": "stream",
     "text": [
      "['Hair Care', 'Hair Styling Creams & Lotions', 'Hair Styling Putty, Clay & Wax', 'Hair Gels', 'Hair Deep Conditioners & Treatments', 'Hair Conditioners', 'Hair Styling Clays']\n",
      "['AMERICAN CREW', 'John Frieda', 'NIVEA', 'Wella Professionals', \"L'Óreal Paris\", 'WELLA', 'Fan', 'See more']\n",
      "heat\n",
      "https://www.amazon.de/s?k=heat&page=1\n"
     ]
    },
    {
     "name": "stderr",
     "output_type": "stream",
     "text": [
      "C:\\Users\\visha\\AppData\\Local\\Temp\\ipykernel_13092\\1884963508.py:25: FutureWarning: The frame.append method is deprecated and will be removed from pandas in a future version. Use pandas.concat instead.\n",
      "  cat_df=cat_df.append(temp_df, ignore_index= True)\n"
     ]
    },
    {
     "name": "stdout",
     "output_type": "stream",
     "text": [
      "['Prime Video', 'Movies', 'DVD & Blu-ray', 'Movies', 'Health & Personal Care', 'Camping & Hiking']\n",
      "[]\n",
      "Bonding\n",
      "https://www.amazon.de/s?k=Bonding&page=1\n"
     ]
    },
    {
     "name": "stderr",
     "output_type": "stream",
     "text": [
      "C:\\Users\\visha\\AppData\\Local\\Temp\\ipykernel_13092\\1884963508.py:25: FutureWarning: The frame.append method is deprecated and will be removed from pandas in a future version. Use pandas.concat instead.\n",
      "  cat_df=cat_df.append(temp_df, ignore_index= True)\n"
     ]
    },
    {
     "name": "stdout",
     "output_type": "stream",
     "text": [
      "['DIY & Tools', 'Adhesives & Sealers', 'Books', 'Home & Kitchen', 'Prime Video', 'Business, Industry & Science', 'Kindle Store']\n",
      "['Pattex', 'tesa', 'UHU', 'fischer', '3M', 'Ponal', 'MEM', 'See more']\n",
      "Heat Protection\n",
      "https://www.amazon.de/s?k=Heat+Protection&page=1\n"
     ]
    },
    {
     "name": "stderr",
     "output_type": "stream",
     "text": [
      "C:\\Users\\visha\\AppData\\Local\\Temp\\ipykernel_13092\\1884963508.py:25: FutureWarning: The frame.append method is deprecated and will be removed from pandas in a future version. Use pandas.concat instead.\n",
      "  cat_df=cat_df.append(temp_df, ignore_index= True)\n"
     ]
    },
    {
     "name": "stdout",
     "output_type": "stream",
     "text": [
      "['Hair Heat Protection Sprays', 'Hair Sprays', 'Hair Deep Conditioners & Treatments', 'Hair Serums', 'Hair Relaxers', 'Panel Insulation', 'Hair Styling Putty, Clay & Wax']\n",
      "[\"L'Oréal Paris\", 'ghd', 'Wella Professionals', 'REDKEN', 'REVLON PROFESSIONAL', 'EIMI', 'TAFT', 'See more']\n",
      "Pomade\n",
      "https://www.amazon.de/s?k=Pomade&page=1\n"
     ]
    },
    {
     "name": "stderr",
     "output_type": "stream",
     "text": [
      "C:\\Users\\visha\\AppData\\Local\\Temp\\ipykernel_13092\\1884963508.py:25: FutureWarning: The frame.append method is deprecated and will be removed from pandas in a future version. Use pandas.concat instead.\n",
      "  cat_df=cat_df.append(temp_df, ignore_index= True)\n"
     ]
    },
    {
     "name": "stdout",
     "output_type": "stream",
     "text": [
      "['Hair Styling Products', 'Hair Styling Putty, Clay & Wax', 'Hair Styling Pomades', 'Hair Styling Waxes', 'Hair Styling Clays']\n",
      "['Reuzel', 'AMERICAN CREW', 'UPPERCUT DELUXE', 'Charlemagne', 'Schmiere FEINSTE HAAR-POMADE', \"Murray's\", 'Suavecito', 'See more']\n",
      "Styling Wax\n",
      "https://www.amazon.de/s?k=Styling+Wax&page=1\n"
     ]
    },
    {
     "name": "stderr",
     "output_type": "stream",
     "text": [
      "C:\\Users\\visha\\AppData\\Local\\Temp\\ipykernel_13092\\1884963508.py:25: FutureWarning: The frame.append method is deprecated and will be removed from pandas in a future version. Use pandas.concat instead.\n",
      "  cat_df=cat_df.append(temp_df, ignore_index= True)\n"
     ]
    },
    {
     "name": "stdout",
     "output_type": "stream",
     "text": [
      "['Hair Care', 'Hair Styling Waxes', 'Hair Styling Putty, Clay & Wax']\n",
      "['AMERICAN CREW', 'Wella Professionals', \"Da'Dude\", 'Gummy']\n",
      "Styling Product\n",
      "https://www.amazon.de/s?k=Styling+Product&page=1\n"
     ]
    },
    {
     "name": "stderr",
     "output_type": "stream",
     "text": [
      "C:\\Users\\visha\\AppData\\Local\\Temp\\ipykernel_13092\\1884963508.py:25: FutureWarning: The frame.append method is deprecated and will be removed from pandas in a future version. Use pandas.concat instead.\n",
      "  cat_df=cat_df.append(temp_df, ignore_index= True)\n"
     ]
    },
    {
     "name": "stdout",
     "output_type": "stream",
     "text": [
      "['Hair Care', 'Hair Gels', 'Hair Styling Putty, Clay & Wax', 'Hair Sprays', 'Hair Styling Appliances']\n",
      "[\"L'Óreal Paris\", 'ghd', 'Wella Professionals', 'Syoss', 'AMERICAN CREW', 'WELLA', 'TAFT', 'See more']\n",
      "Hold Hair Wax\n",
      "https://www.amazon.de/s?k=Hold+Hair+Wax&page=1\n"
     ]
    },
    {
     "name": "stderr",
     "output_type": "stream",
     "text": [
      "C:\\Users\\visha\\AppData\\Local\\Temp\\ipykernel_13092\\1884963508.py:25: FutureWarning: The frame.append method is deprecated and will be removed from pandas in a future version. Use pandas.concat instead.\n",
      "  cat_df=cat_df.append(temp_df, ignore_index= True)\n"
     ]
    },
    {
     "name": "stdout",
     "output_type": "stream",
     "text": [
      "['Hair Styling Products', 'Hair Styling Putty, Clay & Wax', 'Hair Styling Waxes']\n",
      "[\"L'Óreal Paris\", 'AMERICAN CREW', 'TIGI', 'Reuzel', 'Wella Professionals', 'John Frieda', 'Goldwell', 'See more']\n",
      "Texture\n",
      "https://www.amazon.de/s?k=Texture&page=1\n"
     ]
    },
    {
     "name": "stderr",
     "output_type": "stream",
     "text": [
      "C:\\Users\\visha\\AppData\\Local\\Temp\\ipykernel_13092\\1884963508.py:25: FutureWarning: The frame.append method is deprecated and will be removed from pandas in a future version. Use pandas.concat instead.\n",
      "  cat_df=cat_df.append(temp_df, ignore_index= True)\n"
     ]
    },
    {
     "name": "stdout",
     "output_type": "stream",
     "text": [
      "['Books', 'Business & Careers', 'Guidebooks & Self Help', 'Law', 'Kindle Store', 'Kindle eBooks', 'Prime Video', 'Movies', 'Home & Kitchen']\n",
      "[]\n",
      "Wax\n",
      "https://www.amazon.de/s?k=Wax&page=1\n"
     ]
    },
    {
     "name": "stderr",
     "output_type": "stream",
     "text": [
      "C:\\Users\\visha\\AppData\\Local\\Temp\\ipykernel_13092\\1884963508.py:25: FutureWarning: The frame.append method is deprecated and will be removed from pandas in a future version. Use pandas.concat instead.\n",
      "  cat_df=cat_df.append(temp_df, ignore_index= True)\n"
     ]
    },
    {
     "name": "stdout",
     "output_type": "stream",
     "text": [
      "['Waxing', 'Hair Removal Wax', 'Wax Warmers', 'Waxing Kits', 'Waxing Strips', 'Waxing Sugar Paste', 'Candle Wax']\n",
      "['Veet', 'DERMAWAX', 'PINK Cosmetics', 'MYLEE', 'EpilWax', 'Italwax', 'BVN', 'See more']\n",
      "Styler\n",
      "https://www.amazon.de/s?k=Styler&page=1\n"
     ]
    },
    {
     "name": "stderr",
     "output_type": "stream",
     "text": [
      "C:\\Users\\visha\\AppData\\Local\\Temp\\ipykernel_13092\\1884963508.py:25: FutureWarning: The frame.append method is deprecated and will be removed from pandas in a future version. Use pandas.concat instead.\n",
      "  cat_df=cat_df.append(temp_df, ignore_index= True)\n"
     ]
    },
    {
     "name": "stdout",
     "output_type": "stream",
     "text": [
      "['Hot Air Stylers', 'Home & Kitchen', 'Posters & Prints', 'Facial Trimmers', 'Hair Straighteners', 'Curling Tongs', 'Hair Dryers']\n",
      "['REVLON PROFESSIONAL', 'WeChip', 'PHILIPS', 'ghd', 'BaByliss', 'MOERAE']\n",
      "Gluing\n",
      "https://www.amazon.de/s?k=Gluing&page=1\n"
     ]
    },
    {
     "name": "stderr",
     "output_type": "stream",
     "text": [
      "C:\\Users\\visha\\AppData\\Local\\Temp\\ipykernel_13092\\1884963508.py:25: FutureWarning: The frame.append method is deprecated and will be removed from pandas in a future version. Use pandas.concat instead.\n",
      "  cat_df=cat_df.append(temp_df, ignore_index= True)\n"
     ]
    },
    {
     "name": "stdout",
     "output_type": "stream",
     "text": [
      "['DIY & Tools', 'Super Glue', 'Tape', 'Universal Adhesives', 'Business, Industry & Science', 'Home & Kitchen']\n",
      "['Pattex', 'tesa', 'UHU', 'fischer', '3M', 'Ponal', 'Sika']\n",
      "Hair Styling Powder\n",
      "https://www.amazon.de/s?k=Hair+Styling+Powder&page=1\n"
     ]
    },
    {
     "name": "stderr",
     "output_type": "stream",
     "text": [
      "C:\\Users\\visha\\AppData\\Local\\Temp\\ipykernel_13092\\1884963508.py:25: FutureWarning: The frame.append method is deprecated and will be removed from pandas in a future version. Use pandas.concat instead.\n",
      "  cat_df=cat_df.append(temp_df, ignore_index= True)\n"
     ]
    },
    {
     "name": "stdout",
     "output_type": "stream",
     "text": [
      "['Hair Care', 'Hair Styling Putty, Clay & Wax', 'Hair Root Lifting Powders', 'Hair Colour', 'Face Make-up']\n",
      "[\"L'Óreal Paris\", 'TIGI', 'Reuzel', 'Wella Professionals', \"L'Oréal Men Expert\", 'Goldwell', 'Schwarzkopf']\n",
      "Hair Wax Paste\n",
      "https://www.amazon.de/s?k=Hair+Wax+Paste&page=1\n"
     ]
    },
    {
     "name": "stderr",
     "output_type": "stream",
     "text": [
      "C:\\Users\\visha\\AppData\\Local\\Temp\\ipykernel_13092\\1884963508.py:25: FutureWarning: The frame.append method is deprecated and will be removed from pandas in a future version. Use pandas.concat instead.\n",
      "  cat_df=cat_df.append(temp_df, ignore_index= True)\n"
     ]
    },
    {
     "name": "stdout",
     "output_type": "stream",
     "text": [
      "['Hair Care', 'Hair Styling Putty, Clay & Wax', 'Hair Styling Waxes', 'Hair Styling Clays', 'Hair Gels']\n",
      "[\"L'Óreal Paris\", 'AMERICAN CREW', 'TIGI', 'Reuzel', 'Wella Professionals', 'John Frieda', 'Goldwell', 'See more']\n",
      "Styling Spray Smooth\n",
      "https://www.amazon.de/s?k=Styling+Spray+Smooth&page=1\n"
     ]
    },
    {
     "name": "stderr",
     "output_type": "stream",
     "text": [
      "C:\\Users\\visha\\AppData\\Local\\Temp\\ipykernel_13092\\1884963508.py:25: FutureWarning: The frame.append method is deprecated and will be removed from pandas in a future version. Use pandas.concat instead.\n",
      "  cat_df=cat_df.append(temp_df, ignore_index= True)\n"
     ]
    },
    {
     "name": "stdout",
     "output_type": "stream",
     "text": [
      "['Hair Styling Products']\n",
      "[\"L'Oréal Paris\", 'Syoss', 'Wella Professionals', 'REDKEN', 'John Frieda', 'TAFT', 'ghd', 'See more']\n",
      "Natural\n",
      "https://www.amazon.de/s?k=Natural&page=1\n"
     ]
    },
    {
     "name": "stderr",
     "output_type": "stream",
     "text": [
      "C:\\Users\\visha\\AppData\\Local\\Temp\\ipykernel_13092\\1884963508.py:25: FutureWarning: The frame.append method is deprecated and will be removed from pandas in a future version. Use pandas.concat instead.\n",
      "  cat_df=cat_df.append(temp_df, ignore_index= True)\n"
     ]
    },
    {
     "name": "stdout",
     "output_type": "stream",
     "text": [
      "['Curtains & Drapes', 'Books', 'Hobbies & Crafts', 'Leisure & Hobby', 'School & Studies', 'Painting', \"Children's Books on Home\"]\n",
      "[]\n",
      "Hair Wax\n",
      "https://www.amazon.de/s?k=Hair+Wax&page=1\n"
     ]
    },
    {
     "name": "stderr",
     "output_type": "stream",
     "text": [
      "C:\\Users\\visha\\AppData\\Local\\Temp\\ipykernel_13092\\1884963508.py:25: FutureWarning: The frame.append method is deprecated and will be removed from pandas in a future version. Use pandas.concat instead.\n",
      "  cat_df=cat_df.append(temp_df, ignore_index= True)\n"
     ]
    },
    {
     "name": "stdout",
     "output_type": "stream",
     "text": [
      "['Hair Styling Products', 'Hair Styling Putty, Clay & Wax', 'Hair Styling Waxes', 'Hair Styling Clays', 'Hair Styling Creams & Lotions', 'Hair Gels']\n",
      "['AMERICAN CREW', 'TAFT', 'TIGI', 'Got2B', \"L'Oréal Paris\", 'REDSTYLE', 'Schwarzkopf', 'See more']\n",
      "Flexible Hold\n",
      "https://www.amazon.de/s?k=Flexible+Hold&page=1\n"
     ]
    },
    {
     "name": "stderr",
     "output_type": "stream",
     "text": [
      "C:\\Users\\visha\\AppData\\Local\\Temp\\ipykernel_13092\\1884963508.py:25: FutureWarning: The frame.append method is deprecated and will be removed from pandas in a future version. Use pandas.concat instead.\n",
      "  cat_df=cat_df.append(temp_df, ignore_index= True)\n"
     ]
    },
    {
     "name": "stdout",
     "output_type": "stream",
     "text": [
      "['Mobile Phone Accessories', 'Cell Phone Bedstand & Desk Mounts', 'Cell Phone Stands', 'DIY & Tools', 'Power & Hand Tools', 'Tablet Stands', 'Tabletop & Travel Tripods']\n",
      "['Apple', 'Anker', 'Spigen', 'TORRAS', 'PopSockets', 'JETech', 'INIU', 'See more']\n",
      "Styling Powder\n",
      "https://www.amazon.de/s?k=Styling+Powder&page=1\n"
     ]
    },
    {
     "name": "stderr",
     "output_type": "stream",
     "text": [
      "C:\\Users\\visha\\AppData\\Local\\Temp\\ipykernel_13092\\1884963508.py:25: FutureWarning: The frame.append method is deprecated and will be removed from pandas in a future version. Use pandas.concat instead.\n",
      "  cat_df=cat_df.append(temp_df, ignore_index= True)\n"
     ]
    },
    {
     "name": "stdout",
     "output_type": "stream",
     "text": [
      "['Hair Styling Products', 'Hair Styling Putty, Clay & Wax', 'Hair Root Lifting Powders', 'Face Make-up', 'Face Powders', 'Hair Colour']\n",
      "['AMERICAN CREW', 'TIGI', 'John Frieda', 'Goldwell', 'Schwarzkopf']\n",
      "EIMI\n",
      "https://www.amazon.de/s?k=EIMI&page=1\n"
     ]
    },
    {
     "name": "stderr",
     "output_type": "stream",
     "text": [
      "C:\\Users\\visha\\AppData\\Local\\Temp\\ipykernel_13092\\1884963508.py:25: FutureWarning: The frame.append method is deprecated and will be removed from pandas in a future version. Use pandas.concat instead.\n",
      "  cat_df=cat_df.append(temp_df, ignore_index= True)\n"
     ]
    },
    {
     "name": "stdout",
     "output_type": "stream",
     "text": [
      "['Hair Care', 'Hair Sprays', 'Hair Gels', 'Hair Styling Putty, Clay & Wax', 'Hair Styling Mousses', 'Hair Relaxers', 'Hair Heat Protection Sprays']\n",
      "['Wella Professionals', 'WELLA', 'EIMI']\n",
      "Hair Wax Stick\n",
      "https://www.amazon.de/s?k=Hair+Wax+Stick&page=1\n"
     ]
    },
    {
     "name": "stderr",
     "output_type": "stream",
     "text": [
      "C:\\Users\\visha\\AppData\\Local\\Temp\\ipykernel_13092\\1884963508.py:25: FutureWarning: The frame.append method is deprecated and will be removed from pandas in a future version. Use pandas.concat instead.\n",
      "  cat_df=cat_df.append(temp_df, ignore_index= True)\n"
     ]
    },
    {
     "name": "stdout",
     "output_type": "stream",
     "text": [
      "['Hair Styling Products', 'Hair Styling Putty, Clay & Wax', 'Hair Gels', 'Hair Styling Waxes']\n",
      "['TIGI', 'Schwarzkopf']\n",
      "Hair Spray Bottle\n",
      "https://www.amazon.de/s?k=Hair+Spray+Bottle&page=1\n"
     ]
    },
    {
     "name": "stderr",
     "output_type": "stream",
     "text": [
      "C:\\Users\\visha\\AppData\\Local\\Temp\\ipykernel_13092\\1884963508.py:25: FutureWarning: The frame.append method is deprecated and will be removed from pandas in a future version. Use pandas.concat instead.\n",
      "  cat_df=cat_df.append(temp_df, ignore_index= True)\n"
     ]
    },
    {
     "name": "stdout",
     "output_type": "stream",
     "text": [
      "['Salon & Spa Equipment', 'Haidressser Spray Bottles', 'Hair Styling Products', 'Hair Sprays', 'Atomisers', 'Ironing Accessories', 'Spray Bottles']\n",
      "['Efalock Professional']\n",
      "professional hair\n",
      "https://www.amazon.de/s?k=professional+hair&page=1\n"
     ]
    },
    {
     "name": "stderr",
     "output_type": "stream",
     "text": [
      "C:\\Users\\visha\\AppData\\Local\\Temp\\ipykernel_13092\\1884963508.py:25: FutureWarning: The frame.append method is deprecated and will be removed from pandas in a future version. Use pandas.concat instead.\n",
      "  cat_df=cat_df.append(temp_df, ignore_index= True)\n"
     ]
    },
    {
     "name": "stdout",
     "output_type": "stream",
     "text": [
      "['Beauty', 'Hair Clippers', 'Hair Dryers', 'Hair Straighteners']\n",
      "['PHILIPS', 'Panasonic', 'Remington', 'Braun', 'BaByliss', 'WAHL', 'Hatteker', 'See more']\n",
      "Powder\n",
      "https://www.amazon.de/s?k=Powder&page=1\n"
     ]
    },
    {
     "name": "stderr",
     "output_type": "stream",
     "text": [
      "C:\\Users\\visha\\AppData\\Local\\Temp\\ipykernel_13092\\1884963508.py:25: FutureWarning: The frame.append method is deprecated and will be removed from pandas in a future version. Use pandas.concat instead.\n",
      "  cat_df=cat_df.append(temp_df, ignore_index= True)\n"
     ]
    },
    {
     "name": "stdout",
     "output_type": "stream",
     "text": [
      "['Face Make-up', 'Face Powders', 'Face Foundations', 'Make-up Finishers', 'Face Primers', 'Face Bronzers', 'Baby Powders']\n",
      "['Manhattan', \"L'Oréal Paris\", 'MAYBELLINE', 'Artdeco', 'Catrice', 'essence cosmetics', 'jane iredale', 'See more']\n",
      "Hair Styling Paste\n",
      "https://www.amazon.de/s?k=Hair+Styling+Paste&page=1\n"
     ]
    },
    {
     "name": "stderr",
     "output_type": "stream",
     "text": [
      "C:\\Users\\visha\\AppData\\Local\\Temp\\ipykernel_13092\\1884963508.py:25: FutureWarning: The frame.append method is deprecated and will be removed from pandas in a future version. Use pandas.concat instead.\n",
      "  cat_df=cat_df.append(temp_df, ignore_index= True)\n"
     ]
    },
    {
     "name": "stdout",
     "output_type": "stream",
     "text": [
      "['Hair Care', 'Hair Styling Putty, Clay & Wax', 'Hair Gels', 'Hair Styling Clays', 'Hair Styling Creams & Lotions']\n",
      "[\"L'Óreal Paris\", 'AMERICAN CREW', 'TIGI', 'Reuzel', 'Wella Professionals', 'John Frieda', 'Goldwell', 'See more']\n",
      "Curl\n",
      "https://www.amazon.de/s?k=Curl&page=1\n"
     ]
    },
    {
     "name": "stderr",
     "output_type": "stream",
     "text": [
      "C:\\Users\\visha\\AppData\\Local\\Temp\\ipykernel_13092\\1884963508.py:25: FutureWarning: The frame.append method is deprecated and will be removed from pandas in a future version. Use pandas.concat instead.\n",
      "  cat_df=cat_df.append(temp_df, ignore_index= True)\n"
     ]
    },
    {
     "name": "stdout",
     "output_type": "stream",
     "text": [
      "['Hair Care', 'Hair Rollers', 'Curling Tongs', 'Hair Styling Putty, Clay & Wax', 'Shampoos & Conditioners', 'Hot Air Stylers', 'Hairbrushes']\n",
      "['Remington', 'PHILIPS', 'BaByliss', 'John Frieda', 'Denman', 'YAPOY', 'Wella Professionals', 'See more']\n",
      "Styling Paste\n",
      "https://www.amazon.de/s?k=Styling+Paste&page=1\n"
     ]
    },
    {
     "name": "stderr",
     "output_type": "stream",
     "text": [
      "C:\\Users\\visha\\AppData\\Local\\Temp\\ipykernel_13092\\1884963508.py:25: FutureWarning: The frame.append method is deprecated and will be removed from pandas in a future version. Use pandas.concat instead.\n",
      "  cat_df=cat_df.append(temp_df, ignore_index= True)\n"
     ]
    },
    {
     "name": "stdout",
     "output_type": "stream",
     "text": [
      "['Hair Care', 'Hair Gels', 'Hair Styling Putty, Clay & Wax', 'Hair Styling Clays', 'Hair Styling Waxes', 'Hair Styling Creams & Lotions']\n",
      "[\"L'Óreal Paris\", 'Wella Professionals', 'NIVEA', 'Got2B', 'TAFT', 'WELLA', 'TIGI']\n",
      "Styling Gel Power\n",
      "https://www.amazon.de/s?k=Styling+Gel+Power&page=1\n"
     ]
    },
    {
     "name": "stderr",
     "output_type": "stream",
     "text": [
      "C:\\Users\\visha\\AppData\\Local\\Temp\\ipykernel_13092\\1884963508.py:25: FutureWarning: The frame.append method is deprecated and will be removed from pandas in a future version. Use pandas.concat instead.\n",
      "  cat_df=cat_df.append(temp_df, ignore_index= True)\n"
     ]
    },
    {
     "name": "stdout",
     "output_type": "stream",
     "text": [
      "['Hair Styling Products', 'Hair Gels']\n",
      "['Got2B', 'TAFT', 'WELLA', 'TIGI']\n",
      "Finish\n",
      "https://www.amazon.de/s?k=Finish&page=1\n"
     ]
    },
    {
     "name": "stderr",
     "output_type": "stream",
     "text": [
      "C:\\Users\\visha\\AppData\\Local\\Temp\\ipykernel_13092\\1884963508.py:25: FutureWarning: The frame.append method is deprecated and will be removed from pandas in a future version. Use pandas.concat instead.\n",
      "  cat_df=cat_df.append(temp_df, ignore_index= True)\n"
     ]
    },
    {
     "name": "stdout",
     "output_type": "stream",
     "text": [
      "['Garden', 'Secateurs & Pruning Scissors', 'Garden Tool Sets', 'Vegetable Plants & Seeds', 'Plant Cages & Supports', 'Books', 'Home & Garden', 'Cooking with Vegetables']\n",
      "['Gardena', 'Wolf Garten', 'Spear & Jackson', 'Amazon Basics']\n",
      "Hair Spray\n",
      "https://www.amazon.de/s?k=Hair+Spray&page=1\n"
     ]
    },
    {
     "name": "stderr",
     "output_type": "stream",
     "text": [
      "C:\\Users\\visha\\AppData\\Local\\Temp\\ipykernel_13092\\1884963508.py:25: FutureWarning: The frame.append method is deprecated and will be removed from pandas in a future version. Use pandas.concat instead.\n",
      "  cat_df=cat_df.append(temp_df, ignore_index= True)\n"
     ]
    },
    {
     "name": "stdout",
     "output_type": "stream",
     "text": [
      "['Hair Styling Products']\n",
      "['TAFT', 'Syoss', \"L'Oréal Paris\", 'NIVEA', 'Got2B', 'Wella Professionals', 'REVLON PROFESSIONAL', 'See more']\n",
      "Wella EIMI\n",
      "https://www.amazon.de/s?k=Wella+EIMI&page=1\n"
     ]
    },
    {
     "name": "stderr",
     "output_type": "stream",
     "text": [
      "C:\\Users\\visha\\AppData\\Local\\Temp\\ipykernel_13092\\1884963508.py:25: FutureWarning: The frame.append method is deprecated and will be removed from pandas in a future version. Use pandas.concat instead.\n",
      "  cat_df=cat_df.append(temp_df, ignore_index= True)\n"
     ]
    },
    {
     "name": "stdout",
     "output_type": "stream",
     "text": [
      "['Hair Care', 'Hair Sprays', 'Hair Styling Mousses', 'Hair Styling Putty, Clay & Wax', 'Hair Gels', 'Hair Relaxers', 'Hair Heat Protection Sprays']\n",
      "['Wella Professionals', 'WELLA', 'EIMI', 'Wella Eimi']\n",
      "Product\n",
      "https://www.amazon.de/s?k=Product&page=1\n"
     ]
    },
    {
     "name": "stderr",
     "output_type": "stream",
     "text": [
      "C:\\Users\\visha\\AppData\\Local\\Temp\\ipykernel_13092\\1884963508.py:25: FutureWarning: The frame.append method is deprecated and will be removed from pandas in a future version. Use pandas.concat instead.\n",
      "  cat_df=cat_df.append(temp_df, ignore_index= True)\n"
     ]
    },
    {
     "name": "stdout",
     "output_type": "stream",
     "text": [
      "['Fashion', 'Kindle Store', 'Kindle eBooks', 'Books', 'Textbooks & Study Guides', 'Health & Personal Care', 'Grocery', 'Home & Kitchen']\n",
      "['PUMA', 'Tommy Hilfiger', 'adidas', 'Nike', 'ONLY', 'Under Armour', 'JACK & JONES', 'See more']\n",
      "Styling Wax Matte\n",
      "https://www.amazon.de/s?k=Styling+Wax+Matte&page=1\n"
     ]
    },
    {
     "name": "stderr",
     "output_type": "stream",
     "text": [
      "C:\\Users\\visha\\AppData\\Local\\Temp\\ipykernel_13092\\1884963508.py:25: FutureWarning: The frame.append method is deprecated and will be removed from pandas in a future version. Use pandas.concat instead.\n",
      "  cat_df=cat_df.append(temp_df, ignore_index= True)\n"
     ]
    },
    {
     "name": "stdout",
     "output_type": "stream",
     "text": [
      "['Hair Styling Products', 'Hair Styling Waxes', 'Hair Styling Putty, Clay & Wax']\n",
      "['Syoss', 'TAFT', 'Nivea Men', 'MORFOSE', 'AMERICAN CREW', 'Redone', 'Schwarzkopf']\n",
      "Paris\n",
      "https://www.amazon.de/s?k=Paris&page=1\n"
     ]
    },
    {
     "name": "stderr",
     "output_type": "stream",
     "text": [
      "C:\\Users\\visha\\AppData\\Local\\Temp\\ipykernel_13092\\1884963508.py:25: FutureWarning: The frame.append method is deprecated and will be removed from pandas in a future version. Use pandas.concat instead.\n",
      "  cat_df=cat_df.append(temp_df, ignore_index= True)\n"
     ]
    },
    {
     "name": "stdout",
     "output_type": "stream",
     "text": [
      "['Prime Video', 'Movies', 'TV', 'Books', 'Home & Garden', 'Travel & Tourism', 'Guidebooks & Self Help', 'Contemporary Fiction', 'Office Paper Products']\n",
      "[]\n",
      "Shine\n",
      "https://www.amazon.de/s?k=Shine&page=1\n"
     ]
    },
    {
     "name": "stderr",
     "output_type": "stream",
     "text": [
      "C:\\Users\\visha\\AppData\\Local\\Temp\\ipykernel_13092\\1884963508.py:25: FutureWarning: The frame.append method is deprecated and will be removed from pandas in a future version. Use pandas.concat instead.\n",
      "  cat_df=cat_df.append(temp_df, ignore_index= True)\n"
     ]
    },
    {
     "name": "stdout",
     "output_type": "stream",
     "text": [
      "['Fashion', \"Women's Trousers\", \"Women's Tights\", \"Women's One-Piece Swimsuits\", \"Women's Leggings\", \"Women's Bikini Sets\", \"Women's Fashion Trainers\", \"Men's T-Shirts\", \"Boys' Trousers\", \"Men's Clothing\"]\n",
      "['NewL', 'Allegra K', 'FYMNSI', 'RUIBAVYA', 'Onsoyours']\n",
      "CREW\n",
      "https://www.amazon.de/s?k=CREW&page=1\n"
     ]
    },
    {
     "name": "stderr",
     "output_type": "stream",
     "text": [
      "C:\\Users\\visha\\AppData\\Local\\Temp\\ipykernel_13092\\1884963508.py:25: FutureWarning: The frame.append method is deprecated and will be removed from pandas in a future version. Use pandas.concat instead.\n",
      "  cat_df=cat_df.append(temp_df, ignore_index= True)\n"
     ]
    },
    {
     "name": "stdout",
     "output_type": "stream",
     "text": [
      "['Fashion', \"Men's Fashion\", 'Prime Video', 'Movies', 'TV', 'Books', 'Digital Music', 'Building & Construction Toys']\n",
      "[]\n",
      "Salt\n",
      "https://www.amazon.de/s?k=Salt&page=1\n"
     ]
    },
    {
     "name": "stderr",
     "output_type": "stream",
     "text": [
      "C:\\Users\\visha\\AppData\\Local\\Temp\\ipykernel_13092\\1884963508.py:25: FutureWarning: The frame.append method is deprecated and will be removed from pandas in a future version. Use pandas.concat instead.\n",
      "  cat_df=cat_df.append(temp_df, ignore_index= True)\n"
     ]
    },
    {
     "name": "stdout",
     "output_type": "stream",
     "text": [
      "['Salt', 'Spices Gifts', 'Powdered Spices & Seasonings', 'Mixed Spices & Seasonings', 'Dressing & Spice Dispensers', 'Pepper Mills', 'Health & Personal Care']\n",
      "['Bad Reichenhaller', 'Ankerkraut', 'Alnatura', 'Azafran', 'POTLUCK Gewürzfreunde', 'Fuchs', 'vom-Achterhof', 'See more']\n",
      "Extra\n",
      "https://www.amazon.de/s?k=Extra&page=1\n"
     ]
    },
    {
     "name": "stderr",
     "output_type": "stream",
     "text": [
      "C:\\Users\\visha\\AppData\\Local\\Temp\\ipykernel_13092\\1884963508.py:25: FutureWarning: The frame.append method is deprecated and will be removed from pandas in a future version. Use pandas.concat instead.\n",
      "  cat_df=cat_df.append(temp_df, ignore_index= True)\n"
     ]
    },
    {
     "name": "stdout",
     "output_type": "stream",
     "text": [
      "['Confectionery', 'Chewing & Bubble Gum', 'Prime Video', 'Movies', 'TV', 'Health & Personal Care', \"Men's Socks & Hosiery\"]\n",
      "['EXTRA', \"Wrigley's\"]\n",
      "Hair Gel\n",
      "https://www.amazon.de/s?k=Hair+Gel&page=1\n"
     ]
    },
    {
     "name": "stderr",
     "output_type": "stream",
     "text": [
      "C:\\Users\\visha\\AppData\\Local\\Temp\\ipykernel_13092\\1884963508.py:25: FutureWarning: The frame.append method is deprecated and will be removed from pandas in a future version. Use pandas.concat instead.\n",
      "  cat_df=cat_df.append(temp_df, ignore_index= True)\n"
     ]
    },
    {
     "name": "stdout",
     "output_type": "stream",
     "text": [
      "['Hair Styling Products', 'Hair Gels', 'Hair Styling Waxes', 'Hair Styling Putty, Clay & Wax', 'Hair Styling Creams & Lotions']\n",
      "['TAFT', 'Wella Professionals', 'WELLA', 'Eco Styler', \"L'Óreal Paris\", 'Got2B', \"L'Oréal Men Expert\", 'See more']\n",
      "L'Oréal\n",
      "https://www.amazon.de/s?k=L'Oréal&page=1\n"
     ]
    },
    {
     "name": "stderr",
     "output_type": "stream",
     "text": [
      "C:\\Users\\visha\\AppData\\Local\\Temp\\ipykernel_13092\\1884963508.py:25: FutureWarning: The frame.append method is deprecated and will be removed from pandas in a future version. Use pandas.concat instead.\n",
      "  cat_df=cat_df.append(temp_df, ignore_index= True)\n"
     ]
    },
    {
     "name": "stdout",
     "output_type": "stream",
     "text": [
      "['Beauty', 'Day Creams', 'Face Foundations', 'Night Creams', 'Skin Care Sets & Kits', 'Shampoos', 'Hair Deep Conditioners & Treatments']\n",
      "[\"L'Oréal Paris\", \"L'Oréal Men Expert\", \"L'Oréal Professionnel\"]\n"
     ]
    },
    {
     "name": "stderr",
     "output_type": "stream",
     "text": [
      "C:\\Users\\visha\\AppData\\Local\\Temp\\ipykernel_13092\\1884963508.py:25: FutureWarning: The frame.append method is deprecated and will be removed from pandas in a future version. Use pandas.concat instead.\n",
      "  cat_df=cat_df.append(temp_df, ignore_index= True)\n"
     ]
    }
   ],
   "source": [
    "for val in tqdm(range(0,len(keys))):\n",
    "    key=keys[val]\n",
    "    print(key)\n",
    "    key1=key.replace(' ','+')\n",
    "    URL = webpage+\"/s?k={}&page=1\".format(key1)\n",
    "    print(URL)\n",
    "    driver.get(URL)\n",
    "    try:\n",
    "        \n",
    "        cats = driver.find_element(By.ID,'departments')\n",
    "        categories=cats.text.split(\"\\n\")[1:-1]\n",
    "    except:\n",
    "        categories=[]\n",
    "    \n",
    "    try:\n",
    "        \n",
    "        brands = driver.find_element(By.ID,'brandsRefinements')\n",
    "        brand_list=brands.text.split(\"\\n\")[1:]\n",
    "    except:\n",
    "        brand_list=[]\n",
    "        \n",
    "    print(categories)\n",
    "    print(brand_list)\n",
    "    temp_df={'keyword': key, 'cats':categories,'brands':brand_list}\n",
    "    cat_df=cat_df.append(temp_df, ignore_index= True)"
   ]
  },
  {
   "cell_type": "code",
   "execution_count": 32,
   "id": "1aecc7bf",
   "metadata": {},
   "outputs": [
    {
     "data": {
      "text/html": [
       "<div>\n",
       "<style scoped>\n",
       "    .dataframe tbody tr th:only-of-type {\n",
       "        vertical-align: middle;\n",
       "    }\n",
       "\n",
       "    .dataframe tbody tr th {\n",
       "        vertical-align: top;\n",
       "    }\n",
       "\n",
       "    .dataframe thead th {\n",
       "        text-align: right;\n",
       "    }\n",
       "</style>\n",
       "<table border=\"1\" class=\"dataframe\">\n",
       "  <thead>\n",
       "    <tr style=\"text-align: right;\">\n",
       "      <th></th>\n",
       "      <th>keyword</th>\n",
       "      <th>cats</th>\n",
       "      <th>brands</th>\n",
       "    </tr>\n",
       "  </thead>\n",
       "  <tbody>\n",
       "    <tr>\n",
       "      <th>0</th>\n",
       "      <td>Matte Finish</td>\n",
       "      <td>[Pens, Pencils &amp; Writing Supplies, Pencils, DI...</td>\n",
       "      <td>[STABILO, Pelikan, edding, Lamy, Amazon Basics...</td>\n",
       "    </tr>\n",
       "    <tr>\n",
       "      <th>1</th>\n",
       "      <td>Bonding Oil</td>\n",
       "      <td>[DIY &amp; Tools, Universal Adhesives, Business, I...</td>\n",
       "      <td>[]</td>\n",
       "    </tr>\n",
       "  </tbody>\n",
       "</table>\n",
       "</div>"
      ],
      "text/plain": [
       "        keyword                                               cats  \\\n",
       "0  Matte Finish  [Pens, Pencils & Writing Supplies, Pencils, DI...   \n",
       "1   Bonding Oil  [DIY & Tools, Universal Adhesives, Business, I...   \n",
       "\n",
       "                                              brands  \n",
       "0  [STABILO, Pelikan, edding, Lamy, Amazon Basics...  \n",
       "1                                                 []  "
      ]
     },
     "execution_count": 32,
     "metadata": {},
     "output_type": "execute_result"
    }
   ],
   "source": [
    "cat_df.head(2)"
   ]
  },
  {
   "cell_type": "code",
   "execution_count": 33,
   "id": "667ee650",
   "metadata": {},
   "outputs": [
    {
     "data": {
      "text/html": [
       "<div>\n",
       "<style scoped>\n",
       "    .dataframe tbody tr th:only-of-type {\n",
       "        vertical-align: middle;\n",
       "    }\n",
       "\n",
       "    .dataframe tbody tr th {\n",
       "        vertical-align: top;\n",
       "    }\n",
       "\n",
       "    .dataframe thead th {\n",
       "        text-align: right;\n",
       "    }\n",
       "</style>\n",
       "<table border=\"1\" class=\"dataframe\">\n",
       "  <thead>\n",
       "    <tr style=\"text-align: right;\">\n",
       "      <th></th>\n",
       "      <th>keyword</th>\n",
       "      <th>cats</th>\n",
       "      <th>brands</th>\n",
       "    </tr>\n",
       "  </thead>\n",
       "  <tbody>\n",
       "    <tr>\n",
       "      <th>0</th>\n",
       "      <td>Matte Finish</td>\n",
       "      <td>Pens, Pencils &amp; Writing Supplies</td>\n",
       "      <td>[STABILO, Pelikan, edding, Lamy, Amazon Basics...</td>\n",
       "    </tr>\n",
       "    <tr>\n",
       "      <th>0</th>\n",
       "      <td>Matte Finish</td>\n",
       "      <td>Pencils</td>\n",
       "      <td>[STABILO, Pelikan, edding, Lamy, Amazon Basics...</td>\n",
       "    </tr>\n",
       "  </tbody>\n",
       "</table>\n",
       "</div>"
      ],
      "text/plain": [
       "        keyword                              cats  \\\n",
       "0  Matte Finish  Pens, Pencils & Writing Supplies   \n",
       "0  Matte Finish                           Pencils   \n",
       "\n",
       "                                              brands  \n",
       "0  [STABILO, Pelikan, edding, Lamy, Amazon Basics...  \n",
       "0  [STABILO, Pelikan, edding, Lamy, Amazon Basics...  "
      ]
     },
     "execution_count": 33,
     "metadata": {},
     "output_type": "execute_result"
    }
   ],
   "source": [
    "final_df=cat_df.explode('cats')\n",
    "final_df.head(2)"
   ]
  },
  {
   "cell_type": "code",
   "execution_count": 34,
   "id": "5f6f753d",
   "metadata": {
    "scrolled": true
   },
   "outputs": [
    {
     "data": {
      "text/html": [
       "<div>\n",
       "<style scoped>\n",
       "    .dataframe tbody tr th:only-of-type {\n",
       "        vertical-align: middle;\n",
       "    }\n",
       "\n",
       "    .dataframe tbody tr th {\n",
       "        vertical-align: top;\n",
       "    }\n",
       "\n",
       "    .dataframe thead th {\n",
       "        text-align: right;\n",
       "    }\n",
       "</style>\n",
       "<table border=\"1\" class=\"dataframe\">\n",
       "  <thead>\n",
       "    <tr style=\"text-align: right;\">\n",
       "      <th></th>\n",
       "      <th>cats</th>\n",
       "      <th>keyword</th>\n",
       "      <th>brands</th>\n",
       "    </tr>\n",
       "  </thead>\n",
       "  <tbody>\n",
       "    <tr>\n",
       "      <th>78</th>\n",
       "      <td>Hair Care</td>\n",
       "      <td>39</td>\n",
       "      <td>39</td>\n",
       "    </tr>\n",
       "    <tr>\n",
       "      <th>109</th>\n",
       "      <td>Hair Styling Putty, Clay &amp; Wax</td>\n",
       "      <td>36</td>\n",
       "      <td>36</td>\n",
       "    </tr>\n",
       "    <tr>\n",
       "      <th>99</th>\n",
       "      <td>Hair Sprays</td>\n",
       "      <td>32</td>\n",
       "      <td>32</td>\n",
       "    </tr>\n",
       "    <tr>\n",
       "      <th>108</th>\n",
       "      <td>Hair Styling Products</td>\n",
       "      <td>29</td>\n",
       "      <td>29</td>\n",
       "    </tr>\n",
       "    <tr>\n",
       "      <th>87</th>\n",
       "      <td>Hair Gels</td>\n",
       "      <td>28</td>\n",
       "      <td>28</td>\n",
       "    </tr>\n",
       "    <tr>\n",
       "      <th>153</th>\n",
       "      <td>Movies</td>\n",
       "      <td>18</td>\n",
       "      <td>18</td>\n",
       "    </tr>\n",
       "    <tr>\n",
       "      <th>45</th>\n",
       "      <td>DIY &amp; Tools</td>\n",
       "      <td>17</td>\n",
       "      <td>17</td>\n",
       "    </tr>\n",
       "    <tr>\n",
       "      <th>180</th>\n",
       "      <td>Prime Video</td>\n",
       "      <td>16</td>\n",
       "      <td>16</td>\n",
       "    </tr>\n",
       "    <tr>\n",
       "      <th>83</th>\n",
       "      <td>Hair Deep Conditioners &amp; Treatments</td>\n",
       "      <td>15</td>\n",
       "      <td>15</td>\n",
       "    </tr>\n",
       "    <tr>\n",
       "      <th>10</th>\n",
       "      <td>Books</td>\n",
       "      <td>14</td>\n",
       "      <td>14</td>\n",
       "    </tr>\n",
       "  </tbody>\n",
       "</table>\n",
       "</div>"
      ],
      "text/plain": [
       "                                    cats  keyword  brands\n",
       "78                             Hair Care       39      39\n",
       "109       Hair Styling Putty, Clay & Wax       36      36\n",
       "99                           Hair Sprays       32      32\n",
       "108                Hair Styling Products       29      29\n",
       "87                             Hair Gels       28      28\n",
       "153                               Movies       18      18\n",
       "45                           DIY & Tools       17      17\n",
       "180                          Prime Video       16      16\n",
       "83   Hair Deep Conditioners & Treatments       15      15\n",
       "10                                 Books       14      14"
      ]
     },
     "execution_count": 34,
     "metadata": {},
     "output_type": "execute_result"
    }
   ],
   "source": [
    "nb=final_df.groupby('cats').count().reset_index().sort_values('keyword',ascending=False )\n",
    "nb.head(10)"
   ]
  },
  {
   "cell_type": "code",
   "execution_count": null,
   "id": "d1c93055",
   "metadata": {},
   "outputs": [],
   "source": []
  },
  {
   "cell_type": "code",
   "execution_count": 35,
   "id": "988da116",
   "metadata": {},
   "outputs": [],
   "source": [
    "req_cat=[\"Hair Styling Products\"]"
   ]
  },
  {
   "cell_type": "code",
   "execution_count": 36,
   "id": "055d43d8",
   "metadata": {},
   "outputs": [
    {
     "data": {
      "text/html": [
       "<div>\n",
       "<style scoped>\n",
       "    .dataframe tbody tr th:only-of-type {\n",
       "        vertical-align: middle;\n",
       "    }\n",
       "\n",
       "    .dataframe tbody tr th {\n",
       "        vertical-align: top;\n",
       "    }\n",
       "\n",
       "    .dataframe thead th {\n",
       "        text-align: right;\n",
       "    }\n",
       "</style>\n",
       "<table border=\"1\" class=\"dataframe\">\n",
       "  <thead>\n",
       "    <tr style=\"text-align: right;\">\n",
       "      <th></th>\n",
       "      <th>keyword</th>\n",
       "      <th>cats</th>\n",
       "      <th>brands</th>\n",
       "    </tr>\n",
       "  </thead>\n",
       "  <tbody>\n",
       "    <tr>\n",
       "      <th>3</th>\n",
       "      <td>Men Hair Wax</td>\n",
       "      <td>Hair Styling Products</td>\n",
       "      <td>[AMERICAN CREW, TAFT]</td>\n",
       "    </tr>\n",
       "    <tr>\n",
       "      <th>4</th>\n",
       "      <td>Salt Spray</td>\n",
       "      <td>Hair Styling Products</td>\n",
       "      <td>[TIGI, Schwarzkopf, WELLA, Charlemagne, Wella ...</td>\n",
       "    </tr>\n",
       "    <tr>\n",
       "      <th>6</th>\n",
       "      <td>Taft Hair Spray</td>\n",
       "      <td>Hair Styling Products</td>\n",
       "      <td>[TAFT, Syoss, Got2B, Schwarzkopf, Wella Profes...</td>\n",
       "    </tr>\n",
       "    <tr>\n",
       "      <th>10</th>\n",
       "      <td>Smooth</td>\n",
       "      <td>Hair Styling Products</td>\n",
       "      <td>[Schwarzkopf]</td>\n",
       "    </tr>\n",
       "    <tr>\n",
       "      <th>11</th>\n",
       "      <td>spray</td>\n",
       "      <td>Hair Styling Products</td>\n",
       "      <td>[edding, Febreze]</td>\n",
       "    </tr>\n",
       "    <tr>\n",
       "      <th>16</th>\n",
       "      <td>Hair spray volume</td>\n",
       "      <td>Hair Styling Products</td>\n",
       "      <td>[L'Óreal Paris, TAFT, John Frieda, Syoss, NIVE...</td>\n",
       "    </tr>\n",
       "    <tr>\n",
       "      <th>19</th>\n",
       "      <td>Styling Spray</td>\n",
       "      <td>Hair Styling Products</td>\n",
       "      <td>[L'Oréal Paris, Syoss, Wella Professionals, RE...</td>\n",
       "    </tr>\n",
       "    <tr>\n",
       "      <th>29</th>\n",
       "      <td>Volume Spray</td>\n",
       "      <td>Hair Styling Products</td>\n",
       "      <td>[Paul Mitchell, Guhl, EIMI, Wella Professional...</td>\n",
       "    </tr>\n",
       "    <tr>\n",
       "      <th>30</th>\n",
       "      <td>Wax Matte</td>\n",
       "      <td>Hair Styling Products</td>\n",
       "      <td>[barber marmara, Tigì, L'Oréal Men Expert, AME...</td>\n",
       "    </tr>\n",
       "    <tr>\n",
       "      <th>33</th>\n",
       "      <td>Extra Strong Hair</td>\n",
       "      <td>Hair Styling Products</td>\n",
       "      <td>[REDKEN, Head &amp; Shoulders, L'Óreal Paris, Seba...</td>\n",
       "    </tr>\n",
       "    <tr>\n",
       "      <th>53</th>\n",
       "      <td>Heat Protection Spray</td>\n",
       "      <td>Hair Styling Products</td>\n",
       "      <td>[ghd, L'Oréal Paris, Wella Professionals, TAFT...</td>\n",
       "    </tr>\n",
       "    <tr>\n",
       "      <th>55</th>\n",
       "      <td>Oil Styling</td>\n",
       "      <td>Hair Styling Products</td>\n",
       "      <td>[L'Oréal Paris, Garnier, Gliss Kur, WELLA, OGX...</td>\n",
       "    </tr>\n",
       "    <tr>\n",
       "      <th>56</th>\n",
       "      <td>Styling Gel EIMI</td>\n",
       "      <td>Hair Styling Products</td>\n",
       "      <td>[L'Óreal Paris, Wella Professionals, NIVEA, Go...</td>\n",
       "    </tr>\n",
       "    <tr>\n",
       "      <th>63</th>\n",
       "      <td>Strong Hair</td>\n",
       "      <td>Hair Styling Products</td>\n",
       "      <td>[Remington, ghd, REVLON PROFESSIONAL, L'Óreal ...</td>\n",
       "    </tr>\n",
       "    <tr>\n",
       "      <th>67</th>\n",
       "      <td>Hold Hair Spray</td>\n",
       "      <td>Hair Styling Products</td>\n",
       "      <td>[L'Oréal Paris, Syoss, Wella Professionals, RE...</td>\n",
       "    </tr>\n",
       "    <tr>\n",
       "      <th>69</th>\n",
       "      <td>Wax Matte Finish</td>\n",
       "      <td>Hair Styling Products</td>\n",
       "      <td>[TAFT, Nivea Men, MORFOSE, AMERICAN CREW, Gumm...</td>\n",
       "    </tr>\n",
       "    <tr>\n",
       "      <th>71</th>\n",
       "      <td>Spray Professional Hair</td>\n",
       "      <td>Hair Styling Products</td>\n",
       "      <td>[L'Oréal Paris, Syoss, Wella Professionals, RE...</td>\n",
       "    </tr>\n",
       "    <tr>\n",
       "      <th>72</th>\n",
       "      <td>Strong Hair Spray</td>\n",
       "      <td>Hair Styling Products</td>\n",
       "      <td>[L'Oréal Paris, Syoss, Wella Professionals, RE...</td>\n",
       "    </tr>\n",
       "    <tr>\n",
       "      <th>83</th>\n",
       "      <td>Pomade</td>\n",
       "      <td>Hair Styling Products</td>\n",
       "      <td>[Reuzel, AMERICAN CREW, UPPERCUT DELUXE, Charl...</td>\n",
       "    </tr>\n",
       "    <tr>\n",
       "      <th>86</th>\n",
       "      <td>Hold Hair Wax</td>\n",
       "      <td>Hair Styling Products</td>\n",
       "      <td>[L'Óreal Paris, AMERICAN CREW, TIGI, Reuzel, W...</td>\n",
       "    </tr>\n",
       "    <tr>\n",
       "      <th>93</th>\n",
       "      <td>Styling Spray Smooth</td>\n",
       "      <td>Hair Styling Products</td>\n",
       "      <td>[L'Oréal Paris, Syoss, Wella Professionals, RE...</td>\n",
       "    </tr>\n",
       "    <tr>\n",
       "      <th>95</th>\n",
       "      <td>Hair Wax</td>\n",
       "      <td>Hair Styling Products</td>\n",
       "      <td>[AMERICAN CREW, TAFT, TIGI, Got2B, L'Oréal Par...</td>\n",
       "    </tr>\n",
       "    <tr>\n",
       "      <th>97</th>\n",
       "      <td>Styling Powder</td>\n",
       "      <td>Hair Styling Products</td>\n",
       "      <td>[AMERICAN CREW, TIGI, John Frieda, Goldwell, S...</td>\n",
       "    </tr>\n",
       "    <tr>\n",
       "      <th>99</th>\n",
       "      <td>Hair Wax Stick</td>\n",
       "      <td>Hair Styling Products</td>\n",
       "      <td>[TIGI, Schwarzkopf]</td>\n",
       "    </tr>\n",
       "    <tr>\n",
       "      <th>100</th>\n",
       "      <td>Hair Spray Bottle</td>\n",
       "      <td>Hair Styling Products</td>\n",
       "      <td>[Efalock Professional]</td>\n",
       "    </tr>\n",
       "    <tr>\n",
       "      <th>106</th>\n",
       "      <td>Styling Gel Power</td>\n",
       "      <td>Hair Styling Products</td>\n",
       "      <td>[Got2B, TAFT, WELLA, TIGI]</td>\n",
       "    </tr>\n",
       "    <tr>\n",
       "      <th>108</th>\n",
       "      <td>Hair Spray</td>\n",
       "      <td>Hair Styling Products</td>\n",
       "      <td>[TAFT, Syoss, L'Oréal Paris, NIVEA, Got2B, Wel...</td>\n",
       "    </tr>\n",
       "    <tr>\n",
       "      <th>111</th>\n",
       "      <td>Styling Wax Matte</td>\n",
       "      <td>Hair Styling Products</td>\n",
       "      <td>[Syoss, TAFT, Nivea Men, MORFOSE, AMERICAN CRE...</td>\n",
       "    </tr>\n",
       "    <tr>\n",
       "      <th>117</th>\n",
       "      <td>Hair Gel</td>\n",
       "      <td>Hair Styling Products</td>\n",
       "      <td>[TAFT, Wella Professionals, WELLA, Eco Styler,...</td>\n",
       "    </tr>\n",
       "  </tbody>\n",
       "</table>\n",
       "</div>"
      ],
      "text/plain": [
       "                     keyword                   cats  \\\n",
       "3               Men Hair Wax  Hair Styling Products   \n",
       "4                 Salt Spray  Hair Styling Products   \n",
       "6            Taft Hair Spray  Hair Styling Products   \n",
       "10                    Smooth  Hair Styling Products   \n",
       "11                     spray  Hair Styling Products   \n",
       "16         Hair spray volume  Hair Styling Products   \n",
       "19             Styling Spray  Hair Styling Products   \n",
       "29              Volume Spray  Hair Styling Products   \n",
       "30                 Wax Matte  Hair Styling Products   \n",
       "33         Extra Strong Hair  Hair Styling Products   \n",
       "53     Heat Protection Spray  Hair Styling Products   \n",
       "55               Oil Styling  Hair Styling Products   \n",
       "56          Styling Gel EIMI  Hair Styling Products   \n",
       "63               Strong Hair  Hair Styling Products   \n",
       "67           Hold Hair Spray  Hair Styling Products   \n",
       "69          Wax Matte Finish  Hair Styling Products   \n",
       "71   Spray Professional Hair  Hair Styling Products   \n",
       "72         Strong Hair Spray  Hair Styling Products   \n",
       "83                    Pomade  Hair Styling Products   \n",
       "86             Hold Hair Wax  Hair Styling Products   \n",
       "93      Styling Spray Smooth  Hair Styling Products   \n",
       "95                  Hair Wax  Hair Styling Products   \n",
       "97            Styling Powder  Hair Styling Products   \n",
       "99            Hair Wax Stick  Hair Styling Products   \n",
       "100        Hair Spray Bottle  Hair Styling Products   \n",
       "106        Styling Gel Power  Hair Styling Products   \n",
       "108               Hair Spray  Hair Styling Products   \n",
       "111        Styling Wax Matte  Hair Styling Products   \n",
       "117                 Hair Gel  Hair Styling Products   \n",
       "\n",
       "                                                brands  \n",
       "3                                [AMERICAN CREW, TAFT]  \n",
       "4    [TIGI, Schwarzkopf, WELLA, Charlemagne, Wella ...  \n",
       "6    [TAFT, Syoss, Got2B, Schwarzkopf, Wella Profes...  \n",
       "10                                       [Schwarzkopf]  \n",
       "11                                   [edding, Febreze]  \n",
       "16   [L'Óreal Paris, TAFT, John Frieda, Syoss, NIVE...  \n",
       "19   [L'Oréal Paris, Syoss, Wella Professionals, RE...  \n",
       "29   [Paul Mitchell, Guhl, EIMI, Wella Professional...  \n",
       "30   [barber marmara, Tigì, L'Oréal Men Expert, AME...  \n",
       "33   [REDKEN, Head & Shoulders, L'Óreal Paris, Seba...  \n",
       "53   [ghd, L'Oréal Paris, Wella Professionals, TAFT...  \n",
       "55   [L'Oréal Paris, Garnier, Gliss Kur, WELLA, OGX...  \n",
       "56   [L'Óreal Paris, Wella Professionals, NIVEA, Go...  \n",
       "63   [Remington, ghd, REVLON PROFESSIONAL, L'Óreal ...  \n",
       "67   [L'Oréal Paris, Syoss, Wella Professionals, RE...  \n",
       "69   [TAFT, Nivea Men, MORFOSE, AMERICAN CREW, Gumm...  \n",
       "71   [L'Oréal Paris, Syoss, Wella Professionals, RE...  \n",
       "72   [L'Oréal Paris, Syoss, Wella Professionals, RE...  \n",
       "83   [Reuzel, AMERICAN CREW, UPPERCUT DELUXE, Charl...  \n",
       "86   [L'Óreal Paris, AMERICAN CREW, TIGI, Reuzel, W...  \n",
       "93   [L'Oréal Paris, Syoss, Wella Professionals, RE...  \n",
       "95   [AMERICAN CREW, TAFT, TIGI, Got2B, L'Oréal Par...  \n",
       "97   [AMERICAN CREW, TIGI, John Frieda, Goldwell, S...  \n",
       "99                                 [TIGI, Schwarzkopf]  \n",
       "100                             [Efalock Professional]  \n",
       "106                         [Got2B, TAFT, WELLA, TIGI]  \n",
       "108  [TAFT, Syoss, L'Oréal Paris, NIVEA, Got2B, Wel...  \n",
       "111  [Syoss, TAFT, Nivea Men, MORFOSE, AMERICAN CRE...  \n",
       "117  [TAFT, Wella Professionals, WELLA, Eco Styler,...  "
      ]
     },
     "execution_count": 36,
     "metadata": {},
     "output_type": "execute_result"
    }
   ],
   "source": [
    "er_df=final_df[final_df['cats'].isin(req_cat)]\n",
    "#er_df.drop_duplicates('keyword',inplace= True)\n",
    "er_df"
   ]
  },
  {
   "cell_type": "code",
   "execution_count": 37,
   "id": "e8251d18",
   "metadata": {},
   "outputs": [
    {
     "data": {
      "text/html": [
       "<div>\n",
       "<style scoped>\n",
       "    .dataframe tbody tr th:only-of-type {\n",
       "        vertical-align: middle;\n",
       "    }\n",
       "\n",
       "    .dataframe tbody tr th {\n",
       "        vertical-align: top;\n",
       "    }\n",
       "\n",
       "    .dataframe thead th {\n",
       "        text-align: right;\n",
       "    }\n",
       "</style>\n",
       "<table border=\"1\" class=\"dataframe\">\n",
       "  <thead>\n",
       "    <tr style=\"text-align: right;\">\n",
       "      <th></th>\n",
       "      <th>keyword</th>\n",
       "      <th>cats_x</th>\n",
       "      <th>brands_x</th>\n",
       "      <th>cats_y</th>\n",
       "      <th>brands_y</th>\n",
       "    </tr>\n",
       "  </thead>\n",
       "  <tbody>\n",
       "    <tr>\n",
       "      <th>0</th>\n",
       "      <td>Men Hair Wax</td>\n",
       "      <td>Hair Styling Products</td>\n",
       "      <td>[AMERICAN CREW, TAFT]</td>\n",
       "      <td>[Hair Styling Products, Hair Styling Putty, Cl...</td>\n",
       "      <td>[AMERICAN CREW, TAFT]</td>\n",
       "    </tr>\n",
       "    <tr>\n",
       "      <th>1</th>\n",
       "      <td>Salt Spray</td>\n",
       "      <td>Hair Styling Products</td>\n",
       "      <td>[TIGI, Schwarzkopf, WELLA, Charlemagne, Wella ...</td>\n",
       "      <td>[Hair Styling Products, Hair Sprays]</td>\n",
       "      <td>[TIGI, Schwarzkopf, WELLA, Charlemagne, Wella ...</td>\n",
       "    </tr>\n",
       "    <tr>\n",
       "      <th>2</th>\n",
       "      <td>Taft Hair Spray</td>\n",
       "      <td>Hair Styling Products</td>\n",
       "      <td>[TAFT, Syoss, Got2B, Schwarzkopf, Wella Profes...</td>\n",
       "      <td>[Hair Styling Products, Hair Sprays]</td>\n",
       "      <td>[TAFT, Syoss, Got2B, Schwarzkopf, Wella Profes...</td>\n",
       "    </tr>\n",
       "    <tr>\n",
       "      <th>3</th>\n",
       "      <td>Smooth</td>\n",
       "      <td>Hair Styling Products</td>\n",
       "      <td>[Schwarzkopf]</td>\n",
       "      <td>[Hair Care, Hair Texturisers, Hair Straightene...</td>\n",
       "      <td>[Schwarzkopf]</td>\n",
       "    </tr>\n",
       "    <tr>\n",
       "      <th>4</th>\n",
       "      <td>spray</td>\n",
       "      <td>Hair Styling Products</td>\n",
       "      <td>[edding, Febreze]</td>\n",
       "      <td>[Painting, DIY &amp; Tools, Spray Paint, Beauty, H...</td>\n",
       "      <td>[edding, Febreze]</td>\n",
       "    </tr>\n",
       "    <tr>\n",
       "      <th>5</th>\n",
       "      <td>Hair spray volume</td>\n",
       "      <td>Hair Styling Products</td>\n",
       "      <td>[L'Óreal Paris, TAFT, John Frieda, Syoss, NIVE...</td>\n",
       "      <td>[Hair Styling Products, Hair Sprays]</td>\n",
       "      <td>[L'Óreal Paris, TAFT, John Frieda, Syoss, NIVE...</td>\n",
       "    </tr>\n",
       "    <tr>\n",
       "      <th>6</th>\n",
       "      <td>Styling Spray</td>\n",
       "      <td>Hair Styling Products</td>\n",
       "      <td>[L'Oréal Paris, Syoss, Wella Professionals, RE...</td>\n",
       "      <td>[Hair Styling Products]</td>\n",
       "      <td>[L'Oréal Paris, Syoss, Wella Professionals, RE...</td>\n",
       "    </tr>\n",
       "    <tr>\n",
       "      <th>7</th>\n",
       "      <td>Volume Spray</td>\n",
       "      <td>Hair Styling Products</td>\n",
       "      <td>[Paul Mitchell, Guhl, EIMI, Wella Professional...</td>\n",
       "      <td>[Hair Styling Products, Hair Sprays, Hair Styl...</td>\n",
       "      <td>[Paul Mitchell, Guhl, EIMI, Wella Professional...</td>\n",
       "    </tr>\n",
       "    <tr>\n",
       "      <th>8</th>\n",
       "      <td>Wax Matte</td>\n",
       "      <td>Hair Styling Products</td>\n",
       "      <td>[barber marmara, Tigì, L'Oréal Men Expert, AME...</td>\n",
       "      <td>[Hair Styling Products, Hair Styling Waxes, Ha...</td>\n",
       "      <td>[barber marmara, Tigì, L'Oréal Men Expert, AME...</td>\n",
       "    </tr>\n",
       "    <tr>\n",
       "      <th>9</th>\n",
       "      <td>Extra Strong Hair</td>\n",
       "      <td>Hair Styling Products</td>\n",
       "      <td>[REDKEN, Head &amp; Shoulders, L'Óreal Paris, Seba...</td>\n",
       "      <td>[Beauty, Shampoos, Hair Styling Products, Hair...</td>\n",
       "      <td>[REDKEN, Head &amp; Shoulders, L'Óreal Paris, Seba...</td>\n",
       "    </tr>\n",
       "    <tr>\n",
       "      <th>10</th>\n",
       "      <td>Heat Protection Spray</td>\n",
       "      <td>Hair Styling Products</td>\n",
       "      <td>[ghd, L'Oréal Paris, Wella Professionals, TAFT...</td>\n",
       "      <td>[Hair Styling Products, Hair Heat Protection S...</td>\n",
       "      <td>[ghd, L'Oréal Paris, Wella Professionals, TAFT...</td>\n",
       "    </tr>\n",
       "    <tr>\n",
       "      <th>11</th>\n",
       "      <td>Oil Styling</td>\n",
       "      <td>Hair Styling Products</td>\n",
       "      <td>[L'Oréal Paris, Garnier, Gliss Kur, WELLA, OGX...</td>\n",
       "      <td>[Beauty, Hair Styling Products, Hair Oils]</td>\n",
       "      <td>[L'Oréal Paris, Garnier, Gliss Kur, WELLA, OGX...</td>\n",
       "    </tr>\n",
       "    <tr>\n",
       "      <th>12</th>\n",
       "      <td>Styling Gel EIMI</td>\n",
       "      <td>Hair Styling Products</td>\n",
       "      <td>[L'Óreal Paris, Wella Professionals, NIVEA, Go...</td>\n",
       "      <td>[Hair Styling Products]</td>\n",
       "      <td>[L'Óreal Paris, Wella Professionals, NIVEA, Go...</td>\n",
       "    </tr>\n",
       "    <tr>\n",
       "      <th>13</th>\n",
       "      <td>Strong Hair</td>\n",
       "      <td>Hair Styling Products</td>\n",
       "      <td>[Remington, ghd, REVLON PROFESSIONAL, L'Óreal ...</td>\n",
       "      <td>[Hair Care, Shampoos, Hair Deep Conditioners &amp;...</td>\n",
       "      <td>[Remington, ghd, REVLON PROFESSIONAL, L'Óreal ...</td>\n",
       "    </tr>\n",
       "    <tr>\n",
       "      <th>14</th>\n",
       "      <td>Hold Hair Spray</td>\n",
       "      <td>Hair Styling Products</td>\n",
       "      <td>[L'Oréal Paris, Syoss, Wella Professionals, RE...</td>\n",
       "      <td>[Hair Styling Products]</td>\n",
       "      <td>[L'Oréal Paris, Syoss, Wella Professionals, RE...</td>\n",
       "    </tr>\n",
       "    <tr>\n",
       "      <th>15</th>\n",
       "      <td>Wax Matte Finish</td>\n",
       "      <td>Hair Styling Products</td>\n",
       "      <td>[TAFT, Nivea Men, MORFOSE, AMERICAN CREW, Gumm...</td>\n",
       "      <td>[Hair Styling Products, Hair Styling Waxes, Ha...</td>\n",
       "      <td>[TAFT, Nivea Men, MORFOSE, AMERICAN CREW, Gumm...</td>\n",
       "    </tr>\n",
       "    <tr>\n",
       "      <th>16</th>\n",
       "      <td>Spray Professional Hair</td>\n",
       "      <td>Hair Styling Products</td>\n",
       "      <td>[L'Oréal Paris, Syoss, Wella Professionals, RE...</td>\n",
       "      <td>[Hair Styling Products, Hair Sprays]</td>\n",
       "      <td>[L'Oréal Paris, Syoss, Wella Professionals, RE...</td>\n",
       "    </tr>\n",
       "    <tr>\n",
       "      <th>17</th>\n",
       "      <td>Strong Hair Spray</td>\n",
       "      <td>Hair Styling Products</td>\n",
       "      <td>[L'Oréal Paris, Syoss, Wella Professionals, RE...</td>\n",
       "      <td>[Hair Styling Products]</td>\n",
       "      <td>[L'Oréal Paris, Syoss, Wella Professionals, RE...</td>\n",
       "    </tr>\n",
       "    <tr>\n",
       "      <th>18</th>\n",
       "      <td>Pomade</td>\n",
       "      <td>Hair Styling Products</td>\n",
       "      <td>[Reuzel, AMERICAN CREW, UPPERCUT DELUXE, Charl...</td>\n",
       "      <td>[Hair Styling Products, Hair Styling Putty, Cl...</td>\n",
       "      <td>[Reuzel, AMERICAN CREW, UPPERCUT DELUXE, Charl...</td>\n",
       "    </tr>\n",
       "    <tr>\n",
       "      <th>19</th>\n",
       "      <td>Hold Hair Wax</td>\n",
       "      <td>Hair Styling Products</td>\n",
       "      <td>[L'Óreal Paris, AMERICAN CREW, TIGI, Reuzel, W...</td>\n",
       "      <td>[Hair Styling Products, Hair Styling Putty, Cl...</td>\n",
       "      <td>[L'Óreal Paris, AMERICAN CREW, TIGI, Reuzel, W...</td>\n",
       "    </tr>\n",
       "    <tr>\n",
       "      <th>20</th>\n",
       "      <td>Styling Spray Smooth</td>\n",
       "      <td>Hair Styling Products</td>\n",
       "      <td>[L'Oréal Paris, Syoss, Wella Professionals, RE...</td>\n",
       "      <td>[Hair Styling Products]</td>\n",
       "      <td>[L'Oréal Paris, Syoss, Wella Professionals, RE...</td>\n",
       "    </tr>\n",
       "    <tr>\n",
       "      <th>21</th>\n",
       "      <td>Hair Wax</td>\n",
       "      <td>Hair Styling Products</td>\n",
       "      <td>[AMERICAN CREW, TAFT, TIGI, Got2B, L'Oréal Par...</td>\n",
       "      <td>[Hair Styling Products, Hair Styling Putty, Cl...</td>\n",
       "      <td>[AMERICAN CREW, TAFT, TIGI, Got2B, L'Oréal Par...</td>\n",
       "    </tr>\n",
       "    <tr>\n",
       "      <th>22</th>\n",
       "      <td>Styling Powder</td>\n",
       "      <td>Hair Styling Products</td>\n",
       "      <td>[AMERICAN CREW, TIGI, John Frieda, Goldwell, S...</td>\n",
       "      <td>[Hair Styling Products, Hair Styling Putty, Cl...</td>\n",
       "      <td>[AMERICAN CREW, TIGI, John Frieda, Goldwell, S...</td>\n",
       "    </tr>\n",
       "    <tr>\n",
       "      <th>23</th>\n",
       "      <td>Hair Wax Stick</td>\n",
       "      <td>Hair Styling Products</td>\n",
       "      <td>[TIGI, Schwarzkopf]</td>\n",
       "      <td>[Hair Styling Products, Hair Styling Putty, Cl...</td>\n",
       "      <td>[TIGI, Schwarzkopf]</td>\n",
       "    </tr>\n",
       "    <tr>\n",
       "      <th>24</th>\n",
       "      <td>Hair Spray Bottle</td>\n",
       "      <td>Hair Styling Products</td>\n",
       "      <td>[Efalock Professional]</td>\n",
       "      <td>[Salon &amp; Spa Equipment, Haidressser Spray Bott...</td>\n",
       "      <td>[Efalock Professional]</td>\n",
       "    </tr>\n",
       "    <tr>\n",
       "      <th>25</th>\n",
       "      <td>Styling Gel Power</td>\n",
       "      <td>Hair Styling Products</td>\n",
       "      <td>[Got2B, TAFT, WELLA, TIGI]</td>\n",
       "      <td>[Hair Styling Products, Hair Gels]</td>\n",
       "      <td>[Got2B, TAFT, WELLA, TIGI]</td>\n",
       "    </tr>\n",
       "    <tr>\n",
       "      <th>26</th>\n",
       "      <td>Hair Spray</td>\n",
       "      <td>Hair Styling Products</td>\n",
       "      <td>[TAFT, Syoss, L'Oréal Paris, NIVEA, Got2B, Wel...</td>\n",
       "      <td>[Hair Styling Products]</td>\n",
       "      <td>[TAFT, Syoss, L'Oréal Paris, NIVEA, Got2B, Wel...</td>\n",
       "    </tr>\n",
       "    <tr>\n",
       "      <th>27</th>\n",
       "      <td>Styling Wax Matte</td>\n",
       "      <td>Hair Styling Products</td>\n",
       "      <td>[Syoss, TAFT, Nivea Men, MORFOSE, AMERICAN CRE...</td>\n",
       "      <td>[Hair Styling Products, Hair Styling Waxes, Ha...</td>\n",
       "      <td>[Syoss, TAFT, Nivea Men, MORFOSE, AMERICAN CRE...</td>\n",
       "    </tr>\n",
       "    <tr>\n",
       "      <th>28</th>\n",
       "      <td>Hair Gel</td>\n",
       "      <td>Hair Styling Products</td>\n",
       "      <td>[TAFT, Wella Professionals, WELLA, Eco Styler,...</td>\n",
       "      <td>[Hair Styling Products, Hair Gels, Hair Stylin...</td>\n",
       "      <td>[TAFT, Wella Professionals, WELLA, Eco Styler,...</td>\n",
       "    </tr>\n",
       "  </tbody>\n",
       "</table>\n",
       "</div>"
      ],
      "text/plain": [
       "                    keyword                 cats_x  \\\n",
       "0              Men Hair Wax  Hair Styling Products   \n",
       "1                Salt Spray  Hair Styling Products   \n",
       "2           Taft Hair Spray  Hair Styling Products   \n",
       "3                    Smooth  Hair Styling Products   \n",
       "4                     spray  Hair Styling Products   \n",
       "5         Hair spray volume  Hair Styling Products   \n",
       "6             Styling Spray  Hair Styling Products   \n",
       "7              Volume Spray  Hair Styling Products   \n",
       "8                 Wax Matte  Hair Styling Products   \n",
       "9         Extra Strong Hair  Hair Styling Products   \n",
       "10    Heat Protection Spray  Hair Styling Products   \n",
       "11              Oil Styling  Hair Styling Products   \n",
       "12         Styling Gel EIMI  Hair Styling Products   \n",
       "13              Strong Hair  Hair Styling Products   \n",
       "14          Hold Hair Spray  Hair Styling Products   \n",
       "15         Wax Matte Finish  Hair Styling Products   \n",
       "16  Spray Professional Hair  Hair Styling Products   \n",
       "17        Strong Hair Spray  Hair Styling Products   \n",
       "18                   Pomade  Hair Styling Products   \n",
       "19            Hold Hair Wax  Hair Styling Products   \n",
       "20     Styling Spray Smooth  Hair Styling Products   \n",
       "21                 Hair Wax  Hair Styling Products   \n",
       "22           Styling Powder  Hair Styling Products   \n",
       "23           Hair Wax Stick  Hair Styling Products   \n",
       "24        Hair Spray Bottle  Hair Styling Products   \n",
       "25        Styling Gel Power  Hair Styling Products   \n",
       "26               Hair Spray  Hair Styling Products   \n",
       "27        Styling Wax Matte  Hair Styling Products   \n",
       "28                 Hair Gel  Hair Styling Products   \n",
       "\n",
       "                                             brands_x  \\\n",
       "0                               [AMERICAN CREW, TAFT]   \n",
       "1   [TIGI, Schwarzkopf, WELLA, Charlemagne, Wella ...   \n",
       "2   [TAFT, Syoss, Got2B, Schwarzkopf, Wella Profes...   \n",
       "3                                       [Schwarzkopf]   \n",
       "4                                   [edding, Febreze]   \n",
       "5   [L'Óreal Paris, TAFT, John Frieda, Syoss, NIVE...   \n",
       "6   [L'Oréal Paris, Syoss, Wella Professionals, RE...   \n",
       "7   [Paul Mitchell, Guhl, EIMI, Wella Professional...   \n",
       "8   [barber marmara, Tigì, L'Oréal Men Expert, AME...   \n",
       "9   [REDKEN, Head & Shoulders, L'Óreal Paris, Seba...   \n",
       "10  [ghd, L'Oréal Paris, Wella Professionals, TAFT...   \n",
       "11  [L'Oréal Paris, Garnier, Gliss Kur, WELLA, OGX...   \n",
       "12  [L'Óreal Paris, Wella Professionals, NIVEA, Go...   \n",
       "13  [Remington, ghd, REVLON PROFESSIONAL, L'Óreal ...   \n",
       "14  [L'Oréal Paris, Syoss, Wella Professionals, RE...   \n",
       "15  [TAFT, Nivea Men, MORFOSE, AMERICAN CREW, Gumm...   \n",
       "16  [L'Oréal Paris, Syoss, Wella Professionals, RE...   \n",
       "17  [L'Oréal Paris, Syoss, Wella Professionals, RE...   \n",
       "18  [Reuzel, AMERICAN CREW, UPPERCUT DELUXE, Charl...   \n",
       "19  [L'Óreal Paris, AMERICAN CREW, TIGI, Reuzel, W...   \n",
       "20  [L'Oréal Paris, Syoss, Wella Professionals, RE...   \n",
       "21  [AMERICAN CREW, TAFT, TIGI, Got2B, L'Oréal Par...   \n",
       "22  [AMERICAN CREW, TIGI, John Frieda, Goldwell, S...   \n",
       "23                                [TIGI, Schwarzkopf]   \n",
       "24                             [Efalock Professional]   \n",
       "25                         [Got2B, TAFT, WELLA, TIGI]   \n",
       "26  [TAFT, Syoss, L'Oréal Paris, NIVEA, Got2B, Wel...   \n",
       "27  [Syoss, TAFT, Nivea Men, MORFOSE, AMERICAN CRE...   \n",
       "28  [TAFT, Wella Professionals, WELLA, Eco Styler,...   \n",
       "\n",
       "                                               cats_y  \\\n",
       "0   [Hair Styling Products, Hair Styling Putty, Cl...   \n",
       "1                [Hair Styling Products, Hair Sprays]   \n",
       "2                [Hair Styling Products, Hair Sprays]   \n",
       "3   [Hair Care, Hair Texturisers, Hair Straightene...   \n",
       "4   [Painting, DIY & Tools, Spray Paint, Beauty, H...   \n",
       "5                [Hair Styling Products, Hair Sprays]   \n",
       "6                             [Hair Styling Products]   \n",
       "7   [Hair Styling Products, Hair Sprays, Hair Styl...   \n",
       "8   [Hair Styling Products, Hair Styling Waxes, Ha...   \n",
       "9   [Beauty, Shampoos, Hair Styling Products, Hair...   \n",
       "10  [Hair Styling Products, Hair Heat Protection S...   \n",
       "11         [Beauty, Hair Styling Products, Hair Oils]   \n",
       "12                            [Hair Styling Products]   \n",
       "13  [Hair Care, Shampoos, Hair Deep Conditioners &...   \n",
       "14                            [Hair Styling Products]   \n",
       "15  [Hair Styling Products, Hair Styling Waxes, Ha...   \n",
       "16               [Hair Styling Products, Hair Sprays]   \n",
       "17                            [Hair Styling Products]   \n",
       "18  [Hair Styling Products, Hair Styling Putty, Cl...   \n",
       "19  [Hair Styling Products, Hair Styling Putty, Cl...   \n",
       "20                            [Hair Styling Products]   \n",
       "21  [Hair Styling Products, Hair Styling Putty, Cl...   \n",
       "22  [Hair Styling Products, Hair Styling Putty, Cl...   \n",
       "23  [Hair Styling Products, Hair Styling Putty, Cl...   \n",
       "24  [Salon & Spa Equipment, Haidressser Spray Bott...   \n",
       "25                 [Hair Styling Products, Hair Gels]   \n",
       "26                            [Hair Styling Products]   \n",
       "27  [Hair Styling Products, Hair Styling Waxes, Ha...   \n",
       "28  [Hair Styling Products, Hair Gels, Hair Stylin...   \n",
       "\n",
       "                                             brands_y  \n",
       "0                               [AMERICAN CREW, TAFT]  \n",
       "1   [TIGI, Schwarzkopf, WELLA, Charlemagne, Wella ...  \n",
       "2   [TAFT, Syoss, Got2B, Schwarzkopf, Wella Profes...  \n",
       "3                                       [Schwarzkopf]  \n",
       "4                                   [edding, Febreze]  \n",
       "5   [L'Óreal Paris, TAFT, John Frieda, Syoss, NIVE...  \n",
       "6   [L'Oréal Paris, Syoss, Wella Professionals, RE...  \n",
       "7   [Paul Mitchell, Guhl, EIMI, Wella Professional...  \n",
       "8   [barber marmara, Tigì, L'Oréal Men Expert, AME...  \n",
       "9   [REDKEN, Head & Shoulders, L'Óreal Paris, Seba...  \n",
       "10  [ghd, L'Oréal Paris, Wella Professionals, TAFT...  \n",
       "11  [L'Oréal Paris, Garnier, Gliss Kur, WELLA, OGX...  \n",
       "12  [L'Óreal Paris, Wella Professionals, NIVEA, Go...  \n",
       "13  [Remington, ghd, REVLON PROFESSIONAL, L'Óreal ...  \n",
       "14  [L'Oréal Paris, Syoss, Wella Professionals, RE...  \n",
       "15  [TAFT, Nivea Men, MORFOSE, AMERICAN CREW, Gumm...  \n",
       "16  [L'Oréal Paris, Syoss, Wella Professionals, RE...  \n",
       "17  [L'Oréal Paris, Syoss, Wella Professionals, RE...  \n",
       "18  [Reuzel, AMERICAN CREW, UPPERCUT DELUXE, Charl...  \n",
       "19  [L'Óreal Paris, AMERICAN CREW, TIGI, Reuzel, W...  \n",
       "20  [L'Oréal Paris, Syoss, Wella Professionals, RE...  \n",
       "21  [AMERICAN CREW, TAFT, TIGI, Got2B, L'Oréal Par...  \n",
       "22  [AMERICAN CREW, TIGI, John Frieda, Goldwell, S...  \n",
       "23                                [TIGI, Schwarzkopf]  \n",
       "24                             [Efalock Professional]  \n",
       "25                         [Got2B, TAFT, WELLA, TIGI]  \n",
       "26  [TAFT, Syoss, L'Oréal Paris, NIVEA, Got2B, Wel...  \n",
       "27  [Syoss, TAFT, Nivea Men, MORFOSE, AMERICAN CRE...  \n",
       "28  [TAFT, Wella Professionals, WELLA, Eco Styler,...  "
      ]
     },
     "execution_count": 37,
     "metadata": {},
     "output_type": "execute_result"
    }
   ],
   "source": [
    "err_df=pd.merge(er_df,cat_df,on='keyword', how='left')\n",
    "err_df"
   ]
  },
  {
   "cell_type": "code",
   "execution_count": 38,
   "id": "1155248c",
   "metadata": {},
   "outputs": [],
   "source": [
    "err_df.to_excel(r\"557 de keywords1.xlsx\")"
   ]
  },
  {
   "cell_type": "code",
   "execution_count": null,
   "id": "cbabe643",
   "metadata": {},
   "outputs": [],
   "source": []
  },
  {
   "cell_type": "code",
   "execution_count": null,
   "id": "36c09ae1",
   "metadata": {},
   "outputs": [],
   "source": []
  },
  {
   "cell_type": "code",
   "execution_count": null,
   "id": "fb82d2eb",
   "metadata": {},
   "outputs": [],
   "source": [
    "brands_df=er_df.explode('brands')\n",
    "brands_df=brands_df[['brands']].drop_duplicates()\n",
    "brands_df"
   ]
  },
  {
   "cell_type": "code",
   "execution_count": null,
   "id": "2ab7f86b",
   "metadata": {},
   "outputs": [],
   "source": [
    "k=list(er_df['keyword'])\n",
    "k1=list(brands_df['brands'].dropna())\n",
    "k.extend(k1)\n",
    "k.extend(keys1)\n",
    "k"
   ]
  },
  {
   "cell_type": "code",
   "execution_count": null,
   "id": "324c6667",
   "metadata": {},
   "outputs": [],
   "source": [
    "len(k)"
   ]
  },
  {
   "cell_type": "code",
   "execution_count": null,
   "id": "130e5422",
   "metadata": {},
   "outputs": [],
   "source": [
    "query=[x.replace(' ','%20') for x in k]\n",
    "query"
   ]
  },
  {
   "cell_type": "code",
   "execution_count": null,
   "id": "c8d74025",
   "metadata": {},
   "outputs": [],
   "source": [
    "import pandas as pd\n",
    "from bs4 import BeautifulSoup\n",
    "import requests\n",
    "import json"
   ]
  },
  {
   "cell_type": "code",
   "execution_count": null,
   "id": "a1368232",
   "metadata": {},
   "outputs": [],
   "source": [
    "headers = {\"User-Agent\": \"Mozilla/5.0 (Windows NT 10.0; Win64; x64) AppleWebKit/537.36 (KHTML, like Gecko) Chrome/93.0.4577.63 Safari/537.36\",\n",
    "           \"Accept-Encoding\": \"gzip, deflate, br\",\n",
    "           \"Accept\": \"text/html,application/xhtml+xml,application/xml;q=0.9,image/avif,image/webp,image/apng,*/*;q=0.8,application/signed-exchange;v=b3;q=0.9\",\n",
    "           \"DNT\":\"1\",\n",
    "           \"Connection\":\"close\",\n",
    "           \"Upgrade-Insecure-Requests\": \"1\"}"
   ]
  },
  {
   "cell_type": "code",
   "execution_count": null,
   "id": "48bdaa83",
   "metadata": {},
   "outputs": [],
   "source": [
    "final=pd.DataFrame()\n",
    "final"
   ]
  },
  {
   "cell_type": "code",
   "execution_count": null,
   "id": "64c6543f",
   "metadata": {},
   "outputs": [],
   "source": [
    "for q in query:\n",
    "    url='https://completion.amazon.fr/api/2017/suggestions?limit=11&prefix={}&suggestion-type=WIDGET&suggestion-type=KEYWORD&page-type=Gateway&alias=aps&site-variant=desktop&version=3&event=onKeyPress&wc=&lop=fr_FR&fb=1&session-id=258-8831053-0562859&request-id=5PYHDPKMESNVN0CNNH3Z&mid=A13V1IB3VIYZZH&plain-mid=5&client-info=amazon-search-ui'.format(q)\n",
    "    #url='https://completion.amazon.co.uk/api/2017/suggestions?limit=11&prefix={}&suggestion-type=WIDGET&suggestion-type=KEYWORD&page-type=Gateway&alias=aps&site-variant=desktop&version=2&event=onKeyPress&wc=&lop=en_GB&fb=1&session-id=262-8555030-8609624&request-id=B2CRGV7AHNA4F20X5V9E&mid=A1F83G8C2ARO7P&plain-mid=3&client-info=amazon-search-ui'.format(q)\n",
    "    #url='https://completion.amazon.com/api/2017/suggestions?limit=11&prefix={}&suggestion-type=WIDGET&suggestion-type=KEYWORD&page-type=Gateway&alias=aps&site-variant=desktop&version=2&event=onKeyPress&wc=&lop=en_US&fb=1&session-id=132-8926723-7890707&request-id=H4BDDT0CRZM4PJ3680HN&mid=ATVPDKIKX0DER&plain-mid=1&client-info=amazon-search-ui'.format(q)\n",
    "    #url='https://completion.amazon.in/api/2017/suggestions?limit=11&prefix={}&suggestion-type=WIDGET&suggestion-type=KEYWORD&page-type=Gateway&alias=aps&site-variant=desktop&version=3&event=onKeyPress&wc=&lop=en_IN&fb=1&session-id=262-0266962-8510859&request-id=AAJKR7KZY20AQ66ZBJ2N&mid=A21TJRUUN4KGV&plain-mid=44571&client-info=amazon-search-ui'.format(q)\n",
    "    #url='https://completion.amazon.it/api/2017/suggestions?limit=11&prefix={}&suggestion-type=WIDGET&suggestion-type=KEYWORD&page-type=zeitgeist&alias=beauty&site-variant=desktop&version=2&event=onKeyPress&wc=&lop=it_IT&fb=1&session-id=258-6428311-0820924&request-id=6R63DYRZ5MN7ECK3BF4J&mid=APJ6JRA9NG5V4&plain-mid=35691&client-info=amazon-search-ui'.format(q)\n",
    "    #url='https://completion.amazon.com.mx/api/2017/suggestions?limit=11&prefix={}&suggestion-type=WIDGET&suggestion-type=KEYWORD&page-type=Gateway&alias=aps&site-variant=desktop&version=3&event=onKeyPress&wc=&lop=es_MX&fb=1&session-id=131-6859870-5245921&request-id=QK1P434SXN5H0SXH96YF&mid=A1AM78C64UM0Y8&plain-mid=771770&client-info=amazon-search-ui'.format(q)\n",
    "    #url='https://completion.amazon.com.au/api/2017/suggestions?limit=11&prefix={}&suggestion-type=WIDGET&suggestion-type=KEYWORD&page-type=Gateway&alias=aps&site-variant=desktop&version=2&event=onKeyPress&wc=&lop=en_AU&fb=1&session-id=356-7761226-4666306&request-id=8J2ZX9FXT8C8M5QKKAD8&mid=A39IBJ37TRP1C6&plain-mid=111172&client-info=amazon-search-ui'.format(q)\n",
    "    print(url)\n",
    "    response=requests.get(url,headers=headers).json()\n",
    "    #soup=BeautifulSoup(response.content, 'html.parser')\n",
    "    x=response['suggestions']\n",
    "    try:\n",
    "        df=pd.DataFrame.from_dict(x)\n",
    "        keyword=df['value']\n",
    "        final= pd.concat([final,keyword],axis=0)\n",
    "        print(keyword)\n",
    "    except:\n",
    "        print('no extra keyword')"
   ]
  },
  {
   "cell_type": "code",
   "execution_count": null,
   "id": "0a90e869",
   "metadata": {},
   "outputs": [],
   "source": [
    "final"
   ]
  },
  {
   "cell_type": "code",
   "execution_count": null,
   "id": "94c6d6e3",
   "metadata": {},
   "outputs": [],
   "source": [
    "final.drop_duplicates(inplace= True)"
   ]
  },
  {
   "cell_type": "code",
   "execution_count": null,
   "id": "08dcc6fa",
   "metadata": {},
   "outputs": [],
   "source": [
    "all_keys=list(final[0])"
   ]
  },
  {
   "cell_type": "code",
   "execution_count": null,
   "id": "7b6d84d8",
   "metadata": {},
   "outputs": [],
   "source": [
    "all_keys"
   ]
  },
  {
   "cell_type": "code",
   "execution_count": null,
   "id": "29f7dd2d",
   "metadata": {},
   "outputs": [],
   "source": [
    "cat_df1=pd.DataFrame(columns=['keyword','cats','brands'])"
   ]
  },
  {
   "cell_type": "code",
   "execution_count": null,
   "id": "652a1d92",
   "metadata": {},
   "outputs": [],
   "source": [
    "for val in tqdm(range(0,len(all_keys))):\n",
    "    key=all_keys[val]\n",
    "    print(key)\n",
    "    key1=key.replace(' ','+')\n",
    "    URL = webpage+\"/s?k={}&page=1\".format(key1)\n",
    "    print(URL)\n",
    "    driver.get(URL)\n",
    "    try:\n",
    "        \n",
    "        cats = driver.find_element(By.ID,'departments')\n",
    "        categories=cats.text.split(\"\\n\")[1:-1]\n",
    "    except:\n",
    "        categories=[]\n",
    "    \n",
    "    try:\n",
    "        \n",
    "        brands = driver.find_element(By.ID,'brandsRefinements')\n",
    "        brand_list=brands.text.split(\"\\n\")[1:]\n",
    "    except:\n",
    "        brand_list=[]\n",
    "        \n",
    "    print(categories)\n",
    "    print(brand_list)\n",
    "    temp_df={'keyword': key, 'cats':categories,'brands':brand_list}\n",
    "    cat_df1=cat_df1.append(temp_df, ignore_index= True)"
   ]
  },
  {
   "cell_type": "code",
   "execution_count": null,
   "id": "c543858d",
   "metadata": {},
   "outputs": [],
   "source": [
    "final_df1=cat_df1.explode('cats')"
   ]
  },
  {
   "cell_type": "code",
   "execution_count": null,
   "id": "d69f0c54",
   "metadata": {},
   "outputs": [],
   "source": [
    "er_df1=final_df1[final_df1['cats'].isin(req_cat)]\n",
    "er_df1.drop_duplicates('keyword',inplace= True)\n",
    "er_df1"
   ]
  },
  {
   "cell_type": "code",
   "execution_count": null,
   "id": "fc06abc0",
   "metadata": {},
   "outputs": [],
   "source": [
    "er_df1.to_excel(r\"413suggestion.xlsx\")"
   ]
  },
  {
   "cell_type": "code",
   "execution_count": null,
   "id": "731a04e8",
   "metadata": {},
   "outputs": [],
   "source": []
  },
  {
   "cell_type": "code",
   "execution_count": null,
   "id": "7b1a0484",
   "metadata": {},
   "outputs": [],
   "source": []
  },
  {
   "cell_type": "code",
   "execution_count": null,
   "id": "edf16332",
   "metadata": {},
   "outputs": [],
   "source": [
    "fileout =r\"C:\\Users\\nitin\\Downloads\\yake kw aus.xlsx\"\n",
    "with pd.ExcelWriter(fileout, engine='xlsxwriter')as writer:\n",
    "    key_score_df.to_excel(writer,sheet_name='ckey_scores' ,startrow=0,startcol=0,index=False)\n",
    "    cat_df.to_excel(writer,sheet_name='cats' ,startrow=0,startcol=0,index=False)\n",
    "    final_df.to_excel(writer,sheet_name='final' ,startrow=0,startcol=0,index=False)\n",
    "    nb.to_excel(writer,sheet_name='cats count on kw' ,startrow=0,startcol=0,index=False)\n",
    "    cvdf[['ASIN','Product Details','BSR']].to_excel(writer,sheet_name='top 100 titles' ,startrow=0,startcol=0,index=False)\n",
    "    final.to_excel(writer,sheet_name='amazon suggestions' ,startrow=0,startcol=0,index=False)\n",
    "    er_df.to_excel(writer,sheet_name='required keywords' ,startrow=0,startcol=0,index=False)\n",
    "    brands_df.to_excel(writer,sheet_name='competition brands' ,startrow=0,startcol=0,index=False)"
   ]
  },
  {
   "cell_type": "code",
   "execution_count": null,
   "id": "eef79c62",
   "metadata": {},
   "outputs": [],
   "source": []
  },
  {
   "cell_type": "code",
   "execution_count": null,
   "id": "130b764b",
   "metadata": {},
   "outputs": [],
   "source": [
    "er_df1.to_excel(r\"C:\\Users\\nitin\\Downloads\\mx motor1.xlsx\")"
   ]
  },
  {
   "cell_type": "code",
   "execution_count": null,
   "id": "344c0965",
   "metadata": {},
   "outputs": [],
   "source": []
  },
  {
   "cell_type": "code",
   "execution_count": null,
   "id": "b8461e20",
   "metadata": {},
   "outputs": [],
   "source": [
    "Kids' Cycles"
   ]
  },
  {
   "cell_type": "code",
   "execution_count": null,
   "id": "2720b9c6",
   "metadata": {},
   "outputs": [],
   "source": []
  },
  {
   "cell_type": "code",
   "execution_count": null,
   "id": "f55b97d9",
   "metadata": {},
   "outputs": [],
   "source": []
  },
  {
   "cell_type": "code",
   "execution_count": null,
   "id": "ca0b9ece",
   "metadata": {},
   "outputs": [],
   "source": [
    "req_cat=[\"Kids' Cycles\"]"
   ]
  },
  {
   "cell_type": "code",
   "execution_count": null,
   "id": "b2dea72f",
   "metadata": {},
   "outputs": [],
   "source": [
    "cat_df=cat_df1\n",
    "cat_df"
   ]
  },
  {
   "cell_type": "code",
   "execution_count": null,
   "id": "094e188c",
   "metadata": {},
   "outputs": [],
   "source": [
    "col='Pantalones para hombre'"
   ]
  },
  {
   "cell_type": "code",
   "execution_count": null,
   "id": "f192dc03",
   "metadata": {},
   "outputs": [],
   "source": [
    "col=req_cat[0]\n",
    "col"
   ]
  },
  {
   "cell_type": "code",
   "execution_count": null,
   "id": "2195b043",
   "metadata": {},
   "outputs": [],
   "source": [
    "cat_df[col]=cat_df.apply(lambda x:  x[\"cats\"].index(col) if col in x[\"cats\"] else \"\", axis=1)\n",
    "cat_df"
   ]
  },
  {
   "cell_type": "code",
   "execution_count": null,
   "id": "c98e391e",
   "metadata": {},
   "outputs": [],
   "source": [
    "len(cat_df[(cat_df[col]==1) | (cat_df[col]==0)])"
   ]
  },
  {
   "cell_type": "code",
   "execution_count": null,
   "id": "f4546534",
   "metadata": {},
   "outputs": [],
   "source": [
    "(cat_df[(cat_df[col]==1) | (cat_df[col]==0)]).to_excel(r\"C:\\Users\\nitin\\Downloads\\e cycles2.xlsx\")"
   ]
  },
  {
   "cell_type": "code",
   "execution_count": null,
   "id": "0ba709a9",
   "metadata": {},
   "outputs": [],
   "source": [
    "cat_df.dropna(subset=req_cat,axis=0)"
   ]
  },
  {
   "cell_type": "code",
   "execution_count": null,
   "id": "857d3b0c",
   "metadata": {},
   "outputs": [],
   "source": [
    "cat_df.to_excel(r\"C:\\Users\\nitin\\Downloads\\uk sports card game.xlsx\")"
   ]
  },
  {
   "cell_type": "code",
   "execution_count": null,
   "id": "39df9e33",
   "metadata": {},
   "outputs": [],
   "source": []
  }
 ],
 "metadata": {
  "kernelspec": {
   "display_name": "Python 3 (ipykernel)",
   "language": "python",
   "name": "python3"
  },
  "language_info": {
   "codemirror_mode": {
    "name": "ipython",
    "version": 3
   },
   "file_extension": ".py",
   "mimetype": "text/x-python",
   "name": "python",
   "nbconvert_exporter": "python",
   "pygments_lexer": "ipython3",
   "version": "3.9.12"
  }
 },
 "nbformat": 4,
 "nbformat_minor": 5
}

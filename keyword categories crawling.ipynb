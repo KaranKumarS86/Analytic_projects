{
 "cells": [
  {
   "cell_type": "code",
   "execution_count": 1,
   "id": "b124afc3",
   "metadata": {},
   "outputs": [],
   "source": [
    "import pandas as pd\n",
    "import numpy as np\n",
    "\n",
    "from selenium import webdriver\n",
    "from selenium.webdriver.common.by import By\n",
    "import requests\n",
    "from selenium.webdriver.support.ui import WebDriverWait\n",
    "import selenium.webdriver.support.expected_conditions as EC\n",
    "from tqdm.notebook import tqdm\n",
    "import time"
   ]
  },
  {
   "cell_type": "code",
   "execution_count": 2,
   "id": "d163d613",
   "metadata": {},
   "outputs": [
    {
     "name": "stderr",
     "output_type": "stream",
     "text": [
      "C:\\Users\\visha\\AppData\\Local\\Temp\\ipykernel_732\\3189945727.py:3: DeprecationWarning: executable_path has been deprecated, please pass in a Service object\n",
      "  driver = webdriver.Chrome(executable_path = r\"C:\\Users\\visha\\Downloads\\chromedriver (2).exe\",chrome_options = chrome_options)\n",
      "C:\\Users\\visha\\AppData\\Local\\Temp\\ipykernel_732\\3189945727.py:3: DeprecationWarning: use options instead of chrome_options\n",
      "  driver = webdriver.Chrome(executable_path = r\"C:\\Users\\visha\\Downloads\\chromedriver (2).exe\",chrome_options = chrome_options)\n"
     ]
    }
   ],
   "source": [
    "chrome_options = webdriver.ChromeOptions()\n",
    "chrome_options.add_argument(\"--incognito\")\n",
    "driver = webdriver.Chrome(executable_path = r\"C:\\Users\\visha\\Downloads\\chromedriver (2).exe\",chrome_options = chrome_options)\n"
   ]
  },
  {
   "cell_type": "code",
   "execution_count": 3,
   "id": "29ab29fe",
   "metadata": {},
   "outputs": [
    {
     "data": {
      "text/plain": [
       "257"
      ]
     },
     "execution_count": 3,
     "metadata": {},
     "output_type": "execute_result"
    }
   ],
   "source": [
    "df=pd.read_excel(r\"C:\\Users\\visha\\Downloads\\510keywords.xlsx\")\n",
    "keys=list(df['Keywords'])\n",
    "len(keys)"
   ]
  },
  {
   "cell_type": "code",
   "execution_count": 4,
   "id": "a85cdf2c",
   "metadata": {},
   "outputs": [],
   "source": [
    "cat_df=pd.DataFrame(columns=['keyword','cats'])"
   ]
  },
  {
   "cell_type": "code",
   "execution_count": 6,
   "id": "13bc4566",
   "metadata": {},
   "outputs": [
    {
     "data": {
      "application/vnd.jupyter.widget-view+json": {
       "model_id": "e89ae67a506640abaeaa4e2273c0ca8d",
       "version_major": 2,
       "version_minor": 0
      },
      "text/plain": [
       "  0%|          | 0/257 [00:00<?, ?it/s]"
      ]
     },
     "metadata": {},
     "output_type": "display_data"
    },
    {
     "name": "stdout",
     "output_type": "stream",
     "text": [
      "all natural butter\n",
      "https://www.amazon.com/s?k=all+natural+butter&page=1\n",
      "['Butter, Margarine & Plant-Based Alternatives', 'Butter', 'Plant-Based Butter', 'Body Butters', 'Pantry Staples', 'Almond Butter', 'Peanut Butter']\n",
      "best butter spread\n",
      "https://www.amazon.com/s?k=best+butter+spread&page=1\n"
     ]
    },
    {
     "name": "stderr",
     "output_type": "stream",
     "text": [
      "C:\\Users\\visha\\AppData\\Local\\Temp\\ipykernel_732\\1475642542.py:16: FutureWarning: The frame.append method is deprecated and will be removed from pandas in a future version. Use pandas.concat instead.\n",
      "  cat_df=cat_df.append(temp_df, ignore_index= True)\n"
     ]
    },
    {
     "name": "stdout",
     "output_type": "stream",
     "text": [
      "['Butter, Margarine & Plant-Based Alternatives', 'Butter', 'Plant-Based Butter', 'Pantry Staples', 'Jams, Jellies & Sweet Spreads', 'Sandwich Spreads']\n",
      "best butter with canola oil\n",
      "https://www.amazon.com/s?k=best+butter+with+canola+oil&page=1\n"
     ]
    },
    {
     "name": "stderr",
     "output_type": "stream",
     "text": [
      "C:\\Users\\visha\\AppData\\Local\\Temp\\ipykernel_732\\1475642542.py:16: FutureWarning: The frame.append method is deprecated and will be removed from pandas in a future version. Use pandas.concat instead.\n",
      "  cat_df=cat_df.append(temp_df, ignore_index= True)\n"
     ]
    },
    {
     "name": "stdout",
     "output_type": "stream",
     "text": [
      "['Cooking & Baking Oils', 'Butter, Margarine & Plant-Based Alternatives', 'Butter', 'Plant-Based Butter', 'Lards & Shortenings', 'Ghee', 'Non-Stick Cooking Oil Sprays']\n",
      "best canola oil butter\n",
      "https://www.amazon.com/s?k=best+canola+oil+butter&page=1\n"
     ]
    },
    {
     "name": "stderr",
     "output_type": "stream",
     "text": [
      "C:\\Users\\visha\\AppData\\Local\\Temp\\ipykernel_732\\1475642542.py:16: FutureWarning: The frame.append method is deprecated and will be removed from pandas in a future version. Use pandas.concat instead.\n",
      "  cat_df=cat_df.append(temp_df, ignore_index= True)\n"
     ]
    },
    {
     "name": "stdout",
     "output_type": "stream",
     "text": [
      "['Cooking & Baking Oils', 'Canola Oils', 'Grapeseed Oils', 'Dairy, Eggs & Plant-Based Alternatives']\n",
      "best cinnamon butter\n",
      "https://www.amazon.com/s?k=best+cinnamon+butter&page=1\n"
     ]
    },
    {
     "name": "stderr",
     "output_type": "stream",
     "text": [
      "C:\\Users\\visha\\AppData\\Local\\Temp\\ipykernel_732\\1475642542.py:16: FutureWarning: The frame.append method is deprecated and will be removed from pandas in a future version. Use pandas.concat instead.\n",
      "  cat_df=cat_df.append(temp_df, ignore_index= True)\n"
     ]
    },
    {
     "name": "stdout",
     "output_type": "stream",
     "text": [
      "['Grocery & Gourmet Food', 'Butter', 'Almond Butter', 'Cooking & Baking Grocery Supplies', 'Jams, Jellies & Sweet Spreads', 'Cinnamon']\n",
      "best european butter\n",
      "https://www.amazon.com/s?k=best+european+butter&page=1\n"
     ]
    },
    {
     "name": "stderr",
     "output_type": "stream",
     "text": [
      "C:\\Users\\visha\\AppData\\Local\\Temp\\ipykernel_732\\1475642542.py:16: FutureWarning: The frame.append method is deprecated and will be removed from pandas in a future version. Use pandas.concat instead.\n",
      "  cat_df=cat_df.append(temp_df, ignore_index= True)\n"
     ]
    },
    {
     "name": "stdout",
     "output_type": "stream",
     "text": [
      "['Butter, Margarine & Plant-Based Alternatives', 'Butter', 'Lards & Shortenings', 'Ghee', 'Serveware']\n",
      "best european style butter\n",
      "https://www.amazon.com/s?k=best+european+style+butter&page=1\n"
     ]
    },
    {
     "name": "stderr",
     "output_type": "stream",
     "text": [
      "C:\\Users\\visha\\AppData\\Local\\Temp\\ipykernel_732\\1475642542.py:16: FutureWarning: The frame.append method is deprecated and will be removed from pandas in a future version. Use pandas.concat instead.\n",
      "  cat_df=cat_df.append(temp_df, ignore_index= True)\n"
     ]
    },
    {
     "name": "stdout",
     "output_type": "stream",
     "text": [
      "['Butter, Margarine & Plant-Based Alternatives', 'Butter', 'Lards & Shortenings', 'Ghee', 'Serveware', 'Butter Dishes', 'Beauty & Personal Care']\n",
      "best flavored butter\n",
      "https://www.amazon.com/s?k=best+flavored+butter&page=1\n"
     ]
    },
    {
     "name": "stderr",
     "output_type": "stream",
     "text": [
      "C:\\Users\\visha\\AppData\\Local\\Temp\\ipykernel_732\\1475642542.py:16: FutureWarning: The frame.append method is deprecated and will be removed from pandas in a future version. Use pandas.concat instead.\n",
      "  cat_df=cat_df.append(temp_df, ignore_index= True)\n"
     ]
    },
    {
     "name": "stdout",
     "output_type": "stream",
     "text": [
      "['Butter, Margarine & Plant-Based Alternatives', 'Butter', 'Plant-Based Butter', 'Pantry Staples', 'Ghee', 'Peanut Butter', 'Jams, Jellies & Sweet Spreads']\n",
      "best garlic butter spread\n",
      "https://www.amazon.com/s?k=best+garlic+butter+spread&page=1\n"
     ]
    },
    {
     "name": "stderr",
     "output_type": "stream",
     "text": [
      "C:\\Users\\visha\\AppData\\Local\\Temp\\ipykernel_732\\1475642542.py:16: FutureWarning: The frame.append method is deprecated and will be removed from pandas in a future version. Use pandas.concat instead.\n",
      "  cat_df=cat_df.append(temp_df, ignore_index= True)\n"
     ]
    },
    {
     "name": "stdout",
     "output_type": "stream",
     "text": [
      "['Pantry Staples', 'Sandwich Spreads', 'Jams, Jellies & Sweet Spreads', 'Butter, Margarine & Plant-Based Alternatives', 'Butter', 'Snack Food Salsas, Dips & Spreads']\n",
      "best honey butter\n",
      "https://www.amazon.com/s?k=best+honey+butter&page=1\n"
     ]
    },
    {
     "name": "stderr",
     "output_type": "stream",
     "text": [
      "C:\\Users\\visha\\AppData\\Local\\Temp\\ipykernel_732\\1475642542.py:16: FutureWarning: The frame.append method is deprecated and will be removed from pandas in a future version. Use pandas.concat instead.\n",
      "  cat_df=cat_df.append(temp_df, ignore_index= True)\n"
     ]
    },
    {
     "name": "stdout",
     "output_type": "stream",
     "text": [
      "['Pantry Staples', 'Honey', 'Jams, Jellies & Sweet Spreads', 'Almond Butter', 'Skin Care Products', 'Body Butters', 'Butter, Margarine & Plant-Based Alternatives']\n",
      "best margarine\n",
      "https://www.amazon.com/s?k=best+margarine&page=1\n"
     ]
    },
    {
     "name": "stderr",
     "output_type": "stream",
     "text": [
      "C:\\Users\\visha\\AppData\\Local\\Temp\\ipykernel_732\\1475642542.py:16: FutureWarning: The frame.append method is deprecated and will be removed from pandas in a future version. Use pandas.concat instead.\n",
      "  cat_df=cat_df.append(temp_df, ignore_index= True)\n"
     ]
    },
    {
     "name": "stdout",
     "output_type": "stream",
     "text": [
      "['Butter, Margarine & Plant-Based Alternatives', 'Butter', 'Plant-Based Butter', 'Cooking & Baking Grocery Supplies']\n",
      "best margarine brand\n",
      "https://www.amazon.com/s?k=best+margarine+brand&page=1\n"
     ]
    },
    {
     "name": "stderr",
     "output_type": "stream",
     "text": [
      "C:\\Users\\visha\\AppData\\Local\\Temp\\ipykernel_732\\1475642542.py:16: FutureWarning: The frame.append method is deprecated and will be removed from pandas in a future version. Use pandas.concat instead.\n",
      "  cat_df=cat_df.append(temp_df, ignore_index= True)\n"
     ]
    },
    {
     "name": "stdout",
     "output_type": "stream",
     "text": [
      "['Butter, Margarine & Plant-Based Alternatives', 'Butter', 'Plant-Based Butter', 'Cooking & Baking Grocery Supplies']\n",
      "best margarine for baking\n",
      "https://www.amazon.com/s?k=best+margarine+for+baking&page=1\n"
     ]
    },
    {
     "name": "stderr",
     "output_type": "stream",
     "text": [
      "C:\\Users\\visha\\AppData\\Local\\Temp\\ipykernel_732\\1475642542.py:16: FutureWarning: The frame.append method is deprecated and will be removed from pandas in a future version. Use pandas.concat instead.\n",
      "  cat_df=cat_df.append(temp_df, ignore_index= True)\n"
     ]
    },
    {
     "name": "stdout",
     "output_type": "stream",
     "text": [
      "['Butter, Margarine & Plant-Based Alternatives', 'Butter', 'Plant-Based Butter', 'Cooking & Baking Grocery Supplies']\n",
      "best margarine for baking cakes\n",
      "https://www.amazon.com/s?k=best+margarine+for+baking+cakes&page=1\n"
     ]
    },
    {
     "name": "stderr",
     "output_type": "stream",
     "text": [
      "C:\\Users\\visha\\AppData\\Local\\Temp\\ipykernel_732\\1475642542.py:16: FutureWarning: The frame.append method is deprecated and will be removed from pandas in a future version. Use pandas.concat instead.\n",
      "  cat_df=cat_df.append(temp_df, ignore_index= True)\n"
     ]
    },
    {
     "name": "stdout",
     "output_type": "stream",
     "text": [
      "['Cooking & Baking Grocery Supplies', 'Lards & Shortenings', 'Butter, Margarine & Plant-Based Alternatives', 'Butter']\n",
      "best margarine for baking cookies\n",
      "https://www.amazon.com/s?k=best+margarine+for+baking+cookies&page=1\n"
     ]
    },
    {
     "name": "stderr",
     "output_type": "stream",
     "text": [
      "C:\\Users\\visha\\AppData\\Local\\Temp\\ipykernel_732\\1475642542.py:16: FutureWarning: The frame.append method is deprecated and will be removed from pandas in a future version. Use pandas.concat instead.\n",
      "  cat_df=cat_df.append(temp_df, ignore_index= True)\n"
     ]
    },
    {
     "name": "stdout",
     "output_type": "stream",
     "text": [
      "['Pantry Staples', 'Cooking & Baking Grocery Supplies', 'Butter, Margarine & Plant-Based Alternatives', 'Butter']\n",
      "best margarine spread\n",
      "https://www.amazon.com/s?k=best+margarine+spread&page=1\n"
     ]
    },
    {
     "name": "stderr",
     "output_type": "stream",
     "text": [
      "C:\\Users\\visha\\AppData\\Local\\Temp\\ipykernel_732\\1475642542.py:16: FutureWarning: The frame.append method is deprecated and will be removed from pandas in a future version. Use pandas.concat instead.\n",
      "  cat_df=cat_df.append(temp_df, ignore_index= True)\n"
     ]
    },
    {
     "name": "stdout",
     "output_type": "stream",
     "text": [
      "['Butter, Margarine & Plant-Based Alternatives', 'Butter', 'Plant-Based Butter', 'Pantry Staples', 'Jams, Jellies & Sweet Spreads', 'Sandwich Spreads']\n",
      "best olive oil butter\n",
      "https://www.amazon.com/s?k=best+olive+oil+butter&page=1\n"
     ]
    },
    {
     "name": "stderr",
     "output_type": "stream",
     "text": [
      "C:\\Users\\visha\\AppData\\Local\\Temp\\ipykernel_732\\1475642542.py:16: FutureWarning: The frame.append method is deprecated and will be removed from pandas in a future version. Use pandas.concat instead.\n",
      "  cat_df=cat_df.append(temp_df, ignore_index= True)\n"
     ]
    },
    {
     "name": "stdout",
     "output_type": "stream",
     "text": [
      "['Cooking & Baking Oils', 'Olive Oils', 'Butter, Margarine & Plant-Based Alternatives', 'Butter', 'Plant-Based Butter', 'Body Skin Care Products', 'Body Moisturizers']\n",
      "best pumpkin butter\n",
      "https://www.amazon.com/s?k=best+pumpkin+butter&page=1\n"
     ]
    },
    {
     "name": "stderr",
     "output_type": "stream",
     "text": [
      "C:\\Users\\visha\\AppData\\Local\\Temp\\ipykernel_732\\1475642542.py:16: FutureWarning: The frame.append method is deprecated and will be removed from pandas in a future version. Use pandas.concat instead.\n",
      "  cat_df=cat_df.append(temp_df, ignore_index= True)\n"
     ]
    },
    {
     "name": "stdout",
     "output_type": "stream",
     "text": [
      "['Jams, Jellies & Sweet Spreads', 'Fruit Butters', 'Nut & Seed Butters', 'Almond Butter', 'Peanut Butter', 'Cooking & Baking Grocery Supplies']\n",
      "best pumpkin butter spread\n",
      "https://www.amazon.com/s?k=best+pumpkin+butter+spread&page=1\n"
     ]
    },
    {
     "name": "stderr",
     "output_type": "stream",
     "text": [
      "C:\\Users\\visha\\AppData\\Local\\Temp\\ipykernel_732\\1475642542.py:16: FutureWarning: The frame.append method is deprecated and will be removed from pandas in a future version. Use pandas.concat instead.\n",
      "  cat_df=cat_df.append(temp_df, ignore_index= True)\n"
     ]
    },
    {
     "name": "stdout",
     "output_type": "stream",
     "text": [
      "['Grocery & Gourmet Food', 'Fruit Butters', 'Peanut Butter', 'Almond Butter', 'Sandwich Spreads']\n",
      "best quality butter\n",
      "https://www.amazon.com/s?k=best+quality+butter&page=1\n"
     ]
    },
    {
     "name": "stderr",
     "output_type": "stream",
     "text": [
      "C:\\Users\\visha\\AppData\\Local\\Temp\\ipykernel_732\\1475642542.py:16: FutureWarning: The frame.append method is deprecated and will be removed from pandas in a future version. Use pandas.concat instead.\n",
      "  cat_df=cat_df.append(temp_df, ignore_index= True)\n"
     ]
    },
    {
     "name": "stdout",
     "output_type": "stream",
     "text": [
      "['Butter, Margarine & Plant-Based Alternatives', 'Butter', 'Lards & Shortenings', 'Ghee', 'Dinnerware & Serveware']\n",
      "best spreadable butter\n",
      "https://www.amazon.com/s?k=best+spreadable+butter&page=1\n"
     ]
    },
    {
     "name": "stderr",
     "output_type": "stream",
     "text": [
      "C:\\Users\\visha\\AppData\\Local\\Temp\\ipykernel_732\\1475642542.py:16: FutureWarning: The frame.append method is deprecated and will be removed from pandas in a future version. Use pandas.concat instead.\n",
      "  cat_df=cat_df.append(temp_df, ignore_index= True)\n"
     ]
    },
    {
     "name": "stdout",
     "output_type": "stream",
     "text": [
      "['Butter, Margarine & Plant-Based Alternatives', 'Butter', 'Plant-Based Butter', 'Pantry Staples']\n",
      "best spreadable butter for bread\n",
      "https://www.amazon.com/s?k=best+spreadable+butter+for+bread&page=1\n"
     ]
    },
    {
     "name": "stderr",
     "output_type": "stream",
     "text": [
      "C:\\Users\\visha\\AppData\\Local\\Temp\\ipykernel_732\\1475642542.py:16: FutureWarning: The frame.append method is deprecated and will be removed from pandas in a future version. Use pandas.concat instead.\n",
      "  cat_df=cat_df.append(temp_df, ignore_index= True)\n"
     ]
    },
    {
     "name": "stdout",
     "output_type": "stream",
     "text": [
      "['Butter, Margarine & Plant-Based Alternatives', 'Butter', 'Plant-Based Butter', 'Pantry Staples', 'Ghee', 'Jams, Jellies & Sweet Spreads']\n",
      "best stick butter\n",
      "https://www.amazon.com/s?k=best+stick+butter&page=1\n"
     ]
    },
    {
     "name": "stderr",
     "output_type": "stream",
     "text": [
      "C:\\Users\\visha\\AppData\\Local\\Temp\\ipykernel_732\\1475642542.py:16: FutureWarning: The frame.append method is deprecated and will be removed from pandas in a future version. Use pandas.concat instead.\n",
      "  cat_df=cat_df.append(temp_df, ignore_index= True)\n"
     ]
    },
    {
     "name": "stdout",
     "output_type": "stream",
     "text": [
      "['Butter', 'Body Moisturizers', 'Body Butters', 'Serveware', 'Butter Dishes', 'Plant-Based Butter', 'Outdoor Recreation Accessories']\n",
      "best tasting margarine\n",
      "https://www.amazon.com/s?k=best+tasting+margarine&page=1\n"
     ]
    },
    {
     "name": "stderr",
     "output_type": "stream",
     "text": [
      "C:\\Users\\visha\\AppData\\Local\\Temp\\ipykernel_732\\1475642542.py:16: FutureWarning: The frame.append method is deprecated and will be removed from pandas in a future version. Use pandas.concat instead.\n",
      "  cat_df=cat_df.append(temp_df, ignore_index= True)\n"
     ]
    },
    {
     "name": "stdout",
     "output_type": "stream",
     "text": [
      "['Butter, Margarine & Plant-Based Alternatives', 'Butter', 'Plant-Based Butter', 'Cooking & Baking Grocery Supplies']\n",
      "best tub butter\n",
      "https://www.amazon.com/s?k=best+tub+butter&page=1\n"
     ]
    },
    {
     "name": "stderr",
     "output_type": "stream",
     "text": [
      "C:\\Users\\visha\\AppData\\Local\\Temp\\ipykernel_732\\1475642542.py:16: FutureWarning: The frame.append method is deprecated and will be removed from pandas in a future version. Use pandas.concat instead.\n",
      "  cat_df=cat_df.append(temp_df, ignore_index= True)\n"
     ]
    },
    {
     "name": "stdout",
     "output_type": "stream",
     "text": [
      "['Butter, Margarine & Plant-Based Alternatives', 'Butter', 'Body Moisturizers', 'Body Butters', 'Pantry Staples', 'Lards & Shortenings', 'Dinnerware & Serveware']\n",
      "brown sugar cinnamon butter\n",
      "https://www.amazon.com/s?k=brown+sugar+cinnamon+butter&page=1\n"
     ]
    },
    {
     "name": "stderr",
     "output_type": "stream",
     "text": [
      "C:\\Users\\visha\\AppData\\Local\\Temp\\ipykernel_732\\1475642542.py:16: FutureWarning: The frame.append method is deprecated and will be removed from pandas in a future version. Use pandas.concat instead.\n",
      "  cat_df=cat_df.append(temp_df, ignore_index= True)\n"
     ]
    },
    {
     "name": "stdout",
     "output_type": "stream",
     "text": [
      "['Grocery & Gourmet Food', 'Fruit Butters', 'Single Herbs & Spices', 'Peanut Butter', 'Butter', 'Baking Syrups, Sugars & Sweeteners', 'Almond Butter']\n",
      "butter & margarine\n",
      "https://www.amazon.com/s?k=butter+&+margarine&page=1\n"
     ]
    },
    {
     "name": "stderr",
     "output_type": "stream",
     "text": [
      "C:\\Users\\visha\\AppData\\Local\\Temp\\ipykernel_732\\1475642542.py:16: FutureWarning: The frame.append method is deprecated and will be removed from pandas in a future version. Use pandas.concat instead.\n",
      "  cat_df=cat_df.append(temp_df, ignore_index= True)\n"
     ]
    },
    {
     "name": "stdout",
     "output_type": "stream",
     "text": [
      "['Butter, Margarine & Plant-Based Alternatives', 'Butter', 'Plant-Based Butter', 'Nut & Seed Butters', 'Almond Butter']\n",
      "butter balls\n",
      "https://www.amazon.com/s?k=butter+balls&page=1\n"
     ]
    },
    {
     "name": "stderr",
     "output_type": "stream",
     "text": [
      "C:\\Users\\visha\\AppData\\Local\\Temp\\ipykernel_732\\1475642542.py:16: FutureWarning: The frame.append method is deprecated and will be removed from pandas in a future version. Use pandas.concat instead.\n",
      "  cat_df=cat_df.append(temp_df, ignore_index= True)\n"
     ]
    },
    {
     "name": "stdout",
     "output_type": "stream",
     "text": [
      "['Serveware', 'Butter Dishes', 'Grocery & Gourmet Food', 'Butter', 'Buttermilks', 'Puffed Snacks', 'Peanut Butter']\n",
      "butter bars\n",
      "https://www.amazon.com/s?k=butter+bars&page=1\n"
     ]
    },
    {
     "name": "stderr",
     "output_type": "stream",
     "text": [
      "C:\\Users\\visha\\AppData\\Local\\Temp\\ipykernel_732\\1475642542.py:16: FutureWarning: The frame.append method is deprecated and will be removed from pandas in a future version. Use pandas.concat instead.\n",
      "  cat_df=cat_df.append(temp_df, ignore_index= True)\n"
     ]
    },
    {
     "name": "stdout",
     "output_type": "stream",
     "text": [
      "['Grocery & Gourmet Food', 'Candy & Chocolate Bars', 'Granola Bars', 'High Protein Bars', 'Dairy, Eggs & Plant-Based Alternatives', 'Breads & Bakery', 'Breakfast & Cereal Bars']\n",
      "butter in tubs\n",
      "https://www.amazon.com/s?k=butter+in+tubs&page=1\n"
     ]
    },
    {
     "name": "stderr",
     "output_type": "stream",
     "text": [
      "C:\\Users\\visha\\AppData\\Local\\Temp\\ipykernel_732\\1475642542.py:16: FutureWarning: The frame.append method is deprecated and will be removed from pandas in a future version. Use pandas.concat instead.\n",
      "  cat_df=cat_df.append(temp_df, ignore_index= True)\n"
     ]
    },
    {
     "name": "stdout",
     "output_type": "stream",
     "text": [
      "['Butter, Margarine & Plant-Based Alternatives', 'Butter', 'Pantry Staples', 'Ghee', 'Nut & Seed Butters', 'Serveware']\n",
      "butter spread\n",
      "https://www.amazon.com/s?k=butter+spread&page=1\n"
     ]
    },
    {
     "name": "stderr",
     "output_type": "stream",
     "text": [
      "C:\\Users\\visha\\AppData\\Local\\Temp\\ipykernel_732\\1475642542.py:16: FutureWarning: The frame.append method is deprecated and will be removed from pandas in a future version. Use pandas.concat instead.\n",
      "  cat_df=cat_df.append(temp_df, ignore_index= True)\n"
     ]
    },
    {
     "name": "stdout",
     "output_type": "stream",
     "text": [
      "['Butter, Margarine & Plant-Based Alternatives', 'Butter', 'Plant-Based Butter', 'Jams, Jellies & Sweet Spreads', 'Nut & Seed Butters', 'Almond Butter', 'Peanut Butter']\n",
      "butter spread brands\n",
      "https://www.amazon.com/s?k=butter+spread+brands&page=1\n"
     ]
    },
    {
     "name": "stderr",
     "output_type": "stream",
     "text": [
      "C:\\Users\\visha\\AppData\\Local\\Temp\\ipykernel_732\\1475642542.py:16: FutureWarning: The frame.append method is deprecated and will be removed from pandas in a future version. Use pandas.concat instead.\n",
      "  cat_df=cat_df.append(temp_df, ignore_index= True)\n"
     ]
    },
    {
     "name": "stdout",
     "output_type": "stream",
     "text": [
      "['Butter, Margarine & Plant-Based Alternatives', 'Butter', 'Plant-Based Butter', 'Pantry Staples', 'Sandwich Spreads', 'Jams, Jellies & Sweet Spreads']\n",
      "butter spread for baking\n",
      "https://www.amazon.com/s?k=butter+spread+for+baking&page=1\n"
     ]
    },
    {
     "name": "stderr",
     "output_type": "stream",
     "text": [
      "C:\\Users\\visha\\AppData\\Local\\Temp\\ipykernel_732\\1475642542.py:16: FutureWarning: The frame.append method is deprecated and will be removed from pandas in a future version. Use pandas.concat instead.\n",
      "  cat_df=cat_df.append(temp_df, ignore_index= True)\n"
     ]
    },
    {
     "name": "stdout",
     "output_type": "stream",
     "text": [
      "['Butter, Margarine & Plant-Based Alternatives', 'Butter', 'Plant-Based Butter', 'Pantry Staples', 'Sandwich Spreads', 'Lards & Shortenings', 'Jams, Jellies & Sweet Spreads']\n",
      "butter spread near me\n",
      "https://www.amazon.com/s?k=butter+spread+near+me&page=1\n"
     ]
    },
    {
     "name": "stderr",
     "output_type": "stream",
     "text": [
      "C:\\Users\\visha\\AppData\\Local\\Temp\\ipykernel_732\\1475642542.py:16: FutureWarning: The frame.append method is deprecated and will be removed from pandas in a future version. Use pandas.concat instead.\n",
      "  cat_df=cat_df.append(temp_df, ignore_index= True)\n"
     ]
    },
    {
     "name": "stdout",
     "output_type": "stream",
     "text": [
      "['Butter, Margarine & Plant-Based Alternatives', 'Butter', 'Pantry Staples', 'Jams, Jellies & Sweet Spreads', 'Sandwich Spreads', 'Nut & Seed Butters', 'Lards & Shortenings']\n",
      "butter sticks\n",
      "https://www.amazon.com/s?k=butter+sticks&page=1\n"
     ]
    },
    {
     "name": "stderr",
     "output_type": "stream",
     "text": [
      "C:\\Users\\visha\\AppData\\Local\\Temp\\ipykernel_732\\1475642542.py:16: FutureWarning: The frame.append method is deprecated and will be removed from pandas in a future version. Use pandas.concat instead.\n",
      "  cat_df=cat_df.append(temp_df, ignore_index= True)\n"
     ]
    },
    {
     "name": "stdout",
     "output_type": "stream",
     "text": [
      "['Butter, Margarine & Plant-Based Alternatives', 'Butter', 'Plant-Based Butter']\n",
      "butter store\n",
      "https://www.amazon.com/s?k=butter+store&page=1\n"
     ]
    },
    {
     "name": "stderr",
     "output_type": "stream",
     "text": [
      "C:\\Users\\visha\\AppData\\Local\\Temp\\ipykernel_732\\1475642542.py:16: FutureWarning: The frame.append method is deprecated and will be removed from pandas in a future version. Use pandas.concat instead.\n",
      "  cat_df=cat_df.append(temp_df, ignore_index= True)\n"
     ]
    },
    {
     "name": "stdout",
     "output_type": "stream",
     "text": [
      "['Kitchen & Dining', 'Butter Dishes', 'Kitchen Utensils & Gadgets', 'Dairy, Eggs & Plant-Based Alternatives', 'Butter']\n",
      "butter with canola oil brands\n",
      "https://www.amazon.com/s?k=butter+with+canola+oil+brands&page=1\n"
     ]
    },
    {
     "name": "stderr",
     "output_type": "stream",
     "text": [
      "C:\\Users\\visha\\AppData\\Local\\Temp\\ipykernel_732\\1475642542.py:16: FutureWarning: The frame.append method is deprecated and will be removed from pandas in a future version. Use pandas.concat instead.\n",
      "  cat_df=cat_df.append(temp_df, ignore_index= True)\n"
     ]
    },
    {
     "name": "stdout",
     "output_type": "stream",
     "text": [
      "['Pantry Staples', 'Cooking & Baking Oils', 'Ghee', 'Non-Stick Cooking Oil Sprays', 'Nut & Seed Butters', 'Butter, Margarine & Plant-Based Alternatives', 'Butter']\n",
      "canola oil butter\n",
      "https://www.amazon.com/s?k=canola+oil+butter&page=1\n"
     ]
    },
    {
     "name": "stderr",
     "output_type": "stream",
     "text": [
      "C:\\Users\\visha\\AppData\\Local\\Temp\\ipykernel_732\\1475642542.py:16: FutureWarning: The frame.append method is deprecated and will be removed from pandas in a future version. Use pandas.concat instead.\n",
      "  cat_df=cat_df.append(temp_df, ignore_index= True)\n"
     ]
    },
    {
     "name": "stdout",
     "output_type": "stream",
     "text": [
      "['Cooking & Baking Oils', 'Canola Oils', 'Grapeseed Oils', 'Butter, Margarine & Plant-Based Alternatives', 'Butter']\n",
      "canola oil butter brands\n",
      "https://www.amazon.com/s?k=canola+oil+butter+brands&page=1\n"
     ]
    },
    {
     "name": "stderr",
     "output_type": "stream",
     "text": [
      "C:\\Users\\visha\\AppData\\Local\\Temp\\ipykernel_732\\1475642542.py:16: FutureWarning: The frame.append method is deprecated and will be removed from pandas in a future version. Use pandas.concat instead.\n",
      "  cat_df=cat_df.append(temp_df, ignore_index= True)\n"
     ]
    },
    {
     "name": "stdout",
     "output_type": "stream",
     "text": [
      "['Cooking & Baking Oils']\n",
      "challenge butter\n",
      "https://www.amazon.com/s?k=challenge+butter&page=1\n"
     ]
    },
    {
     "name": "stderr",
     "output_type": "stream",
     "text": [
      "C:\\Users\\visha\\AppData\\Local\\Temp\\ipykernel_732\\1475642542.py:16: FutureWarning: The frame.append method is deprecated and will be removed from pandas in a future version. Use pandas.concat instead.\n",
      "  cat_df=cat_df.append(temp_df, ignore_index= True)\n"
     ]
    },
    {
     "name": "stdout",
     "output_type": "stream",
     "text": [
      "['Butter, Margarine & Plant-Based Alternatives', 'Butter', 'Pantry Staples', 'Cooking & Baking Grocery Supplies']\n",
      "challenge butter balls\n",
      "https://www.amazon.com/s?k=challenge+butter+balls&page=1\n"
     ]
    },
    {
     "name": "stderr",
     "output_type": "stream",
     "text": [
      "C:\\Users\\visha\\AppData\\Local\\Temp\\ipykernel_732\\1475642542.py:16: FutureWarning: The frame.append method is deprecated and will be removed from pandas in a future version. Use pandas.concat instead.\n",
      "  cat_df=cat_df.append(temp_df, ignore_index= True)\n"
     ]
    },
    {
     "name": "stdout",
     "output_type": "stream",
     "text": [
      "['Grocery & Gourmet Food', 'Snack Foods', 'Candy & Chocolate', 'Butter, Margarine & Plant-Based Alternatives', 'Pantry Staples', 'Chocolate Candy', 'Toys & Games']\n",
      "challenge butter spread\n",
      "https://www.amazon.com/s?k=challenge+butter+spread&page=1\n"
     ]
    },
    {
     "name": "stderr",
     "output_type": "stream",
     "text": [
      "C:\\Users\\visha\\AppData\\Local\\Temp\\ipykernel_732\\1475642542.py:16: FutureWarning: The frame.append method is deprecated and will be removed from pandas in a future version. Use pandas.concat instead.\n",
      "  cat_df=cat_df.append(temp_df, ignore_index= True)\n"
     ]
    },
    {
     "name": "stdout",
     "output_type": "stream",
     "text": [
      "['Butter, Margarine & Plant-Based Alternatives', 'Butter', 'Plant-Based Butter', 'Pantry Staples', 'Jams, Jellies & Sweet Spreads', 'Sandwich Spreads', 'Peanut Butter']\n",
      "challenge flavored butter\n",
      "https://www.amazon.com/s?k=challenge+flavored+butter&page=1\n"
     ]
    },
    {
     "name": "stderr",
     "output_type": "stream",
     "text": [
      "C:\\Users\\visha\\AppData\\Local\\Temp\\ipykernel_732\\1475642542.py:16: FutureWarning: The frame.append method is deprecated and will be removed from pandas in a future version. Use pandas.concat instead.\n",
      "  cat_df=cat_df.append(temp_df, ignore_index= True)\n"
     ]
    },
    {
     "name": "stdout",
     "output_type": "stream",
     "text": [
      "['Grocery & Gourmet Food', 'Butter', 'Pantry Staples']\n",
      "challenge garlic herb butter\n",
      "https://www.amazon.com/s?k=challenge+garlic+herb+butter&page=1\n"
     ]
    },
    {
     "name": "stderr",
     "output_type": "stream",
     "text": [
      "C:\\Users\\visha\\AppData\\Local\\Temp\\ipykernel_732\\1475642542.py:16: FutureWarning: The frame.append method is deprecated and will be removed from pandas in a future version. Use pandas.concat instead.\n",
      "  cat_df=cat_df.append(temp_df, ignore_index= True)\n"
     ]
    },
    {
     "name": "stdout",
     "output_type": "stream",
     "text": [
      "['Butter, Margarine & Plant-Based Alternatives', 'Butter', 'Pantry Staples', 'Garlic Powder & Seasonings', 'Mixed Spices & Seasonings', 'Canned & Jarred Garlic', 'Sauces']\n",
      "challenge honey butter\n",
      "https://www.amazon.com/s?k=challenge+honey+butter&page=1\n"
     ]
    },
    {
     "name": "stderr",
     "output_type": "stream",
     "text": [
      "C:\\Users\\visha\\AppData\\Local\\Temp\\ipykernel_732\\1475642542.py:16: FutureWarning: The frame.append method is deprecated and will be removed from pandas in a future version. Use pandas.concat instead.\n",
      "  cat_df=cat_df.append(temp_df, ignore_index= True)\n"
     ]
    },
    {
     "name": "stdout",
     "output_type": "stream",
     "text": [
      "['Grocery & Gourmet Food', 'Snack Foods', 'Pantry Staples', 'Butter, Margarine & Plant-Based Alternatives']\n",
      "challenge margarine\n",
      "https://www.amazon.com/s?k=challenge+margarine&page=1\n"
     ]
    },
    {
     "name": "stderr",
     "output_type": "stream",
     "text": [
      "C:\\Users\\visha\\AppData\\Local\\Temp\\ipykernel_732\\1475642542.py:16: FutureWarning: The frame.append method is deprecated and will be removed from pandas in a future version. Use pandas.concat instead.\n",
      "  cat_df=cat_df.append(temp_df, ignore_index= True)\n"
     ]
    },
    {
     "name": "stdout",
     "output_type": "stream",
     "text": [
      "['Butter, Margarine & Plant-Based Alternatives', 'Butter', 'Plant-Based Butter', 'Pantry Staples', 'Ghee']\n",
      "challenge salted butter\n",
      "https://www.amazon.com/s?k=challenge+salted+butter&page=1\n"
     ]
    },
    {
     "name": "stderr",
     "output_type": "stream",
     "text": [
      "C:\\Users\\visha\\AppData\\Local\\Temp\\ipykernel_732\\1475642542.py:16: FutureWarning: The frame.append method is deprecated and will be removed from pandas in a future version. Use pandas.concat instead.\n",
      "  cat_df=cat_df.append(temp_df, ignore_index= True)\n"
     ]
    },
    {
     "name": "stdout",
     "output_type": "stream",
     "text": [
      "['Butter, Margarine & Plant-Based Alternatives', 'Butter', 'Pantry Staples', 'Snack Foods']\n",
      "challenge spreadable butter\n",
      "https://www.amazon.com/s?k=challenge+spreadable+butter&page=1\n"
     ]
    },
    {
     "name": "stderr",
     "output_type": "stream",
     "text": [
      "C:\\Users\\visha\\AppData\\Local\\Temp\\ipykernel_732\\1475642542.py:16: FutureWarning: The frame.append method is deprecated and will be removed from pandas in a future version. Use pandas.concat instead.\n",
      "  cat_df=cat_df.append(temp_df, ignore_index= True)\n"
     ]
    },
    {
     "name": "stdout",
     "output_type": "stream",
     "text": [
      "['Butter, Margarine & Plant-Based Alternatives', 'Butter', 'Plant-Based Butter', 'Pantry Staples', 'Ghee', 'Snacks & Sweets']\n",
      "challenge stick butter\n",
      "https://www.amazon.com/s?k=challenge+stick+butter&page=1\n"
     ]
    },
    {
     "name": "stderr",
     "output_type": "stream",
     "text": [
      "C:\\Users\\visha\\AppData\\Local\\Temp\\ipykernel_732\\1475642542.py:16: FutureWarning: The frame.append method is deprecated and will be removed from pandas in a future version. Use pandas.concat instead.\n",
      "  cat_df=cat_df.append(temp_df, ignore_index= True)\n"
     ]
    },
    {
     "name": "stdout",
     "output_type": "stream",
     "text": [
      "['Snack Foods', 'Chips & Crisps', 'Snack Pretzels', 'Meat Snacks', 'Butter, Margarine & Plant-Based Alternatives', 'Butter']\n",
      "challenge tub butter\n",
      "https://www.amazon.com/s?k=challenge+tub+butter&page=1\n"
     ]
    },
    {
     "name": "stderr",
     "output_type": "stream",
     "text": [
      "C:\\Users\\visha\\AppData\\Local\\Temp\\ipykernel_732\\1475642542.py:16: FutureWarning: The frame.append method is deprecated and will be removed from pandas in a future version. Use pandas.concat instead.\n",
      "  cat_df=cat_df.append(temp_df, ignore_index= True)\n"
     ]
    },
    {
     "name": "stdout",
     "output_type": "stream",
     "text": [
      "['Butter, Margarine & Plant-Based Alternatives', 'Butter', 'Pantry Staples', 'Peanut Butter', 'Lards & Shortenings', 'Snack Foods']\n",
      "challenge unsalted butter\n",
      "https://www.amazon.com/s?k=challenge+unsalted+butter&page=1\n"
     ]
    },
    {
     "name": "stderr",
     "output_type": "stream",
     "text": [
      "C:\\Users\\visha\\AppData\\Local\\Temp\\ipykernel_732\\1475642542.py:16: FutureWarning: The frame.append method is deprecated and will be removed from pandas in a future version. Use pandas.concat instead.\n",
      "  cat_df=cat_df.append(temp_df, ignore_index= True)\n"
     ]
    },
    {
     "name": "stdout",
     "output_type": "stream",
     "text": [
      "['Butter, Margarine & Plant-Based Alternatives', 'Butter', 'Pantry Staples']\n",
      "cinnamon and sugar butter\n",
      "https://www.amazon.com/s?k=cinnamon+and+sugar+butter&page=1\n"
     ]
    },
    {
     "name": "stderr",
     "output_type": "stream",
     "text": [
      "C:\\Users\\visha\\AppData\\Local\\Temp\\ipykernel_732\\1475642542.py:16: FutureWarning: The frame.append method is deprecated and will be removed from pandas in a future version. Use pandas.concat instead.\n",
      "  cat_df=cat_df.append(temp_df, ignore_index= True)\n"
     ]
    },
    {
     "name": "stdout",
     "output_type": "stream",
     "text": [
      "['Grocery & Gourmet Food', 'Butter', 'Peanut Butter', 'Fruit Butters', 'Almond Butter', 'Single Herbs & Spices', 'Body Moisturizers']\n",
      "cinnamon brown sugar butter\n",
      "https://www.amazon.com/s?k=cinnamon+brown+sugar+butter&page=1\n"
     ]
    },
    {
     "name": "stderr",
     "output_type": "stream",
     "text": [
      "C:\\Users\\visha\\AppData\\Local\\Temp\\ipykernel_732\\1475642542.py:16: FutureWarning: The frame.append method is deprecated and will be removed from pandas in a future version. Use pandas.concat instead.\n",
      "  cat_df=cat_df.append(temp_df, ignore_index= True)\n"
     ]
    },
    {
     "name": "stdout",
     "output_type": "stream",
     "text": [
      "['Grocery & Gourmet Food', 'Peanut Butter', 'Fruit Butters', 'Cooking & Baking Grocery Supplies', 'Butter', 'Almond Butter', 'Body Moisturizers']\n",
      "cinnamon butter\n",
      "https://www.amazon.com/s?k=cinnamon+butter&page=1\n"
     ]
    },
    {
     "name": "stderr",
     "output_type": "stream",
     "text": [
      "C:\\Users\\visha\\AppData\\Local\\Temp\\ipykernel_732\\1475642542.py:16: FutureWarning: The frame.append method is deprecated and will be removed from pandas in a future version. Use pandas.concat instead.\n",
      "  cat_df=cat_df.append(temp_df, ignore_index= True)\n"
     ]
    },
    {
     "name": "stdout",
     "output_type": "stream",
     "text": [
      "['Grocery & Gourmet Food', 'Butter', 'Honey', 'Almond Butter', 'Chocolate & Hazelnut Spreads', 'Peanut Butter', 'Jams, Jellies & Preserves']\n",
      "cinnamon butter brands\n",
      "https://www.amazon.com/s?k=cinnamon+butter+brands&page=1\n"
     ]
    },
    {
     "name": "stderr",
     "output_type": "stream",
     "text": [
      "C:\\Users\\visha\\AppData\\Local\\Temp\\ipykernel_732\\1475642542.py:16: FutureWarning: The frame.append method is deprecated and will be removed from pandas in a future version. Use pandas.concat instead.\n",
      "  cat_df=cat_df.append(temp_df, ignore_index= True)\n"
     ]
    },
    {
     "name": "stdout",
     "output_type": "stream",
     "text": [
      "['Grocery & Gourmet Food', 'Jams, Jellies & Sweet Spreads', 'Butter', 'Cinnamon', 'Nut & Seed Butters', 'Breads & Bakery']\n",
      "cinnamon butter spread\n",
      "https://www.amazon.com/s?k=cinnamon+butter+spread&page=1\n"
     ]
    },
    {
     "name": "stderr",
     "output_type": "stream",
     "text": [
      "C:\\Users\\visha\\AppData\\Local\\Temp\\ipykernel_732\\1475642542.py:16: FutureWarning: The frame.append method is deprecated and will be removed from pandas in a future version. Use pandas.concat instead.\n",
      "  cat_df=cat_df.append(temp_df, ignore_index= True)\n"
     ]
    },
    {
     "name": "stdout",
     "output_type": "stream",
     "text": [
      "['Grocery & Gourmet Food', 'Butter', 'Honey', 'Chocolate & Hazelnut Spreads', 'Almond Butter', 'Jams, Jellies & Preserves', 'Peanut Butter']\n",
      "cinnamon butter store\n",
      "https://www.amazon.com/s?k=cinnamon+butter+store&page=1\n"
     ]
    },
    {
     "name": "stderr",
     "output_type": "stream",
     "text": [
      "C:\\Users\\visha\\AppData\\Local\\Temp\\ipykernel_732\\1475642542.py:16: FutureWarning: The frame.append method is deprecated and will be removed from pandas in a future version. Use pandas.concat instead.\n",
      "  cat_df=cat_df.append(temp_df, ignore_index= True)\n"
     ]
    },
    {
     "name": "stdout",
     "output_type": "stream",
     "text": [
      "['Grocery & Gourmet Food', 'Cinnamon', 'Jams, Jellies & Sweet Spreads', 'Butter', 'Cooking & Baking Grocery Supplies', 'Nut & Seed Butters', 'Snacks & Sweets']\n",
      "cinnamon honey butter\n",
      "https://www.amazon.com/s?k=cinnamon+honey+butter&page=1\n"
     ]
    },
    {
     "name": "stderr",
     "output_type": "stream",
     "text": [
      "C:\\Users\\visha\\AppData\\Local\\Temp\\ipykernel_732\\1475642542.py:16: FutureWarning: The frame.append method is deprecated and will be removed from pandas in a future version. Use pandas.concat instead.\n",
      "  cat_df=cat_df.append(temp_df, ignore_index= True)\n"
     ]
    },
    {
     "name": "stdout",
     "output_type": "stream",
     "text": [
      "['Grocery & Gourmet Food', 'Honey', 'Jams, Jellies & Sweet Spreads', 'Almond Butter', 'Butter', 'Herb, Spice & Seasoning Gifts', 'Kitchen Utensils & Gadgets']\n",
      "cinnamon sugar butter\n",
      "https://www.amazon.com/s?k=cinnamon+sugar+butter&page=1\n"
     ]
    },
    {
     "name": "stderr",
     "output_type": "stream",
     "text": [
      "C:\\Users\\visha\\AppData\\Local\\Temp\\ipykernel_732\\1475642542.py:16: FutureWarning: The frame.append method is deprecated and will be removed from pandas in a future version. Use pandas.concat instead.\n",
      "  cat_df=cat_df.append(temp_df, ignore_index= True)\n"
     ]
    },
    {
     "name": "stdout",
     "output_type": "stream",
     "text": [
      "['Grocery & Gourmet Food', 'Butter', 'Honey', 'Poultry Seasonings', 'Chocolate & Hazelnut Spreads', 'Peanut Butter', 'Cinnamon']\n",
      "cinnamon sugar butter spread\n",
      "https://www.amazon.com/s?k=cinnamon+sugar+butter+spread&page=1\n"
     ]
    },
    {
     "name": "stderr",
     "output_type": "stream",
     "text": [
      "C:\\Users\\visha\\AppData\\Local\\Temp\\ipykernel_732\\1475642542.py:16: FutureWarning: The frame.append method is deprecated and will be removed from pandas in a future version. Use pandas.concat instead.\n",
      "  cat_df=cat_df.append(temp_df, ignore_index= True)\n"
     ]
    },
    {
     "name": "stdout",
     "output_type": "stream",
     "text": [
      "['Grocery & Gourmet Food', 'Butter', 'Honey', 'Almond Butter', 'Poultry Seasonings', 'Chocolate & Hazelnut Spreads', 'Peanut Butter']\n",
      "cinnamon sugar spreadable butter\n",
      "https://www.amazon.com/s?k=cinnamon+sugar+spreadable+butter&page=1\n"
     ]
    },
    {
     "name": "stderr",
     "output_type": "stream",
     "text": [
      "C:\\Users\\visha\\AppData\\Local\\Temp\\ipykernel_732\\1475642542.py:16: FutureWarning: The frame.append method is deprecated and will be removed from pandas in a future version. Use pandas.concat instead.\n",
      "  cat_df=cat_df.append(temp_df, ignore_index= True)\n"
     ]
    },
    {
     "name": "stdout",
     "output_type": "stream",
     "text": [
      "['Butter, Margarine & Plant-Based Alternatives', 'Butter', 'Pantry Staples', 'Peanut Butter', 'Cinnamon', 'Cooking & Baking Grocery Supplies', 'Chocolate & Hazelnut Spreads']\n",
      "clarified butter\n",
      "https://www.amazon.com/s?k=clarified+butter&page=1\n"
     ]
    },
    {
     "name": "stderr",
     "output_type": "stream",
     "text": [
      "C:\\Users\\visha\\AppData\\Local\\Temp\\ipykernel_732\\1475642542.py:16: FutureWarning: The frame.append method is deprecated and will be removed from pandas in a future version. Use pandas.concat instead.\n",
      "  cat_df=cat_df.append(temp_df, ignore_index= True)\n"
     ]
    },
    {
     "name": "stdout",
     "output_type": "stream",
     "text": [
      "['Lards & Shortenings', 'Ghee', 'Butter, Margarine & Plant-Based Alternatives']\n",
      "cooking margarine\n",
      "https://www.amazon.com/s?k=cooking+margarine&page=1\n"
     ]
    },
    {
     "name": "stderr",
     "output_type": "stream",
     "text": [
      "C:\\Users\\visha\\AppData\\Local\\Temp\\ipykernel_732\\1475642542.py:16: FutureWarning: The frame.append method is deprecated and will be removed from pandas in a future version. Use pandas.concat instead.\n",
      "  cat_df=cat_df.append(temp_df, ignore_index= True)\n"
     ]
    },
    {
     "name": "stdout",
     "output_type": "stream",
     "text": [
      "['Butter, Margarine & Plant-Based Alternatives', 'Butter', 'Plant-Based Butter', 'Cooking & Baking Grocery Supplies']\n",
      "country crock butter\n",
      "https://www.amazon.com/s?k=country+crock+butter&page=1\n"
     ]
    },
    {
     "name": "stderr",
     "output_type": "stream",
     "text": [
      "C:\\Users\\visha\\AppData\\Local\\Temp\\ipykernel_732\\1475642542.py:16: FutureWarning: The frame.append method is deprecated and will be removed from pandas in a future version. Use pandas.concat instead.\n",
      "  cat_df=cat_df.append(temp_df, ignore_index= True)\n"
     ]
    },
    {
     "name": "stdout",
     "output_type": "stream",
     "text": [
      "['Butter, Margarine & Plant-Based Alternatives', 'Butter', 'Plant-Based Butter', 'Cooking Oils, Vinegars & Sprays']\n",
      "country crock butter balls\n",
      "https://www.amazon.com/s?k=country+crock+butter+balls&page=1\n"
     ]
    },
    {
     "name": "stderr",
     "output_type": "stream",
     "text": [
      "C:\\Users\\visha\\AppData\\Local\\Temp\\ipykernel_732\\1475642542.py:16: FutureWarning: The frame.append method is deprecated and will be removed from pandas in a future version. Use pandas.concat instead.\n",
      "  cat_df=cat_df.append(temp_df, ignore_index= True)\n"
     ]
    },
    {
     "name": "stdout",
     "output_type": "stream",
     "text": [
      "['Butter, Margarine & Plant-Based Alternatives', 'Butter', 'Pantry Staples', 'Cooking & Baking Grocery Supplies', 'Snacks & Sweets', 'Snack Foods', 'Serveware']\n",
      "country crock butter spread\n",
      "https://www.amazon.com/s?k=country+crock+butter+spread&page=1\n"
     ]
    },
    {
     "name": "stderr",
     "output_type": "stream",
     "text": [
      "C:\\Users\\visha\\AppData\\Local\\Temp\\ipykernel_732\\1475642542.py:16: FutureWarning: The frame.append method is deprecated and will be removed from pandas in a future version. Use pandas.concat instead.\n",
      "  cat_df=cat_df.append(temp_df, ignore_index= True)\n"
     ]
    },
    {
     "name": "stdout",
     "output_type": "stream",
     "text": [
      "['Butter, Margarine & Plant-Based Alternatives', 'Butter', 'Plant-Based Butter', 'Cooking & Baking Grocery Supplies', 'Cooking & Baking Oils', 'Jams, Jellies & Sweet Spreads', 'Sandwich Spreads']\n",
      "country crock flavored butter\n",
      "https://www.amazon.com/s?k=country+crock+flavored+butter&page=1\n"
     ]
    },
    {
     "name": "stderr",
     "output_type": "stream",
     "text": [
      "C:\\Users\\visha\\AppData\\Local\\Temp\\ipykernel_732\\1475642542.py:16: FutureWarning: The frame.append method is deprecated and will be removed from pandas in a future version. Use pandas.concat instead.\n",
      "  cat_df=cat_df.append(temp_df, ignore_index= True)\n"
     ]
    },
    {
     "name": "stdout",
     "output_type": "stream",
     "text": [
      "['Butter, Margarine & Plant-Based Alternatives', 'Butter', 'Pantry Staples', 'Nut & Seed Butters', 'Ghee']\n",
      "country crock garlic herb butter\n",
      "https://www.amazon.com/s?k=country+crock+garlic+herb+butter&page=1\n"
     ]
    },
    {
     "name": "stderr",
     "output_type": "stream",
     "text": [
      "C:\\Users\\visha\\AppData\\Local\\Temp\\ipykernel_732\\1475642542.py:16: FutureWarning: The frame.append method is deprecated and will be removed from pandas in a future version. Use pandas.concat instead.\n",
      "  cat_df=cat_df.append(temp_df, ignore_index= True)\n"
     ]
    },
    {
     "name": "stdout",
     "output_type": "stream",
     "text": [
      "['Pantry Staples', 'Garlic Powder & Seasonings', 'Condiments & Salad Dressings', 'Mixed Spices & Seasonings', 'Sauces, Gravies & Marinades', 'Butter, Margarine & Plant-Based Alternatives']\n",
      "country crock honey butter\n",
      "https://www.amazon.com/s?k=country+crock+honey+butter&page=1\n"
     ]
    },
    {
     "name": "stderr",
     "output_type": "stream",
     "text": [
      "C:\\Users\\visha\\AppData\\Local\\Temp\\ipykernel_732\\1475642542.py:16: FutureWarning: The frame.append method is deprecated and will be removed from pandas in a future version. Use pandas.concat instead.\n",
      "  cat_df=cat_df.append(temp_df, ignore_index= True)\n"
     ]
    },
    {
     "name": "stdout",
     "output_type": "stream",
     "text": [
      "['Pantry Staples', 'Honey', 'Jams, Jellies & Preserves', 'Nut & Seed Butters', 'Butter, Margarine & Plant-Based Alternatives', 'Butter', 'Breakfast Foods']\n",
      "country crock margarine\n",
      "https://www.amazon.com/s?k=country+crock+margarine&page=1\n"
     ]
    },
    {
     "name": "stderr",
     "output_type": "stream",
     "text": [
      "C:\\Users\\visha\\AppData\\Local\\Temp\\ipykernel_732\\1475642542.py:16: FutureWarning: The frame.append method is deprecated and will be removed from pandas in a future version. Use pandas.concat instead.\n",
      "  cat_df=cat_df.append(temp_df, ignore_index= True)\n"
     ]
    },
    {
     "name": "stdout",
     "output_type": "stream",
     "text": [
      "['Butter, Margarine & Plant-Based Alternatives', 'Butter', 'Plant-Based Butter', 'Pantry Staples', 'Cooking & Baking Oils', 'Sandwich Spreads', 'Jams, Jellies & Sweet Spreads']\n",
      "country crock salted butter\n",
      "https://www.amazon.com/s?k=country+crock+salted+butter&page=1\n"
     ]
    },
    {
     "name": "stderr",
     "output_type": "stream",
     "text": [
      "C:\\Users\\visha\\AppData\\Local\\Temp\\ipykernel_732\\1475642542.py:16: FutureWarning: The frame.append method is deprecated and will be removed from pandas in a future version. Use pandas.concat instead.\n",
      "  cat_df=cat_df.append(temp_df, ignore_index= True)\n"
     ]
    },
    {
     "name": "stdout",
     "output_type": "stream",
     "text": [
      "['Butter, Margarine & Plant-Based Alternatives', 'Butter', 'Plant-Based Butter', 'Pantry Staples']\n",
      "country crock spreadable butter\n",
      "https://www.amazon.com/s?k=country+crock+spreadable+butter&page=1\n"
     ]
    },
    {
     "name": "stderr",
     "output_type": "stream",
     "text": [
      "C:\\Users\\visha\\AppData\\Local\\Temp\\ipykernel_732\\1475642542.py:16: FutureWarning: The frame.append method is deprecated and will be removed from pandas in a future version. Use pandas.concat instead.\n",
      "  cat_df=cat_df.append(temp_df, ignore_index= True)\n"
     ]
    },
    {
     "name": "stdout",
     "output_type": "stream",
     "text": [
      "['Butter, Margarine & Plant-Based Alternatives', 'Butter', 'Plant-Based Butter', 'Pantry Staples', 'Lards & Shortenings']\n",
      "country crock stick butter\n",
      "https://www.amazon.com/s?k=country+crock+stick+butter&page=1\n"
     ]
    },
    {
     "name": "stderr",
     "output_type": "stream",
     "text": [
      "C:\\Users\\visha\\AppData\\Local\\Temp\\ipykernel_732\\1475642542.py:16: FutureWarning: The frame.append method is deprecated and will be removed from pandas in a future version. Use pandas.concat instead.\n",
      "  cat_df=cat_df.append(temp_df, ignore_index= True)\n"
     ]
    },
    {
     "name": "stdout",
     "output_type": "stream",
     "text": [
      "['Butter, Margarine & Plant-Based Alternatives', 'Butter', 'Plant-Based Butter', 'Snack Foods', 'Pantry Staples', 'Butter Dishes', 'Dog Treats']\n",
      "country crock tub butter\n",
      "https://www.amazon.com/s?k=country+crock+tub+butter&page=1\n"
     ]
    },
    {
     "name": "stderr",
     "output_type": "stream",
     "text": [
      "C:\\Users\\visha\\AppData\\Local\\Temp\\ipykernel_732\\1475642542.py:16: FutureWarning: The frame.append method is deprecated and will be removed from pandas in a future version. Use pandas.concat instead.\n",
      "  cat_df=cat_df.append(temp_df, ignore_index= True)\n"
     ]
    },
    {
     "name": "stdout",
     "output_type": "stream",
     "text": [
      "['Butter, Margarine & Plant-Based Alternatives', 'Butter', 'Pantry Staples']\n",
      "country crock unsalted butter\n",
      "https://www.amazon.com/s?k=country+crock+unsalted+butter&page=1\n"
     ]
    },
    {
     "name": "stderr",
     "output_type": "stream",
     "text": [
      "C:\\Users\\visha\\AppData\\Local\\Temp\\ipykernel_732\\1475642542.py:16: FutureWarning: The frame.append method is deprecated and will be removed from pandas in a future version. Use pandas.concat instead.\n",
      "  cat_df=cat_df.append(temp_df, ignore_index= True)\n"
     ]
    },
    {
     "name": "stdout",
     "output_type": "stream",
     "text": [
      "['Butter, Margarine & Plant-Based Alternatives', 'Butter', 'Pantry Staples']\n",
      "cultured european butter\n",
      "https://www.amazon.com/s?k=cultured+european+butter&page=1\n"
     ]
    },
    {
     "name": "stderr",
     "output_type": "stream",
     "text": [
      "C:\\Users\\visha\\AppData\\Local\\Temp\\ipykernel_732\\1475642542.py:16: FutureWarning: The frame.append method is deprecated and will be removed from pandas in a future version. Use pandas.concat instead.\n",
      "  cat_df=cat_df.append(temp_df, ignore_index= True)\n"
     ]
    },
    {
     "name": "stdout",
     "output_type": "stream",
     "text": [
      "['Butter, Margarine & Plant-Based Alternatives', 'Butter', 'Plant-Based Butter', 'Lards & Shortenings']\n",
      "european butter\n",
      "https://www.amazon.com/s?k=european+butter&page=1\n"
     ]
    },
    {
     "name": "stderr",
     "output_type": "stream",
     "text": [
      "C:\\Users\\visha\\AppData\\Local\\Temp\\ipykernel_732\\1475642542.py:16: FutureWarning: The frame.append method is deprecated and will be removed from pandas in a future version. Use pandas.concat instead.\n",
      "  cat_df=cat_df.append(temp_df, ignore_index= True)\n"
     ]
    },
    {
     "name": "stdout",
     "output_type": "stream",
     "text": [
      "['Grocery & Gourmet Food', 'Butter', 'Plant-Based Butter', 'Ghee', 'Breads & Bakery', 'Body Repair Tools']\n",
      "european butter baking\n",
      "https://www.amazon.com/s?k=european+butter+baking&page=1\n"
     ]
    },
    {
     "name": "stderr",
     "output_type": "stream",
     "text": [
      "C:\\Users\\visha\\AppData\\Local\\Temp\\ipykernel_732\\1475642542.py:16: FutureWarning: The frame.append method is deprecated and will be removed from pandas in a future version. Use pandas.concat instead.\n",
      "  cat_df=cat_df.append(temp_df, ignore_index= True)\n"
     ]
    },
    {
     "name": "stdout",
     "output_type": "stream",
     "text": [
      "['Butter, Margarine & Plant-Based Alternatives', 'Butter', 'Kitchen & Dining', 'Butter Dishes', 'Bakeware', 'Baking Powder', 'Ghee', 'Books']\n",
      "european butter brands\n",
      "https://www.amazon.com/s?k=european+butter+brands&page=1\n"
     ]
    },
    {
     "name": "stderr",
     "output_type": "stream",
     "text": [
      "C:\\Users\\visha\\AppData\\Local\\Temp\\ipykernel_732\\1475642542.py:16: FutureWarning: The frame.append method is deprecated and will be removed from pandas in a future version. Use pandas.concat instead.\n",
      "  cat_df=cat_df.append(temp_df, ignore_index= True)\n"
     ]
    },
    {
     "name": "stdout",
     "output_type": "stream",
     "text": [
      "['Butter, Margarine & Plant-Based Alternatives', 'Butter', 'Pantry Staples', 'Ghee', 'Snacks & Sweets', 'Breads & Bakery', 'Butter Cookies']\n",
      "european style butter\n",
      "https://www.amazon.com/s?k=european+style+butter&page=1\n"
     ]
    },
    {
     "name": "stderr",
     "output_type": "stream",
     "text": [
      "C:\\Users\\visha\\AppData\\Local\\Temp\\ipykernel_732\\1475642542.py:16: FutureWarning: The frame.append method is deprecated and will be removed from pandas in a future version. Use pandas.concat instead.\n",
      "  cat_df=cat_df.append(temp_df, ignore_index= True)\n"
     ]
    },
    {
     "name": "stdout",
     "output_type": "stream",
     "text": [
      "['Grocery & Gourmet Food', 'Butter', 'Plant-Based Butter', 'Ghee', 'Cooking & Baking Oils', 'Butter Dishes', 'Beauty & Personal Care']\n",
      "european style butter brands\n",
      "https://www.amazon.com/s?k=european+style+butter+brands&page=1\n"
     ]
    },
    {
     "name": "stderr",
     "output_type": "stream",
     "text": [
      "C:\\Users\\visha\\AppData\\Local\\Temp\\ipykernel_732\\1475642542.py:16: FutureWarning: The frame.append method is deprecated and will be removed from pandas in a future version. Use pandas.concat instead.\n",
      "  cat_df=cat_df.append(temp_df, ignore_index= True)\n"
     ]
    },
    {
     "name": "stdout",
     "output_type": "stream",
     "text": [
      "['Grocery & Gourmet Food', 'Butter', 'Ghee', 'Jams, Jellies & Sweet Spreads', 'Snacks & Sweets', 'Serveware']\n",
      "extra creamy\n",
      "https://www.amazon.com/s?k=extra+creamy&page=1\n"
     ]
    },
    {
     "name": "stderr",
     "output_type": "stream",
     "text": [
      "C:\\Users\\visha\\AppData\\Local\\Temp\\ipykernel_732\\1475642542.py:16: FutureWarning: The frame.append method is deprecated and will be removed from pandas in a future version. Use pandas.concat instead.\n",
      "  cat_df=cat_df.append(temp_df, ignore_index= True)\n"
     ]
    },
    {
     "name": "stdout",
     "output_type": "stream",
     "text": [
      "['Dairy, Eggs & Plant-Based Alternatives', 'Pantry Staples', 'Jams, Jellies & Sweet Spreads', 'Beverages', 'Snacks & Sweets', 'Candy & Chocolate', 'Beauty & Personal Care']\n",
      "flavored butter\n",
      "https://www.amazon.com/s?k=flavored+butter&page=1\n"
     ]
    },
    {
     "name": "stderr",
     "output_type": "stream",
     "text": [
      "C:\\Users\\visha\\AppData\\Local\\Temp\\ipykernel_732\\1475642542.py:16: FutureWarning: The frame.append method is deprecated and will be removed from pandas in a future version. Use pandas.concat instead.\n",
      "  cat_df=cat_df.append(temp_df, ignore_index= True)\n"
     ]
    },
    {
     "name": "stdout",
     "output_type": "stream",
     "text": [
      "['Grocery & Gourmet Food', 'Butter', 'Peanut Butter', 'Almond Butter', 'Fruit Butters', 'Books', 'Cheese & Dairy Cooking', 'Herb, Spice & Condiment Cooking']\n",
      "flavored butter brands\n",
      "https://www.amazon.com/s?k=flavored+butter+brands&page=1\n"
     ]
    },
    {
     "name": "stderr",
     "output_type": "stream",
     "text": [
      "C:\\Users\\visha\\AppData\\Local\\Temp\\ipykernel_732\\1475642542.py:16: FutureWarning: The frame.append method is deprecated and will be removed from pandas in a future version. Use pandas.concat instead.\n",
      "  cat_df=cat_df.append(temp_df, ignore_index= True)\n"
     ]
    },
    {
     "name": "stdout",
     "output_type": "stream",
     "text": [
      "['Butter, Margarine & Plant-Based Alternatives', 'Butter', 'Pantry Staples', 'Peanut Butter', 'Ghee', 'Fruit Butters']\n",
      "flavored butter spread\n",
      "https://www.amazon.com/s?k=flavored+butter+spread&page=1\n"
     ]
    },
    {
     "name": "stderr",
     "output_type": "stream",
     "text": [
      "C:\\Users\\visha\\AppData\\Local\\Temp\\ipykernel_732\\1475642542.py:16: FutureWarning: The frame.append method is deprecated and will be removed from pandas in a future version. Use pandas.concat instead.\n",
      "  cat_df=cat_df.append(temp_df, ignore_index= True)\n"
     ]
    },
    {
     "name": "stdout",
     "output_type": "stream",
     "text": [
      "['Grocery & Gourmet Food', 'Butter', 'Peanut Butter', 'Jams, Jellies & Sweet Spreads', 'Almond Butter', 'Honey', 'Cashew Butter']\n",
      "fresh buttery\n",
      "https://www.amazon.com/s?k=fresh+buttery&page=1\n"
     ]
    },
    {
     "name": "stderr",
     "output_type": "stream",
     "text": [
      "C:\\Users\\visha\\AppData\\Local\\Temp\\ipykernel_732\\1475642542.py:16: FutureWarning: The frame.append method is deprecated and will be removed from pandas in a future version. Use pandas.concat instead.\n",
      "  cat_df=cat_df.append(temp_df, ignore_index= True)\n"
     ]
    },
    {
     "name": "stdout",
     "output_type": "stream",
     "text": [
      "['Grocery & Gourmet Food', 'Butter', 'Herbs, Spices & Seasonings', 'Cooking & Baking Grocery Supplies', 'Frozen Foods']\n",
      "garlic & herb butter\n",
      "https://www.amazon.com/s?k=garlic+&+herb+butter&page=1\n"
     ]
    },
    {
     "name": "stderr",
     "output_type": "stream",
     "text": [
      "C:\\Users\\visha\\AppData\\Local\\Temp\\ipykernel_732\\1475642542.py:16: FutureWarning: The frame.append method is deprecated and will be removed from pandas in a future version. Use pandas.concat instead.\n",
      "  cat_df=cat_df.append(temp_df, ignore_index= True)\n"
     ]
    },
    {
     "name": "stdout",
     "output_type": "stream",
     "text": [
      "['Fresh Vegetables', 'Fresh Garlic', 'Pantry Staples', 'Garlic Powder & Seasonings', 'Canned & Jarred Garlic', 'Garlic Herbal Supplements', 'Frozen Foods']\n",
      "garlic and herb butter\n",
      "https://www.amazon.com/s?k=garlic+and+herb+butter&page=1\n"
     ]
    },
    {
     "name": "stderr",
     "output_type": "stream",
     "text": [
      "C:\\Users\\visha\\AppData\\Local\\Temp\\ipykernel_732\\1475642542.py:16: FutureWarning: The frame.append method is deprecated and will be removed from pandas in a future version. Use pandas.concat instead.\n",
      "  cat_df=cat_df.append(temp_df, ignore_index= True)\n"
     ]
    },
    {
     "name": "stdout",
     "output_type": "stream",
     "text": [
      "['Grocery & Gourmet Food', 'Butter', 'Garlic Powder & Seasonings', 'Seasoning Mixes', 'Meat Seasonings', 'Cheeses', 'Cooking & Baking Grocery Supplies']\n",
      "garlic and herb butter spread\n",
      "https://www.amazon.com/s?k=garlic+and+herb+butter+spread&page=1\n"
     ]
    },
    {
     "name": "stderr",
     "output_type": "stream",
     "text": [
      "C:\\Users\\visha\\AppData\\Local\\Temp\\ipykernel_732\\1475642542.py:16: FutureWarning: The frame.append method is deprecated and will be removed from pandas in a future version. Use pandas.concat instead.\n",
      "  cat_df=cat_df.append(temp_df, ignore_index= True)\n"
     ]
    },
    {
     "name": "stdout",
     "output_type": "stream",
     "text": [
      "['Pantry Staples', 'Sandwich Spreads', 'Jams, Jellies & Sweet Spreads', 'Butter, Margarine & Plant-Based Alternatives', 'Butter', 'Snack Food Salsas, Dips & Spreads']\n",
      "garlic herb butter\n",
      "https://www.amazon.com/s?k=garlic+herb+butter&page=1\n"
     ]
    },
    {
     "name": "stderr",
     "output_type": "stream",
     "text": [
      "C:\\Users\\visha\\AppData\\Local\\Temp\\ipykernel_732\\1475642542.py:16: FutureWarning: The frame.append method is deprecated and will be removed from pandas in a future version. Use pandas.concat instead.\n",
      "  cat_df=cat_df.append(temp_df, ignore_index= True)\n"
     ]
    },
    {
     "name": "stdout",
     "output_type": "stream",
     "text": [
      "['Grocery & Gourmet Food', 'Butter', 'Garlic Powder & Seasonings', 'Seasoning Mixes', 'Meat Seasonings', 'Refrigerated Cheese Dips & Spreads', 'Cheeses']\n",
      "garlic herb butter brands\n",
      "https://www.amazon.com/s?k=garlic+herb+butter+brands&page=1\n"
     ]
    },
    {
     "name": "stderr",
     "output_type": "stream",
     "text": [
      "C:\\Users\\visha\\AppData\\Local\\Temp\\ipykernel_732\\1475642542.py:16: FutureWarning: The frame.append method is deprecated and will be removed from pandas in a future version. Use pandas.concat instead.\n",
      "  cat_df=cat_df.append(temp_df, ignore_index= True)\n"
     ]
    },
    {
     "name": "stdout",
     "output_type": "stream",
     "text": [
      "['Butter, Margarine & Plant-Based Alternatives', 'Butter', 'Pantry Staples', 'Garlic Powder & Seasonings', 'Canned & Jarred Garlic', 'Sauces, Gravies & Marinades', 'Cooking & Baking Oils']\n",
      "garlic herb butter spread\n",
      "https://www.amazon.com/s?k=garlic+herb+butter+spread&page=1\n"
     ]
    },
    {
     "name": "stderr",
     "output_type": "stream",
     "text": [
      "C:\\Users\\visha\\AppData\\Local\\Temp\\ipykernel_732\\1475642542.py:16: FutureWarning: The frame.append method is deprecated and will be removed from pandas in a future version. Use pandas.concat instead.\n",
      "  cat_df=cat_df.append(temp_df, ignore_index= True)\n"
     ]
    },
    {
     "name": "stdout",
     "output_type": "stream",
     "text": [
      "['Pantry Staples', 'Sandwich Spreads', 'Jams, Jellies & Sweet Spreads', 'Butter, Margarine & Plant-Based Alternatives', 'Butter', 'Snack Food Salsas, Dips & Spreads']\n",
      "garlic herb butter store\n",
      "https://www.amazon.com/s?k=garlic+herb+butter+store&page=1\n"
     ]
    },
    {
     "name": "stderr",
     "output_type": "stream",
     "text": [
      "C:\\Users\\visha\\AppData\\Local\\Temp\\ipykernel_732\\1475642542.py:16: FutureWarning: The frame.append method is deprecated and will be removed from pandas in a future version. Use pandas.concat instead.\n",
      "  cat_df=cat_df.append(temp_df, ignore_index= True)\n"
     ]
    },
    {
     "name": "stdout",
     "output_type": "stream",
     "text": [
      "['Butter', 'Pantry Staples', 'Canned & Jarred Garlic', 'Garlic Powder & Seasonings', 'Sauces, Gravies & Marinades', 'Cooking & Baking Oils', 'Kitchen & Dining']\n",
      "great margarine\n",
      "https://www.amazon.com/s?k=great+margarine&page=1\n"
     ]
    },
    {
     "name": "stderr",
     "output_type": "stream",
     "text": [
      "C:\\Users\\visha\\AppData\\Local\\Temp\\ipykernel_732\\1475642542.py:16: FutureWarning: The frame.append method is deprecated and will be removed from pandas in a future version. Use pandas.concat instead.\n",
      "  cat_df=cat_df.append(temp_df, ignore_index= True)\n"
     ]
    },
    {
     "name": "stdout",
     "output_type": "stream",
     "text": [
      "['Butter, Margarine & Plant-Based Alternatives', 'Butter', 'Plant-Based Butter', 'Pantry Staples']\n",
      "grocery margarine\n",
      "https://www.amazon.com/s?k=grocery+margarine&page=1\n"
     ]
    },
    {
     "name": "stderr",
     "output_type": "stream",
     "text": [
      "C:\\Users\\visha\\AppData\\Local\\Temp\\ipykernel_732\\1475642542.py:16: FutureWarning: The frame.append method is deprecated and will be removed from pandas in a future version. Use pandas.concat instead.\n",
      "  cat_df=cat_df.append(temp_df, ignore_index= True)\n"
     ]
    },
    {
     "name": "stdout",
     "output_type": "stream",
     "text": [
      "['Butter, Margarine & Plant-Based Alternatives', 'Butter', 'Plant-Based Butter', 'Cooking & Baking Grocery Supplies']\n",
      "healthiest stick butter\n",
      "https://www.amazon.com/s?k=healthiest+stick+butter&page=1\n"
     ]
    },
    {
     "name": "stderr",
     "output_type": "stream",
     "text": [
      "C:\\Users\\visha\\AppData\\Local\\Temp\\ipykernel_732\\1475642542.py:16: FutureWarning: The frame.append method is deprecated and will be removed from pandas in a future version. Use pandas.concat instead.\n",
      "  cat_df=cat_df.append(temp_df, ignore_index= True)\n"
     ]
    },
    {
     "name": "stdout",
     "output_type": "stream",
     "text": [
      "['Butter', 'Snack Foods', 'Plant-Based Butter', 'Body Moisturizers', 'Body Butters', 'Breads & Bakery', 'Pantry Staples']\n",
      "healthy salted butter\n",
      "https://www.amazon.com/s?k=healthy+salted+butter&page=1\n"
     ]
    },
    {
     "name": "stderr",
     "output_type": "stream",
     "text": [
      "C:\\Users\\visha\\AppData\\Local\\Temp\\ipykernel_732\\1475642542.py:16: FutureWarning: The frame.append method is deprecated and will be removed from pandas in a future version. Use pandas.concat instead.\n",
      "  cat_df=cat_df.append(temp_df, ignore_index= True)\n"
     ]
    },
    {
     "name": "stdout",
     "output_type": "stream",
     "text": [
      "['Butter, Margarine & Plant-Based Alternatives', 'Butter', 'Plant-Based Butter', 'Pantry Staples', 'Ghee', 'Peanut Butter']\n",
      "healthy stick butter\n",
      "https://www.amazon.com/s?k=healthy+stick+butter&page=1\n"
     ]
    },
    {
     "name": "stderr",
     "output_type": "stream",
     "text": [
      "C:\\Users\\visha\\AppData\\Local\\Temp\\ipykernel_732\\1475642542.py:16: FutureWarning: The frame.append method is deprecated and will be removed from pandas in a future version. Use pandas.concat instead.\n",
      "  cat_df=cat_df.append(temp_df, ignore_index= True)\n"
     ]
    },
    {
     "name": "stdout",
     "output_type": "stream",
     "text": [
      "['Butter, Margarine & Plant-Based Alternatives', 'Butter', 'Plant-Based Butter', 'Snack Foods', 'Breads & Bakery', 'Body Butters', 'Jams, Jellies & Sweet Spreads']\n",
      "herb garlic butter\n",
      "https://www.amazon.com/s?k=herb+garlic+butter&page=1\n"
     ]
    },
    {
     "name": "stderr",
     "output_type": "stream",
     "text": [
      "C:\\Users\\visha\\AppData\\Local\\Temp\\ipykernel_732\\1475642542.py:16: FutureWarning: The frame.append method is deprecated and will be removed from pandas in a future version. Use pandas.concat instead.\n",
      "  cat_df=cat_df.append(temp_df, ignore_index= True)\n"
     ]
    },
    {
     "name": "stdout",
     "output_type": "stream",
     "text": [
      "['Butter, Margarine & Plant-Based Alternatives', 'Butter', 'Pantry Staples', 'Garlic Powder & Seasonings', 'Canned & Jarred Garlic', 'Ghee', 'Cooking & Baking Oils']\n",
      "high quality butter\n",
      "https://www.amazon.com/s?k=high+quality+butter&page=1\n"
     ]
    },
    {
     "name": "stderr",
     "output_type": "stream",
     "text": [
      "C:\\Users\\visha\\AppData\\Local\\Temp\\ipykernel_732\\1475642542.py:16: FutureWarning: The frame.append method is deprecated and will be removed from pandas in a future version. Use pandas.concat instead.\n",
      "  cat_df=cat_df.append(temp_df, ignore_index= True)\n"
     ]
    },
    {
     "name": "stdout",
     "output_type": "stream",
     "text": [
      "['Dairy, Eggs & Plant-Based Alternatives', 'Butter', 'Lards & Shortenings', 'Ghee', 'Dinnerware & Serveware']\n",
      "high quality butter brands\n",
      "https://www.amazon.com/s?k=high+quality+butter+brands&page=1\n"
     ]
    },
    {
     "name": "stderr",
     "output_type": "stream",
     "text": [
      "C:\\Users\\visha\\AppData\\Local\\Temp\\ipykernel_732\\1475642542.py:16: FutureWarning: The frame.append method is deprecated and will be removed from pandas in a future version. Use pandas.concat instead.\n",
      "  cat_df=cat_df.append(temp_df, ignore_index= True)\n"
     ]
    },
    {
     "name": "stdout",
     "output_type": "stream",
     "text": [
      "['Butter, Margarine & Plant-Based Alternatives', 'Butter', 'Lards & Shortenings', 'Ghee', 'Dinnerware & Serveware']\n",
      "honey butter\n",
      "https://www.amazon.com/s?k=honey+butter&page=1\n"
     ]
    },
    {
     "name": "stderr",
     "output_type": "stream",
     "text": [
      "C:\\Users\\visha\\AppData\\Local\\Temp\\ipykernel_732\\1475642542.py:16: FutureWarning: The frame.append method is deprecated and will be removed from pandas in a future version. Use pandas.concat instead.\n",
      "  cat_df=cat_df.append(temp_df, ignore_index= True)\n"
     ]
    },
    {
     "name": "stdout",
     "output_type": "stream",
     "text": [
      "['Grocery & Gourmet Food', 'Honey', 'Butter', 'Peanut Butter', 'Biscuit Mixes', 'Almond Butter', 'Eczema, Psoriasis & Rosacea Care']\n",
      "honey butter brands\n",
      "https://www.amazon.com/s?k=honey+butter+brands&page=1\n"
     ]
    },
    {
     "name": "stderr",
     "output_type": "stream",
     "text": [
      "C:\\Users\\visha\\AppData\\Local\\Temp\\ipykernel_732\\1475642542.py:16: FutureWarning: The frame.append method is deprecated and will be removed from pandas in a future version. Use pandas.concat instead.\n",
      "  cat_df=cat_df.append(temp_df, ignore_index= True)\n"
     ]
    },
    {
     "name": "stdout",
     "output_type": "stream",
     "text": [
      "['Grocery & Gourmet Food', 'Honey', 'Jams, Jellies & Sweet Spreads', 'Nut & Seed Butters', 'Butter', 'Skin Care Products']\n",
      "honey butter spread\n",
      "https://www.amazon.com/s?k=honey+butter+spread&page=1\n"
     ]
    },
    {
     "name": "stderr",
     "output_type": "stream",
     "text": [
      "C:\\Users\\visha\\AppData\\Local\\Temp\\ipykernel_732\\1475642542.py:16: FutureWarning: The frame.append method is deprecated and will be removed from pandas in a future version. Use pandas.concat instead.\n",
      "  cat_df=cat_df.append(temp_df, ignore_index= True)\n"
     ]
    },
    {
     "name": "stdout",
     "output_type": "stream",
     "text": [
      "['Grocery & Gourmet Food', 'Honey', 'Butter', 'Jams, Jellies & Sweet Spreads', 'Almond Butter']\n",
      "honey butter store\n",
      "https://www.amazon.com/s?k=honey+butter+store&page=1\n"
     ]
    },
    {
     "name": "stderr",
     "output_type": "stream",
     "text": [
      "C:\\Users\\visha\\AppData\\Local\\Temp\\ipykernel_732\\1475642542.py:16: FutureWarning: The frame.append method is deprecated and will be removed from pandas in a future version. Use pandas.concat instead.\n",
      "  cat_df=cat_df.append(temp_df, ignore_index= True)\n"
     ]
    },
    {
     "name": "stdout",
     "output_type": "stream",
     "text": [
      "['Grocery & Gourmet Food', 'Honey', 'Butter, Margarine & Plant-Based Alternatives', 'Jams, Jellies & Sweet Spreads', 'Skin Care Products', 'Body Butters', 'Dinnerware & Serveware']\n",
      "imperial margarine\n",
      "https://www.amazon.com/s?k=imperial+margarine&page=1\n"
     ]
    },
    {
     "name": "stderr",
     "output_type": "stream",
     "text": [
      "C:\\Users\\visha\\AppData\\Local\\Temp\\ipykernel_732\\1475642542.py:16: FutureWarning: The frame.append method is deprecated and will be removed from pandas in a future version. Use pandas.concat instead.\n",
      "  cat_df=cat_df.append(temp_df, ignore_index= True)\n"
     ]
    },
    {
     "name": "stdout",
     "output_type": "stream",
     "text": [
      "['Condiments & Salad Dressings', 'Sandwich Spreads', 'Butter, Margarine & Plant-Based Alternatives', 'Butter', 'Plant-Based Butter', 'Herbs, Spices & Seasonings', 'Nut & Seed Butters']\n",
      "ingredients in margarine\n",
      "https://www.amazon.com/s?k=ingredients+in+margarine&page=1\n"
     ]
    },
    {
     "name": "stderr",
     "output_type": "stream",
     "text": [
      "C:\\Users\\visha\\AppData\\Local\\Temp\\ipykernel_732\\1475642542.py:16: FutureWarning: The frame.append method is deprecated and will be removed from pandas in a future version. Use pandas.concat instead.\n",
      "  cat_df=cat_df.append(temp_df, ignore_index= True)\n"
     ]
    },
    {
     "name": "stdout",
     "output_type": "stream",
     "text": [
      "['Butter, Margarine & Plant-Based Alternatives', 'Butter', 'Plant-Based Butter', 'Pantry Staples']\n",
      "kerrygold butter\n",
      "https://www.amazon.com/s?k=kerrygold+butter&page=1\n"
     ]
    },
    {
     "name": "stderr",
     "output_type": "stream",
     "text": [
      "C:\\Users\\visha\\AppData\\Local\\Temp\\ipykernel_732\\1475642542.py:16: FutureWarning: The frame.append method is deprecated and will be removed from pandas in a future version. Use pandas.concat instead.\n",
      "  cat_df=cat_df.append(temp_df, ignore_index= True)\n"
     ]
    },
    {
     "name": "stdout",
     "output_type": "stream",
     "text": [
      "['Butter, Margarine & Plant-Based Alternatives', 'Butter', 'Pantry Staples']\n",
      "kerrygold butter balls\n",
      "https://www.amazon.com/s?k=kerrygold+butter+balls&page=1\n"
     ]
    },
    {
     "name": "stderr",
     "output_type": "stream",
     "text": [
      "C:\\Users\\visha\\AppData\\Local\\Temp\\ipykernel_732\\1475642542.py:16: FutureWarning: The frame.append method is deprecated and will be removed from pandas in a future version. Use pandas.concat instead.\n",
      "  cat_df=cat_df.append(temp_df, ignore_index= True)\n"
     ]
    },
    {
     "name": "stdout",
     "output_type": "stream",
     "text": [
      "['Butter, Margarine & Plant-Based Alternatives', 'Butter', 'Snacks & Sweets', 'Snack Foods', 'Pantry Staples', 'Cooking & Baking Grocery Supplies', 'Grocery Cookies']\n",
      "kerrygold butter spread\n",
      "https://www.amazon.com/s?k=kerrygold+butter+spread&page=1\n"
     ]
    },
    {
     "name": "stderr",
     "output_type": "stream",
     "text": [
      "C:\\Users\\visha\\AppData\\Local\\Temp\\ipykernel_732\\1475642542.py:16: FutureWarning: The frame.append method is deprecated and will be removed from pandas in a future version. Use pandas.concat instead.\n",
      "  cat_df=cat_df.append(temp_df, ignore_index= True)\n"
     ]
    },
    {
     "name": "stdout",
     "output_type": "stream",
     "text": [
      "['Butter, Margarine & Plant-Based Alternatives', 'Butter', 'Plant-Based Butter', 'Pantry Staples', 'Condiments & Salad Dressings']\n",
      "kerrygold flavored butter\n",
      "https://www.amazon.com/s?k=kerrygold+flavored+butter&page=1\n"
     ]
    },
    {
     "name": "stderr",
     "output_type": "stream",
     "text": [
      "C:\\Users\\visha\\AppData\\Local\\Temp\\ipykernel_732\\1475642542.py:16: FutureWarning: The frame.append method is deprecated and will be removed from pandas in a future version. Use pandas.concat instead.\n",
      "  cat_df=cat_df.append(temp_df, ignore_index= True)\n"
     ]
    },
    {
     "name": "stdout",
     "output_type": "stream",
     "text": [
      "['Butter, Margarine & Plant-Based Alternatives', 'Butter', 'Pantry Staples', 'Ghee']\n",
      "kerrygold garlic herb butter\n",
      "https://www.amazon.com/s?k=kerrygold+garlic+herb+butter&page=1\n"
     ]
    },
    {
     "name": "stderr",
     "output_type": "stream",
     "text": [
      "C:\\Users\\visha\\AppData\\Local\\Temp\\ipykernel_732\\1475642542.py:16: FutureWarning: The frame.append method is deprecated and will be removed from pandas in a future version. Use pandas.concat instead.\n",
      "  cat_df=cat_df.append(temp_df, ignore_index= True)\n"
     ]
    },
    {
     "name": "stdout",
     "output_type": "stream",
     "text": [
      "['Butter, Margarine & Plant-Based Alternatives', 'Butter', 'Pantry Staples', 'Ghee']\n",
      "kerrygold honey butter\n",
      "https://www.amazon.com/s?k=kerrygold+honey+butter&page=1\n"
     ]
    },
    {
     "name": "stderr",
     "output_type": "stream",
     "text": [
      "C:\\Users\\visha\\AppData\\Local\\Temp\\ipykernel_732\\1475642542.py:16: FutureWarning: The frame.append method is deprecated and will be removed from pandas in a future version. Use pandas.concat instead.\n",
      "  cat_df=cat_df.append(temp_df, ignore_index= True)\n"
     ]
    },
    {
     "name": "stdout",
     "output_type": "stream",
     "text": [
      "['Butter, Margarine & Plant-Based Alternatives', 'Butter', 'Plant-Based Butter', 'Pantry Staples']\n",
      "kerrygold margarine\n",
      "https://www.amazon.com/s?k=kerrygold+margarine&page=1\n"
     ]
    },
    {
     "name": "stderr",
     "output_type": "stream",
     "text": [
      "C:\\Users\\visha\\AppData\\Local\\Temp\\ipykernel_732\\1475642542.py:16: FutureWarning: The frame.append method is deprecated and will be removed from pandas in a future version. Use pandas.concat instead.\n",
      "  cat_df=cat_df.append(temp_df, ignore_index= True)\n"
     ]
    },
    {
     "name": "stdout",
     "output_type": "stream",
     "text": [
      "['Butter, Margarine & Plant-Based Alternatives', 'Butter', 'Plant-Based Butter', 'Lards & Shortenings']\n",
      "kerrygold salted butter\n",
      "https://www.amazon.com/s?k=kerrygold+salted+butter&page=1\n"
     ]
    },
    {
     "name": "stderr",
     "output_type": "stream",
     "text": [
      "C:\\Users\\visha\\AppData\\Local\\Temp\\ipykernel_732\\1475642542.py:16: FutureWarning: The frame.append method is deprecated and will be removed from pandas in a future version. Use pandas.concat instead.\n",
      "  cat_df=cat_df.append(temp_df, ignore_index= True)\n"
     ]
    },
    {
     "name": "stdout",
     "output_type": "stream",
     "text": [
      "['Butter, Margarine & Plant-Based Alternatives', 'Butter', 'Cooking & Baking Grocery Supplies']\n",
      "kerrygold spreadable butter\n",
      "https://www.amazon.com/s?k=kerrygold+spreadable+butter&page=1\n"
     ]
    },
    {
     "name": "stderr",
     "output_type": "stream",
     "text": [
      "C:\\Users\\visha\\AppData\\Local\\Temp\\ipykernel_732\\1475642542.py:16: FutureWarning: The frame.append method is deprecated and will be removed from pandas in a future version. Use pandas.concat instead.\n",
      "  cat_df=cat_df.append(temp_df, ignore_index= True)\n"
     ]
    },
    {
     "name": "stdout",
     "output_type": "stream",
     "text": [
      "['Butter, Margarine & Plant-Based Alternatives', 'Butter']\n",
      "kerrygold stick butter\n",
      "https://www.amazon.com/s?k=kerrygold+stick+butter&page=1\n"
     ]
    },
    {
     "name": "stderr",
     "output_type": "stream",
     "text": [
      "C:\\Users\\visha\\AppData\\Local\\Temp\\ipykernel_732\\1475642542.py:16: FutureWarning: The frame.append method is deprecated and will be removed from pandas in a future version. Use pandas.concat instead.\n",
      "  cat_df=cat_df.append(temp_df, ignore_index= True)\n"
     ]
    },
    {
     "name": "stdout",
     "output_type": "stream",
     "text": [
      "['Butter, Margarine & Plant-Based Alternatives', 'Butter', 'Plant-Based Butter', 'Pantry Staples']\n",
      "kerrygold tub butter\n",
      "https://www.amazon.com/s?k=kerrygold+tub+butter&page=1\n"
     ]
    },
    {
     "name": "stderr",
     "output_type": "stream",
     "text": [
      "C:\\Users\\visha\\AppData\\Local\\Temp\\ipykernel_732\\1475642542.py:16: FutureWarning: The frame.append method is deprecated and will be removed from pandas in a future version. Use pandas.concat instead.\n",
      "  cat_df=cat_df.append(temp_df, ignore_index= True)\n"
     ]
    },
    {
     "name": "stdout",
     "output_type": "stream",
     "text": [
      "['Butter, Margarine & Plant-Based Alternatives', 'Butter', 'Plant-Based Butter', 'Pantry Staples']\n",
      "kerrygold unsalted butter\n",
      "https://www.amazon.com/s?k=kerrygold+unsalted+butter&page=1\n"
     ]
    },
    {
     "name": "stderr",
     "output_type": "stream",
     "text": [
      "C:\\Users\\visha\\AppData\\Local\\Temp\\ipykernel_732\\1475642542.py:16: FutureWarning: The frame.append method is deprecated and will be removed from pandas in a future version. Use pandas.concat instead.\n",
      "  cat_df=cat_df.append(temp_df, ignore_index= True)\n"
     ]
    },
    {
     "name": "stdout",
     "output_type": "stream",
     "text": [
      "['Butter, Margarine & Plant-Based Alternatives', 'Butter', 'Food & Beverage Gifts', 'Cheese & Charcuterie Gifts', 'Everything Else', 'Lards & Shortenings']\n",
      "kosher margarine\n",
      "https://www.amazon.com/s?k=kosher+margarine&page=1\n"
     ]
    },
    {
     "name": "stderr",
     "output_type": "stream",
     "text": [
      "C:\\Users\\visha\\AppData\\Local\\Temp\\ipykernel_732\\1475642542.py:16: FutureWarning: The frame.append method is deprecated and will be removed from pandas in a future version. Use pandas.concat instead.\n",
      "  cat_df=cat_df.append(temp_df, ignore_index= True)\n"
     ]
    },
    {
     "name": "stdout",
     "output_type": "stream",
     "text": [
      "['Butter, Margarine & Plant-Based Alternatives', 'Butter', 'Plant-Based Butter', 'Cooking & Baking Grocery Supplies']\n",
      "land lakes butter\n",
      "https://www.amazon.com/s?k=land+lakes+butter&page=1\n"
     ]
    },
    {
     "name": "stderr",
     "output_type": "stream",
     "text": [
      "C:\\Users\\visha\\AppData\\Local\\Temp\\ipykernel_732\\1475642542.py:16: FutureWarning: The frame.append method is deprecated and will be removed from pandas in a future version. Use pandas.concat instead.\n",
      "  cat_df=cat_df.append(temp_df, ignore_index= True)\n"
     ]
    },
    {
     "name": "stdout",
     "output_type": "stream",
     "text": [
      "['Butter, Margarine & Plant-Based Alternatives', 'Butter', 'Milks & Creams', 'Beverages']\n",
      "land lakes cinnamon butter\n",
      "https://www.amazon.com/s?k=land+lakes+cinnamon+butter&page=1\n"
     ]
    },
    {
     "name": "stderr",
     "output_type": "stream",
     "text": [
      "C:\\Users\\visha\\AppData\\Local\\Temp\\ipykernel_732\\1475642542.py:16: FutureWarning: The frame.append method is deprecated and will be removed from pandas in a future version. Use pandas.concat instead.\n",
      "  cat_df=cat_df.append(temp_df, ignore_index= True)\n"
     ]
    },
    {
     "name": "stdout",
     "output_type": "stream",
     "text": [
      "['Dairy, Eggs & Plant-Based Alternatives', 'Butter', 'Milks & Creams', 'Beverages', 'Hot Cocoa']\n",
      "land lakes cinnamon spread\n",
      "https://www.amazon.com/s?k=land+lakes+cinnamon+spread&page=1\n"
     ]
    },
    {
     "name": "stderr",
     "output_type": "stream",
     "text": [
      "C:\\Users\\visha\\AppData\\Local\\Temp\\ipykernel_732\\1475642542.py:16: FutureWarning: The frame.append method is deprecated and will be removed from pandas in a future version. Use pandas.concat instead.\n",
      "  cat_df=cat_df.append(temp_df, ignore_index= True)\n"
     ]
    },
    {
     "name": "stdout",
     "output_type": "stream",
     "text": [
      "['Grocery & Gourmet Food', 'Chocolate & Hazelnut Spreads', 'Dairy, Eggs & Plant-Based Alternatives', 'Jams, Jellies & Preserves']\n",
      "land lakes cinnamon sugar butter\n",
      "https://www.amazon.com/s?k=land+lakes+cinnamon+sugar+butter&page=1\n"
     ]
    },
    {
     "name": "stderr",
     "output_type": "stream",
     "text": [
      "C:\\Users\\visha\\AppData\\Local\\Temp\\ipykernel_732\\1475642542.py:16: FutureWarning: The frame.append method is deprecated and will be removed from pandas in a future version. Use pandas.concat instead.\n",
      "  cat_df=cat_df.append(temp_df, ignore_index= True)\n"
     ]
    },
    {
     "name": "stdout",
     "output_type": "stream",
     "text": [
      "['Butter', 'Beverages', 'Hot Cocoa', 'Bottled Beverages, Water & Drink Mixes', 'Pantry Staples', 'Milks & Creams', 'Coffee Creamers']\n",
      "land lakes european butter\n",
      "https://www.amazon.com/s?k=land+lakes+european+butter&page=1\n"
     ]
    },
    {
     "name": "stderr",
     "output_type": "stream",
     "text": [
      "C:\\Users\\visha\\AppData\\Local\\Temp\\ipykernel_732\\1475642542.py:16: FutureWarning: The frame.append method is deprecated and will be removed from pandas in a future version. Use pandas.concat instead.\n",
      "  cat_df=cat_df.append(temp_df, ignore_index= True)\n"
     ]
    },
    {
     "name": "stdout",
     "output_type": "stream",
     "text": [
      "['Grocery & Gourmet Food', 'Butter']\n",
      "land lakes european style butter\n",
      "https://www.amazon.com/s?k=land+lakes+european+style+butter&page=1\n"
     ]
    },
    {
     "name": "stderr",
     "output_type": "stream",
     "text": [
      "C:\\Users\\visha\\AppData\\Local\\Temp\\ipykernel_732\\1475642542.py:16: FutureWarning: The frame.append method is deprecated and will be removed from pandas in a future version. Use pandas.concat instead.\n",
      "  cat_df=cat_df.append(temp_df, ignore_index= True)\n"
     ]
    },
    {
     "name": "stdout",
     "output_type": "stream",
     "text": [
      "['Butter, Margarine & Plant-Based Alternatives', 'Butter', 'Milks & Creams']\n",
      "land lakes spread\n",
      "https://www.amazon.com/s?k=land+lakes+spread&page=1\n"
     ]
    },
    {
     "name": "stderr",
     "output_type": "stream",
     "text": [
      "C:\\Users\\visha\\AppData\\Local\\Temp\\ipykernel_732\\1475642542.py:16: FutureWarning: The frame.append method is deprecated and will be removed from pandas in a future version. Use pandas.concat instead.\n",
      "  cat_df=cat_df.append(temp_df, ignore_index= True)\n"
     ]
    },
    {
     "name": "stdout",
     "output_type": "stream",
     "text": [
      "['Grocery & Gourmet Food', 'Pantry Staples']\n",
      "land o lakes\n",
      "https://www.amazon.com/s?k=land+o+lakes&page=1\n"
     ]
    },
    {
     "name": "stderr",
     "output_type": "stream",
     "text": [
      "C:\\Users\\visha\\AppData\\Local\\Temp\\ipykernel_732\\1475642542.py:16: FutureWarning: The frame.append method is deprecated and will be removed from pandas in a future version. Use pandas.concat instead.\n",
      "  cat_df=cat_df.append(temp_df, ignore_index= True)\n"
     ]
    },
    {
     "name": "stdout",
     "output_type": "stream",
     "text": [
      "['Grocery & Gourmet Food', 'Butter', 'Hot Cocoa', 'American Cheeses', 'Food Assortments & Variety Gifts', 'Coffee Creamers', 'Half & Half Creams']\n",
      "land o lakes brown sugar butter\n",
      "https://www.amazon.com/s?k=land+o+lakes+brown+sugar+butter&page=1\n"
     ]
    },
    {
     "name": "stderr",
     "output_type": "stream",
     "text": [
      "C:\\Users\\visha\\AppData\\Local\\Temp\\ipykernel_732\\1475642542.py:16: FutureWarning: The frame.append method is deprecated and will be removed from pandas in a future version. Use pandas.concat instead.\n",
      "  cat_df=cat_df.append(temp_df, ignore_index= True)\n"
     ]
    },
    {
     "name": "stdout",
     "output_type": "stream",
     "text": [
      "['Butter, Margarine & Plant-Based Alternatives', 'Butter', 'Pantry Staples', 'Cooking & Baking Grocery Supplies', 'Beverages', 'Hot Cocoa', 'Milks & Creams']\n",
      "land o lakes butter\n",
      "https://www.amazon.com/s?k=land+o+lakes+butter&page=1\n"
     ]
    },
    {
     "name": "stderr",
     "output_type": "stream",
     "text": [
      "C:\\Users\\visha\\AppData\\Local\\Temp\\ipykernel_732\\1475642542.py:16: FutureWarning: The frame.append method is deprecated and will be removed from pandas in a future version. Use pandas.concat instead.\n",
      "  cat_df=cat_df.append(temp_df, ignore_index= True)\n"
     ]
    },
    {
     "name": "stdout",
     "output_type": "stream",
     "text": [
      "['Butter, Margarine & Plant-Based Alternatives', 'Butter', 'Plant-Based Butter', 'Jams, Jellies & Sweet Spreads', 'Nut & Seed Butters', 'Almond Butter']\n",
      "land o lakes butter balls\n",
      "https://www.amazon.com/s?k=land+o+lakes+butter+balls&page=1\n"
     ]
    },
    {
     "name": "stderr",
     "output_type": "stream",
     "text": [
      "C:\\Users\\visha\\AppData\\Local\\Temp\\ipykernel_732\\1475642542.py:16: FutureWarning: The frame.append method is deprecated and will be removed from pandas in a future version. Use pandas.concat instead.\n",
      "  cat_df=cat_df.append(temp_df, ignore_index= True)\n"
     ]
    },
    {
     "name": "stdout",
     "output_type": "stream",
     "text": [
      "['Grocery & Gourmet Food', 'Butter', 'Hot Cocoa', 'Packaged Macaroni & Cheese', 'Puffed Snacks', 'Butter Dishes', 'Fishing Hats']\n",
      "land o lakes butter cinnamon\n",
      "https://www.amazon.com/s?k=land+o+lakes+butter+cinnamon&page=1\n"
     ]
    },
    {
     "name": "stderr",
     "output_type": "stream",
     "text": [
      "C:\\Users\\visha\\AppData\\Local\\Temp\\ipykernel_732\\1475642542.py:16: FutureWarning: The frame.append method is deprecated and will be removed from pandas in a future version. Use pandas.concat instead.\n",
      "  cat_df=cat_df.append(temp_df, ignore_index= True)\n"
     ]
    },
    {
     "name": "stdout",
     "output_type": "stream",
     "text": [
      "['Butter, Margarine & Plant-Based Alternatives', 'Butter', 'Pantry Staples', 'Beverages', 'Hot Cocoa']\n",
      "land o lakes butter spread\n",
      "https://www.amazon.com/s?k=land+o+lakes+butter+spread&page=1\n"
     ]
    },
    {
     "name": "stderr",
     "output_type": "stream",
     "text": [
      "C:\\Users\\visha\\AppData\\Local\\Temp\\ipykernel_732\\1475642542.py:16: FutureWarning: The frame.append method is deprecated and will be removed from pandas in a future version. Use pandas.concat instead.\n",
      "  cat_df=cat_df.append(temp_df, ignore_index= True)\n"
     ]
    },
    {
     "name": "stdout",
     "output_type": "stream",
     "text": [
      "['Butter, Margarine & Plant-Based Alternatives', 'Butter', 'Plant-Based Butter', 'Jams, Jellies & Sweet Spreads', 'Nut & Seed Butters', 'Almond Butter', 'Cooking & Baking Grocery Supplies']\n",
      "land o lakes butter with canola oil\n",
      "https://www.amazon.com/s?k=land+o+lakes+butter+with+canola+oil&page=1\n"
     ]
    },
    {
     "name": "stderr",
     "output_type": "stream",
     "text": [
      "C:\\Users\\visha\\AppData\\Local\\Temp\\ipykernel_732\\1475642542.py:16: FutureWarning: The frame.append method is deprecated and will be removed from pandas in a future version. Use pandas.concat instead.\n",
      "  cat_df=cat_df.append(temp_df, ignore_index= True)\n"
     ]
    },
    {
     "name": "stdout",
     "output_type": "stream",
     "text": [
      "['Butter, Margarine & Plant-Based Alternatives', 'Butter', 'Plant-Based Butter', 'Jams, Jellies & Sweet Spreads', 'Nut & Seed Butters']\n",
      "land o lakes butter with olive oil\n",
      "https://www.amazon.com/s?k=land+o+lakes+butter+with+olive+oil&page=1\n"
     ]
    },
    {
     "name": "stderr",
     "output_type": "stream",
     "text": [
      "C:\\Users\\visha\\AppData\\Local\\Temp\\ipykernel_732\\1475642542.py:16: FutureWarning: The frame.append method is deprecated and will be removed from pandas in a future version. Use pandas.concat instead.\n",
      "  cat_df=cat_df.append(temp_df, ignore_index= True)\n"
     ]
    },
    {
     "name": "stdout",
     "output_type": "stream",
     "text": [
      "['Butter, Margarine & Plant-Based Alternatives', 'Butter', 'Plant-Based Butter', 'Nut & Seed Butters', 'Almond Butter']\n",
      "land o lakes buttery spread\n",
      "https://www.amazon.com/s?k=land+o+lakes+buttery+spread&page=1\n"
     ]
    },
    {
     "name": "stderr",
     "output_type": "stream",
     "text": [
      "C:\\Users\\visha\\AppData\\Local\\Temp\\ipykernel_732\\1475642542.py:16: FutureWarning: The frame.append method is deprecated and will be removed from pandas in a future version. Use pandas.concat instead.\n",
      "  cat_df=cat_df.append(temp_df, ignore_index= True)\n"
     ]
    },
    {
     "name": "stdout",
     "output_type": "stream",
     "text": [
      "['Butter, Margarine & Plant-Based Alternatives', 'Butter', 'Pantry Staples', 'Sandwich Spreads']\n",
      "land o lakes canola butter\n",
      "https://www.amazon.com/s?k=land+o+lakes+canola+butter&page=1\n"
     ]
    },
    {
     "name": "stderr",
     "output_type": "stream",
     "text": [
      "C:\\Users\\visha\\AppData\\Local\\Temp\\ipykernel_732\\1475642542.py:16: FutureWarning: The frame.append method is deprecated and will be removed from pandas in a future version. Use pandas.concat instead.\n",
      "  cat_df=cat_df.append(temp_df, ignore_index= True)\n"
     ]
    },
    {
     "name": "stdout",
     "output_type": "stream",
     "text": [
      "['Butter, Margarine & Plant-Based Alternatives', 'Butter', 'Pantry Staples']\n",
      "land o lakes cinnamon butter\n",
      "https://www.amazon.com/s?k=land+o+lakes+cinnamon+butter&page=1\n"
     ]
    },
    {
     "name": "stderr",
     "output_type": "stream",
     "text": [
      "C:\\Users\\visha\\AppData\\Local\\Temp\\ipykernel_732\\1475642542.py:16: FutureWarning: The frame.append method is deprecated and will be removed from pandas in a future version. Use pandas.concat instead.\n",
      "  cat_df=cat_df.append(temp_df, ignore_index= True)\n"
     ]
    },
    {
     "name": "stdout",
     "output_type": "stream",
     "text": [
      "['Butter, Margarine & Plant-Based Alternatives', 'Butter', 'Pantry Staples', 'Beverages', 'Hot Cocoa']\n",
      "land o lakes cinnamon spread\n",
      "https://www.amazon.com/s?k=land+o+lakes+cinnamon+spread&page=1\n"
     ]
    },
    {
     "name": "stderr",
     "output_type": "stream",
     "text": [
      "C:\\Users\\visha\\AppData\\Local\\Temp\\ipykernel_732\\1475642542.py:16: FutureWarning: The frame.append method is deprecated and will be removed from pandas in a future version. Use pandas.concat instead.\n",
      "  cat_df=cat_df.append(temp_df, ignore_index= True)\n"
     ]
    },
    {
     "name": "stdout",
     "output_type": "stream",
     "text": [
      "['Grocery & Gourmet Food', 'Chocolate & Hazelnut Spreads', 'Jams, Jellies & Preserves', 'Sandwich Spreads']\n",
      "land o lakes cinnamon sugar\n",
      "https://www.amazon.com/s?k=land+o+lakes+cinnamon+sugar&page=1\n"
     ]
    },
    {
     "name": "stderr",
     "output_type": "stream",
     "text": [
      "C:\\Users\\visha\\AppData\\Local\\Temp\\ipykernel_732\\1475642542.py:16: FutureWarning: The frame.append method is deprecated and will be removed from pandas in a future version. Use pandas.concat instead.\n",
      "  cat_df=cat_df.append(temp_df, ignore_index= True)\n"
     ]
    },
    {
     "name": "stdout",
     "output_type": "stream",
     "text": [
      "['Grocery & Gourmet Food', 'Hot Cocoa', 'Coffee', 'Bottled Beverages, Water & Drink Mixes', 'Cooking & Baking Grocery Supplies']\n",
      "land o lakes cinnamon sugar butter\n",
      "https://www.amazon.com/s?k=land+o+lakes+cinnamon+sugar+butter&page=1\n"
     ]
    },
    {
     "name": "stderr",
     "output_type": "stream",
     "text": [
      "C:\\Users\\visha\\AppData\\Local\\Temp\\ipykernel_732\\1475642542.py:16: FutureWarning: The frame.append method is deprecated and will be removed from pandas in a future version. Use pandas.concat instead.\n",
      "  cat_df=cat_df.append(temp_df, ignore_index= True)\n"
     ]
    },
    {
     "name": "stdout",
     "output_type": "stream",
     "text": [
      "['Butter', 'Pantry Staples', 'Cooking & Baking Grocery Supplies', 'Beverages', 'Hot Cocoa', 'Milks & Creams', 'Coffee Creamers']\n",
      "land o lakes cinnamon sugar butter spread\n",
      "https://www.amazon.com/s?k=land+o+lakes+cinnamon+sugar+butter+spread&page=1\n"
     ]
    },
    {
     "name": "stderr",
     "output_type": "stream",
     "text": [
      "C:\\Users\\visha\\AppData\\Local\\Temp\\ipykernel_732\\1475642542.py:16: FutureWarning: The frame.append method is deprecated and will be removed from pandas in a future version. Use pandas.concat instead.\n",
      "  cat_df=cat_df.append(temp_df, ignore_index= True)\n"
     ]
    },
    {
     "name": "stdout",
     "output_type": "stream",
     "text": [
      "['Grocery & Gourmet Food', 'Butter', 'Chocolate & Hazelnut Spreads', 'Honey', 'Maple Syrup', 'Jams, Jellies & Preserves', 'Hot Cocoa']\n",
      "land o lakes cinnamon sugar spread\n",
      "https://www.amazon.com/s?k=land+o+lakes+cinnamon+sugar+spread&page=1\n"
     ]
    },
    {
     "name": "stderr",
     "output_type": "stream",
     "text": [
      "C:\\Users\\visha\\AppData\\Local\\Temp\\ipykernel_732\\1475642542.py:16: FutureWarning: The frame.append method is deprecated and will be removed from pandas in a future version. Use pandas.concat instead.\n",
      "  cat_df=cat_df.append(temp_df, ignore_index= True)\n"
     ]
    },
    {
     "name": "stdout",
     "output_type": "stream",
     "text": [
      "['Grocery & Gourmet Food', 'Chocolate & Hazelnut Spreads', 'Jams, Jellies & Preserves', 'Sandwich Spreads']\n",
      "land o lakes european\n",
      "https://www.amazon.com/s?k=land+o+lakes+european&page=1\n"
     ]
    },
    {
     "name": "stderr",
     "output_type": "stream",
     "text": [
      "C:\\Users\\visha\\AppData\\Local\\Temp\\ipykernel_732\\1475642542.py:16: FutureWarning: The frame.append method is deprecated and will be removed from pandas in a future version. Use pandas.concat instead.\n",
      "  cat_df=cat_df.append(temp_df, ignore_index= True)\n"
     ]
    },
    {
     "name": "stdout",
     "output_type": "stream",
     "text": [
      "['Dairy, Eggs & Plant-Based Alternatives', 'Milks & Creams', 'Cheeses', 'Hot Chocolate & Malted Drinks', 'Hot Cocoa', 'Coffee', 'Ground Coffee']\n",
      "land o lakes european butter\n",
      "https://www.amazon.com/s?k=land+o+lakes+european+butter&page=1\n"
     ]
    },
    {
     "name": "stderr",
     "output_type": "stream",
     "text": [
      "C:\\Users\\visha\\AppData\\Local\\Temp\\ipykernel_732\\1475642542.py:16: FutureWarning: The frame.append method is deprecated and will be removed from pandas in a future version. Use pandas.concat instead.\n",
      "  cat_df=cat_df.append(temp_df, ignore_index= True)\n"
     ]
    },
    {
     "name": "stdout",
     "output_type": "stream",
     "text": [
      "['Butter, Margarine & Plant-Based Alternatives', 'Butter', 'Milks & Creams']\n",
      "land o lakes extra creamy\n",
      "https://www.amazon.com/s?k=land+o+lakes+extra+creamy&page=1\n"
     ]
    },
    {
     "name": "stderr",
     "output_type": "stream",
     "text": [
      "C:\\Users\\visha\\AppData\\Local\\Temp\\ipykernel_732\\1475642542.py:16: FutureWarning: The frame.append method is deprecated and will be removed from pandas in a future version. Use pandas.concat instead.\n",
      "  cat_df=cat_df.append(temp_df, ignore_index= True)\n"
     ]
    },
    {
     "name": "stdout",
     "output_type": "stream",
     "text": [
      "['Dairy, Eggs & Plant-Based Alternatives', 'Coffee Creamers', 'Plant-Based Coffee Creamers', 'Hot Chocolate & Malted Drinks', 'Hot Cocoa']\n",
      "land o lakes extra creamy butter\n",
      "https://www.amazon.com/s?k=land+o+lakes+extra+creamy+butter&page=1\n"
     ]
    },
    {
     "name": "stderr",
     "output_type": "stream",
     "text": [
      "C:\\Users\\visha\\AppData\\Local\\Temp\\ipykernel_732\\1475642542.py:16: FutureWarning: The frame.append method is deprecated and will be removed from pandas in a future version. Use pandas.concat instead.\n",
      "  cat_df=cat_df.append(temp_df, ignore_index= True)\n"
     ]
    },
    {
     "name": "stdout",
     "output_type": "stream",
     "text": [
      "['Butter, Margarine & Plant-Based Alternatives', 'Butter', 'Milks & Creams']\n",
      "land o lakes flavored butter\n",
      "https://www.amazon.com/s?k=land+o+lakes+flavored+butter&page=1\n"
     ]
    },
    {
     "name": "stderr",
     "output_type": "stream",
     "text": [
      "C:\\Users\\visha\\AppData\\Local\\Temp\\ipykernel_732\\1475642542.py:16: FutureWarning: The frame.append method is deprecated and will be removed from pandas in a future version. Use pandas.concat instead.\n",
      "  cat_df=cat_df.append(temp_df, ignore_index= True)\n"
     ]
    },
    {
     "name": "stdout",
     "output_type": "stream",
     "text": [
      "['Butter, Margarine & Plant-Based Alternatives', 'Butter', 'Pantry Staples', 'Milks & Creams']\n",
      "land o lakes fresh buttery spread\n",
      "https://www.amazon.com/s?k=land+o+lakes+fresh+buttery+spread&page=1\n"
     ]
    },
    {
     "name": "stderr",
     "output_type": "stream",
     "text": [
      "C:\\Users\\visha\\AppData\\Local\\Temp\\ipykernel_732\\1475642542.py:16: FutureWarning: The frame.append method is deprecated and will be removed from pandas in a future version. Use pandas.concat instead.\n",
      "  cat_df=cat_df.append(temp_df, ignore_index= True)\n"
     ]
    },
    {
     "name": "stdout",
     "output_type": "stream",
     "text": [
      "['Butter, Margarine & Plant-Based Alternatives', 'Butter', 'Pantry Staples', 'Sandwich Spreads']\n",
      "land o lakes fresh buttery taste spread\n",
      "https://www.amazon.com/s?k=land+o+lakes+fresh+buttery+taste+spread&page=1\n"
     ]
    },
    {
     "name": "stderr",
     "output_type": "stream",
     "text": [
      "C:\\Users\\visha\\AppData\\Local\\Temp\\ipykernel_732\\1475642542.py:16: FutureWarning: The frame.append method is deprecated and will be removed from pandas in a future version. Use pandas.concat instead.\n",
      "  cat_df=cat_df.append(temp_df, ignore_index= True)\n"
     ]
    },
    {
     "name": "stdout",
     "output_type": "stream",
     "text": [
      "['Butter, Margarine & Plant-Based Alternatives', 'Butter', 'Plant-Based Butter', 'Hot Cocoa', 'Baking Powder', 'Ghee', 'Chocolate & Hazelnut Spreads']\n",
      "land o lakes garlic & herb butter spread\n",
      "https://www.amazon.com/s?k=land+o+lakes+garlic+&+herb+butter+spread&page=1\n"
     ]
    },
    {
     "name": "stderr",
     "output_type": "stream",
     "text": [
      "C:\\Users\\visha\\AppData\\Local\\Temp\\ipykernel_732\\1475642542.py:16: FutureWarning: The frame.append method is deprecated and will be removed from pandas in a future version. Use pandas.concat instead.\n",
      "  cat_df=cat_df.append(temp_df, ignore_index= True)\n"
     ]
    },
    {
     "name": "stdout",
     "output_type": "stream",
     "text": [
      "['Grocery & Gourmet Food', 'Garlic Powder & Seasonings', 'Dairy, Eggs & Plant-Based Alternatives', 'Hot Sauce', 'Mixed Spices & Seasonings', 'Sauces', 'Condiments & Salad Dressings']\n",
      "land o lakes garlic and herb butter land o lakes garlic butter\n",
      "https://www.amazon.com/s?k=land+o+lakes+garlic+and+herb+butter+land+o+lakes+garlic+butter&page=1\n"
     ]
    },
    {
     "name": "stderr",
     "output_type": "stream",
     "text": [
      "C:\\Users\\visha\\AppData\\Local\\Temp\\ipykernel_732\\1475642542.py:16: FutureWarning: The frame.append method is deprecated and will be removed from pandas in a future version. Use pandas.concat instead.\n",
      "  cat_df=cat_df.append(temp_df, ignore_index= True)\n"
     ]
    },
    {
     "name": "stdout",
     "output_type": "stream",
     "text": [
      "['Butter, Margarine & Plant-Based Alternatives', 'Butter', 'Pantry Staples']\n",
      "land o lakes garlic herb butter\n",
      "https://www.amazon.com/s?k=land+o+lakes+garlic+herb+butter&page=1\n"
     ]
    },
    {
     "name": "stderr",
     "output_type": "stream",
     "text": [
      "C:\\Users\\visha\\AppData\\Local\\Temp\\ipykernel_732\\1475642542.py:16: FutureWarning: The frame.append method is deprecated and will be removed from pandas in a future version. Use pandas.concat instead.\n",
      "  cat_df=cat_df.append(temp_df, ignore_index= True)\n"
     ]
    },
    {
     "name": "stdout",
     "output_type": "stream",
     "text": [
      "['Butter, Margarine & Plant-Based Alternatives', 'Butter', 'Pantry Staples', 'Sauces, Gravies & Marinades']\n",
      "land o lakes honey butter\n",
      "https://www.amazon.com/s?k=land+o+lakes+honey+butter&page=1\n"
     ]
    },
    {
     "name": "stderr",
     "output_type": "stream",
     "text": [
      "C:\\Users\\visha\\AppData\\Local\\Temp\\ipykernel_732\\1475642542.py:16: FutureWarning: The frame.append method is deprecated and will be removed from pandas in a future version. Use pandas.concat instead.\n",
      "  cat_df=cat_df.append(temp_df, ignore_index= True)\n"
     ]
    },
    {
     "name": "stdout",
     "output_type": "stream",
     "text": [
      "['Grocery & Gourmet Food', 'Butter', 'Honey', 'Hot Cocoa', 'Jams, Jellies & Sweet Spreads', 'Sauces, Gravies & Marinades', 'Mixed Spices & Seasonings']\n",
      "land o lakes honey butter spread\n",
      "https://www.amazon.com/s?k=land+o+lakes+honey+butter+spread&page=1\n"
     ]
    },
    {
     "name": "stderr",
     "output_type": "stream",
     "text": [
      "C:\\Users\\visha\\AppData\\Local\\Temp\\ipykernel_732\\1475642542.py:16: FutureWarning: The frame.append method is deprecated and will be removed from pandas in a future version. Use pandas.concat instead.\n",
      "  cat_df=cat_df.append(temp_df, ignore_index= True)\n"
     ]
    },
    {
     "name": "stdout",
     "output_type": "stream",
     "text": [
      "['Grocery & Gourmet Food', 'Butter', 'Honey', 'Hot Cocoa', 'English Muffins', 'Sandwich Breads', 'Meat Seasonings']\n",
      "land o lakes light butter\n",
      "https://www.amazon.com/s?k=land+o+lakes+light+butter&page=1\n"
     ]
    },
    {
     "name": "stderr",
     "output_type": "stream",
     "text": [
      "C:\\Users\\visha\\AppData\\Local\\Temp\\ipykernel_732\\1475642542.py:16: FutureWarning: The frame.append method is deprecated and will be removed from pandas in a future version. Use pandas.concat instead.\n",
      "  cat_df=cat_df.append(temp_df, ignore_index= True)\n"
     ]
    },
    {
     "name": "stdout",
     "output_type": "stream",
     "text": [
      "['Butter, Margarine & Plant-Based Alternatives', 'Butter', 'Plant-Based Butter', 'Jams, Jellies & Sweet Spreads', 'Almond Butter', 'Cooking & Baking Grocery Supplies', 'Hot Chocolate & Malted Drinks']\n",
      "land o lakes light butter sticks\n",
      "https://www.amazon.com/s?k=land+o+lakes+light+butter+sticks&page=1\n"
     ]
    },
    {
     "name": "stderr",
     "output_type": "stream",
     "text": [
      "C:\\Users\\visha\\AppData\\Local\\Temp\\ipykernel_732\\1475642542.py:16: FutureWarning: The frame.append method is deprecated and will be removed from pandas in a future version. Use pandas.concat instead.\n",
      "  cat_df=cat_df.append(temp_df, ignore_index= True)\n"
     ]
    },
    {
     "name": "stdout",
     "output_type": "stream",
     "text": [
      "['Butter, Margarine & Plant-Based Alternatives', 'Butter']\n",
      "land o lakes low fat butter\n",
      "https://www.amazon.com/s?k=land+o+lakes+low+fat+butter&page=1\n"
     ]
    },
    {
     "name": "stderr",
     "output_type": "stream",
     "text": [
      "C:\\Users\\visha\\AppData\\Local\\Temp\\ipykernel_732\\1475642542.py:16: FutureWarning: The frame.append method is deprecated and will be removed from pandas in a future version. Use pandas.concat instead.\n",
      "  cat_df=cat_df.append(temp_df, ignore_index= True)\n"
     ]
    },
    {
     "name": "stdout",
     "output_type": "stream",
     "text": [
      "['Butter, Margarine & Plant-Based Alternatives', 'Butter', 'Milks & Creams', 'Dairy Milks']\n",
      "land o lakes margarine\n",
      "https://www.amazon.com/s?k=land+o+lakes+margarine&page=1\n"
     ]
    },
    {
     "name": "stderr",
     "output_type": "stream",
     "text": [
      "C:\\Users\\visha\\AppData\\Local\\Temp\\ipykernel_732\\1475642542.py:16: FutureWarning: The frame.append method is deprecated and will be removed from pandas in a future version. Use pandas.concat instead.\n",
      "  cat_df=cat_df.append(temp_df, ignore_index= True)\n"
     ]
    },
    {
     "name": "stdout",
     "output_type": "stream",
     "text": [
      "['Butter, Margarine & Plant-Based Alternatives', 'Butter', 'Plant-Based Butter', 'Hot Cocoa', 'Jams, Jellies & Sweet Spreads', 'Almond Butter', 'Ghee']\n",
      "land o lakes margarine sticks\n",
      "https://www.amazon.com/s?k=land+o+lakes+margarine+sticks&page=1\n"
     ]
    },
    {
     "name": "stderr",
     "output_type": "stream",
     "text": [
      "C:\\Users\\visha\\AppData\\Local\\Temp\\ipykernel_732\\1475642542.py:16: FutureWarning: The frame.append method is deprecated and will be removed from pandas in a future version. Use pandas.concat instead.\n",
      "  cat_df=cat_df.append(temp_df, ignore_index= True)\n"
     ]
    },
    {
     "name": "stdout",
     "output_type": "stream",
     "text": [
      "['Butter, Margarine & Plant-Based Alternatives', 'Butter', 'Plant-Based Butter', 'Hot Cocoa', 'Cheeses', 'Jams, Jellies & Sweet Spreads', 'Almond Butter']\n",
      "land o lakes margerine\n",
      "https://www.amazon.com/s?k=land+o+lakes+margerine&page=1\n"
     ]
    },
    {
     "name": "stderr",
     "output_type": "stream",
     "text": [
      "C:\\Users\\visha\\AppData\\Local\\Temp\\ipykernel_732\\1475642542.py:16: FutureWarning: The frame.append method is deprecated and will be removed from pandas in a future version. Use pandas.concat instead.\n",
      "  cat_df=cat_df.append(temp_df, ignore_index= True)\n"
     ]
    },
    {
     "name": "stdout",
     "output_type": "stream",
     "text": [
      "['Butter, Margarine & Plant-Based Alternatives', 'Butter', 'Plant-Based Butter', 'Hot Cocoa', 'Jams, Jellies & Sweet Spreads', 'Almond Butter', 'Ghee']\n",
      "land o lakes olive oil butter\n",
      "https://www.amazon.com/s?k=land+o+lakes+olive+oil+butter&page=1\n"
     ]
    },
    {
     "name": "stderr",
     "output_type": "stream",
     "text": [
      "C:\\Users\\visha\\AppData\\Local\\Temp\\ipykernel_732\\1475642542.py:16: FutureWarning: The frame.append method is deprecated and will be removed from pandas in a future version. Use pandas.concat instead.\n",
      "  cat_df=cat_df.append(temp_df, ignore_index= True)\n"
     ]
    },
    {
     "name": "stdout",
     "output_type": "stream",
     "text": [
      "['Butter, Margarine & Plant-Based Alternatives', 'Butter', 'Plant-Based Butter', 'Pantry Staples']\n",
      "land o lakes pumpkin butter\n",
      "https://www.amazon.com/s?k=land+o+lakes+pumpkin+butter&page=1\n"
     ]
    },
    {
     "name": "stderr",
     "output_type": "stream",
     "text": [
      "C:\\Users\\visha\\AppData\\Local\\Temp\\ipykernel_732\\1475642542.py:16: FutureWarning: The frame.append method is deprecated and will be removed from pandas in a future version. Use pandas.concat instead.\n",
      "  cat_df=cat_df.append(temp_df, ignore_index= True)\n"
     ]
    },
    {
     "name": "stdout",
     "output_type": "stream",
     "text": [
      "['Grocery & Gourmet Food', 'Dairy, Eggs & Plant-Based Alternatives', 'Beverages', 'Fruit Butters', 'Nut & Seed Butters']\n",
      "land o lakes real butter\n",
      "https://www.amazon.com/s?k=land+o+lakes+real+butter&page=1\n"
     ]
    },
    {
     "name": "stderr",
     "output_type": "stream",
     "text": [
      "C:\\Users\\visha\\AppData\\Local\\Temp\\ipykernel_732\\1475642542.py:16: FutureWarning: The frame.append method is deprecated and will be removed from pandas in a future version. Use pandas.concat instead.\n",
      "  cat_df=cat_df.append(temp_df, ignore_index= True)\n"
     ]
    },
    {
     "name": "stdout",
     "output_type": "stream",
     "text": [
      "['Butter, Margarine & Plant-Based Alternatives', 'Butter', 'Pantry Staples', 'Milks & Creams']\n",
      "land o lakes salted butter\n",
      "https://www.amazon.com/s?k=land+o+lakes+salted+butter&page=1\n"
     ]
    },
    {
     "name": "stderr",
     "output_type": "stream",
     "text": [
      "C:\\Users\\visha\\AppData\\Local\\Temp\\ipykernel_732\\1475642542.py:16: FutureWarning: The frame.append method is deprecated and will be removed from pandas in a future version. Use pandas.concat instead.\n",
      "  cat_df=cat_df.append(temp_df, ignore_index= True)\n"
     ]
    },
    {
     "name": "stdout",
     "output_type": "stream",
     "text": [
      "['Butter, Margarine & Plant-Based Alternatives', 'Butter', 'Milks & Creams']\n",
      "land o lakes seasoned butter\n",
      "https://www.amazon.com/s?k=land+o+lakes+seasoned+butter&page=1\n"
     ]
    },
    {
     "name": "stderr",
     "output_type": "stream",
     "text": [
      "C:\\Users\\visha\\AppData\\Local\\Temp\\ipykernel_732\\1475642542.py:16: FutureWarning: The frame.append method is deprecated and will be removed from pandas in a future version. Use pandas.concat instead.\n",
      "  cat_df=cat_df.append(temp_df, ignore_index= True)\n"
     ]
    },
    {
     "name": "stdout",
     "output_type": "stream",
     "text": [
      "['Butter, Margarine & Plant-Based Alternatives', 'Butter', 'Pantry Staples']\n",
      "land o lakes spread\n",
      "https://www.amazon.com/s?k=land+o+lakes+spread&page=1\n"
     ]
    },
    {
     "name": "stderr",
     "output_type": "stream",
     "text": [
      "C:\\Users\\visha\\AppData\\Local\\Temp\\ipykernel_732\\1475642542.py:16: FutureWarning: The frame.append method is deprecated and will be removed from pandas in a future version. Use pandas.concat instead.\n",
      "  cat_df=cat_df.append(temp_df, ignore_index= True)\n"
     ]
    },
    {
     "name": "stdout",
     "output_type": "stream",
     "text": [
      "['Grocery & Gourmet Food', 'Butter, Margarine & Plant-Based Alternatives', 'Sandwich Spreads', 'Jams, Jellies & Preserves', 'Chocolate & Hazelnut Spreads']\n",
      "land o lakes spreadable butter\n",
      "https://www.amazon.com/s?k=land+o+lakes+spreadable+butter&page=1\n"
     ]
    },
    {
     "name": "stderr",
     "output_type": "stream",
     "text": [
      "C:\\Users\\visha\\AppData\\Local\\Temp\\ipykernel_732\\1475642542.py:16: FutureWarning: The frame.append method is deprecated and will be removed from pandas in a future version. Use pandas.concat instead.\n",
      "  cat_df=cat_df.append(temp_df, ignore_index= True)\n"
     ]
    },
    {
     "name": "stdout",
     "output_type": "stream",
     "text": [
      "['Butter, Margarine & Plant-Based Alternatives', 'Butter']\n",
      "land o lakes stick butter\n",
      "https://www.amazon.com/s?k=land+o+lakes+stick+butter&page=1\n"
     ]
    },
    {
     "name": "stderr",
     "output_type": "stream",
     "text": [
      "C:\\Users\\visha\\AppData\\Local\\Temp\\ipykernel_732\\1475642542.py:16: FutureWarning: The frame.append method is deprecated and will be removed from pandas in a future version. Use pandas.concat instead.\n",
      "  cat_df=cat_df.append(temp_df, ignore_index= True)\n"
     ]
    },
    {
     "name": "stdout",
     "output_type": "stream",
     "text": [
      "['Butter, Margarine & Plant-Based Alternatives', 'Butter', 'Snacks & Sweets', 'Milks & Creams']\n",
      "land o lakes sweet cream butter\n",
      "https://www.amazon.com/s?k=land+o+lakes+sweet+cream+butter&page=1\n"
     ]
    },
    {
     "name": "stderr",
     "output_type": "stream",
     "text": [
      "C:\\Users\\visha\\AppData\\Local\\Temp\\ipykernel_732\\1475642542.py:16: FutureWarning: The frame.append method is deprecated and will be removed from pandas in a future version. Use pandas.concat instead.\n",
      "  cat_df=cat_df.append(temp_df, ignore_index= True)\n"
     ]
    },
    {
     "name": "stdout",
     "output_type": "stream",
     "text": [
      "['Butter, Margarine & Plant-Based Alternatives', 'Butter', 'Pantry Staples', 'Milks & Creams', 'Coffee Creamers', 'Beverages', 'Cream Cheeses']\n",
      "land o lakes tub butter\n",
      "https://www.amazon.com/s?k=land+o+lakes+tub+butter&page=1\n"
     ]
    },
    {
     "name": "stderr",
     "output_type": "stream",
     "text": [
      "C:\\Users\\visha\\AppData\\Local\\Temp\\ipykernel_732\\1475642542.py:16: FutureWarning: The frame.append method is deprecated and will be removed from pandas in a future version. Use pandas.concat instead.\n",
      "  cat_df=cat_df.append(temp_df, ignore_index= True)\n"
     ]
    },
    {
     "name": "stdout",
     "output_type": "stream",
     "text": [
      "['Butter, Margarine & Plant-Based Alternatives', 'Butter', 'Milks & Creams']\n",
      "land o lakes unsalted butter\n",
      "https://www.amazon.com/s?k=land+o+lakes+unsalted+butter&page=1\n"
     ]
    },
    {
     "name": "stderr",
     "output_type": "stream",
     "text": [
      "C:\\Users\\visha\\AppData\\Local\\Temp\\ipykernel_732\\1475642542.py:16: FutureWarning: The frame.append method is deprecated and will be removed from pandas in a future version. Use pandas.concat instead.\n",
      "  cat_df=cat_df.append(temp_df, ignore_index= True)\n"
     ]
    },
    {
     "name": "stdout",
     "output_type": "stream",
     "text": [
      "['Butter, Margarine & Plant-Based Alternatives', 'Butter', 'Pantry Staples', 'Packaged Meals & Side Dishes', 'Ghee', 'Food & Beverage Gifts']\n",
      "land o lakes unsalted whipped butter\n",
      "https://www.amazon.com/s?k=land+o+lakes+unsalted+whipped+butter&page=1\n"
     ]
    },
    {
     "name": "stderr",
     "output_type": "stream",
     "text": [
      "C:\\Users\\visha\\AppData\\Local\\Temp\\ipykernel_732\\1475642542.py:16: FutureWarning: The frame.append method is deprecated and will be removed from pandas in a future version. Use pandas.concat instead.\n",
      "  cat_df=cat_df.append(temp_df, ignore_index= True)\n"
     ]
    },
    {
     "name": "stdout",
     "output_type": "stream",
     "text": [
      "['Butter, Margarine & Plant-Based Alternatives', 'Butter']\n",
      "land o lakes whipped butter\n",
      "https://www.amazon.com/s?k=land+o+lakes+whipped+butter&page=1\n"
     ]
    },
    {
     "name": "stderr",
     "output_type": "stream",
     "text": [
      "C:\\Users\\visha\\AppData\\Local\\Temp\\ipykernel_732\\1475642542.py:16: FutureWarning: The frame.append method is deprecated and will be removed from pandas in a future version. Use pandas.concat instead.\n",
      "  cat_df=cat_df.append(temp_df, ignore_index= True)\n"
     ]
    },
    {
     "name": "stdout",
     "output_type": "stream",
     "text": [
      "['Butter, Margarine & Plant-Based Alternatives', 'Butter', 'Plant-Based Butter', 'Serveware', 'Butter Dishes', 'Pantry Staples', 'Jams, Jellies & Sweet Spreads']\n",
      "land o' lakes butter stick\n",
      "https://www.amazon.com/s?k=land+o'+lakes+butter+stick&page=1\n"
     ]
    },
    {
     "name": "stderr",
     "output_type": "stream",
     "text": [
      "C:\\Users\\visha\\AppData\\Local\\Temp\\ipykernel_732\\1475642542.py:16: FutureWarning: The frame.append method is deprecated and will be removed from pandas in a future version. Use pandas.concat instead.\n",
      "  cat_df=cat_df.append(temp_df, ignore_index= True)\n"
     ]
    },
    {
     "name": "stdout",
     "output_type": "stream",
     "text": [
      "['Butter, Margarine & Plant-Based Alternatives', 'Butter', 'Snacks & Sweets']\n",
      "land o'lakes butter tub\n",
      "https://www.amazon.com/s?k=land+o'lakes+butter+tub&page=1\n"
     ]
    },
    {
     "name": "stderr",
     "output_type": "stream",
     "text": [
      "C:\\Users\\visha\\AppData\\Local\\Temp\\ipykernel_732\\1475642542.py:16: FutureWarning: The frame.append method is deprecated and will be removed from pandas in a future version. Use pandas.concat instead.\n",
      "  cat_df=cat_df.append(temp_df, ignore_index= True)\n"
     ]
    },
    {
     "name": "stdout",
     "output_type": "stream",
     "text": [
      "['Butter, Margarine & Plant-Based Alternatives', 'Butter', 'Plant-Based Butter', 'Pantry Staples', 'Lards & Shortenings']\n",
      "land o'lakes tub butter\n",
      "https://www.amazon.com/s?k=land+o'lakes+tub+butter&page=1\n"
     ]
    },
    {
     "name": "stderr",
     "output_type": "stream",
     "text": [
      "C:\\Users\\visha\\AppData\\Local\\Temp\\ipykernel_732\\1475642542.py:16: FutureWarning: The frame.append method is deprecated and will be removed from pandas in a future version. Use pandas.concat instead.\n",
      "  cat_df=cat_df.append(temp_df, ignore_index= True)\n"
     ]
    },
    {
     "name": "stdout",
     "output_type": "stream",
     "text": [
      "['Butter, Margarine & Plant-Based Alternatives', 'Butter', 'Plant-Based Butter', 'Pantry Staples', 'Ghee', 'Milks & Creams']\n",
      "land of lakes cinnamon butter\n",
      "https://www.amazon.com/s?k=land+of+lakes+cinnamon+butter&page=1\n"
     ]
    },
    {
     "name": "stderr",
     "output_type": "stream",
     "text": [
      "C:\\Users\\visha\\AppData\\Local\\Temp\\ipykernel_732\\1475642542.py:16: FutureWarning: The frame.append method is deprecated and will be removed from pandas in a future version. Use pandas.concat instead.\n",
      "  cat_df=cat_df.append(temp_df, ignore_index= True)\n"
     ]
    },
    {
     "name": "stdout",
     "output_type": "stream",
     "text": [
      "['Butter, Margarine & Plant-Based Alternatives', 'Butter', 'Pantry Staples', 'Cooking & Baking Grocery Supplies', 'Jams, Jellies & Sweet Spreads']\n",
      "land of lakes garlic butter\n",
      "https://www.amazon.com/s?k=land+of+lakes+garlic+butter&page=1\n"
     ]
    },
    {
     "name": "stderr",
     "output_type": "stream",
     "text": [
      "C:\\Users\\visha\\AppData\\Local\\Temp\\ipykernel_732\\1475642542.py:16: FutureWarning: The frame.append method is deprecated and will be removed from pandas in a future version. Use pandas.concat instead.\n",
      "  cat_df=cat_df.append(temp_df, ignore_index= True)\n"
     ]
    },
    {
     "name": "stdout",
     "output_type": "stream",
     "text": [
      "['Butter, Margarine & Plant-Based Alternatives', 'Butter', 'Pantry Staples', 'Sauces, Gravies & Marinades', 'Garlic Powder & Seasonings']\n",
      "land of lakes stick butter\n",
      "https://www.amazon.com/s?k=land+of+lakes+stick+butter&page=1\n"
     ]
    },
    {
     "name": "stderr",
     "output_type": "stream",
     "text": [
      "C:\\Users\\visha\\AppData\\Local\\Temp\\ipykernel_732\\1475642542.py:16: FutureWarning: The frame.append method is deprecated and will be removed from pandas in a future version. Use pandas.concat instead.\n",
      "  cat_df=cat_df.append(temp_df, ignore_index= True)\n"
     ]
    },
    {
     "name": "stdout",
     "output_type": "stream",
     "text": [
      "['Butter, Margarine & Plant-Based Alternatives', 'Butter']\n",
      "land olakes butter\n",
      "https://www.amazon.com/s?k=land+olakes+butter&page=1\n"
     ]
    },
    {
     "name": "stderr",
     "output_type": "stream",
     "text": [
      "C:\\Users\\visha\\AppData\\Local\\Temp\\ipykernel_732\\1475642542.py:16: FutureWarning: The frame.append method is deprecated and will be removed from pandas in a future version. Use pandas.concat instead.\n",
      "  cat_df=cat_df.append(temp_df, ignore_index= True)\n"
     ]
    },
    {
     "name": "stdout",
     "output_type": "stream",
     "text": [
      "['Butter, Margarine & Plant-Based Alternatives', 'Butter', 'Plant-Based Butter', 'Jams, Jellies & Sweet Spreads', 'Nut & Seed Butters', 'Almond Butter']\n",
      "land olakes spreadable butter\n",
      "https://www.amazon.com/s?k=land+olakes+spreadable+butter&page=1\n"
     ]
    },
    {
     "name": "stderr",
     "output_type": "stream",
     "text": [
      "C:\\Users\\visha\\AppData\\Local\\Temp\\ipykernel_732\\1475642542.py:16: FutureWarning: The frame.append method is deprecated and will be removed from pandas in a future version. Use pandas.concat instead.\n",
      "  cat_df=cat_df.append(temp_df, ignore_index= True)\n"
     ]
    },
    {
     "name": "stdout",
     "output_type": "stream",
     "text": [
      "['Butter, Margarine & Plant-Based Alternatives', 'Butter']\n",
      "landolakes butter\n",
      "https://www.amazon.com/s?k=landolakes+butter&page=1\n"
     ]
    },
    {
     "name": "stderr",
     "output_type": "stream",
     "text": [
      "C:\\Users\\visha\\AppData\\Local\\Temp\\ipykernel_732\\1475642542.py:16: FutureWarning: The frame.append method is deprecated and will be removed from pandas in a future version. Use pandas.concat instead.\n",
      "  cat_df=cat_df.append(temp_df, ignore_index= True)\n"
     ]
    },
    {
     "name": "stdout",
     "output_type": "stream",
     "text": [
      "['Grocery & Gourmet Food', 'Butter', 'Jams, Jellies & Sweet Spreads', 'Peanut Butter', 'Almond Butter', 'Cashew Butter']\n",
      "landolakes spreadable butter\n",
      "https://www.amazon.com/s?k=landolakes+spreadable+butter&page=1\n"
     ]
    },
    {
     "name": "stderr",
     "output_type": "stream",
     "text": [
      "C:\\Users\\visha\\AppData\\Local\\Temp\\ipykernel_732\\1475642542.py:16: FutureWarning: The frame.append method is deprecated and will be removed from pandas in a future version. Use pandas.concat instead.\n",
      "  cat_df=cat_df.append(temp_df, ignore_index= True)\n"
     ]
    },
    {
     "name": "stdout",
     "output_type": "stream",
     "text": [
      "['Butter, Margarine & Plant-Based Alternatives', 'Butter', 'Plant-Based Butter', 'Pantry Staples', 'Jams, Jellies & Sweet Spreads', 'Peanut Butter', 'Sandwich Spreads']\n",
      "light butter\n",
      "https://www.amazon.com/s?k=light+butter&page=1\n"
     ]
    },
    {
     "name": "stderr",
     "output_type": "stream",
     "text": [
      "C:\\Users\\visha\\AppData\\Local\\Temp\\ipykernel_732\\1475642542.py:16: FutureWarning: The frame.append method is deprecated and will be removed from pandas in a future version. Use pandas.concat instead.\n",
      "  cat_df=cat_df.append(temp_df, ignore_index= True)\n"
     ]
    },
    {
     "name": "stdout",
     "output_type": "stream",
     "text": [
      "['Butter, Margarine & Plant-Based Alternatives', 'Butter', 'Plant-Based Butter', 'Peanut Butter', 'Jams, Jellies & Sweet Spreads', 'Almond Butter', 'Lards & Shortenings']\n",
      "light butter sticks\n",
      "https://www.amazon.com/s?k=light+butter+sticks&page=1\n"
     ]
    },
    {
     "name": "stderr",
     "output_type": "stream",
     "text": [
      "C:\\Users\\visha\\AppData\\Local\\Temp\\ipykernel_732\\1475642542.py:16: FutureWarning: The frame.append method is deprecated and will be removed from pandas in a future version. Use pandas.concat instead.\n",
      "  cat_df=cat_df.append(temp_df, ignore_index= True)\n"
     ]
    },
    {
     "name": "stdout",
     "output_type": "stream",
     "text": [
      "['Butter, Margarine & Plant-Based Alternatives', 'Butter', 'Plant-Based Butter', 'Snacks & Sweets']\n",
      "lite butter\n",
      "https://www.amazon.com/s?k=lite+butter&page=1\n"
     ]
    },
    {
     "name": "stderr",
     "output_type": "stream",
     "text": [
      "C:\\Users\\visha\\AppData\\Local\\Temp\\ipykernel_732\\1475642542.py:16: FutureWarning: The frame.append method is deprecated and will be removed from pandas in a future version. Use pandas.concat instead.\n",
      "  cat_df=cat_df.append(temp_df, ignore_index= True)\n"
     ]
    },
    {
     "name": "stdout",
     "output_type": "stream",
     "text": [
      "['Grocery & Gourmet Food', 'Butter', 'Peanut Butter', 'Plant-Based Butter', 'Jams, Jellies & Sweet Spreads']\n",
      "low sodium margarine\n",
      "https://www.amazon.com/s?k=low+sodium+margarine&page=1\n"
     ]
    },
    {
     "name": "stderr",
     "output_type": "stream",
     "text": [
      "C:\\Users\\visha\\AppData\\Local\\Temp\\ipykernel_732\\1475642542.py:16: FutureWarning: The frame.append method is deprecated and will be removed from pandas in a future version. Use pandas.concat instead.\n",
      "  cat_df=cat_df.append(temp_df, ignore_index= True)\n"
     ]
    },
    {
     "name": "stdout",
     "output_type": "stream",
     "text": [
      "['Butter, Margarine & Plant-Based Alternatives', 'Butter', 'Plant-Based Butter', 'Pantry Staples']\n",
      "margarine\n",
      "https://www.amazon.com/s?k=margarine&page=1\n"
     ]
    },
    {
     "name": "stderr",
     "output_type": "stream",
     "text": [
      "C:\\Users\\visha\\AppData\\Local\\Temp\\ipykernel_732\\1475642542.py:16: FutureWarning: The frame.append method is deprecated and will be removed from pandas in a future version. Use pandas.concat instead.\n",
      "  cat_df=cat_df.append(temp_df, ignore_index= True)\n"
     ]
    },
    {
     "name": "stdout",
     "output_type": "stream",
     "text": [
      "['Butter, Margarine & Plant-Based Alternatives', 'Butter', 'Plant-Based Butter', 'Sandwich Spreads', 'Jams, Jellies & Sweet Spreads', 'Almond Butter', 'Cooking Oils, Vinegars & Sprays']\n",
      "margarine - brands\n",
      "https://www.amazon.com/s?k=margarine+-+brands&page=1\n"
     ]
    },
    {
     "name": "stderr",
     "output_type": "stream",
     "text": [
      "C:\\Users\\visha\\AppData\\Local\\Temp\\ipykernel_732\\1475642542.py:16: FutureWarning: The frame.append method is deprecated and will be removed from pandas in a future version. Use pandas.concat instead.\n",
      "  cat_df=cat_df.append(temp_df, ignore_index= True)\n"
     ]
    },
    {
     "name": "stdout",
     "output_type": "stream",
     "text": [
      "['Butter, Margarine & Plant-Based Alternatives', 'Butter', 'Plant-Based Butter', 'Pantry Staples']\n",
      "margarine - quality\n",
      "https://www.amazon.com/s?k=margarine+-+quality&page=1\n"
     ]
    },
    {
     "name": "stderr",
     "output_type": "stream",
     "text": [
      "C:\\Users\\visha\\AppData\\Local\\Temp\\ipykernel_732\\1475642542.py:16: FutureWarning: The frame.append method is deprecated and will be removed from pandas in a future version. Use pandas.concat instead.\n",
      "  cat_df=cat_df.append(temp_df, ignore_index= True)\n"
     ]
    },
    {
     "name": "stdout",
     "output_type": "stream",
     "text": [
      "['Butter, Margarine & Plant-Based Alternatives', 'Butter', 'Plant-Based Butter', 'Cooking & Baking Grocery Supplies']\n",
      "margarine brands\n",
      "https://www.amazon.com/s?k=margarine+brands&page=1\n"
     ]
    },
    {
     "name": "stderr",
     "output_type": "stream",
     "text": [
      "C:\\Users\\visha\\AppData\\Local\\Temp\\ipykernel_732\\1475642542.py:16: FutureWarning: The frame.append method is deprecated and will be removed from pandas in a future version. Use pandas.concat instead.\n",
      "  cat_df=cat_df.append(temp_df, ignore_index= True)\n"
     ]
    },
    {
     "name": "stdout",
     "output_type": "stream",
     "text": [
      "['Butter, Margarine & Plant-Based Alternatives', 'Butter', 'Plant-Based Butter', 'Cooking & Baking Grocery Supplies']\n",
      "margarine butter\n",
      "https://www.amazon.com/s?k=margarine+butter&page=1\n"
     ]
    },
    {
     "name": "stderr",
     "output_type": "stream",
     "text": [
      "C:\\Users\\visha\\AppData\\Local\\Temp\\ipykernel_732\\1475642542.py:16: FutureWarning: The frame.append method is deprecated and will be removed from pandas in a future version. Use pandas.concat instead.\n",
      "  cat_df=cat_df.append(temp_df, ignore_index= True)\n"
     ]
    },
    {
     "name": "stdout",
     "output_type": "stream",
     "text": [
      "['Butter, Margarine & Plant-Based Alternatives', 'Butter', 'Plant-Based Butter', 'Pantry Staples', 'Ghee', 'Cooking & Baking Oils', 'Sandwich Spreads']\n",
      "margarine ingredients\n",
      "https://www.amazon.com/s?k=margarine+ingredients&page=1\n"
     ]
    },
    {
     "name": "stderr",
     "output_type": "stream",
     "text": [
      "C:\\Users\\visha\\AppData\\Local\\Temp\\ipykernel_732\\1475642542.py:16: FutureWarning: The frame.append method is deprecated and will be removed from pandas in a future version. Use pandas.concat instead.\n",
      "  cat_df=cat_df.append(temp_df, ignore_index= True)\n"
     ]
    },
    {
     "name": "stdout",
     "output_type": "stream",
     "text": [
      "['Butter, Margarine & Plant-Based Alternatives', 'Butter', 'Plant-Based Butter', 'Pantry Staples']\n",
      "margarine near me\n",
      "https://www.amazon.com/s?k=margarine+near+me&page=1\n"
     ]
    },
    {
     "name": "stderr",
     "output_type": "stream",
     "text": [
      "C:\\Users\\visha\\AppData\\Local\\Temp\\ipykernel_732\\1475642542.py:16: FutureWarning: The frame.append method is deprecated and will be removed from pandas in a future version. Use pandas.concat instead.\n",
      "  cat_df=cat_df.append(temp_df, ignore_index= True)\n"
     ]
    },
    {
     "name": "stdout",
     "output_type": "stream",
     "text": [
      "['Butter, Margarine & Plant-Based Alternatives', 'Butter', 'Plant-Based Butter', 'Cooking & Baking Grocery Supplies']\n",
      "margarine nutrition facts\n",
      "https://www.amazon.com/s?k=margarine+nutrition+facts&page=1\n"
     ]
    },
    {
     "name": "stderr",
     "output_type": "stream",
     "text": [
      "C:\\Users\\visha\\AppData\\Local\\Temp\\ipykernel_732\\1475642542.py:16: FutureWarning: The frame.append method is deprecated and will be removed from pandas in a future version. Use pandas.concat instead.\n",
      "  cat_df=cat_df.append(temp_df, ignore_index= True)\n"
     ]
    },
    {
     "name": "stdout",
     "output_type": "stream",
     "text": [
      "['Butter, Margarine & Plant-Based Alternatives', 'Butter', 'Plant-Based Butter', 'Cooking & Baking Grocery Supplies', 'Ghee', 'Beverages', 'Kitchen & Dining']\n",
      "margarine spread brands\n",
      "https://www.amazon.com/s?k=margarine+spread+brands&page=1\n"
     ]
    },
    {
     "name": "stderr",
     "output_type": "stream",
     "text": [
      "C:\\Users\\visha\\AppData\\Local\\Temp\\ipykernel_732\\1475642542.py:16: FutureWarning: The frame.append method is deprecated and will be removed from pandas in a future version. Use pandas.concat instead.\n",
      "  cat_df=cat_df.append(temp_df, ignore_index= True)\n"
     ]
    },
    {
     "name": "stdout",
     "output_type": "stream",
     "text": [
      "['Butter, Margarine & Plant-Based Alternatives', 'Butter', 'Plant-Based Butter', 'Pantry Staples', 'Jams, Jellies & Sweet Spreads']\n",
      "margarine store\n",
      "https://www.amazon.com/s?k=margarine+store&page=1\n"
     ]
    },
    {
     "name": "stderr",
     "output_type": "stream",
     "text": [
      "C:\\Users\\visha\\AppData\\Local\\Temp\\ipykernel_732\\1475642542.py:16: FutureWarning: The frame.append method is deprecated and will be removed from pandas in a future version. Use pandas.concat instead.\n",
      "  cat_df=cat_df.append(temp_df, ignore_index= True)\n"
     ]
    },
    {
     "name": "stdout",
     "output_type": "stream",
     "text": [
      "['Butter, Margarine & Plant-Based Alternatives', 'Butter', 'Plant-Based Butter', 'Pantry Staples', 'Ghee', 'Cheeses', 'Kitchen & Dining']\n",
      "margarine without palm oil\n",
      "https://www.amazon.com/s?k=margarine+without+palm+oil&page=1\n"
     ]
    },
    {
     "name": "stderr",
     "output_type": "stream",
     "text": [
      "C:\\Users\\visha\\AppData\\Local\\Temp\\ipykernel_732\\1475642542.py:16: FutureWarning: The frame.append method is deprecated and will be removed from pandas in a future version. Use pandas.concat instead.\n",
      "  cat_df=cat_df.append(temp_df, ignore_index= True)\n"
     ]
    },
    {
     "name": "stdout",
     "output_type": "stream",
     "text": [
      "['Butter, Margarine & Plant-Based Alternatives', 'Butter', 'Plant-Based Butter', 'Pantry Staples']\n",
      "natural butter\n",
      "https://www.amazon.com/s?k=natural+butter&page=1\n"
     ]
    },
    {
     "name": "stderr",
     "output_type": "stream",
     "text": [
      "C:\\Users\\visha\\AppData\\Local\\Temp\\ipykernel_732\\1475642542.py:16: FutureWarning: The frame.append method is deprecated and will be removed from pandas in a future version. Use pandas.concat instead.\n",
      "  cat_df=cat_df.append(temp_df, ignore_index= True)\n"
     ]
    },
    {
     "name": "stdout",
     "output_type": "stream",
     "text": [
      "['Butter, Margarine & Plant-Based Alternatives', 'Butter', 'Plant-Based Butter', 'Body Butters', 'Pantry Staples', 'Almond Butter', 'Peanut Butter']\n",
      "no salt butter\n",
      "https://www.amazon.com/s?k=no+salt+butter&page=1\n"
     ]
    },
    {
     "name": "stderr",
     "output_type": "stream",
     "text": [
      "C:\\Users\\visha\\AppData\\Local\\Temp\\ipykernel_732\\1475642542.py:16: FutureWarning: The frame.append method is deprecated and will be removed from pandas in a future version. Use pandas.concat instead.\n",
      "  cat_df=cat_df.append(temp_df, ignore_index= True)\n"
     ]
    },
    {
     "name": "stdout",
     "output_type": "stream",
     "text": [
      "['Grocery & Gourmet Food', 'Butter', 'Almond Butter', 'Peanut Butter', 'Ghee', 'Jams, Jellies & Sweet Spreads']\n",
      "non-salted butter\n",
      "https://www.amazon.com/s?k=non-salted+butter&page=1\n"
     ]
    },
    {
     "name": "stderr",
     "output_type": "stream",
     "text": [
      "C:\\Users\\visha\\AppData\\Local\\Temp\\ipykernel_732\\1475642542.py:16: FutureWarning: The frame.append method is deprecated and will be removed from pandas in a future version. Use pandas.concat instead.\n",
      "  cat_df=cat_df.append(temp_df, ignore_index= True)\n"
     ]
    },
    {
     "name": "stdout",
     "output_type": "stream",
     "text": [
      "['Butter, Margarine & Plant-Based Alternatives', 'Butter', 'Plant-Based Butter', 'Pantry Staples', 'Ghee']\n",
      "olive oil butter\n",
      "https://www.amazon.com/s?k=olive+oil+butter&page=1\n"
     ]
    },
    {
     "name": "stderr",
     "output_type": "stream",
     "text": [
      "C:\\Users\\visha\\AppData\\Local\\Temp\\ipykernel_732\\1475642542.py:16: FutureWarning: The frame.append method is deprecated and will be removed from pandas in a future version. Use pandas.concat instead.\n",
      "  cat_df=cat_df.append(temp_df, ignore_index= True)\n"
     ]
    },
    {
     "name": "stdout",
     "output_type": "stream",
     "text": [
      "['Butter, Margarine & Plant-Based Alternatives', 'Butter', 'Plant-Based Butter', 'Cooking & Baking Oils', 'Olive Oils']\n",
      "olive oil butter brands\n",
      "https://www.amazon.com/s?k=olive+oil+butter+brands&page=1\n"
     ]
    },
    {
     "name": "stderr",
     "output_type": "stream",
     "text": [
      "C:\\Users\\visha\\AppData\\Local\\Temp\\ipykernel_732\\1475642542.py:16: FutureWarning: The frame.append method is deprecated and will be removed from pandas in a future version. Use pandas.concat instead.\n",
      "  cat_df=cat_df.append(temp_df, ignore_index= True)\n"
     ]
    },
    {
     "name": "stdout",
     "output_type": "stream",
     "text": [
      "['Cooking & Baking Oils', 'Olive Oils', 'Butter, Margarine & Plant-Based Alternatives', 'Butter', 'Plant-Based Butter', 'Body Skin Care Products']\n",
      "olive oil butter spread\n",
      "https://www.amazon.com/s?k=olive+oil+butter+spread&page=1\n"
     ]
    },
    {
     "name": "stderr",
     "output_type": "stream",
     "text": [
      "C:\\Users\\visha\\AppData\\Local\\Temp\\ipykernel_732\\1475642542.py:16: FutureWarning: The frame.append method is deprecated and will be removed from pandas in a future version. Use pandas.concat instead.\n",
      "  cat_df=cat_df.append(temp_df, ignore_index= True)\n"
     ]
    },
    {
     "name": "stdout",
     "output_type": "stream",
     "text": [
      "['Butter, Margarine & Plant-Based Alternatives', 'Butter', 'Plant-Based Butter', 'Pantry Staples', 'Olive Oils', 'Ghee']\n",
      "olive oil spread\n",
      "https://www.amazon.com/s?k=olive+oil+spread&page=1\n"
     ]
    },
    {
     "name": "stderr",
     "output_type": "stream",
     "text": [
      "C:\\Users\\visha\\AppData\\Local\\Temp\\ipykernel_732\\1475642542.py:16: FutureWarning: The frame.append method is deprecated and will be removed from pandas in a future version. Use pandas.concat instead.\n",
      "  cat_df=cat_df.append(temp_df, ignore_index= True)\n"
     ]
    },
    {
     "name": "stdout",
     "output_type": "stream",
     "text": [
      "['Grocery & Gourmet Food', 'Butter', 'Olive Oils', 'Plant-Based Butter', 'Olive Spreads']\n",
      "olive oil spread brands\n",
      "https://www.amazon.com/s?k=olive+oil+spread+brands&page=1\n"
     ]
    },
    {
     "name": "stderr",
     "output_type": "stream",
     "text": [
      "C:\\Users\\visha\\AppData\\Local\\Temp\\ipykernel_732\\1475642542.py:16: FutureWarning: The frame.append method is deprecated and will be removed from pandas in a future version. Use pandas.concat instead.\n",
      "  cat_df=cat_df.append(temp_df, ignore_index= True)\n"
     ]
    },
    {
     "name": "stdout",
     "output_type": "stream",
     "text": [
      "['Grocery & Gourmet Food', 'Olive Oils', 'Butter, Margarine & Plant-Based Alternatives', 'Olive Spreads', 'Sandwich Spreads']\n",
      "olive oil spreadable butter\n",
      "https://www.amazon.com/s?k=olive+oil+spreadable+butter&page=1\n"
     ]
    },
    {
     "name": "stderr",
     "output_type": "stream",
     "text": [
      "C:\\Users\\visha\\AppData\\Local\\Temp\\ipykernel_732\\1475642542.py:16: FutureWarning: The frame.append method is deprecated and will be removed from pandas in a future version. Use pandas.concat instead.\n",
      "  cat_df=cat_df.append(temp_df, ignore_index= True)\n"
     ]
    },
    {
     "name": "stdout",
     "output_type": "stream",
     "text": [
      "['Butter, Margarine & Plant-Based Alternatives', 'Butter', 'Plant-Based Butter', 'Pantry Staples', 'Cooking & Baking Oils', 'Ghee']\n",
      "premium butter\n",
      "https://www.amazon.com/s?k=premium+butter&page=1\n"
     ]
    },
    {
     "name": "stderr",
     "output_type": "stream",
     "text": [
      "C:\\Users\\visha\\AppData\\Local\\Temp\\ipykernel_732\\1475642542.py:16: FutureWarning: The frame.append method is deprecated and will be removed from pandas in a future version. Use pandas.concat instead.\n",
      "  cat_df=cat_df.append(temp_df, ignore_index= True)\n"
     ]
    },
    {
     "name": "stdout",
     "output_type": "stream",
     "text": [
      "['Grocery & Gourmet Food', 'Butter', 'Ghee', 'Peanut Butter', 'Dinnerware & Serveware']\n",
      "premium butter spread\n",
      "https://www.amazon.com/s?k=premium+butter+spread&page=1\n"
     ]
    },
    {
     "name": "stderr",
     "output_type": "stream",
     "text": [
      "C:\\Users\\visha\\AppData\\Local\\Temp\\ipykernel_732\\1475642542.py:16: FutureWarning: The frame.append method is deprecated and will be removed from pandas in a future version. Use pandas.concat instead.\n",
      "  cat_df=cat_df.append(temp_df, ignore_index= True)\n"
     ]
    },
    {
     "name": "stdout",
     "output_type": "stream",
     "text": [
      "['Butter, Margarine & Plant-Based Alternatives', 'Butter', 'Pantry Staples', 'Sandwich Spreads', 'Jams, Jellies & Sweet Spreads']\n",
      "premium margarine\n",
      "https://www.amazon.com/s?k=premium+margarine&page=1\n"
     ]
    },
    {
     "name": "stderr",
     "output_type": "stream",
     "text": [
      "C:\\Users\\visha\\AppData\\Local\\Temp\\ipykernel_732\\1475642542.py:16: FutureWarning: The frame.append method is deprecated and will be removed from pandas in a future version. Use pandas.concat instead.\n",
      "  cat_df=cat_df.append(temp_df, ignore_index= True)\n"
     ]
    },
    {
     "name": "stdout",
     "output_type": "stream",
     "text": [
      "['Butter, Margarine & Plant-Based Alternatives', 'Butter', 'Plant-Based Butter', 'Cooking & Baking Grocery Supplies']\n",
      "pumpkin butter\n",
      "https://www.amazon.com/s?k=pumpkin+butter&page=1\n"
     ]
    },
    {
     "name": "stderr",
     "output_type": "stream",
     "text": [
      "C:\\Users\\visha\\AppData\\Local\\Temp\\ipykernel_732\\1475642542.py:16: FutureWarning: The frame.append method is deprecated and will be removed from pandas in a future version. Use pandas.concat instead.\n",
      "  cat_df=cat_df.append(temp_df, ignore_index= True)\n"
     ]
    },
    {
     "name": "stdout",
     "output_type": "stream",
     "text": [
      "['Grocery & Gourmet Food', 'Fruit Butters', 'Jams, Jellies & Preserves', 'Pie & Pastry Fillings', 'Almond Butter', 'Peanut Butter', 'Candy & Chocolate Gifts']\n",
      "pumpkin butter brands\n",
      "https://www.amazon.com/s?k=pumpkin+butter+brands&page=1\n"
     ]
    },
    {
     "name": "stderr",
     "output_type": "stream",
     "text": [
      "C:\\Users\\visha\\AppData\\Local\\Temp\\ipykernel_732\\1475642542.py:16: FutureWarning: The frame.append method is deprecated and will be removed from pandas in a future version. Use pandas.concat instead.\n",
      "  cat_df=cat_df.append(temp_df, ignore_index= True)\n"
     ]
    },
    {
     "name": "stdout",
     "output_type": "stream",
     "text": [
      "['Jams, Jellies & Sweet Spreads', 'Fruit Butters', 'Nut & Seed Butters', 'Peanut Butter', 'Almond Butter', 'Cooking & Baking Grocery Supplies', 'Skin Care Products']\n",
      "quality margarine\n",
      "https://www.amazon.com/s?k=quality+margarine&page=1\n"
     ]
    },
    {
     "name": "stderr",
     "output_type": "stream",
     "text": [
      "C:\\Users\\visha\\AppData\\Local\\Temp\\ipykernel_732\\1475642542.py:16: FutureWarning: The frame.append method is deprecated and will be removed from pandas in a future version. Use pandas.concat instead.\n",
      "  cat_df=cat_df.append(temp_df, ignore_index= True)\n"
     ]
    },
    {
     "name": "stdout",
     "output_type": "stream",
     "text": [
      "['Butter, Margarine & Plant-Based Alternatives', 'Butter', 'Plant-Based Butter', 'Cooking & Baking Grocery Supplies']\n",
      "roasted garlic and herb butter\n",
      "https://www.amazon.com/s?k=roasted+garlic+and+herb+butter&page=1\n"
     ]
    },
    {
     "name": "stderr",
     "output_type": "stream",
     "text": [
      "C:\\Users\\visha\\AppData\\Local\\Temp\\ipykernel_732\\1475642542.py:16: FutureWarning: The frame.append method is deprecated and will be removed from pandas in a future version. Use pandas.concat instead.\n",
      "  cat_df=cat_df.append(temp_df, ignore_index= True)\n"
     ]
    },
    {
     "name": "stdout",
     "output_type": "stream",
     "text": [
      "['Butter, Margarine & Plant-Based Alternatives', 'Butter', 'Pantry Staples', 'Garlic Powder & Seasonings', 'Canned & Jarred Garlic', 'Condiments & Salad Dressings', 'Cooking Oils, Vinegars & Sprays']\n",
      "salt less butter\n",
      "https://www.amazon.com/s?k=salt+less+butter&page=1\n"
     ]
    },
    {
     "name": "stderr",
     "output_type": "stream",
     "text": [
      "C:\\Users\\visha\\AppData\\Local\\Temp\\ipykernel_732\\1475642542.py:16: FutureWarning: The frame.append method is deprecated and will be removed from pandas in a future version. Use pandas.concat instead.\n",
      "  cat_df=cat_df.append(temp_df, ignore_index= True)\n"
     ]
    },
    {
     "name": "stdout",
     "output_type": "stream",
     "text": [
      "['Butter, Margarine & Plant-Based Alternatives', 'Butter', 'Plant-Based Butter', 'Pantry Staples', 'Ghee', 'Peanut Butter', 'Jams, Jellies & Sweet Spreads']\n",
      "salted butter\n",
      "https://www.amazon.com/s?k=salted+butter&page=1\n"
     ]
    },
    {
     "name": "stderr",
     "output_type": "stream",
     "text": [
      "C:\\Users\\visha\\AppData\\Local\\Temp\\ipykernel_732\\1475642542.py:16: FutureWarning: The frame.append method is deprecated and will be removed from pandas in a future version. Use pandas.concat instead.\n",
      "  cat_df=cat_df.append(temp_df, ignore_index= True)\n"
     ]
    },
    {
     "name": "stdout",
     "output_type": "stream",
     "text": [
      "['Butter, Margarine & Plant-Based Alternatives', 'Butter']\n",
      "salted butter balls\n",
      "https://www.amazon.com/s?k=salted+butter+balls&page=1\n"
     ]
    },
    {
     "name": "stderr",
     "output_type": "stream",
     "text": [
      "C:\\Users\\visha\\AppData\\Local\\Temp\\ipykernel_732\\1475642542.py:16: FutureWarning: The frame.append method is deprecated and will be removed from pandas in a future version. Use pandas.concat instead.\n",
      "  cat_df=cat_df.append(temp_df, ignore_index= True)\n"
     ]
    },
    {
     "name": "stdout",
     "output_type": "stream",
     "text": [
      "['Butter, Margarine & Plant-Based Alternatives', 'Butter', 'Snacks & Sweets', 'Snack Foods', 'Cooking & Baking Grocery Supplies']\n",
      "salted butter cooking\n",
      "https://www.amazon.com/s?k=salted+butter+cooking&page=1\n"
     ]
    },
    {
     "name": "stderr",
     "output_type": "stream",
     "text": [
      "C:\\Users\\visha\\AppData\\Local\\Temp\\ipykernel_732\\1475642542.py:16: FutureWarning: The frame.append method is deprecated and will be removed from pandas in a future version. Use pandas.concat instead.\n",
      "  cat_df=cat_df.append(temp_df, ignore_index= True)\n"
     ]
    },
    {
     "name": "stdout",
     "output_type": "stream",
     "text": [
      "['Butter, Margarine & Plant-Based Alternatives', 'Butter', 'Plant-Based Butter', 'Pantry Staples', 'Ghee']\n",
      "seasoned butter\n",
      "https://www.amazon.com/s?k=seasoned+butter&page=1\n"
     ]
    },
    {
     "name": "stderr",
     "output_type": "stream",
     "text": [
      "C:\\Users\\visha\\AppData\\Local\\Temp\\ipykernel_732\\1475642542.py:16: FutureWarning: The frame.append method is deprecated and will be removed from pandas in a future version. Use pandas.concat instead.\n",
      "  cat_df=cat_df.append(temp_df, ignore_index= True)\n"
     ]
    },
    {
     "name": "stdout",
     "output_type": "stream",
     "text": [
      "['Grocery & Gourmet Food', 'Butter', 'Ghee', 'Garlic Powder & Seasonings', 'Frozen Shellfish', 'Sauces', 'Packaged Vegetable Bouillon']\n",
      "shop margarine\n",
      "https://www.amazon.com/s?k=shop+margarine&page=1\n"
     ]
    },
    {
     "name": "stderr",
     "output_type": "stream",
     "text": [
      "C:\\Users\\visha\\AppData\\Local\\Temp\\ipykernel_732\\1475642542.py:16: FutureWarning: The frame.append method is deprecated and will be removed from pandas in a future version. Use pandas.concat instead.\n",
      "  cat_df=cat_df.append(temp_df, ignore_index= True)\n"
     ]
    },
    {
     "name": "stdout",
     "output_type": "stream",
     "text": [
      "['Butter, Margarine & Plant-Based Alternatives', 'Butter', 'Milks & Creams', 'Lards & Shortenings']\n",
      "specialty butter\n",
      "https://www.amazon.com/s?k=specialty+butter&page=1\n"
     ]
    },
    {
     "name": "stderr",
     "output_type": "stream",
     "text": [
      "C:\\Users\\visha\\AppData\\Local\\Temp\\ipykernel_732\\1475642542.py:16: FutureWarning: The frame.append method is deprecated and will be removed from pandas in a future version. Use pandas.concat instead.\n",
      "  cat_df=cat_df.append(temp_df, ignore_index= True)\n"
     ]
    },
    {
     "name": "stdout",
     "output_type": "stream",
     "text": [
      "['Dairy, Eggs & Plant-Based Alternatives', 'Butter', 'Lards & Shortenings', 'Ghee', 'Jams, Jellies & Sweet Spreads']\n",
      "spreadable butter\n",
      "https://www.amazon.com/s?k=spreadable+butter&page=1\n"
     ]
    },
    {
     "name": "stderr",
     "output_type": "stream",
     "text": [
      "C:\\Users\\visha\\AppData\\Local\\Temp\\ipykernel_732\\1475642542.py:16: FutureWarning: The frame.append method is deprecated and will be removed from pandas in a future version. Use pandas.concat instead.\n",
      "  cat_df=cat_df.append(temp_df, ignore_index= True)\n"
     ]
    },
    {
     "name": "stdout",
     "output_type": "stream",
     "text": [
      "['Butter, Margarine & Plant-Based Alternatives', 'Butter', 'Plant-Based Butter', 'Nut & Seed Butters', 'Almond Butter']\n",
      "spreadable butter brands\n",
      "https://www.amazon.com/s?k=spreadable+butter+brands&page=1\n"
     ]
    },
    {
     "name": "stderr",
     "output_type": "stream",
     "text": [
      "C:\\Users\\visha\\AppData\\Local\\Temp\\ipykernel_732\\1475642542.py:16: FutureWarning: The frame.append method is deprecated and will be removed from pandas in a future version. Use pandas.concat instead.\n",
      "  cat_df=cat_df.append(temp_df, ignore_index= True)\n"
     ]
    },
    {
     "name": "stdout",
     "output_type": "stream",
     "text": [
      "['Butter, Margarine & Plant-Based Alternatives', 'Butter', 'Plant-Based Butter', 'Pantry Staples']\n",
      "spreadable butter cooking\n",
      "https://www.amazon.com/s?k=spreadable+butter+cooking&page=1\n"
     ]
    },
    {
     "name": "stderr",
     "output_type": "stream",
     "text": [
      "C:\\Users\\visha\\AppData\\Local\\Temp\\ipykernel_732\\1475642542.py:16: FutureWarning: The frame.append method is deprecated and will be removed from pandas in a future version. Use pandas.concat instead.\n",
      "  cat_df=cat_df.append(temp_df, ignore_index= True)\n"
     ]
    },
    {
     "name": "stdout",
     "output_type": "stream",
     "text": [
      "['Butter, Margarine & Plant-Based Alternatives', 'Butter', 'Plant-Based Butter', 'Pantry Staples', 'Ghee', 'Serveware']\n",
      "spreadable butter for cooking\n",
      "https://www.amazon.com/s?k=spreadable+butter+for+cooking&page=1\n"
     ]
    },
    {
     "name": "stderr",
     "output_type": "stream",
     "text": [
      "C:\\Users\\visha\\AppData\\Local\\Temp\\ipykernel_732\\1475642542.py:16: FutureWarning: The frame.append method is deprecated and will be removed from pandas in a future version. Use pandas.concat instead.\n",
      "  cat_df=cat_df.append(temp_df, ignore_index= True)\n"
     ]
    },
    {
     "name": "stdout",
     "output_type": "stream",
     "text": [
      "['Butter, Margarine & Plant-Based Alternatives', 'Butter', 'Plant-Based Butter', 'Pantry Staples', 'Ghee']\n",
      "stick butter\n",
      "https://www.amazon.com/s?k=stick+butter&page=1\n"
     ]
    },
    {
     "name": "stderr",
     "output_type": "stream",
     "text": [
      "C:\\Users\\visha\\AppData\\Local\\Temp\\ipykernel_732\\1475642542.py:16: FutureWarning: The frame.append method is deprecated and will be removed from pandas in a future version. Use pandas.concat instead.\n",
      "  cat_df=cat_df.append(temp_df, ignore_index= True)\n"
     ]
    },
    {
     "name": "stdout",
     "output_type": "stream",
     "text": [
      "['Butter, Margarine & Plant-Based Alternatives', 'Butter', 'Plant-Based Butter']\n",
      "stick butter baking\n",
      "https://www.amazon.com/s?k=stick+butter+baking&page=1\n"
     ]
    },
    {
     "name": "stderr",
     "output_type": "stream",
     "text": [
      "C:\\Users\\visha\\AppData\\Local\\Temp\\ipykernel_732\\1475642542.py:16: FutureWarning: The frame.append method is deprecated and will be removed from pandas in a future version. Use pandas.concat instead.\n",
      "  cat_df=cat_df.append(temp_df, ignore_index= True)\n"
     ]
    },
    {
     "name": "stdout",
     "output_type": "stream",
     "text": [
      "['Butter', 'Kitchen & Dining', 'Bakeware', 'Dinnerware & Serveware', 'Cooking & Baking Grocery Supplies', 'Baking Leaveners & Yeasts', 'Plant-Based Butter']\n",
      "stick butter brands\n",
      "https://www.amazon.com/s?k=stick+butter+brands&page=1\n"
     ]
    },
    {
     "name": "stderr",
     "output_type": "stream",
     "text": [
      "C:\\Users\\visha\\AppData\\Local\\Temp\\ipykernel_732\\1475642542.py:16: FutureWarning: The frame.append method is deprecated and will be removed from pandas in a future version. Use pandas.concat instead.\n",
      "  cat_df=cat_df.append(temp_df, ignore_index= True)\n"
     ]
    },
    {
     "name": "stdout",
     "output_type": "stream",
     "text": [
      "['Butter, Margarine & Plant-Based Alternatives', 'Butter', 'Body Butters', 'Breads & Bakery', 'Snack Foods', 'Dinnerware & Serveware', 'Lip Balms & Moisturizers']\n",
      "stick butter for baking\n",
      "https://www.amazon.com/s?k=stick+butter+for+baking&page=1\n"
     ]
    },
    {
     "name": "stderr",
     "output_type": "stream",
     "text": [
      "C:\\Users\\visha\\AppData\\Local\\Temp\\ipykernel_732\\1475642542.py:16: FutureWarning: The frame.append method is deprecated and will be removed from pandas in a future version. Use pandas.concat instead.\n",
      "  cat_df=cat_df.append(temp_df, ignore_index= True)\n"
     ]
    },
    {
     "name": "stdout",
     "output_type": "stream",
     "text": [
      "['Butter', 'Cooking & Baking Grocery Supplies', 'Lards & Shortenings', 'Baking Powder', 'Plant-Based Butter', 'Kitchen & Dining', 'Dinnerware & Serveware']\n",
      "stick of butter\n",
      "https://www.amazon.com/s?k=stick+of+butter&page=1\n"
     ]
    },
    {
     "name": "stderr",
     "output_type": "stream",
     "text": [
      "C:\\Users\\visha\\AppData\\Local\\Temp\\ipykernel_732\\1475642542.py:16: FutureWarning: The frame.append method is deprecated and will be removed from pandas in a future version. Use pandas.concat instead.\n",
      "  cat_df=cat_df.append(temp_df, ignore_index= True)\n"
     ]
    },
    {
     "name": "stdout",
     "output_type": "stream",
     "text": [
      "['Grocery & Gourmet Food', 'Butter', 'Cooking & Baking Grocery Supplies']\n",
      "sticks of butter\n",
      "https://www.amazon.com/s?k=sticks+of+butter&page=1\n"
     ]
    },
    {
     "name": "stderr",
     "output_type": "stream",
     "text": [
      "C:\\Users\\visha\\AppData\\Local\\Temp\\ipykernel_732\\1475642542.py:16: FutureWarning: The frame.append method is deprecated and will be removed from pandas in a future version. Use pandas.concat instead.\n",
      "  cat_df=cat_df.append(temp_df, ignore_index= True)\n"
     ]
    },
    {
     "name": "stdout",
     "output_type": "stream",
     "text": [
      "['Butter, Margarine & Plant-Based Alternatives', 'Butter', 'Plant-Based Butter', 'Pantry Staples', 'Cooking & Baking Grocery Supplies']\n",
      "store margarine\n",
      "https://www.amazon.com/s?k=store+margarine&page=1\n"
     ]
    },
    {
     "name": "stderr",
     "output_type": "stream",
     "text": [
      "C:\\Users\\visha\\AppData\\Local\\Temp\\ipykernel_732\\1475642542.py:16: FutureWarning: The frame.append method is deprecated and will be removed from pandas in a future version. Use pandas.concat instead.\n",
      "  cat_df=cat_df.append(temp_df, ignore_index= True)\n"
     ]
    },
    {
     "name": "stdout",
     "output_type": "stream",
     "text": [
      "['Butter, Margarine & Plant-Based Alternatives', 'Butter', 'Kitchen & Dining', 'Butter Dishes']\n",
      "tub butter\n",
      "https://www.amazon.com/s?k=tub+butter&page=1\n"
     ]
    },
    {
     "name": "stderr",
     "output_type": "stream",
     "text": [
      "C:\\Users\\visha\\AppData\\Local\\Temp\\ipykernel_732\\1475642542.py:16: FutureWarning: The frame.append method is deprecated and will be removed from pandas in a future version. Use pandas.concat instead.\n",
      "  cat_df=cat_df.append(temp_df, ignore_index= True)\n"
     ]
    },
    {
     "name": "stdout",
     "output_type": "stream",
     "text": [
      "['Butter, Margarine & Plant-Based Alternatives', 'Butter', 'Plant-Based Butter', 'Jams, Jellies & Sweet Spreads', 'Nut & Seed Butters', 'Almond Butter']\n",
      "tub butter spread\n",
      "https://www.amazon.com/s?k=tub+butter+spread&page=1\n"
     ]
    },
    {
     "name": "stderr",
     "output_type": "stream",
     "text": [
      "C:\\Users\\visha\\AppData\\Local\\Temp\\ipykernel_732\\1475642542.py:16: FutureWarning: The frame.append method is deprecated and will be removed from pandas in a future version. Use pandas.concat instead.\n",
      "  cat_df=cat_df.append(temp_df, ignore_index= True)\n"
     ]
    },
    {
     "name": "stdout",
     "output_type": "stream",
     "text": [
      "['Butter, Margarine & Plant-Based Alternatives', 'Butter', 'Plant-Based Butter', 'Pantry Staples', 'Sandwich Spreads', 'Peanut Butter', 'Jams, Jellies & Sweet Spreads']\n",
      "unsalted butter\n",
      "https://www.amazon.com/s?k=unsalted+butter&page=1\n"
     ]
    },
    {
     "name": "stderr",
     "output_type": "stream",
     "text": [
      "C:\\Users\\visha\\AppData\\Local\\Temp\\ipykernel_732\\1475642542.py:16: FutureWarning: The frame.append method is deprecated and will be removed from pandas in a future version. Use pandas.concat instead.\n",
      "  cat_df=cat_df.append(temp_df, ignore_index= True)\n"
     ]
    },
    {
     "name": "stdout",
     "output_type": "stream",
     "text": [
      "['Butter, Margarine & Plant-Based Alternatives', 'Butter']\n",
      "unsalted butter baking\n",
      "https://www.amazon.com/s?k=unsalted+butter+baking&page=1\n"
     ]
    },
    {
     "name": "stderr",
     "output_type": "stream",
     "text": [
      "C:\\Users\\visha\\AppData\\Local\\Temp\\ipykernel_732\\1475642542.py:16: FutureWarning: The frame.append method is deprecated and will be removed from pandas in a future version. Use pandas.concat instead.\n",
      "  cat_df=cat_df.append(temp_df, ignore_index= True)\n"
     ]
    },
    {
     "name": "stdout",
     "output_type": "stream",
     "text": [
      "['Butter, Margarine & Plant-Based Alternatives', 'Butter', 'Plant-Based Butter', 'Cooking & Baking Grocery Supplies', 'Ghee']\n",
      "unsalted butter brands\n",
      "https://www.amazon.com/s?k=unsalted+butter+brands&page=1\n"
     ]
    },
    {
     "name": "stderr",
     "output_type": "stream",
     "text": [
      "C:\\Users\\visha\\AppData\\Local\\Temp\\ipykernel_732\\1475642542.py:16: FutureWarning: The frame.append method is deprecated and will be removed from pandas in a future version. Use pandas.concat instead.\n",
      "  cat_df=cat_df.append(temp_df, ignore_index= True)\n"
     ]
    },
    {
     "name": "stdout",
     "output_type": "stream",
     "text": [
      "['Butter, Margarine & Plant-Based Alternatives', 'Butter', 'Pantry Staples']\n",
      "unsalted butter cooking\n",
      "https://www.amazon.com/s?k=unsalted+butter+cooking&page=1\n"
     ]
    },
    {
     "name": "stderr",
     "output_type": "stream",
     "text": [
      "C:\\Users\\visha\\AppData\\Local\\Temp\\ipykernel_732\\1475642542.py:16: FutureWarning: The frame.append method is deprecated and will be removed from pandas in a future version. Use pandas.concat instead.\n",
      "  cat_df=cat_df.append(temp_df, ignore_index= True)\n"
     ]
    },
    {
     "name": "stdout",
     "output_type": "stream",
     "text": [
      "['Butter, Margarine & Plant-Based Alternatives', 'Butter', 'Plant-Based Butter', 'Lards & Shortenings']\n",
      "unsalted butter for baking\n",
      "https://www.amazon.com/s?k=unsalted+butter+for+baking&page=1\n"
     ]
    },
    {
     "name": "stderr",
     "output_type": "stream",
     "text": [
      "C:\\Users\\visha\\AppData\\Local\\Temp\\ipykernel_732\\1475642542.py:16: FutureWarning: The frame.append method is deprecated and will be removed from pandas in a future version. Use pandas.concat instead.\n",
      "  cat_df=cat_df.append(temp_df, ignore_index= True)\n"
     ]
    },
    {
     "name": "stdout",
     "output_type": "stream",
     "text": [
      "['Butter, Margarine & Plant-Based Alternatives', 'Butter', 'Plant-Based Butter', 'Lards & Shortenings', 'Ghee', 'Baking Leaveners & Yeasts']\n",
      "unsalted butter for cooking\n",
      "https://www.amazon.com/s?k=unsalted+butter+for+cooking&page=1\n"
     ]
    },
    {
     "name": "stderr",
     "output_type": "stream",
     "text": [
      "C:\\Users\\visha\\AppData\\Local\\Temp\\ipykernel_732\\1475642542.py:16: FutureWarning: The frame.append method is deprecated and will be removed from pandas in a future version. Use pandas.concat instead.\n",
      "  cat_df=cat_df.append(temp_df, ignore_index= True)\n"
     ]
    },
    {
     "name": "stdout",
     "output_type": "stream",
     "text": [
      "['Butter, Margarine & Plant-Based Alternatives', 'Butter', 'Lards & Shortenings']\n",
      "unsalted butter near me\n",
      "https://www.amazon.com/s?k=unsalted+butter+near+me&page=1\n"
     ]
    },
    {
     "name": "stderr",
     "output_type": "stream",
     "text": [
      "C:\\Users\\visha\\AppData\\Local\\Temp\\ipykernel_732\\1475642542.py:16: FutureWarning: The frame.append method is deprecated and will be removed from pandas in a future version. Use pandas.concat instead.\n",
      "  cat_df=cat_df.append(temp_df, ignore_index= True)\n"
     ]
    },
    {
     "name": "stdout",
     "output_type": "stream",
     "text": [
      "['Butter, Margarine & Plant-Based Alternatives', 'Butter', 'Lards & Shortenings']\n",
      "unsalted butter store\n",
      "https://www.amazon.com/s?k=unsalted+butter+store&page=1\n"
     ]
    },
    {
     "name": "stderr",
     "output_type": "stream",
     "text": [
      "C:\\Users\\visha\\AppData\\Local\\Temp\\ipykernel_732\\1475642542.py:16: FutureWarning: The frame.append method is deprecated and will be removed from pandas in a future version. Use pandas.concat instead.\n",
      "  cat_df=cat_df.append(temp_df, ignore_index= True)\n"
     ]
    },
    {
     "name": "stdout",
     "output_type": "stream",
     "text": [
      "['Butter, Margarine & Plant-Based Alternatives', 'Butter', 'Pantry Staples']\n",
      "unsalted margarine\n",
      "https://www.amazon.com/s?k=unsalted+margarine&page=1\n"
     ]
    },
    {
     "name": "stderr",
     "output_type": "stream",
     "text": [
      "C:\\Users\\visha\\AppData\\Local\\Temp\\ipykernel_732\\1475642542.py:16: FutureWarning: The frame.append method is deprecated and will be removed from pandas in a future version. Use pandas.concat instead.\n",
      "  cat_df=cat_df.append(temp_df, ignore_index= True)\n"
     ]
    },
    {
     "name": "stdout",
     "output_type": "stream",
     "text": [
      "['Butter, Margarine & Plant-Based Alternatives', 'Butter', 'Plant-Based Butter', 'Pantry Staples', 'Ghee', 'Almond Butter', 'Olive Oils']\n",
      "vital farms butter\n",
      "https://www.amazon.com/s?k=vital+farms+butter&page=1\n"
     ]
    },
    {
     "name": "stderr",
     "output_type": "stream",
     "text": [
      "C:\\Users\\visha\\AppData\\Local\\Temp\\ipykernel_732\\1475642542.py:16: FutureWarning: The frame.append method is deprecated and will be removed from pandas in a future version. Use pandas.concat instead.\n",
      "  cat_df=cat_df.append(temp_df, ignore_index= True)\n"
     ]
    },
    {
     "name": "stdout",
     "output_type": "stream",
     "text": [
      "['Butter, Margarine & Plant-Based Alternatives', 'Butter', 'Lards & Shortenings', 'Ghee', 'Eggs & Egg Substitutes']\n",
      "vital farms butter balls\n",
      "https://www.amazon.com/s?k=vital+farms+butter+balls&page=1\n"
     ]
    },
    {
     "name": "stderr",
     "output_type": "stream",
     "text": [
      "C:\\Users\\visha\\AppData\\Local\\Temp\\ipykernel_732\\1475642542.py:16: FutureWarning: The frame.append method is deprecated and will be removed from pandas in a future version. Use pandas.concat instead.\n",
      "  cat_df=cat_df.append(temp_df, ignore_index= True)\n"
     ]
    },
    {
     "name": "stdout",
     "output_type": "stream",
     "text": [
      "['Grocery & Gourmet Food', 'Butter', 'Cooking & Baking Grocery Supplies', 'Snack Foods', 'Peanut Butter']\n",
      "vital farms butter spread\n",
      "https://www.amazon.com/s?k=vital+farms+butter+spread&page=1\n"
     ]
    },
    {
     "name": "stderr",
     "output_type": "stream",
     "text": [
      "C:\\Users\\visha\\AppData\\Local\\Temp\\ipykernel_732\\1475642542.py:16: FutureWarning: The frame.append method is deprecated and will be removed from pandas in a future version. Use pandas.concat instead.\n",
      "  cat_df=cat_df.append(temp_df, ignore_index= True)\n"
     ]
    },
    {
     "name": "stdout",
     "output_type": "stream",
     "text": [
      "['Grocery & Gourmet Food', 'Butter', 'Plant-Based Butter', 'Jams, Jellies & Sweet Spreads', 'Sandwich Spreads', 'Peanut Butter']\n",
      "vital farms flavored butter\n",
      "https://www.amazon.com/s?k=vital+farms+flavored+butter&page=1\n"
     ]
    },
    {
     "name": "stderr",
     "output_type": "stream",
     "text": [
      "C:\\Users\\visha\\AppData\\Local\\Temp\\ipykernel_732\\1475642542.py:16: FutureWarning: The frame.append method is deprecated and will be removed from pandas in a future version. Use pandas.concat instead.\n",
      "  cat_df=cat_df.append(temp_df, ignore_index= True)\n"
     ]
    },
    {
     "name": "stdout",
     "output_type": "stream",
     "text": [
      "['Butter, Margarine & Plant-Based Alternatives', 'Butter', 'Plant-Based Butter', 'Lards & Shortenings', 'Ghee', 'Nut & Seed Butters', 'Peanut Butter']\n",
      "vital farms garlic herb butter\n",
      "https://www.amazon.com/s?k=vital+farms+garlic+herb+butter&page=1\n"
     ]
    },
    {
     "name": "stderr",
     "output_type": "stream",
     "text": [
      "C:\\Users\\visha\\AppData\\Local\\Temp\\ipykernel_732\\1475642542.py:16: FutureWarning: The frame.append method is deprecated and will be removed from pandas in a future version. Use pandas.concat instead.\n",
      "  cat_df=cat_df.append(temp_df, ignore_index= True)\n"
     ]
    },
    {
     "name": "stdout",
     "output_type": "stream",
     "text": [
      "['Butter, Margarine & Plant-Based Alternatives', 'Butter', 'Pantry Staples', 'Garlic Powder & Seasonings', 'Ghee', 'Canned & Jarred Garlic', 'Sauces, Gravies & Marinades']\n",
      "vital farms honey butter\n",
      "https://www.amazon.com/s?k=vital+farms+honey+butter&page=1\n"
     ]
    },
    {
     "name": "stderr",
     "output_type": "stream",
     "text": [
      "C:\\Users\\visha\\AppData\\Local\\Temp\\ipykernel_732\\1475642542.py:16: FutureWarning: The frame.append method is deprecated and will be removed from pandas in a future version. Use pandas.concat instead.\n",
      "  cat_df=cat_df.append(temp_df, ignore_index= True)\n"
     ]
    },
    {
     "name": "stdout",
     "output_type": "stream",
     "text": [
      "['Grocery & Gourmet Food', 'Honey', 'Butter', 'Ghee', 'Jams, Jellies & Sweet Spreads', 'Almond Butter', 'Plant-Based Butter']\n",
      "vital farms margarine\n",
      "https://www.amazon.com/s?k=vital+farms+margarine&page=1\n"
     ]
    },
    {
     "name": "stderr",
     "output_type": "stream",
     "text": [
      "C:\\Users\\visha\\AppData\\Local\\Temp\\ipykernel_732\\1475642542.py:16: FutureWarning: The frame.append method is deprecated and will be removed from pandas in a future version. Use pandas.concat instead.\n",
      "  cat_df=cat_df.append(temp_df, ignore_index= True)\n"
     ]
    },
    {
     "name": "stdout",
     "output_type": "stream",
     "text": [
      "['Butter, Margarine & Plant-Based Alternatives', 'Butter', 'Plant-Based Butter', 'Cooking & Baking Grocery Supplies']\n",
      "vital farms salted butter\n",
      "https://www.amazon.com/s?k=vital+farms+salted+butter&page=1\n"
     ]
    },
    {
     "name": "stderr",
     "output_type": "stream",
     "text": [
      "C:\\Users\\visha\\AppData\\Local\\Temp\\ipykernel_732\\1475642542.py:16: FutureWarning: The frame.append method is deprecated and will be removed from pandas in a future version. Use pandas.concat instead.\n",
      "  cat_df=cat_df.append(temp_df, ignore_index= True)\n"
     ]
    },
    {
     "name": "stdout",
     "output_type": "stream",
     "text": [
      "['Butter, Margarine & Plant-Based Alternatives', 'Butter', 'Plant-Based Butter', 'Lards & Shortenings']\n",
      "vital farms spreadable butter\n",
      "https://www.amazon.com/s?k=vital+farms+spreadable+butter&page=1\n"
     ]
    },
    {
     "name": "stderr",
     "output_type": "stream",
     "text": [
      "C:\\Users\\visha\\AppData\\Local\\Temp\\ipykernel_732\\1475642542.py:16: FutureWarning: The frame.append method is deprecated and will be removed from pandas in a future version. Use pandas.concat instead.\n",
      "  cat_df=cat_df.append(temp_df, ignore_index= True)\n"
     ]
    },
    {
     "name": "stdout",
     "output_type": "stream",
     "text": [
      "['Butter, Margarine & Plant-Based Alternatives', 'Butter', 'Plant-Based Butter', 'Lards & Shortenings', 'Ghee']\n",
      "vital farms stick butter\n",
      "https://www.amazon.com/s?k=vital+farms+stick+butter&page=1\n"
     ]
    },
    {
     "name": "stderr",
     "output_type": "stream",
     "text": [
      "C:\\Users\\visha\\AppData\\Local\\Temp\\ipykernel_732\\1475642542.py:16: FutureWarning: The frame.append method is deprecated and will be removed from pandas in a future version. Use pandas.concat instead.\n",
      "  cat_df=cat_df.append(temp_df, ignore_index= True)\n"
     ]
    },
    {
     "name": "stdout",
     "output_type": "stream",
     "text": [
      "['Butter, Margarine & Plant-Based Alternatives', 'Butter', 'Plant-Based Butter', 'Lards & Shortenings', 'Ghee', 'Body Moisturizers']\n",
      "vital farms tub butter\n",
      "https://www.amazon.com/s?k=vital+farms+tub+butter&page=1\n"
     ]
    },
    {
     "name": "stderr",
     "output_type": "stream",
     "text": [
      "C:\\Users\\visha\\AppData\\Local\\Temp\\ipykernel_732\\1475642542.py:16: FutureWarning: The frame.append method is deprecated and will be removed from pandas in a future version. Use pandas.concat instead.\n",
      "  cat_df=cat_df.append(temp_df, ignore_index= True)\n"
     ]
    },
    {
     "name": "stdout",
     "output_type": "stream",
     "text": [
      "['Butter, Margarine & Plant-Based Alternatives', 'Butter', 'Plant-Based Butter', 'Pantry Staples', 'Ghee']\n",
      "vital farms unsalted butter\n",
      "https://www.amazon.com/s?k=vital+farms+unsalted+butter&page=1\n"
     ]
    },
    {
     "name": "stderr",
     "output_type": "stream",
     "text": [
      "C:\\Users\\visha\\AppData\\Local\\Temp\\ipykernel_732\\1475642542.py:16: FutureWarning: The frame.append method is deprecated and will be removed from pandas in a future version. Use pandas.concat instead.\n",
      "  cat_df=cat_df.append(temp_df, ignore_index= True)\n"
     ]
    },
    {
     "name": "stdout",
     "output_type": "stream",
     "text": [
      "['Butter, Margarine & Plant-Based Alternatives', 'Butter', 'Plant-Based Butter', 'Lards & Shortenings']\n",
      "whipped butter\n",
      "https://www.amazon.com/s?k=whipped+butter&page=1\n"
     ]
    },
    {
     "name": "stderr",
     "output_type": "stream",
     "text": [
      "C:\\Users\\visha\\AppData\\Local\\Temp\\ipykernel_732\\1475642542.py:16: FutureWarning: The frame.append method is deprecated and will be removed from pandas in a future version. Use pandas.concat instead.\n",
      "  cat_df=cat_df.append(temp_df, ignore_index= True)\n"
     ]
    },
    {
     "name": "stdout",
     "output_type": "stream",
     "text": [
      "['Butter, Margarine & Plant-Based Alternatives', 'Butter', 'Plant-Based Butter', 'Nut & Seed Butters', 'Peanut Butter', 'Almond Butter', 'Jams, Jellies & Sweet Spreads']\n"
     ]
    },
    {
     "name": "stderr",
     "output_type": "stream",
     "text": [
      "C:\\Users\\visha\\AppData\\Local\\Temp\\ipykernel_732\\1475642542.py:16: FutureWarning: The frame.append method is deprecated and will be removed from pandas in a future version. Use pandas.concat instead.\n",
      "  cat_df=cat_df.append(temp_df, ignore_index= True)\n"
     ]
    }
   ],
   "source": [
    "for val in tqdm(range(0,257)):\n",
    "    key=keys[val]\n",
    "    print(key)\n",
    "    key1=key.replace(' ','+')\n",
    "    URL = \"https://www.amazon.com/s?k={}&page=1\".format(key1)\n",
    "    print(URL)\n",
    "    \n",
    "    try:\n",
    "        driver.get(URL)\n",
    "        cats = driver.find_element(By.ID,'departments')\n",
    "        categories=cats.text.split(\"\\n\")[1:-1]\n",
    "    except:\n",
    "        categories=[]\n",
    "    print(categories)\n",
    "    temp_df={'keyword': key, 'cats':categories}\n",
    "    cat_df=cat_df.append(temp_df, ignore_index= True)"
   ]
  },
  {
   "cell_type": "code",
   "execution_count": 7,
   "id": "b19e3e75",
   "metadata": {},
   "outputs": [
    {
     "data": {
      "text/html": [
       "<div>\n",
       "<style scoped>\n",
       "    .dataframe tbody tr th:only-of-type {\n",
       "        vertical-align: middle;\n",
       "    }\n",
       "\n",
       "    .dataframe tbody tr th {\n",
       "        vertical-align: top;\n",
       "    }\n",
       "\n",
       "    .dataframe thead th {\n",
       "        text-align: right;\n",
       "    }\n",
       "</style>\n",
       "<table border=\"1\" class=\"dataframe\">\n",
       "  <thead>\n",
       "    <tr style=\"text-align: right;\">\n",
       "      <th></th>\n",
       "      <th>keyword</th>\n",
       "      <th>cats</th>\n",
       "    </tr>\n",
       "  </thead>\n",
       "  <tbody>\n",
       "    <tr>\n",
       "      <th>0</th>\n",
       "      <td>all natural butter</td>\n",
       "      <td>Butter, Margarine &amp; Plant-Based Alternatives</td>\n",
       "    </tr>\n",
       "    <tr>\n",
       "      <th>0</th>\n",
       "      <td>all natural butter</td>\n",
       "      <td>Butter</td>\n",
       "    </tr>\n",
       "    <tr>\n",
       "      <th>0</th>\n",
       "      <td>all natural butter</td>\n",
       "      <td>Plant-Based Butter</td>\n",
       "    </tr>\n",
       "    <tr>\n",
       "      <th>0</th>\n",
       "      <td>all natural butter</td>\n",
       "      <td>Body Butters</td>\n",
       "    </tr>\n",
       "    <tr>\n",
       "      <th>0</th>\n",
       "      <td>all natural butter</td>\n",
       "      <td>Pantry Staples</td>\n",
       "    </tr>\n",
       "    <tr>\n",
       "      <th>...</th>\n",
       "      <td>...</td>\n",
       "      <td>...</td>\n",
       "    </tr>\n",
       "    <tr>\n",
       "      <th>258</th>\n",
       "      <td>whipped butter</td>\n",
       "      <td>Plant-Based Butter</td>\n",
       "    </tr>\n",
       "    <tr>\n",
       "      <th>258</th>\n",
       "      <td>whipped butter</td>\n",
       "      <td>Nut &amp; Seed Butters</td>\n",
       "    </tr>\n",
       "    <tr>\n",
       "      <th>258</th>\n",
       "      <td>whipped butter</td>\n",
       "      <td>Peanut Butter</td>\n",
       "    </tr>\n",
       "    <tr>\n",
       "      <th>258</th>\n",
       "      <td>whipped butter</td>\n",
       "      <td>Almond Butter</td>\n",
       "    </tr>\n",
       "    <tr>\n",
       "      <th>258</th>\n",
       "      <td>whipped butter</td>\n",
       "      <td>Jams, Jellies &amp; Sweet Spreads</td>\n",
       "    </tr>\n",
       "  </tbody>\n",
       "</table>\n",
       "<p>1379 rows × 2 columns</p>\n",
       "</div>"
      ],
      "text/plain": [
       "                keyword                                          cats\n",
       "0    all natural butter  Butter, Margarine & Plant-Based Alternatives\n",
       "0    all natural butter                                        Butter\n",
       "0    all natural butter                            Plant-Based Butter\n",
       "0    all natural butter                                  Body Butters\n",
       "0    all natural butter                                Pantry Staples\n",
       "..                  ...                                           ...\n",
       "258      whipped butter                            Plant-Based Butter\n",
       "258      whipped butter                            Nut & Seed Butters\n",
       "258      whipped butter                                 Peanut Butter\n",
       "258      whipped butter                                 Almond Butter\n",
       "258      whipped butter                 Jams, Jellies & Sweet Spreads\n",
       "\n",
       "[1379 rows x 2 columns]"
      ]
     },
     "execution_count": 7,
     "metadata": {},
     "output_type": "execute_result"
    }
   ],
   "source": [
    "final_df=cat_df.explode('cats')\n",
    "final_df"
   ]
  },
  {
   "cell_type": "code",
   "execution_count": 8,
   "id": "3509b342",
   "metadata": {},
   "outputs": [
    {
     "data": {
      "text/html": [
       "<div>\n",
       "<style scoped>\n",
       "    .dataframe tbody tr th:only-of-type {\n",
       "        vertical-align: middle;\n",
       "    }\n",
       "\n",
       "    .dataframe tbody tr th {\n",
       "        vertical-align: top;\n",
       "    }\n",
       "\n",
       "    .dataframe thead th {\n",
       "        text-align: right;\n",
       "    }\n",
       "</style>\n",
       "<table border=\"1\" class=\"dataframe\">\n",
       "  <thead>\n",
       "    <tr style=\"text-align: right;\">\n",
       "      <th></th>\n",
       "      <th>cats</th>\n",
       "      <th>keyword</th>\n",
       "    </tr>\n",
       "  </thead>\n",
       "  <tbody>\n",
       "    <tr>\n",
       "      <th>18</th>\n",
       "      <td>Butter</td>\n",
       "      <td>233</td>\n",
       "    </tr>\n",
       "    <tr>\n",
       "      <th>21</th>\n",
       "      <td>Butter, Margarine &amp; Plant-Based Alternatives</td>\n",
       "      <td>190</td>\n",
       "    </tr>\n",
       "    <tr>\n",
       "      <th>98</th>\n",
       "      <td>Plant-Based Butter</td>\n",
       "      <td>111</td>\n",
       "    </tr>\n",
       "    <tr>\n",
       "      <th>95</th>\n",
       "      <td>Pantry Staples</td>\n",
       "      <td>108</td>\n",
       "    </tr>\n",
       "    <tr>\n",
       "      <th>64</th>\n",
       "      <td>Grocery &amp; Gourmet Food</td>\n",
       "      <td>55</td>\n",
       "    </tr>\n",
       "    <tr>\n",
       "      <th>...</th>\n",
       "      <td>...</td>\n",
       "      <td>...</td>\n",
       "    </tr>\n",
       "    <tr>\n",
       "      <th>69</th>\n",
       "      <td>Herb, Spice &amp; Seasoning Gifts</td>\n",
       "      <td>1</td>\n",
       "    </tr>\n",
       "    <tr>\n",
       "      <th>25</th>\n",
       "      <td>Candy &amp; Chocolate Gifts</td>\n",
       "      <td>1</td>\n",
       "    </tr>\n",
       "    <tr>\n",
       "      <th>71</th>\n",
       "      <td>High Protein Bars</td>\n",
       "      <td>1</td>\n",
       "    </tr>\n",
       "    <tr>\n",
       "      <th>75</th>\n",
       "      <td>Hot Sauce</td>\n",
       "      <td>1</td>\n",
       "    </tr>\n",
       "    <tr>\n",
       "      <th>115</th>\n",
       "      <td>Toys &amp; Games</td>\n",
       "      <td>1</td>\n",
       "    </tr>\n",
       "  </tbody>\n",
       "</table>\n",
       "<p>116 rows × 2 columns</p>\n",
       "</div>"
      ],
      "text/plain": [
       "                                             cats  keyword\n",
       "18                                         Butter      233\n",
       "21   Butter, Margarine & Plant-Based Alternatives      190\n",
       "98                             Plant-Based Butter      111\n",
       "95                                 Pantry Staples      108\n",
       "64                         Grocery & Gourmet Food       55\n",
       "..                                            ...      ...\n",
       "69                  Herb, Spice & Seasoning Gifts        1\n",
       "25                        Candy & Chocolate Gifts        1\n",
       "71                              High Protein Bars        1\n",
       "75                                      Hot Sauce        1\n",
       "115                                  Toys & Games        1\n",
       "\n",
       "[116 rows x 2 columns]"
      ]
     },
     "execution_count": 8,
     "metadata": {},
     "output_type": "execute_result"
    }
   ],
   "source": [
    "nb=final_df.groupby('cats').count().reset_index().sort_values('keyword',ascending=False )\n",
    "nb"
   ]
  },
  {
   "cell_type": "code",
   "execution_count": 9,
   "id": "7d1c75ba",
   "metadata": {},
   "outputs": [],
   "source": [
    "fileout =r\"USA553(cat).xlsx\"\n",
    "with pd.ExcelWriter(fileout, engine='xlsxwriter')as writer:\n",
    "    cat_df.to_excel(writer,sheet_name='cats' ,startrow=0,startcol=0,index=False)\n",
    "    final_df.to_excel(writer,sheet_name='final' ,startrow=0,startcol=0,index=False)\n",
    "    nb.to_excel(writer,sheet_name='worth_cat' ,startrow=0,startcol=0,index=False)"
   ]
  },
  {
   "cell_type": "code",
   "execution_count": null,
   "id": "fd30f1a8",
   "metadata": {},
   "outputs": [],
   "source": []
  }
 ],
 "metadata": {
  "kernelspec": {
   "display_name": "Python 3 (ipykernel)",
   "language": "python",
   "name": "python3"
  },
  "language_info": {
   "codemirror_mode": {
    "name": "ipython",
    "version": 3
   },
   "file_extension": ".py",
   "mimetype": "text/x-python",
   "name": "python",
   "nbconvert_exporter": "python",
   "pygments_lexer": "ipython3",
   "version": "3.9.12"
  }
 },
 "nbformat": 4,
 "nbformat_minor": 5
}

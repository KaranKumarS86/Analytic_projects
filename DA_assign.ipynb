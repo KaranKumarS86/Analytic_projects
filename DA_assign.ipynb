{
 "cells": [
  {
   "cell_type": "markdown",
   "metadata": {},
   "source": [
    "###### 1.importing all necessary libraries "
   ]
  },
  {
   "cell_type": "code",
   "execution_count": 53,
   "metadata": {},
   "outputs": [],
   "source": [
    "import numpy as np\n",
    "import pandas as pd\n",
    "import matplotlib.pyplot as plt\n",
    "import seaborn as sns\n",
    "import warnings\n",
    "warnings.simplefilter(action='ignore', category=FutureWarning)"
   ]
  },
  {
   "cell_type": "markdown",
   "metadata": {},
   "source": [
    "###### merging all retail store data into one csv file"
   ]
  },
  {
   "cell_type": "markdown",
   "metadata": {},
   "source": [
    "In each file the no.of sheets vary that's the reason I have stored each file in single data frame and merged"
   ]
  },
  {
   "cell_type": "code",
   "execution_count": 54,
   "metadata": {},
   "outputs": [
    {
     "name": "stderr",
     "output_type": "stream",
     "text": [
      "C:\\Users\\Dhanalakshmi\\anaconda3\\lib\\site-packages\\openpyxl\\worksheet\\header_footer.py:48: UserWarning: Cannot parse header or footer so it will be ignored\n",
      "  warn(\"\"\"Cannot parse header or footer so it will be ignored\"\"\")\n"
     ]
    }
   ],
   "source": [
    "df=pd.read_excel(\"C:\\\\Users\\\\Dhanalakshmi\\\\Desktop\\\\OneDrive_2022-01-19\\\\Case study - DA\\\\Store Bussigny - Transactions BU 2018 à 2021.xlsx\",sheet_name=1)\n",
    "df1=pd.read_excel(\"C:\\\\Users\\\\Dhanalakshmi\\\\Desktop\\\\OneDrive_2022-01-19\\\\Case study - DA\\\\Store Epalinges - Transactions EP1 1.1.2018 au 31.12.2019.xlsx\",sheet_name=0)\n",
    "df2=pd.read_excel(\"C:\\\\Users\\\\Dhanalakshmi\\\\Desktop\\\\OneDrive_2022-01-19\\\\Case study - DA\\\\Store Epalinges - Transactions EP1 1.1.2020 à 14.12.2021.xlsx\",sheet_name=2)"
   ]
  },
  {
   "cell_type": "code",
   "execution_count": 55,
   "metadata": {},
   "outputs": [
    {
     "data": {
      "text/html": [
       "<div>\n",
       "<style scoped>\n",
       "    .dataframe tbody tr th:only-of-type {\n",
       "        vertical-align: middle;\n",
       "    }\n",
       "\n",
       "    .dataframe tbody tr th {\n",
       "        vertical-align: top;\n",
       "    }\n",
       "\n",
       "    .dataframe thead th {\n",
       "        text-align: right;\n",
       "    }\n",
       "</style>\n",
       "<table border=\"1\" class=\"dataframe\">\n",
       "  <thead>\n",
       "    <tr style=\"text-align: right;\">\n",
       "      <th></th>\n",
       "      <th>ID</th>\n",
       "      <th>Date &amp; heure</th>\n",
       "      <th>N° de ticket</th>\n",
       "      <th>Terminal</th>\n",
       "      <th>Total</th>\n",
       "      <th>CA 2.5%</th>\n",
       "      <th>CA 7.7%</th>\n",
       "      <th>Qté 2.5%</th>\n",
       "      <th>Qté 7.7%</th>\n",
       "      <th>PAIN</th>\n",
       "      <th>...</th>\n",
       "      <th>EPICERIE</th>\n",
       "      <th>MENU ET FORMULE</th>\n",
       "      <th>Tea-room / cuisine</th>\n",
       "      <th>INVENTAIRE MENSUEL</th>\n",
       "      <th>LIVRAISON</th>\n",
       "      <th>PRODUITS DE REVENTE</th>\n",
       "      <th>CARBURANT</th>\n",
       "      <th>LOTERIE</th>\n",
       "      <th>TABAC</th>\n",
       "      <th>PRODUITS AUTO</th>\n",
       "    </tr>\n",
       "  </thead>\n",
       "  <tbody>\n",
       "    <tr>\n",
       "      <th>0</th>\n",
       "      <td>135470761</td>\n",
       "      <td>2021-12-14 18:45:44</td>\n",
       "      <td>6026</td>\n",
       "      <td>Bussigny TR</td>\n",
       "      <td>0.0</td>\n",
       "      <td>0.0</td>\n",
       "      <td>0.0</td>\n",
       "      <td>1.0</td>\n",
       "      <td>1</td>\n",
       "      <td>1.0</td>\n",
       "      <td>...</td>\n",
       "      <td>0.0</td>\n",
       "      <td>0</td>\n",
       "      <td>0</td>\n",
       "      <td>0</td>\n",
       "      <td>0</td>\n",
       "      <td>0</td>\n",
       "      <td>0</td>\n",
       "      <td>0</td>\n",
       "      <td>0</td>\n",
       "      <td>0</td>\n",
       "    </tr>\n",
       "  </tbody>\n",
       "</table>\n",
       "<p>1 rows × 26 columns</p>\n",
       "</div>"
      ],
      "text/plain": [
       "          ID        Date & heure  N° de ticket     Terminal  Total  CA 2.5%  \\\n",
       "0  135470761 2021-12-14 18:45:44          6026  Bussigny TR    0.0      0.0   \n",
       "\n",
       "   CA 7.7%  Qté 2.5%  Qté 7.7%  PAIN  ...  EPICERIE  MENU ET FORMULE  \\\n",
       "0      0.0       1.0         1   1.0  ...       0.0                0   \n",
       "\n",
       "   Tea-room / cuisine  INVENTAIRE MENSUEL  LIVRAISON  PRODUITS DE REVENTE  \\\n",
       "0                   0                   0          0                    0   \n",
       "\n",
       "   CARBURANT  LOTERIE  TABAC  PRODUITS AUTO  \n",
       "0          0        0      0              0  \n",
       "\n",
       "[1 rows x 26 columns]"
      ]
     },
     "execution_count": 55,
     "metadata": {},
     "output_type": "execute_result"
    }
   ],
   "source": [
    "df.head(1)"
   ]
  },
  {
   "cell_type": "code",
   "execution_count": 56,
   "metadata": {},
   "outputs": [
    {
     "data": {
      "text/html": [
       "<div>\n",
       "<style scoped>\n",
       "    .dataframe tbody tr th:only-of-type {\n",
       "        vertical-align: middle;\n",
       "    }\n",
       "\n",
       "    .dataframe tbody tr th {\n",
       "        vertical-align: top;\n",
       "    }\n",
       "\n",
       "    .dataframe thead th {\n",
       "        text-align: right;\n",
       "    }\n",
       "</style>\n",
       "<table border=\"1\" class=\"dataframe\">\n",
       "  <thead>\n",
       "    <tr style=\"text-align: right;\">\n",
       "      <th></th>\n",
       "      <th>ID</th>\n",
       "      <th>Date &amp; heure</th>\n",
       "      <th>N° de ticket</th>\n",
       "      <th>Terminal</th>\n",
       "      <th>Total</th>\n",
       "      <th>CA 2.5%</th>\n",
       "      <th>CA 7.7%</th>\n",
       "      <th>Qté 2.5%</th>\n",
       "      <th>Qté 7.7%</th>\n",
       "      <th>PAIN</th>\n",
       "      <th>...</th>\n",
       "      <th>EPICERIE</th>\n",
       "      <th>MENU ET FORMULE</th>\n",
       "      <th>Tea-room / cuisine</th>\n",
       "      <th>INVENTAIRE MENSUEL</th>\n",
       "      <th>LIVRAISON</th>\n",
       "      <th>PRODUITS DE REVENTE</th>\n",
       "      <th>CARBURANT</th>\n",
       "      <th>LOTERIE</th>\n",
       "      <th>TABAC</th>\n",
       "      <th>PRODUITS AUTO</th>\n",
       "    </tr>\n",
       "  </thead>\n",
       "  <tbody>\n",
       "    <tr>\n",
       "      <th>0</th>\n",
       "      <td>131645266</td>\n",
       "      <td>2019-12-31 17:45:16</td>\n",
       "      <td>50735</td>\n",
       "      <td>Epalinges 1 mag</td>\n",
       "      <td>13.8</td>\n",
       "      <td>13.8</td>\n",
       "      <td>0.0</td>\n",
       "      <td>2.0</td>\n",
       "      <td>0.0</td>\n",
       "      <td>2.0</td>\n",
       "      <td>...</td>\n",
       "      <td>0</td>\n",
       "      <td>0</td>\n",
       "      <td>0</td>\n",
       "      <td>0</td>\n",
       "      <td>0</td>\n",
       "      <td>0</td>\n",
       "      <td>0</td>\n",
       "      <td>0</td>\n",
       "      <td>0</td>\n",
       "      <td>0</td>\n",
       "    </tr>\n",
       "  </tbody>\n",
       "</table>\n",
       "<p>1 rows × 26 columns</p>\n",
       "</div>"
      ],
      "text/plain": [
       "          ID        Date & heure  N° de ticket         Terminal  Total  \\\n",
       "0  131645266 2019-12-31 17:45:16         50735  Epalinges 1 mag   13.8   \n",
       "\n",
       "   CA 2.5%  CA 7.7%  Qté 2.5%  Qté 7.7%  PAIN  ...  EPICERIE  MENU ET FORMULE  \\\n",
       "0     13.8      0.0       2.0       0.0   2.0  ...         0                0   \n",
       "\n",
       "   Tea-room / cuisine  INVENTAIRE MENSUEL  LIVRAISON  PRODUITS DE REVENTE  \\\n",
       "0                   0                   0          0                    0   \n",
       "\n",
       "   CARBURANT  LOTERIE  TABAC  PRODUITS AUTO  \n",
       "0          0        0      0              0  \n",
       "\n",
       "[1 rows x 26 columns]"
      ]
     },
     "execution_count": 56,
     "metadata": {},
     "output_type": "execute_result"
    }
   ],
   "source": [
    "df1.head(1)"
   ]
  },
  {
   "cell_type": "code",
   "execution_count": 57,
   "metadata": {},
   "outputs": [
    {
     "data": {
      "text/html": [
       "<div>\n",
       "<style scoped>\n",
       "    .dataframe tbody tr th:only-of-type {\n",
       "        vertical-align: middle;\n",
       "    }\n",
       "\n",
       "    .dataframe tbody tr th {\n",
       "        vertical-align: top;\n",
       "    }\n",
       "\n",
       "    .dataframe thead th {\n",
       "        text-align: right;\n",
       "    }\n",
       "</style>\n",
       "<table border=\"1\" class=\"dataframe\">\n",
       "  <thead>\n",
       "    <tr style=\"text-align: right;\">\n",
       "      <th></th>\n",
       "      <th>ID</th>\n",
       "      <th>Date &amp; heure</th>\n",
       "      <th>N° de ticket</th>\n",
       "      <th>Terminal</th>\n",
       "      <th>Total</th>\n",
       "      <th>CA 2.5%</th>\n",
       "      <th>CA 7.7%</th>\n",
       "      <th>Qté 2.5%</th>\n",
       "      <th>Qté 7.7%</th>\n",
       "      <th>PAIN</th>\n",
       "      <th>...</th>\n",
       "      <th>EPICERIE</th>\n",
       "      <th>MENU ET FORMULE</th>\n",
       "      <th>Tea-room / cuisine</th>\n",
       "      <th>INVENTAIRE MENSUEL</th>\n",
       "      <th>LIVRAISON</th>\n",
       "      <th>PRODUITS DE REVENTE</th>\n",
       "      <th>CARBURANT</th>\n",
       "      <th>LOTERIE</th>\n",
       "      <th>TABAC</th>\n",
       "      <th>PRODUITS AUTO</th>\n",
       "    </tr>\n",
       "  </thead>\n",
       "  <tbody>\n",
       "    <tr>\n",
       "      <th>0</th>\n",
       "      <td>135470689</td>\n",
       "      <td>2021-12-14 18:22:36</td>\n",
       "      <td>35839</td>\n",
       "      <td>Epalinges 1 mag</td>\n",
       "      <td>4.1</td>\n",
       "      <td>4.1</td>\n",
       "      <td>0.0</td>\n",
       "      <td>1.0</td>\n",
       "      <td>0.0</td>\n",
       "      <td>1.0</td>\n",
       "      <td>...</td>\n",
       "      <td>0</td>\n",
       "      <td>0</td>\n",
       "      <td>0</td>\n",
       "      <td>0</td>\n",
       "      <td>0</td>\n",
       "      <td>0</td>\n",
       "      <td>0</td>\n",
       "      <td>0</td>\n",
       "      <td>0</td>\n",
       "      <td>0</td>\n",
       "    </tr>\n",
       "  </tbody>\n",
       "</table>\n",
       "<p>1 rows × 26 columns</p>\n",
       "</div>"
      ],
      "text/plain": [
       "          ID        Date & heure  N° de ticket         Terminal  Total  \\\n",
       "0  135470689 2021-12-14 18:22:36         35839  Epalinges 1 mag    4.1   \n",
       "\n",
       "   CA 2.5%  CA 7.7%  Qté 2.5%  Qté 7.7%  PAIN  ...  EPICERIE  MENU ET FORMULE  \\\n",
       "0      4.1      0.0       1.0       0.0   1.0  ...         0                0   \n",
       "\n",
       "   Tea-room / cuisine  INVENTAIRE MENSUEL  LIVRAISON  PRODUITS DE REVENTE  \\\n",
       "0                   0                   0          0                    0   \n",
       "\n",
       "   CARBURANT  LOTERIE  TABAC  PRODUITS AUTO  \n",
       "0          0        0      0              0  \n",
       "\n",
       "[1 rows x 26 columns]"
      ]
     },
     "execution_count": 57,
     "metadata": {},
     "output_type": "execute_result"
    }
   ],
   "source": [
    "df2.head(1)"
   ]
  },
  {
   "cell_type": "code",
   "execution_count": 58,
   "metadata": {},
   "outputs": [],
   "source": [
    "frames = [df, df1, df2]\n",
    "result_data = pd.concat(frames) #merging all excel files in one data frame"
   ]
  },
  {
   "cell_type": "code",
   "execution_count": 59,
   "metadata": {},
   "outputs": [
    {
     "data": {
      "text/html": [
       "<div>\n",
       "<style scoped>\n",
       "    .dataframe tbody tr th:only-of-type {\n",
       "        vertical-align: middle;\n",
       "    }\n",
       "\n",
       "    .dataframe tbody tr th {\n",
       "        vertical-align: top;\n",
       "    }\n",
       "\n",
       "    .dataframe thead th {\n",
       "        text-align: right;\n",
       "    }\n",
       "</style>\n",
       "<table border=\"1\" class=\"dataframe\">\n",
       "  <thead>\n",
       "    <tr style=\"text-align: right;\">\n",
       "      <th></th>\n",
       "      <th>ID</th>\n",
       "      <th>Date &amp; heure</th>\n",
       "      <th>N° de ticket</th>\n",
       "      <th>Terminal</th>\n",
       "      <th>Total</th>\n",
       "      <th>CA 2.5%</th>\n",
       "      <th>CA 7.7%</th>\n",
       "      <th>Qté 2.5%</th>\n",
       "      <th>Qté 7.7%</th>\n",
       "      <th>PAIN</th>\n",
       "      <th>...</th>\n",
       "      <th>EPICERIE</th>\n",
       "      <th>MENU ET FORMULE</th>\n",
       "      <th>Tea-room / cuisine</th>\n",
       "      <th>INVENTAIRE MENSUEL</th>\n",
       "      <th>LIVRAISON</th>\n",
       "      <th>PRODUITS DE REVENTE</th>\n",
       "      <th>CARBURANT</th>\n",
       "      <th>LOTERIE</th>\n",
       "      <th>TABAC</th>\n",
       "      <th>PRODUITS AUTO</th>\n",
       "    </tr>\n",
       "  </thead>\n",
       "  <tbody>\n",
       "    <tr>\n",
       "      <th>0</th>\n",
       "      <td>135470761</td>\n",
       "      <td>2021-12-14 18:45:44</td>\n",
       "      <td>6026</td>\n",
       "      <td>Bussigny TR</td>\n",
       "      <td>0.0</td>\n",
       "      <td>0.0</td>\n",
       "      <td>0.0</td>\n",
       "      <td>1.0</td>\n",
       "      <td>1.0</td>\n",
       "      <td>1.0</td>\n",
       "      <td>...</td>\n",
       "      <td>0.0</td>\n",
       "      <td>0</td>\n",
       "      <td>0</td>\n",
       "      <td>0</td>\n",
       "      <td>0</td>\n",
       "      <td>0</td>\n",
       "      <td>0</td>\n",
       "      <td>0</td>\n",
       "      <td>0</td>\n",
       "      <td>0</td>\n",
       "    </tr>\n",
       "    <tr>\n",
       "      <th>1</th>\n",
       "      <td>135470732</td>\n",
       "      <td>2021-12-14 18:37:57</td>\n",
       "      <td>9625</td>\n",
       "      <td>Bussigny mag</td>\n",
       "      <td>14.3</td>\n",
       "      <td>14.3</td>\n",
       "      <td>0.0</td>\n",
       "      <td>4.0</td>\n",
       "      <td>0.0</td>\n",
       "      <td>1.0</td>\n",
       "      <td>...</td>\n",
       "      <td>0.0</td>\n",
       "      <td>0</td>\n",
       "      <td>0</td>\n",
       "      <td>0</td>\n",
       "      <td>0</td>\n",
       "      <td>0</td>\n",
       "      <td>0</td>\n",
       "      <td>0</td>\n",
       "      <td>0</td>\n",
       "      <td>0</td>\n",
       "    </tr>\n",
       "    <tr>\n",
       "      <th>2</th>\n",
       "      <td>135470700</td>\n",
       "      <td>2021-12-14 18:28:36</td>\n",
       "      <td>9624</td>\n",
       "      <td>Bussigny mag</td>\n",
       "      <td>3.7</td>\n",
       "      <td>3.7</td>\n",
       "      <td>0.0</td>\n",
       "      <td>1.0</td>\n",
       "      <td>0.0</td>\n",
       "      <td>1.0</td>\n",
       "      <td>...</td>\n",
       "      <td>0.0</td>\n",
       "      <td>0</td>\n",
       "      <td>0</td>\n",
       "      <td>0</td>\n",
       "      <td>0</td>\n",
       "      <td>0</td>\n",
       "      <td>0</td>\n",
       "      <td>0</td>\n",
       "      <td>0</td>\n",
       "      <td>0</td>\n",
       "    </tr>\n",
       "    <tr>\n",
       "      <th>3</th>\n",
       "      <td>135470666</td>\n",
       "      <td>2021-12-14 18:17:10</td>\n",
       "      <td>9623</td>\n",
       "      <td>Bussigny mag</td>\n",
       "      <td>3.9</td>\n",
       "      <td>3.9</td>\n",
       "      <td>0.0</td>\n",
       "      <td>1.0</td>\n",
       "      <td>0.0</td>\n",
       "      <td>0.0</td>\n",
       "      <td>...</td>\n",
       "      <td>0.0</td>\n",
       "      <td>0</td>\n",
       "      <td>0</td>\n",
       "      <td>0</td>\n",
       "      <td>0</td>\n",
       "      <td>0</td>\n",
       "      <td>0</td>\n",
       "      <td>0</td>\n",
       "      <td>0</td>\n",
       "      <td>0</td>\n",
       "    </tr>\n",
       "    <tr>\n",
       "      <th>4</th>\n",
       "      <td>135470654</td>\n",
       "      <td>2021-12-14 18:14:09</td>\n",
       "      <td>9622</td>\n",
       "      <td>Bussigny mag</td>\n",
       "      <td>22.8</td>\n",
       "      <td>22.8</td>\n",
       "      <td>0.0</td>\n",
       "      <td>7.0</td>\n",
       "      <td>0.0</td>\n",
       "      <td>0.0</td>\n",
       "      <td>...</td>\n",
       "      <td>0.0</td>\n",
       "      <td>0</td>\n",
       "      <td>0</td>\n",
       "      <td>0</td>\n",
       "      <td>0</td>\n",
       "      <td>0</td>\n",
       "      <td>0</td>\n",
       "      <td>0</td>\n",
       "      <td>0</td>\n",
       "      <td>0</td>\n",
       "    </tr>\n",
       "  </tbody>\n",
       "</table>\n",
       "<p>5 rows × 26 columns</p>\n",
       "</div>"
      ],
      "text/plain": [
       "          ID        Date & heure  N° de ticket      Terminal  Total  CA 2.5%  \\\n",
       "0  135470761 2021-12-14 18:45:44          6026   Bussigny TR    0.0      0.0   \n",
       "1  135470732 2021-12-14 18:37:57          9625  Bussigny mag   14.3     14.3   \n",
       "2  135470700 2021-12-14 18:28:36          9624  Bussigny mag    3.7      3.7   \n",
       "3  135470666 2021-12-14 18:17:10          9623  Bussigny mag    3.9      3.9   \n",
       "4  135470654 2021-12-14 18:14:09          9622  Bussigny mag   22.8     22.8   \n",
       "\n",
       "   CA 7.7%  Qté 2.5%  Qté 7.7%  PAIN  ...  EPICERIE  MENU ET FORMULE  \\\n",
       "0      0.0       1.0       1.0   1.0  ...       0.0                0   \n",
       "1      0.0       4.0       0.0   1.0  ...       0.0                0   \n",
       "2      0.0       1.0       0.0   1.0  ...       0.0                0   \n",
       "3      0.0       1.0       0.0   0.0  ...       0.0                0   \n",
       "4      0.0       7.0       0.0   0.0  ...       0.0                0   \n",
       "\n",
       "   Tea-room / cuisine  INVENTAIRE MENSUEL  LIVRAISON  PRODUITS DE REVENTE  \\\n",
       "0                   0                   0          0                    0   \n",
       "1                   0                   0          0                    0   \n",
       "2                   0                   0          0                    0   \n",
       "3                   0                   0          0                    0   \n",
       "4                   0                   0          0                    0   \n",
       "\n",
       "   CARBURANT  LOTERIE  TABAC  PRODUITS AUTO  \n",
       "0          0        0      0              0  \n",
       "1          0        0      0              0  \n",
       "2          0        0      0              0  \n",
       "3          0        0      0              0  \n",
       "4          0        0      0              0  \n",
       "\n",
       "[5 rows x 26 columns]"
      ]
     },
     "execution_count": 59,
     "metadata": {},
     "output_type": "execute_result"
    }
   ],
   "source": [
    "result_data.head()"
   ]
  },
  {
   "cell_type": "code",
   "execution_count": 60,
   "metadata": {},
   "outputs": [
    {
     "name": "stdout",
     "output_type": "stream",
     "text": [
      "<class 'pandas.core.frame.DataFrame'>\n",
      "Int64Index: 1062852 entries, 0 to 268928\n",
      "Data columns (total 26 columns):\n",
      " #   Column               Non-Null Count    Dtype         \n",
      "---  ------               --------------    -----         \n",
      " 0   ID                   1062852 non-null  int64         \n",
      " 1   Date & heure         1062852 non-null  datetime64[ns]\n",
      " 2   N° de ticket         1062852 non-null  int64         \n",
      " 3   Terminal             1062852 non-null  object        \n",
      " 4   Total                1062852 non-null  float64       \n",
      " 5   CA 2.5%              942121 non-null   float64       \n",
      " 6   CA 7.7%              975774 non-null   float64       \n",
      " 7   Qté 2.5%             1062852 non-null  float64       \n",
      " 8   Qté 7.7%             1062852 non-null  float64       \n",
      " 9   PAIN                 1062852 non-null  float64       \n",
      " 10  VIENNOISERIE         1062852 non-null  float64       \n",
      " 11  PATISSERIE           1062852 non-null  float64       \n",
      " 12  TRAITEUR - SANDWICH  1062852 non-null  float64       \n",
      " 13  BOISSON EMPORTER     1062852 non-null  float64       \n",
      " 14  BOISSON CHAUDE       1062852 non-null  float64       \n",
      " 15  CHOCOLAT             1062852 non-null  int64         \n",
      " 16  EPICERIE             1062852 non-null  float64       \n",
      " 17  MENU ET FORMULE      1062852 non-null  int64         \n",
      " 18  Tea-room / cuisine   1062852 non-null  int64         \n",
      " 19  INVENTAIRE MENSUEL   1062852 non-null  int64         \n",
      " 20  LIVRAISON            1062852 non-null  int64         \n",
      " 21  PRODUITS DE REVENTE  1062852 non-null  int64         \n",
      " 22  CARBURANT            1062852 non-null  int64         \n",
      " 23  LOTERIE              1062852 non-null  int64         \n",
      " 24  TABAC                1062852 non-null  int64         \n",
      " 25  PRODUITS AUTO        1062852 non-null  int64         \n",
      "dtypes: datetime64[ns](1), float64(12), int64(12), object(1)\n",
      "memory usage: 218.9+ MB\n"
     ]
    }
   ],
   "source": [
    "result_data.info()"
   ]
  },
  {
   "cell_type": "markdown",
   "metadata": {},
   "source": [
    "##### 2. Data Cleaning and preparation "
   ]
  },
  {
   "cell_type": "code",
   "execution_count": 61,
   "metadata": {},
   "outputs": [
    {
     "data": {
      "text/html": [
       "<div>\n",
       "<style scoped>\n",
       "    .dataframe tbody tr th:only-of-type {\n",
       "        vertical-align: middle;\n",
       "    }\n",
       "\n",
       "    .dataframe tbody tr th {\n",
       "        vertical-align: top;\n",
       "    }\n",
       "\n",
       "    .dataframe thead th {\n",
       "        text-align: right;\n",
       "    }\n",
       "</style>\n",
       "<table border=\"1\" class=\"dataframe\">\n",
       "  <thead>\n",
       "    <tr style=\"text-align: right;\">\n",
       "      <th></th>\n",
       "      <th>ID</th>\n",
       "      <th>Date &amp; heure</th>\n",
       "      <th>N° de ticket</th>\n",
       "      <th>Terminal</th>\n",
       "      <th>Total</th>\n",
       "      <th>CA 2.5%</th>\n",
       "      <th>CA 7.7%</th>\n",
       "      <th>Qté 2.5%</th>\n",
       "      <th>Qté 7.7%</th>\n",
       "      <th>PAIN</th>\n",
       "      <th>...</th>\n",
       "      <th>EPICERIE</th>\n",
       "      <th>MENU ET FORMULE</th>\n",
       "      <th>Tea-room / cuisine</th>\n",
       "      <th>INVENTAIRE MENSUEL</th>\n",
       "      <th>LIVRAISON</th>\n",
       "      <th>PRODUITS DE REVENTE</th>\n",
       "      <th>CARBURANT</th>\n",
       "      <th>LOTERIE</th>\n",
       "      <th>TABAC</th>\n",
       "      <th>PRODUITS AUTO</th>\n",
       "    </tr>\n",
       "  </thead>\n",
       "  <tbody>\n",
       "    <tr>\n",
       "      <th>0</th>\n",
       "      <td>135470761</td>\n",
       "      <td>2021-12-14 18:45:44</td>\n",
       "      <td>6026</td>\n",
       "      <td>Bussigny TR</td>\n",
       "      <td>0.0</td>\n",
       "      <td>0.0</td>\n",
       "      <td>0.0</td>\n",
       "      <td>1.0</td>\n",
       "      <td>1.0</td>\n",
       "      <td>1.0</td>\n",
       "      <td>...</td>\n",
       "      <td>0.0</td>\n",
       "      <td>0</td>\n",
       "      <td>0</td>\n",
       "      <td>0</td>\n",
       "      <td>0</td>\n",
       "      <td>0</td>\n",
       "      <td>0</td>\n",
       "      <td>0</td>\n",
       "      <td>0</td>\n",
       "      <td>0</td>\n",
       "    </tr>\n",
       "  </tbody>\n",
       "</table>\n",
       "<p>1 rows × 26 columns</p>\n",
       "</div>"
      ],
      "text/plain": [
       "          ID        Date & heure  N° de ticket     Terminal  Total  CA 2.5%  \\\n",
       "0  135470761 2021-12-14 18:45:44          6026  Bussigny TR    0.0      0.0   \n",
       "\n",
       "   CA 7.7%  Qté 2.5%  Qté 7.7%  PAIN  ...  EPICERIE  MENU ET FORMULE  \\\n",
       "0      0.0       1.0       1.0   1.0  ...       0.0                0   \n",
       "\n",
       "   Tea-room / cuisine  INVENTAIRE MENSUEL  LIVRAISON  PRODUITS DE REVENTE  \\\n",
       "0                   0                   0          0                    0   \n",
       "\n",
       "   CARBURANT  LOTERIE  TABAC  PRODUITS AUTO  \n",
       "0          0        0      0              0  \n",
       "\n",
       "[1 rows x 26 columns]"
      ]
     },
     "execution_count": 61,
     "metadata": {},
     "output_type": "execute_result"
    }
   ],
   "source": [
    "result_data.head(1)"
   ]
  },
  {
   "cell_type": "code",
   "execution_count": 62,
   "metadata": {},
   "outputs": [],
   "source": [
    "#renaming the columns for better understanding\n",
    "result_data=result_data.rename(columns={'Date & heure':'Date and Time','N° de ticket':'Ticket_number','Terminal':'Store_name','CA 2.5%':'Amount(2.5%)','CA 7.7%':'Amount(7.7%)','Qté 2.5%':'Quan(2.5%)','Qté 7.7%':'Quan(7.7%)' })"
   ]
  },
  {
   "cell_type": "code",
   "execution_count": 63,
   "metadata": {},
   "outputs": [
    {
     "data": {
      "text/html": [
       "<div>\n",
       "<style scoped>\n",
       "    .dataframe tbody tr th:only-of-type {\n",
       "        vertical-align: middle;\n",
       "    }\n",
       "\n",
       "    .dataframe tbody tr th {\n",
       "        vertical-align: top;\n",
       "    }\n",
       "\n",
       "    .dataframe thead th {\n",
       "        text-align: right;\n",
       "    }\n",
       "</style>\n",
       "<table border=\"1\" class=\"dataframe\">\n",
       "  <thead>\n",
       "    <tr style=\"text-align: right;\">\n",
       "      <th></th>\n",
       "      <th>ID</th>\n",
       "      <th>Date and Time</th>\n",
       "      <th>Ticket_number</th>\n",
       "      <th>Store_name</th>\n",
       "      <th>Total</th>\n",
       "      <th>Amount(2.5%)</th>\n",
       "      <th>Amount(7.7%)</th>\n",
       "      <th>Quan(2.5%)</th>\n",
       "      <th>Quan(7.7%)</th>\n",
       "      <th>PAIN</th>\n",
       "      <th>...</th>\n",
       "      <th>EPICERIE</th>\n",
       "      <th>MENU ET FORMULE</th>\n",
       "      <th>Tea-room / cuisine</th>\n",
       "      <th>INVENTAIRE MENSUEL</th>\n",
       "      <th>LIVRAISON</th>\n",
       "      <th>PRODUITS DE REVENTE</th>\n",
       "      <th>CARBURANT</th>\n",
       "      <th>LOTERIE</th>\n",
       "      <th>TABAC</th>\n",
       "      <th>PRODUITS AUTO</th>\n",
       "    </tr>\n",
       "  </thead>\n",
       "  <tbody>\n",
       "    <tr>\n",
       "      <th>0</th>\n",
       "      <td>135470761</td>\n",
       "      <td>2021-12-14 18:45:44</td>\n",
       "      <td>6026</td>\n",
       "      <td>Bussigny TR</td>\n",
       "      <td>0.0</td>\n",
       "      <td>0.0</td>\n",
       "      <td>0.0</td>\n",
       "      <td>1.0</td>\n",
       "      <td>1.0</td>\n",
       "      <td>1.0</td>\n",
       "      <td>...</td>\n",
       "      <td>0.0</td>\n",
       "      <td>0</td>\n",
       "      <td>0</td>\n",
       "      <td>0</td>\n",
       "      <td>0</td>\n",
       "      <td>0</td>\n",
       "      <td>0</td>\n",
       "      <td>0</td>\n",
       "      <td>0</td>\n",
       "      <td>0</td>\n",
       "    </tr>\n",
       "  </tbody>\n",
       "</table>\n",
       "<p>1 rows × 26 columns</p>\n",
       "</div>"
      ],
      "text/plain": [
       "          ID       Date and Time  Ticket_number   Store_name  Total  \\\n",
       "0  135470761 2021-12-14 18:45:44           6026  Bussigny TR    0.0   \n",
       "\n",
       "   Amount(2.5%)  Amount(7.7%)  Quan(2.5%)  Quan(7.7%)  PAIN  ...  EPICERIE  \\\n",
       "0           0.0           0.0         1.0         1.0   1.0  ...       0.0   \n",
       "\n",
       "   MENU ET FORMULE  Tea-room / cuisine  INVENTAIRE MENSUEL  LIVRAISON  \\\n",
       "0                0                   0                   0          0   \n",
       "\n",
       "   PRODUITS DE REVENTE  CARBURANT  LOTERIE  TABAC  PRODUITS AUTO  \n",
       "0                    0          0        0      0              0  \n",
       "\n",
       "[1 rows x 26 columns]"
      ]
     },
     "execution_count": 63,
     "metadata": {},
     "output_type": "execute_result"
    }
   ],
   "source": [
    "result_data.head(1)"
   ]
  },
  {
   "cell_type": "code",
   "execution_count": 64,
   "metadata": {},
   "outputs": [
    {
     "data": {
      "text/plain": [
       "ID                          0\n",
       "Date and Time               0\n",
       "Ticket_number               0\n",
       "Store_name                  0\n",
       "Total                       0\n",
       "Amount(2.5%)           120731\n",
       "Amount(7.7%)            87078\n",
       "Quan(2.5%)                  0\n",
       "Quan(7.7%)                  0\n",
       "PAIN                        0\n",
       "VIENNOISERIE                0\n",
       "PATISSERIE                  0\n",
       "TRAITEUR - SANDWICH         0\n",
       "BOISSON EMPORTER            0\n",
       "BOISSON CHAUDE              0\n",
       "CHOCOLAT                    0\n",
       "EPICERIE                    0\n",
       "MENU ET FORMULE             0\n",
       "Tea-room / cuisine          0\n",
       "INVENTAIRE MENSUEL          0\n",
       "LIVRAISON                   0\n",
       "PRODUITS DE REVENTE         0\n",
       "CARBURANT                   0\n",
       "LOTERIE                     0\n",
       "TABAC                       0\n",
       "PRODUITS AUTO               0\n",
       "dtype: int64"
      ]
     },
     "execution_count": 64,
     "metadata": {},
     "output_type": "execute_result"
    }
   ],
   "source": [
    "result_data.isnull().sum()"
   ]
  },
  {
   "cell_type": "code",
   "execution_count": 65,
   "metadata": {},
   "outputs": [
    {
     "data": {
      "text/plain": [
       "11.35915442601604"
      ]
     },
     "execution_count": 65,
     "metadata": {},
     "output_type": "execute_result"
    }
   ],
   "source": [
    "(120731/1062852)*100 #null percentage for Amount(2.5%)"
   ]
  },
  {
   "cell_type": "code",
   "execution_count": 66,
   "metadata": {},
   "outputs": [
    {
     "data": {
      "text/plain": [
       "8.192862223526888"
      ]
     },
     "execution_count": 66,
     "metadata": {},
     "output_type": "execute_result"
    }
   ],
   "source": [
    "(87078/1062852)*100 #null percentage for Amount(7.7%)"
   ]
  },
  {
   "cell_type": "code",
   "execution_count": 67,
   "metadata": {},
   "outputs": [
    {
     "data": {
      "text/plain": [
       "(1062852, 26)"
      ]
     },
     "execution_count": 67,
     "metadata": {},
     "output_type": "execute_result"
    }
   ],
   "source": [
    "result_data.shape"
   ]
  },
  {
   "cell_type": "code",
   "execution_count": 68,
   "metadata": {},
   "outputs": [
    {
     "data": {
      "text/plain": [
       "ID                              int64\n",
       "Date and Time          datetime64[ns]\n",
       "Ticket_number                   int64\n",
       "Store_name                     object\n",
       "Total                         float64\n",
       "Amount(2.5%)                  float64\n",
       "Amount(7.7%)                  float64\n",
       "Quan(2.5%)                    float64\n",
       "Quan(7.7%)                    float64\n",
       "PAIN                          float64\n",
       "VIENNOISERIE                  float64\n",
       "PATISSERIE                    float64\n",
       "TRAITEUR - SANDWICH           float64\n",
       "BOISSON EMPORTER              float64\n",
       "BOISSON CHAUDE                float64\n",
       "CHOCOLAT                        int64\n",
       "EPICERIE                      float64\n",
       "MENU ET FORMULE                 int64\n",
       "Tea-room / cuisine              int64\n",
       "INVENTAIRE MENSUEL              int64\n",
       "LIVRAISON                       int64\n",
       "PRODUITS DE REVENTE             int64\n",
       "CARBURANT                       int64\n",
       "LOTERIE                         int64\n",
       "TABAC                           int64\n",
       "PRODUITS AUTO                   int64\n",
       "dtype: object"
      ]
     },
     "execution_count": 68,
     "metadata": {},
     "output_type": "execute_result"
    }
   ],
   "source": [
    "result_data.dtypes"
   ]
  },
  {
   "cell_type": "code",
   "execution_count": 71,
   "metadata": {},
   "outputs": [],
   "source": [
    "result_data['Amount(2.5%)'].fillna(int(result_data['Amount(2.5%)'].mean()), inplace=True)\n",
    "result_data['Amount(7.7%)'].fillna(int(result_data['Amount(7.7%)'].mean()), inplace=True)"
   ]
  },
  {
   "cell_type": "code",
   "execution_count": 72,
   "metadata": {},
   "outputs": [
    {
     "data": {
      "text/plain": [
       "ID                     0\n",
       "Date and Time          0\n",
       "Ticket_number          0\n",
       "Store_name             0\n",
       "Total                  0\n",
       "Amount(2.5%)           0\n",
       "Amount(7.7%)           0\n",
       "Quan(2.5%)             0\n",
       "Quan(7.7%)             0\n",
       "PAIN                   0\n",
       "VIENNOISERIE           0\n",
       "PATISSERIE             0\n",
       "TRAITEUR - SANDWICH    0\n",
       "BOISSON EMPORTER       0\n",
       "BOISSON CHAUDE         0\n",
       "CHOCOLAT               0\n",
       "EPICERIE               0\n",
       "MENU ET FORMULE        0\n",
       "Tea-room / cuisine     0\n",
       "INVENTAIRE MENSUEL     0\n",
       "LIVRAISON              0\n",
       "PRODUITS DE REVENTE    0\n",
       "CARBURANT              0\n",
       "LOTERIE                0\n",
       "TABAC                  0\n",
       "PRODUITS AUTO          0\n",
       "dtype: int64"
      ]
     },
     "execution_count": 72,
     "metadata": {},
     "output_type": "execute_result"
    }
   ],
   "source": [
    "result_data.isnull().sum()"
   ]
  },
  {
   "cell_type": "markdown",
   "metadata": {},
   "source": [
    "#### 3.Extra flags, columns as needed "
   ]
  },
  {
   "cell_type": "code",
   "execution_count": 73,
   "metadata": {},
   "outputs": [],
   "source": [
    "#adding month column\n",
    "result_data['Month'] = pd.to_datetime(result_data['Date and Time']).dt.month"
   ]
  },
  {
   "cell_type": "code",
   "execution_count": 74,
   "metadata": {},
   "outputs": [
    {
     "data": {
      "text/html": [
       "<div>\n",
       "<style scoped>\n",
       "    .dataframe tbody tr th:only-of-type {\n",
       "        vertical-align: middle;\n",
       "    }\n",
       "\n",
       "    .dataframe tbody tr th {\n",
       "        vertical-align: top;\n",
       "    }\n",
       "\n",
       "    .dataframe thead th {\n",
       "        text-align: right;\n",
       "    }\n",
       "</style>\n",
       "<table border=\"1\" class=\"dataframe\">\n",
       "  <thead>\n",
       "    <tr style=\"text-align: right;\">\n",
       "      <th></th>\n",
       "      <th>ID</th>\n",
       "      <th>Date and Time</th>\n",
       "      <th>Ticket_number</th>\n",
       "      <th>Store_name</th>\n",
       "      <th>Total</th>\n",
       "      <th>Amount(2.5%)</th>\n",
       "      <th>Amount(7.7%)</th>\n",
       "      <th>Quan(2.5%)</th>\n",
       "      <th>Quan(7.7%)</th>\n",
       "      <th>PAIN</th>\n",
       "      <th>...</th>\n",
       "      <th>MENU ET FORMULE</th>\n",
       "      <th>Tea-room / cuisine</th>\n",
       "      <th>INVENTAIRE MENSUEL</th>\n",
       "      <th>LIVRAISON</th>\n",
       "      <th>PRODUITS DE REVENTE</th>\n",
       "      <th>CARBURANT</th>\n",
       "      <th>LOTERIE</th>\n",
       "      <th>TABAC</th>\n",
       "      <th>PRODUITS AUTO</th>\n",
       "      <th>Month</th>\n",
       "    </tr>\n",
       "  </thead>\n",
       "  <tbody>\n",
       "    <tr>\n",
       "      <th>0</th>\n",
       "      <td>135470761</td>\n",
       "      <td>2021-12-14 18:45:44</td>\n",
       "      <td>6026</td>\n",
       "      <td>Bussigny TR</td>\n",
       "      <td>0.0</td>\n",
       "      <td>0.0</td>\n",
       "      <td>0.0</td>\n",
       "      <td>1.0</td>\n",
       "      <td>1.0</td>\n",
       "      <td>1.0</td>\n",
       "      <td>...</td>\n",
       "      <td>0</td>\n",
       "      <td>0</td>\n",
       "      <td>0</td>\n",
       "      <td>0</td>\n",
       "      <td>0</td>\n",
       "      <td>0</td>\n",
       "      <td>0</td>\n",
       "      <td>0</td>\n",
       "      <td>0</td>\n",
       "      <td>12</td>\n",
       "    </tr>\n",
       "  </tbody>\n",
       "</table>\n",
       "<p>1 rows × 27 columns</p>\n",
       "</div>"
      ],
      "text/plain": [
       "          ID       Date and Time  Ticket_number   Store_name  Total  \\\n",
       "0  135470761 2021-12-14 18:45:44           6026  Bussigny TR    0.0   \n",
       "\n",
       "   Amount(2.5%)  Amount(7.7%)  Quan(2.5%)  Quan(7.7%)  PAIN  ...  \\\n",
       "0           0.0           0.0         1.0         1.0   1.0  ...   \n",
       "\n",
       "   MENU ET FORMULE  Tea-room / cuisine  INVENTAIRE MENSUEL  LIVRAISON  \\\n",
       "0                0                   0                   0          0   \n",
       "\n",
       "   PRODUITS DE REVENTE  CARBURANT  LOTERIE  TABAC  PRODUITS AUTO  Month  \n",
       "0                    0          0        0      0              0     12  \n",
       "\n",
       "[1 rows x 27 columns]"
      ]
     },
     "execution_count": 74,
     "metadata": {},
     "output_type": "execute_result"
    }
   ],
   "source": [
    "result_data.head(1)"
   ]
  },
  {
   "cell_type": "code",
   "execution_count": 75,
   "metadata": {},
   "outputs": [],
   "source": [
    "#adding hour,minute,year columns\n",
    "result_data['Hour'] = pd.to_datetime(result_data['Date and Time']).dt.hour\n",
    "result_data['Minute'] = pd.to_datetime(result_data['Date and Time']).dt.minute\n",
    "result_data['Year'] = pd.to_datetime(result_data['Date and Time']).dt.year\n",
    "result_data['Date'] = pd.to_datetime(result_data['Date and Time']).dt.day"
   ]
  },
  {
   "cell_type": "code",
   "execution_count": 76,
   "metadata": {},
   "outputs": [],
   "source": [
    "#adding count to count the similar products\n",
    "result_data['Count'] = 1"
   ]
  },
  {
   "cell_type": "code",
   "execution_count": 77,
   "metadata": {},
   "outputs": [
    {
     "data": {
      "image/png": "[encoded data removed]",
      "text/plain": [
       "<Figure size 432x288 with 1 Axes>"
      ]
     },
     "metadata": {
      "needs_background": "light"
     },
     "output_type": "display_data"
    }
   ],
   "source": [
    "keys = [pair for pair, df in result_data.groupby(['Hour'])]\n",
    "\n",
    "plt.plot(keys, result_data.groupby(['Hour']).count()['Count'])\n",
    "plt.xticks(keys)\n",
    "plt.grid()\n",
    "plt.show()\n",
    "# Here we can see 8 to 9 am and 12pm are the peak hours where most of the products are sold"
   ]
  },
  {
   "cell_type": "code",
   "execution_count": 78,
   "metadata": {},
   "outputs": [
    {
     "data": {
      "text/html": [
       "<div>\n",
       "<style scoped>\n",
       "    .dataframe tbody tr th:only-of-type {\n",
       "        vertical-align: middle;\n",
       "    }\n",
       "\n",
       "    .dataframe tbody tr th {\n",
       "        vertical-align: top;\n",
       "    }\n",
       "\n",
       "    .dataframe thead th {\n",
       "        text-align: right;\n",
       "    }\n",
       "</style>\n",
       "<table border=\"1\" class=\"dataframe\">\n",
       "  <thead>\n",
       "    <tr style=\"text-align: right;\">\n",
       "      <th></th>\n",
       "      <th>ID</th>\n",
       "      <th>Date and Time</th>\n",
       "      <th>Ticket_number</th>\n",
       "      <th>Store_name</th>\n",
       "      <th>Total</th>\n",
       "      <th>Amount(2.5%)</th>\n",
       "      <th>Amount(7.7%)</th>\n",
       "      <th>Quan(2.5%)</th>\n",
       "      <th>Quan(7.7%)</th>\n",
       "      <th>PAIN</th>\n",
       "      <th>...</th>\n",
       "      <th>CARBURANT</th>\n",
       "      <th>LOTERIE</th>\n",
       "      <th>TABAC</th>\n",
       "      <th>PRODUITS AUTO</th>\n",
       "      <th>Month</th>\n",
       "      <th>Hour</th>\n",
       "      <th>Minute</th>\n",
       "      <th>Year</th>\n",
       "      <th>Date</th>\n",
       "      <th>Count</th>\n",
       "    </tr>\n",
       "  </thead>\n",
       "  <tbody>\n",
       "    <tr>\n",
       "      <th>0</th>\n",
       "      <td>135470761</td>\n",
       "      <td>2021-12-14 18:45:44</td>\n",
       "      <td>6026</td>\n",
       "      <td>Bussigny TR</td>\n",
       "      <td>0.0</td>\n",
       "      <td>0.0</td>\n",
       "      <td>0.0</td>\n",
       "      <td>1.0</td>\n",
       "      <td>1.0</td>\n",
       "      <td>1.0</td>\n",
       "      <td>...</td>\n",
       "      <td>0</td>\n",
       "      <td>0</td>\n",
       "      <td>0</td>\n",
       "      <td>0</td>\n",
       "      <td>12</td>\n",
       "      <td>18</td>\n",
       "      <td>45</td>\n",
       "      <td>2021</td>\n",
       "      <td>14</td>\n",
       "      <td>1</td>\n",
       "    </tr>\n",
       "  </tbody>\n",
       "</table>\n",
       "<p>1 rows × 32 columns</p>\n",
       "</div>"
      ],
      "text/plain": [
       "          ID       Date and Time  Ticket_number   Store_name  Total  \\\n",
       "0  135470761 2021-12-14 18:45:44           6026  Bussigny TR    0.0   \n",
       "\n",
       "   Amount(2.5%)  Amount(7.7%)  Quan(2.5%)  Quan(7.7%)  PAIN  ...  CARBURANT  \\\n",
       "0           0.0           0.0         1.0         1.0   1.0  ...          0   \n",
       "\n",
       "   LOTERIE  TABAC  PRODUITS AUTO  Month  Hour  Minute  Year  Date  Count  \n",
       "0        0      0              0     12    18      45  2021    14      1  \n",
       "\n",
       "[1 rows x 32 columns]"
      ]
     },
     "execution_count": 78,
     "metadata": {},
     "output_type": "execute_result"
    }
   ],
   "source": [
    "result_data.head(1)"
   ]
  },
  {
   "cell_type": "code",
   "execution_count": 79,
   "metadata": {},
   "outputs": [],
   "source": [
    "n_data=result_data.groupby('Date')"
   ]
  },
  {
   "cell_type": "code",
   "execution_count": 81,
   "metadata": {},
   "outputs": [
    {
     "data": {
      "text/html": [
       "<div>\n",
       "<style scoped>\n",
       "    .dataframe tbody tr th:only-of-type {\n",
       "        vertical-align: middle;\n",
       "    }\n",
       "\n",
       "    .dataframe tbody tr th {\n",
       "        vertical-align: top;\n",
       "    }\n",
       "\n",
       "    .dataframe thead th {\n",
       "        text-align: right;\n",
       "    }\n",
       "</style>\n",
       "<table border=\"1\" class=\"dataframe\">\n",
       "  <thead>\n",
       "    <tr style=\"text-align: right;\">\n",
       "      <th></th>\n",
       "      <th>ID</th>\n",
       "      <th>Date and Time</th>\n",
       "      <th>Ticket_number</th>\n",
       "      <th>Store_name</th>\n",
       "      <th>Total</th>\n",
       "      <th>Amount(2.5%)</th>\n",
       "      <th>Amount(7.7%)</th>\n",
       "      <th>Quan(2.5%)</th>\n",
       "      <th>Quan(7.7%)</th>\n",
       "      <th>PAIN</th>\n",
       "      <th>...</th>\n",
       "      <th>CARBURANT</th>\n",
       "      <th>LOTERIE</th>\n",
       "      <th>TABAC</th>\n",
       "      <th>PRODUITS AUTO</th>\n",
       "      <th>Month</th>\n",
       "      <th>Hour</th>\n",
       "      <th>Minute</th>\n",
       "      <th>Year</th>\n",
       "      <th>Date</th>\n",
       "      <th>Count</th>\n",
       "    </tr>\n",
       "  </thead>\n",
       "  <tbody>\n",
       "    <tr>\n",
       "      <th>0</th>\n",
       "      <td>135470761</td>\n",
       "      <td>2021-12-14 18:45:44</td>\n",
       "      <td>6026</td>\n",
       "      <td>Bussigny TR</td>\n",
       "      <td>0.0</td>\n",
       "      <td>0.0</td>\n",
       "      <td>0.0</td>\n",
       "      <td>1.0</td>\n",
       "      <td>1.0</td>\n",
       "      <td>1.0</td>\n",
       "      <td>...</td>\n",
       "      <td>0</td>\n",
       "      <td>0</td>\n",
       "      <td>0</td>\n",
       "      <td>0</td>\n",
       "      <td>12</td>\n",
       "      <td>18</td>\n",
       "      <td>45</td>\n",
       "      <td>2021</td>\n",
       "      <td>14</td>\n",
       "      <td>1</td>\n",
       "    </tr>\n",
       "    <tr>\n",
       "      <th>1</th>\n",
       "      <td>135470732</td>\n",
       "      <td>2021-12-14 18:37:57</td>\n",
       "      <td>9625</td>\n",
       "      <td>Bussigny mag</td>\n",
       "      <td>14.3</td>\n",
       "      <td>14.3</td>\n",
       "      <td>0.0</td>\n",
       "      <td>4.0</td>\n",
       "      <td>0.0</td>\n",
       "      <td>1.0</td>\n",
       "      <td>...</td>\n",
       "      <td>0</td>\n",
       "      <td>0</td>\n",
       "      <td>0</td>\n",
       "      <td>0</td>\n",
       "      <td>12</td>\n",
       "      <td>18</td>\n",
       "      <td>37</td>\n",
       "      <td>2021</td>\n",
       "      <td>14</td>\n",
       "      <td>1</td>\n",
       "    </tr>\n",
       "    <tr>\n",
       "      <th>2</th>\n",
       "      <td>135470700</td>\n",
       "      <td>2021-12-14 18:28:36</td>\n",
       "      <td>9624</td>\n",
       "      <td>Bussigny mag</td>\n",
       "      <td>3.7</td>\n",
       "      <td>3.7</td>\n",
       "      <td>0.0</td>\n",
       "      <td>1.0</td>\n",
       "      <td>0.0</td>\n",
       "      <td>1.0</td>\n",
       "      <td>...</td>\n",
       "      <td>0</td>\n",
       "      <td>0</td>\n",
       "      <td>0</td>\n",
       "      <td>0</td>\n",
       "      <td>12</td>\n",
       "      <td>18</td>\n",
       "      <td>28</td>\n",
       "      <td>2021</td>\n",
       "      <td>14</td>\n",
       "      <td>1</td>\n",
       "    </tr>\n",
       "    <tr>\n",
       "      <th>3</th>\n",
       "      <td>135470666</td>\n",
       "      <td>2021-12-14 18:17:10</td>\n",
       "      <td>9623</td>\n",
       "      <td>Bussigny mag</td>\n",
       "      <td>3.9</td>\n",
       "      <td>3.9</td>\n",
       "      <td>0.0</td>\n",
       "      <td>1.0</td>\n",
       "      <td>0.0</td>\n",
       "      <td>0.0</td>\n",
       "      <td>...</td>\n",
       "      <td>0</td>\n",
       "      <td>0</td>\n",
       "      <td>0</td>\n",
       "      <td>0</td>\n",
       "      <td>12</td>\n",
       "      <td>18</td>\n",
       "      <td>17</td>\n",
       "      <td>2021</td>\n",
       "      <td>14</td>\n",
       "      <td>1</td>\n",
       "    </tr>\n",
       "    <tr>\n",
       "      <th>4</th>\n",
       "      <td>135470654</td>\n",
       "      <td>2021-12-14 18:14:09</td>\n",
       "      <td>9622</td>\n",
       "      <td>Bussigny mag</td>\n",
       "      <td>22.8</td>\n",
       "      <td>22.8</td>\n",
       "      <td>0.0</td>\n",
       "      <td>7.0</td>\n",
       "      <td>0.0</td>\n",
       "      <td>0.0</td>\n",
       "      <td>...</td>\n",
       "      <td>0</td>\n",
       "      <td>0</td>\n",
       "      <td>0</td>\n",
       "      <td>0</td>\n",
       "      <td>12</td>\n",
       "      <td>18</td>\n",
       "      <td>14</td>\n",
       "      <td>2021</td>\n",
       "      <td>14</td>\n",
       "      <td>1</td>\n",
       "    </tr>\n",
       "    <tr>\n",
       "      <th>...</th>\n",
       "      <td>...</td>\n",
       "      <td>...</td>\n",
       "      <td>...</td>\n",
       "      <td>...</td>\n",
       "      <td>...</td>\n",
       "      <td>...</td>\n",
       "      <td>...</td>\n",
       "      <td>...</td>\n",
       "      <td>...</td>\n",
       "      <td>...</td>\n",
       "      <td>...</td>\n",
       "      <td>...</td>\n",
       "      <td>...</td>\n",
       "      <td>...</td>\n",
       "      <td>...</td>\n",
       "      <td>...</td>\n",
       "      <td>...</td>\n",
       "      <td>...</td>\n",
       "      <td>...</td>\n",
       "      <td>...</td>\n",
       "      <td>...</td>\n",
       "    </tr>\n",
       "    <tr>\n",
       "      <th>10455</th>\n",
       "      <td>135217524</td>\n",
       "      <td>2021-10-31 18:12:37</td>\n",
       "      <td>610</td>\n",
       "      <td>Bussigny mag</td>\n",
       "      <td>7.9</td>\n",
       "      <td>7.9</td>\n",
       "      <td>0.0</td>\n",
       "      <td>1.0</td>\n",
       "      <td>0.0</td>\n",
       "      <td>1.0</td>\n",
       "      <td>...</td>\n",
       "      <td>0</td>\n",
       "      <td>0</td>\n",
       "      <td>0</td>\n",
       "      <td>0</td>\n",
       "      <td>10</td>\n",
       "      <td>18</td>\n",
       "      <td>12</td>\n",
       "      <td>2021</td>\n",
       "      <td>31</td>\n",
       "      <td>1</td>\n",
       "    </tr>\n",
       "    <tr>\n",
       "      <th>10456</th>\n",
       "      <td>135217510</td>\n",
       "      <td>2021-10-31 18:10:16</td>\n",
       "      <td>608</td>\n",
       "      <td>Bussigny mag</td>\n",
       "      <td>7.9</td>\n",
       "      <td>7.9</td>\n",
       "      <td>0.0</td>\n",
       "      <td>1.0</td>\n",
       "      <td>0.0</td>\n",
       "      <td>1.0</td>\n",
       "      <td>...</td>\n",
       "      <td>0</td>\n",
       "      <td>0</td>\n",
       "      <td>0</td>\n",
       "      <td>0</td>\n",
       "      <td>10</td>\n",
       "      <td>18</td>\n",
       "      <td>10</td>\n",
       "      <td>2021</td>\n",
       "      <td>31</td>\n",
       "      <td>1</td>\n",
       "    </tr>\n",
       "    <tr>\n",
       "      <th>10457</th>\n",
       "      <td>135217465</td>\n",
       "      <td>2021-10-31 17:58:15</td>\n",
       "      <td>606</td>\n",
       "      <td>Bussigny mag</td>\n",
       "      <td>7.9</td>\n",
       "      <td>7.9</td>\n",
       "      <td>0.0</td>\n",
       "      <td>1.0</td>\n",
       "      <td>0.0</td>\n",
       "      <td>1.0</td>\n",
       "      <td>...</td>\n",
       "      <td>0</td>\n",
       "      <td>0</td>\n",
       "      <td>0</td>\n",
       "      <td>0</td>\n",
       "      <td>10</td>\n",
       "      <td>17</td>\n",
       "      <td>58</td>\n",
       "      <td>2021</td>\n",
       "      <td>31</td>\n",
       "      <td>1</td>\n",
       "    </tr>\n",
       "    <tr>\n",
       "      <th>10458</th>\n",
       "      <td>135217458</td>\n",
       "      <td>2021-10-31 17:56:23</td>\n",
       "      <td>604</td>\n",
       "      <td>Bussigny mag</td>\n",
       "      <td>22.9</td>\n",
       "      <td>22.9</td>\n",
       "      <td>0.0</td>\n",
       "      <td>10.0</td>\n",
       "      <td>0.0</td>\n",
       "      <td>0.0</td>\n",
       "      <td>...</td>\n",
       "      <td>0</td>\n",
       "      <td>0</td>\n",
       "      <td>0</td>\n",
       "      <td>0</td>\n",
       "      <td>10</td>\n",
       "      <td>17</td>\n",
       "      <td>56</td>\n",
       "      <td>2021</td>\n",
       "      <td>31</td>\n",
       "      <td>1</td>\n",
       "    </tr>\n",
       "    <tr>\n",
       "      <th>10459</th>\n",
       "      <td>135217380</td>\n",
       "      <td>2021-10-31 17:41:30</td>\n",
       "      <td>603</td>\n",
       "      <td>Bussigny mag</td>\n",
       "      <td>7.9</td>\n",
       "      <td>7.9</td>\n",
       "      <td>0.0</td>\n",
       "      <td>1.0</td>\n",
       "      <td>0.0</td>\n",
       "      <td>1.0</td>\n",
       "      <td>...</td>\n",
       "      <td>0</td>\n",
       "      <td>0</td>\n",
       "      <td>0</td>\n",
       "      <td>0</td>\n",
       "      <td>10</td>\n",
       "      <td>17</td>\n",
       "      <td>41</td>\n",
       "      <td>2021</td>\n",
       "      <td>31</td>\n",
       "      <td>1</td>\n",
       "    </tr>\n",
       "  </tbody>\n",
       "</table>\n",
       "<p>155 rows × 32 columns</p>\n",
       "</div>"
      ],
      "text/plain": [
       "              ID       Date and Time  Ticket_number    Store_name  Total  \\\n",
       "0      135470761 2021-12-14 18:45:44           6026   Bussigny TR    0.0   \n",
       "1      135470732 2021-12-14 18:37:57           9625  Bussigny mag   14.3   \n",
       "2      135470700 2021-12-14 18:28:36           9624  Bussigny mag    3.7   \n",
       "3      135470666 2021-12-14 18:17:10           9623  Bussigny mag    3.9   \n",
       "4      135470654 2021-12-14 18:14:09           9622  Bussigny mag   22.8   \n",
       "...          ...                 ...            ...           ...    ...   \n",
       "10455  135217524 2021-10-31 18:12:37            610  Bussigny mag    7.9   \n",
       "10456  135217510 2021-10-31 18:10:16            608  Bussigny mag    7.9   \n",
       "10457  135217465 2021-10-31 17:58:15            606  Bussigny mag    7.9   \n",
       "10458  135217458 2021-10-31 17:56:23            604  Bussigny mag   22.9   \n",
       "10459  135217380 2021-10-31 17:41:30            603  Bussigny mag    7.9   \n",
       "\n",
       "       Amount(2.5%)  Amount(7.7%)  Quan(2.5%)  Quan(7.7%)  PAIN  ...  \\\n",
       "0               0.0           0.0         1.0         1.0   1.0  ...   \n",
       "1              14.3           0.0         4.0         0.0   1.0  ...   \n",
       "2               3.7           0.0         1.0         0.0   1.0  ...   \n",
       "3               3.9           0.0         1.0         0.0   0.0  ...   \n",
       "4              22.8           0.0         7.0         0.0   0.0  ...   \n",
       "...             ...           ...         ...         ...   ...  ...   \n",
       "10455           7.9           0.0         1.0         0.0   1.0  ...   \n",
       "10456           7.9           0.0         1.0         0.0   1.0  ...   \n",
       "10457           7.9           0.0         1.0         0.0   1.0  ...   \n",
       "10458          22.9           0.0        10.0         0.0   0.0  ...   \n",
       "10459           7.9           0.0         1.0         0.0   1.0  ...   \n",
       "\n",
       "       CARBURANT  LOTERIE  TABAC  PRODUITS AUTO  Month  Hour  Minute  Year  \\\n",
       "0              0        0      0              0     12    18      45  2021   \n",
       "1              0        0      0              0     12    18      37  2021   \n",
       "2              0        0      0              0     12    18      28  2021   \n",
       "3              0        0      0              0     12    18      17  2021   \n",
       "4              0        0      0              0     12    18      14  2021   \n",
       "...          ...      ...    ...            ...    ...   ...     ...   ...   \n",
       "10455          0        0      0              0     10    18      12  2021   \n",
       "10456          0        0      0              0     10    18      10  2021   \n",
       "10457          0        0      0              0     10    17      58  2021   \n",
       "10458          0        0      0              0     10    17      56  2021   \n",
       "10459          0        0      0              0     10    17      41  2021   \n",
       "\n",
       "       Date  Count  \n",
       "0        14      1  \n",
       "1        14      1  \n",
       "2        14      1  \n",
       "3        14      1  \n",
       "4        14      1  \n",
       "...     ...    ...  \n",
       "10455    31      1  \n",
       "10456    31      1  \n",
       "10457    31      1  \n",
       "10458    31      1  \n",
       "10459    31      1  \n",
       "\n",
       "[155 rows x 32 columns]"
      ]
     },
     "execution_count": 81,
     "metadata": {},
     "output_type": "execute_result"
    }
   ],
   "source": [
    "n_data.head()"
   ]
  },
  {
   "cell_type": "code",
   "execution_count": 83,
   "metadata": {},
   "outputs": [
    {
     "data": {
      "image/png": "[encoded data removed]",
      "text/plain": [
       "<Figure size 864x288 with 1 Axes>"
      ]
     },
     "metadata": {
      "needs_background": "light"
     },
     "output_type": "display_data"
    }
   ],
   "source": [
    "x = pd.DataFrame(result_data.groupby( ['Date'] )['Total'].sum())\n",
    "plt.figure(figsize=(12,4))\n",
    "plt.title(\"Day_wise_total_transaction\")\n",
    "sns.barplot(x.index, x.Total)\n",
    "plt.show()\n",
    "# total amonut of transactions store_name wise (Epalinges 1 is the top)"
   ]
  },
  {
   "cell_type": "markdown",
   "metadata": {},
   "source": [
    "### 4.EDA"
   ]
  },
  {
   "cell_type": "markdown",
   "metadata": {},
   "source": [
    "######  How many transactions per each Store_name?\n"
   ]
  },
  {
   "cell_type": "code",
   "execution_count": 84,
   "metadata": {},
   "outputs": [
    {
     "data": {
      "text/plain": [
       "Epalinges 1 mag    342846\n",
       "Bussigny mag       331841\n",
       "Epalinges 1        289104\n",
       "Bussigny TR         99061\n",
       "Name: Store_name, dtype: int64"
      ]
     },
     "execution_count": 84,
     "metadata": {},
     "output_type": "execute_result"
    }
   ],
   "source": [
    "result_data['Store_name'].value_counts()"
   ]
  },
  {
   "cell_type": "code",
   "execution_count": 87,
   "metadata": {},
   "outputs": [],
   "source": [
    "def with_hue(plot, feature, Number_of_categories, hue_categories):\n",
    "    a = [p.get_height() for p in plot.patches]\n",
    "    patch = [p for p in plot.patches]\n",
    "    for i in range(Number_of_categories):\n",
    "        total = feature.value_counts().values[i]\n",
    "        for j in range(hue_categories):\n",
    "            percentage = '{:.1f}%'.format(100 * a[(j*Number_of_categories + i)]/total)\n",
    "            x = patch[(j*Number_of_categories + i)].get_x() + patch[(j*Number_of_categories + i)].get_width() / 2 - 0.15\n",
    "            y = patch[(j*Number_of_categories + i)].get_y() + patch[(j*Number_of_categories + i)].get_height() \n",
    "            ax.annotate(percentage, (x, y), size = 12)\n",
    "    plt.show()"
   ]
  },
  {
   "cell_type": "code",
   "execution_count": 88,
   "metadata": {},
   "outputs": [],
   "source": [
    "def without_hue(plot, feature):\n",
    "    total = len(feature)\n",
    "    for p in ax.patches:\n",
    "        percentage = '{:.1f}%'.format(100 * p.get_height()/total)\n",
    "        x = p.get_x() + p.get_width() / 2 - 0.05\n",
    "        y = p.get_y() + p.get_height()\n",
    "        ax.annotate(percentage, (x, y), size = 12)\n",
    "    plt.show()"
   ]
  },
  {
   "cell_type": "code",
   "execution_count": 92,
   "metadata": {},
   "outputs": [
    {
     "data": {
      "image/png": "[encoded data removed]",
      "text/plain": [
       "<Figure size 864x288 with 1 Axes>"
      ]
     },
     "metadata": {
      "needs_background": "light"
     },
     "output_type": "display_data"
    }
   ],
   "source": [
    "#number of transcations happened in each store\n",
    "plt.figure(figsize = (12,4))\n",
    "ax=sns.countplot('Store_name', data=result_data)\n",
    "plt.xticks(size=14)\n",
    "plt.xlabel('Store_name',size=14)\n",
    "plt.yticks(size=14)\n",
    "plt.ylabel('count',size=14)\n",
    "plt.title('Store_wise_composition')\n",
    "without_hue(ax, result_data.Store_name)\n",
    "# Here we can see Epalinges 1 mag is the highest among others"
   ]
  },
  {
   "cell_type": "markdown",
   "metadata": {},
   "source": [
    "#### Sum total amount for all transactions based on Store_name. "
   ]
  },
  {
   "cell_type": "code",
   "execution_count": 29,
   "metadata": {},
   "outputs": [
    {
     "data": {
      "image/png": "[encoded data removed]",
      "text/plain": [
       "<Figure size 864x288 with 1 Axes>"
      ]
     },
     "metadata": {
      "needs_background": "light"
     },
     "output_type": "display_data"
    }
   ],
   "source": [
    "x = pd.DataFrame(new_data.groupby( ['Store_name'] )['Total'].sum())\n",
    "plt.figure(figsize=(12,4))\n",
    "plt.title(\"Store_wise_total_transaction\")\n",
    "sns.barplot(x.index, x.Total)\n",
    "plt.show()\n",
    "# total amonut of transactions store_name wise (Epalinges 1 is the top)"
   ]
  },
  {
   "cell_type": "code",
   "execution_count": 30,
   "metadata": {},
   "outputs": [
    {
     "data": {
      "image/png": "[encoded data removed]",
      "text/plain": [
       "<Figure size 864x288 with 1 Axes>"
      ]
     },
     "metadata": {
      "needs_background": "light"
     },
     "output_type": "display_data"
    }
   ],
   "source": [
    "x = pd.DataFrame(new_data.groupby( ['Store_name'] )['Take_away'].sum())\n",
    "plt.figure(figsize=(12,4))\n",
    "plt.title(\"Take_away_sales\")\n",
    "sns.barplot(x.index, x.Take_away)\n",
    "plt.show()\n",
    "# caluculated take_away_sales by store_name wise(Epalinges 1 mag is the top)"
   ]
  },
  {
   "cell_type": "code",
   "execution_count": 31,
   "metadata": {},
   "outputs": [
    {
     "data": {
      "image/png": "[encoded data removed]",
      "text/plain": [
       "<Figure size 864x288 with 1 Axes>"
      ]
     },
     "metadata": {
      "needs_background": "light"
     },
     "output_type": "display_data"
    }
   ],
   "source": [
    "x = pd.DataFrame(new_data.groupby( ['Store_name'] )['in_rest'].sum())\n",
    "plt.figure(figsize=(12,4))\n",
    "plt.title(\"In_restaurent_sales\")\n",
    "sns.barplot(x.index, x.in_rest)\n",
    "plt.show()\n",
    "#caluculated take_away_sales by store_name wise(Epalinges 1 mag 2018 is the highest)"
   ]
  },
  {
   "cell_type": "markdown",
   "metadata": {},
   "source": [
    "#### In which Year sales were higher?"
   ]
  },
  {
   "cell_type": "code",
   "execution_count": 32,
   "metadata": {},
   "outputs": [
    {
     "data": {
      "image/png": "[encoded data removed]",
      "text/plain": [
       "<Figure size 864x288 with 1 Axes>"
      ]
     },
     "metadata": {
      "needs_background": "light"
     },
     "output_type": "display_data"
    }
   ],
   "source": [
    "plt.figure(figsize = (12,4))\n",
    "plt.title('yearwise sales')\n",
    "sns.countplot(data = new_data, x = 'Year')\n",
    "plt.show()\n",
    "#year_wise sales(highest sales happened in 2019)"
   ]
  },
  {
   "cell_type": "code",
   "execution_count": 33,
   "metadata": {},
   "outputs": [
    {
     "data": {
      "image/png": "[encoded data removed]",
      "text/plain": [
       "<Figure size 864x288 with 1 Axes>"
      ]
     },
     "metadata": {
      "needs_background": "light"
     },
     "output_type": "display_data"
    },
    {
     "data": {
      "image/png": "[encoded data removed]",
      "text/plain": [
       "<Figure size 864x288 with 1 Axes>"
      ]
     },
     "metadata": {
      "needs_background": "light"
     },
     "output_type": "display_data"
    },
    {
     "data": {
      "image/png": "[encoded data removed]",
      "text/plain": [
       "<Figure size 864x288 with 1 Axes>"
      ]
     },
     "metadata": {
      "needs_background": "light"
     },
     "output_type": "display_data"
    },
    {
     "data": {
      "image/png": "[encoded data removed]",
      "text/plain": [
       "<Figure size 864x288 with 1 Axes>"
      ]
     },
     "metadata": {
      "needs_background": "light"
     },
     "output_type": "display_data"
    }
   ],
   "source": [
    "years = [2018,2019,2020,2021]\n",
    "\n",
    "for yer in years:\n",
    "    \n",
    "    x = pd.DataFrame( new_data[new_data['Year'] == yer ].groupby(['Store_name'])['Total'].sum() )\n",
    "    plt.figure(figsize = (12,4))\n",
    "    sns.barplot(x.index, x.Total)\n",
    "    plt.title(f'for the {yer}')\n",
    "    plt.show()\n",
    "#Year wise sales according to store_name. The data is fluctuating when we compare one graph to another\n",
    "#By the graph we can see the most sales happened in 2018 w.r.to to store_name"
   ]
  },
  {
   "cell_type": "code",
   "execution_count": 34,
   "metadata": {},
   "outputs": [
    {
     "data": {
      "image/png": "[encoded data removed]",
      "text/plain": [
       "<Figure size 864x288 with 1 Axes>"
      ]
     },
     "metadata": {
      "needs_background": "light"
     },
     "output_type": "display_data"
    }
   ],
   "source": [
    "x = pd.DataFrame(new_data.groupby( ['Month'] )['Total'].sum())\n",
    "plt.figure(figsize=(12,4))\n",
    "plt.title(\"Monthwise sales distribution\")\n",
    "sns.barplot(x.index, x.Total)\n",
    "plt.show()\n",
    "#November has the highest sales"
   ]
  },
  {
   "cell_type": "markdown",
   "metadata": {},
   "source": [
    "November has the highest sales"
   ]
  },
  {
   "cell_type": "code",
   "execution_count": 35,
   "metadata": {},
   "outputs": [
    {
     "data": {
      "image/png": "[encoded data removed]",
      "text/plain": [
       "<Figure size 864x288 with 1 Axes>"
      ]
     },
     "metadata": {
      "needs_background": "light"
     },
     "output_type": "display_data"
    }
   ],
   "source": [
    "#hour wise sales\n",
    "y = pd.DataFrame(new_data.groupby( ['Hour'] )['Total'].sum())\n",
    "plt.figure(figsize=(12,4))\n",
    "plt.title(\"Hourwise sales distribution in a day\")\n",
    "sns.barplot(y.index, y.Total)\n",
    "plt.show()\n",
    "# 8 to 9 am and 12pm are peak hours where most of the products can be sold or advertised"
   ]
  },
  {
   "cell_type": "code",
   "execution_count": 36,
   "metadata": {},
   "outputs": [
    {
     "data": {
      "text/plain": [
       "array([12, 11, 10,  9,  8,  7,  6,  5,  4,  3,  2,  1], dtype=int64)"
      ]
     },
     "execution_count": 36,
     "metadata": {},
     "output_type": "execute_result"
    }
   ],
   "source": [
    "#new_data.groupby('Year')['Month'].nunique()\n",
    "new_data[new_data['Year'] == 2018]['Month'].unique()"
   ]
  },
  {
   "cell_type": "markdown",
   "metadata": {},
   "source": [
    "### Transactions per week_days"
   ]
  },
  {
   "cell_type": "code",
   "execution_count": 37,
   "metadata": {},
   "outputs": [
    {
     "data": {
      "image/png": "[encoded data removed]",
      "text/plain": [
       "<Figure size 864x288 with 1 Axes>"
      ]
     },
     "metadata": {
      "needs_background": "light"
     },
     "output_type": "display_data"
    }
   ],
   "source": [
    "import calendar\n",
    "\n",
    "new_data['week_day'] = new_data['Date and Time'].apply(lambda x: calendar.day_name[x.weekday()] )\n",
    "x = pd.DataFrame(new_data.groupby( ['week_day'] )['Total'].sum())\n",
    "plt.figure(figsize=(12,4))\n",
    "\n",
    "plt.title(\"Weekday sales distribution\")\n",
    "sns.barplot(x.index, x.Total)\n",
    "\n",
    "plt.show()\n",
    "#Here we can see Saturday has the highest sales followed by sunday etc. That means in weekend most sales are happend"
   ]
  },
  {
   "cell_type": "markdown",
   "metadata": {},
   "source": [
    "The highest transcations happened on Saturday"
   ]
  },
  {
   "cell_type": "markdown",
   "metadata": {},
   "source": [
    "####  Product_wise sales"
   ]
  },
  {
   "cell_type": "code",
   "execution_count": 38,
   "metadata": {},
   "outputs": [
    {
     "data": {
      "image/png": "[encoded data removed]",
      "text/plain": [
       "<Figure size 864x288 with 1 Axes>"
      ]
     },
     "metadata": {
      "needs_background": "light"
     },
     "output_type": "display_data"
    }
   ],
   "source": [
    "#Total sales of PAIN product by store_name wise\n",
    "x = pd.DataFrame(new_data.groupby( ['Store_name'] )['PAIN'].sum())\n",
    "plt.figure(figsize=(12,4))\n",
    "plt.title(\"Pain_product\")\n",
    "sns.barplot(x.index, x.PAIN)\n",
    "plt.show()"
   ]
  },
  {
   "cell_type": "code",
   "execution_count": 39,
   "metadata": {},
   "outputs": [
    {
     "data": {
      "image/png": "[encoded data removed]",
      "text/plain": [
       "<Figure size 864x288 with 1 Axes>"
      ]
     },
     "metadata": {
      "needs_background": "light"
     },
     "output_type": "display_data"
    }
   ],
   "source": [
    "#Similar to PAIN the total sales of VIENNOISERIE product by store_name wise\n",
    "x = pd.DataFrame(new_data.groupby( ['Store_name'] )['VIENNOISERIE'].sum())\n",
    "plt.figure(figsize=(12,4))\n",
    "plt.title(\"VIENNOISERIE_product\")\n",
    "sns.barplot(x.index, x.VIENNOISERIE)\n",
    "plt.show()"
   ]
  },
  {
   "cell_type": "code",
   "execution_count": 40,
   "metadata": {},
   "outputs": [
    {
     "data": {
      "image/png": "[encoded data removed]",
      "text/plain": [
       "<Figure size 864x288 with 1 Axes>"
      ]
     },
     "metadata": {
      "needs_background": "light"
     },
     "output_type": "display_data"
    }
   ],
   "source": [
    "#Similar to PAIN the total sales of PATISSERIE product by store_name wise.\n",
    "#We can see remaing products likewise so that we get to know which product \n",
    "#has the sales in particular year and in which store the product being sold frequently\n",
    "x = pd.DataFrame(new_data.groupby( ['Store_name'] )['PATISSERIE'].sum())\n",
    "plt.figure(figsize=(12,4))\n",
    "plt.title(\"PATISSERIE_product\")\n",
    "sns.barplot(x.index, x.PATISSERIE)\n",
    "plt.show()"
   ]
  },
  {
   "cell_type": "code",
   "execution_count": 41,
   "metadata": {},
   "outputs": [],
   "source": [
    "new_data=new_data.rename(columns={'TRAITEUR - SANDWICH':'TRAITEUR','Tea-room / cuisine':'Tea_room'})"
   ]
  },
  {
   "cell_type": "code",
   "execution_count": 42,
   "metadata": {},
   "outputs": [],
   "source": [
    "new_data=new_data.rename(columns={'BOISSON EMPORTER':'BOISSON','BOISSON CHAUDE':'CHAUDE','MENU ET FORMULE':'MENU','INVENTAIRE MENSUEL':'INVENTAIRE','PRODUITS DE REVENTE':'PRODUITS','PRODUITS AUTO':'AUTO'})"
   ]
  },
  {
   "cell_type": "code",
   "execution_count": 43,
   "metadata": {},
   "outputs": [
    {
     "data": {
      "text/html": [
       "<div>\n",
       "<style scoped>\n",
       "    .dataframe tbody tr th:only-of-type {\n",
       "        vertical-align: middle;\n",
       "    }\n",
       "\n",
       "    .dataframe tbody tr th {\n",
       "        vertical-align: top;\n",
       "    }\n",
       "\n",
       "    .dataframe thead th {\n",
       "        text-align: right;\n",
       "    }\n",
       "</style>\n",
       "<table border=\"1\" class=\"dataframe\">\n",
       "  <thead>\n",
       "    <tr style=\"text-align: right;\">\n",
       "      <th></th>\n",
       "      <th>ID</th>\n",
       "      <th>Date and Time</th>\n",
       "      <th>Ticket_number</th>\n",
       "      <th>Store_name</th>\n",
       "      <th>Total</th>\n",
       "      <th>Amount(2.5%)</th>\n",
       "      <th>Amount(7.7%)</th>\n",
       "      <th>Quan(2.5%)</th>\n",
       "      <th>Quan(7.7%)</th>\n",
       "      <th>PAIN</th>\n",
       "      <th>...</th>\n",
       "      <th>TABAC</th>\n",
       "      <th>AUTO</th>\n",
       "      <th>Month</th>\n",
       "      <th>Take_away</th>\n",
       "      <th>in_rest</th>\n",
       "      <th>Hour</th>\n",
       "      <th>Minute</th>\n",
       "      <th>Year</th>\n",
       "      <th>Count</th>\n",
       "      <th>week_day</th>\n",
       "    </tr>\n",
       "  </thead>\n",
       "  <tbody>\n",
       "    <tr>\n",
       "      <th>0</th>\n",
       "      <td>135470761</td>\n",
       "      <td>2021-12-14 18:45:44</td>\n",
       "      <td>6026</td>\n",
       "      <td>Bussigny TR</td>\n",
       "      <td>0.0</td>\n",
       "      <td>0.0</td>\n",
       "      <td>0.0</td>\n",
       "      <td>1.0</td>\n",
       "      <td>1.0</td>\n",
       "      <td>1.0</td>\n",
       "      <td>...</td>\n",
       "      <td>0</td>\n",
       "      <td>0</td>\n",
       "      <td>12</td>\n",
       "      <td>0.0</td>\n",
       "      <td>0.0</td>\n",
       "      <td>18</td>\n",
       "      <td>45</td>\n",
       "      <td>2021</td>\n",
       "      <td>1</td>\n",
       "      <td>Tuesday</td>\n",
       "    </tr>\n",
       "  </tbody>\n",
       "</table>\n",
       "<p>1 rows × 34 columns</p>\n",
       "</div>"
      ],
      "text/plain": [
       "          ID       Date and Time  Ticket_number   Store_name  Total  \\\n",
       "0  135470761 2021-12-14 18:45:44           6026  Bussigny TR    0.0   \n",
       "\n",
       "   Amount(2.5%)  Amount(7.7%)  Quan(2.5%)  Quan(7.7%)  PAIN  ...  TABAC  AUTO  \\\n",
       "0           0.0           0.0         1.0         1.0   1.0  ...      0     0   \n",
       "\n",
       "   Month  Take_away  in_rest  Hour  Minute  Year  Count  week_day  \n",
       "0     12        0.0      0.0    18      45  2021      1   Tuesday  \n",
       "\n",
       "[1 rows x 34 columns]"
      ]
     },
     "execution_count": 43,
     "metadata": {},
     "output_type": "execute_result"
    }
   ],
   "source": [
    "new_data.head(1)"
   ]
  },
  {
   "cell_type": "code",
   "execution_count": 44,
   "metadata": {},
   "outputs": [
    {
     "data": {
      "text/plain": [
       "Index(['ID', 'Date and Time', 'Ticket_number', 'Store_name', 'Total',\n",
       "       'Amount(2.5%)', 'Amount(7.7%)', 'Quan(2.5%)', 'Quan(7.7%)', 'PAIN',\n",
       "       'VIENNOISERIE', 'PATISSERIE', 'TRAITEUR', 'BOISSON', 'CHAUDE',\n",
       "       'CHOCOLAT', 'EPICERIE', 'MENU', 'Tea_room', 'INVENTAIRE', 'LIVRAISON',\n",
       "       'PRODUITS', 'CARBURANT', 'LOTERIE', 'TABAC', 'AUTO', 'Month',\n",
       "       'Take_away', 'in_rest', 'Hour', 'Minute', 'Year', 'Count', 'week_day'],\n",
       "      dtype='object')"
      ]
     },
     "execution_count": 44,
     "metadata": {},
     "output_type": "execute_result"
    }
   ],
   "source": [
    "new_data.columns"
   ]
  },
  {
   "cell_type": "code",
   "execution_count": 45,
   "metadata": {},
   "outputs": [
    {
     "data": {
      "image/png": "[encoded data removed]",
      "text/plain": [
       "<Figure size 864x288 with 1 Axes>"
      ]
     },
     "metadata": {
      "needs_background": "light"
     },
     "output_type": "display_data"
    }
   ],
   "source": [
    "x = pd.DataFrame(new_data.groupby( ['Store_name'] )['TRAITEUR'].sum())\n",
    "plt.figure(figsize=(12,4))\n",
    "plt.title(\"TRAITEUR_product\")\n",
    "sns.barplot(x.index, x.TRAITEUR)\n",
    "plt.show()"
   ]
  },
  {
   "cell_type": "code",
   "execution_count": 46,
   "metadata": {},
   "outputs": [
    {
     "data": {
      "image/png": "[encoded data removed]",
      "text/plain": [
       "<Figure size 864x288 with 1 Axes>"
      ]
     },
     "metadata": {
      "needs_background": "light"
     },
     "output_type": "display_data"
    }
   ],
   "source": [
    "x = pd.DataFrame(new_data.groupby( ['Store_name'] )['BOISSON'].sum())\n",
    "plt.figure(figsize=(12,4))\n",
    "plt.title(\"BOISSON_product\")\n",
    "sns.barplot(x.index, x.BOISSON)\n",
    "plt.show()"
   ]
  },
  {
   "cell_type": "code",
   "execution_count": 47,
   "metadata": {},
   "outputs": [
    {
     "data": {
      "image/png": "[encoded data removed]",
      "text/plain": [
       "<Figure size 864x288 with 1 Axes>"
      ]
     },
     "metadata": {
      "needs_background": "light"
     },
     "output_type": "display_data"
    }
   ],
   "source": [
    "x = pd.DataFrame(new_data.groupby( ['Store_name'] )['CHAUDE'].sum())\n",
    "plt.figure(figsize=(12,4))\n",
    "plt.title(\"CHAUDE_product\")\n",
    "sns.barplot(x.index, x.CHAUDE)\n",
    "plt.show()"
   ]
  },
  {
   "cell_type": "code",
   "execution_count": 48,
   "metadata": {},
   "outputs": [
    {
     "data": {
      "image/png": "[encoded data removed]",
      "text/plain": [
       "<Figure size 864x288 with 1 Axes>"
      ]
     },
     "metadata": {
      "needs_background": "light"
     },
     "output_type": "display_data"
    }
   ],
   "source": [
    "x = pd.DataFrame(new_data.groupby( ['Store_name'] )['CHOCOLAT'].sum())\n",
    "plt.figure(figsize=(12,4))\n",
    "plt.title(\"CHOCOLAT_product\")\n",
    "sns.barplot(x.index, x.CHOCOLAT)\n",
    "plt.show()"
   ]
  },
  {
   "cell_type": "code",
   "execution_count": 49,
   "metadata": {
    "scrolled": true
   },
   "outputs": [
    {
     "data": {
      "image/png": "[encoded data removed]",
      "text/plain": [
       "<Figure size 864x288 with 1 Axes>"
      ]
     },
     "metadata": {
      "needs_background": "light"
     },
     "output_type": "display_data"
    }
   ],
   "source": [
    "x = pd.DataFrame(new_data.groupby( ['Store_name'] )['EPICERIE'].sum())\n",
    "plt.figure(figsize=(12,4))\n",
    "plt.title(\"EPICERIE_product\")\n",
    "sns.barplot(x.index, x.EPICERIE)\n",
    "plt.show()"
   ]
  },
  {
   "cell_type": "code",
   "execution_count": 50,
   "metadata": {},
   "outputs": [
    {
     "data": {
      "image/png": "[encoded data removed]",
      "text/plain": [
       "<Figure size 864x288 with 1 Axes>"
      ]
     },
     "metadata": {
      "needs_background": "light"
     },
     "output_type": "display_data"
    }
   ],
   "source": [
    "x = pd.DataFrame(new_data.groupby( ['Store_name'] )['MENU'].sum())\n",
    "plt.figure(figsize=(12,4))\n",
    "plt.title(\"MENU_product\")\n",
    "sns.barplot(x.index, x.MENU)\n",
    "plt.show()"
   ]
  },
  {
   "cell_type": "code",
   "execution_count": 51,
   "metadata": {},
   "outputs": [
    {
     "data": {
      "image/png": "[encoded data removed]",
      "text/plain": [
       "<Figure size 864x288 with 1 Axes>"
      ]
     },
     "metadata": {
      "needs_background": "light"
     },
     "output_type": "display_data"
    }
   ],
   "source": [
    "x = pd.DataFrame(new_data.groupby( ['Store_name'] )['Tea_room'].sum())\n",
    "plt.figure(figsize=(12,4))\n",
    "plt.title(\"Tea_room_product\")\n",
    "sns.barplot(x.index, x.Tea_room)\n",
    "plt.show()"
   ]
  },
  {
   "cell_type": "code",
   "execution_count": 52,
   "metadata": {},
   "outputs": [
    {
     "data": {
      "image/png": "[encoded data removed]",
      "text/plain": [
       "<Figure size 864x288 with 1 Axes>"
      ]
     },
     "metadata": {
      "needs_background": "light"
     },
     "output_type": "display_data"
    }
   ],
   "source": [
    " \n",
    "x = pd.DataFrame(new_data.groupby( ['Store_name'] )['INVENTAIRE'].sum())\n",
    "plt.figure(figsize=(12,4))\n",
    "plt.title(\"INVENTAIRE_product\")\n",
    "sns.barplot(x.index, x.INVENTAIRE)\n",
    "plt.show()"
   ]
  },
  {
   "cell_type": "code",
   "execution_count": 53,
   "metadata": {},
   "outputs": [
    {
     "data": {
      "image/png": "[encoded data removed]",
      "text/plain": [
       "<Figure size 864x288 with 1 Axes>"
      ]
     },
     "metadata": {
      "needs_background": "light"
     },
     "output_type": "display_data"
    }
   ],
   "source": [
    "\n",
    "x = pd.DataFrame(new_data.groupby( ['Store_name'] )['LIVRAISON'].sum())\n",
    "plt.figure(figsize=(12,4))\n",
    "plt.title(\"LIVRAISON_product\")\n",
    "sns.barplot(x.index, x.LIVRAISON)\n",
    "plt.show()"
   ]
  },
  {
   "cell_type": "code",
   "execution_count": 54,
   "metadata": {},
   "outputs": [
    {
     "data": {
      "image/png": "[encoded data removed]",
      "text/plain": [
       "<Figure size 864x288 with 1 Axes>"
      ]
     },
     "metadata": {
      "needs_background": "light"
     },
     "output_type": "display_data"
    }
   ],
   "source": [
    "\n",
    "x = pd.DataFrame(new_data.groupby( ['Store_name'] )['PRODUITS'].sum())\n",
    "plt.figure(figsize=(12,4))\n",
    "plt.title(\"PRODUITS_product\")\n",
    "sns.barplot(x.index, x.PRODUITS)\n",
    "plt.show()"
   ]
  },
  {
   "cell_type": "code",
   "execution_count": 55,
   "metadata": {},
   "outputs": [
    {
     "data": {
      "image/png": "[encoded data removed]",
      "text/plain": [
       "<Figure size 864x288 with 1 Axes>"
      ]
     },
     "metadata": {
      "needs_background": "light"
     },
     "output_type": "display_data"
    }
   ],
   "source": [
    "\n",
    "x = pd.DataFrame(new_data.groupby( ['Store_name'] )['CARBURANT'].sum())\n",
    "plt.figure(figsize=(12,4))\n",
    "plt.title(\"CARBURANT_product\")\n",
    "sns.barplot(x.index, x.CARBURANT)\n",
    "plt.show()"
   ]
  },
  {
   "cell_type": "code",
   "execution_count": 56,
   "metadata": {},
   "outputs": [
    {
     "data": {
      "image/png": "[encoded data removed]",
      "text/plain": [
       "<Figure size 864x288 with 1 Axes>"
      ]
     },
     "metadata": {
      "needs_background": "light"
     },
     "output_type": "display_data"
    }
   ],
   "source": [
    "\n",
    "x = pd.DataFrame(new_data.groupby( ['Store_name'] )['LOTERIE'].sum())\n",
    "plt.figure(figsize=(12,4))\n",
    "plt.title(\"LOTERIE_product\")\n",
    "sns.barplot(x.index, x.LOTERIE)\n",
    "plt.show()"
   ]
  },
  {
   "cell_type": "code",
   "execution_count": 57,
   "metadata": {},
   "outputs": [
    {
     "data": {
      "image/png": "[encoded data removed]",
      "text/plain": [
       "<Figure size 864x288 with 1 Axes>"
      ]
     },
     "metadata": {
      "needs_background": "light"
     },
     "output_type": "display_data"
    }
   ],
   "source": [
    "\n",
    "x = pd.DataFrame(new_data.groupby( ['Store_name'] )['TABAC'].sum())\n",
    "plt.figure(figsize=(12,4))\n",
    "plt.title(\"TABAC_product\")\n",
    "sns.barplot(x.index, x.TABAC)\n",
    "plt.show()"
   ]
  },
  {
   "cell_type": "code",
   "execution_count": 58,
   "metadata": {},
   "outputs": [
    {
     "data": {
      "image/png": "[encoded data removed]",
      "text/plain": [
       "<Figure size 864x288 with 1 Axes>"
      ]
     },
     "metadata": {
      "needs_background": "light"
     },
     "output_type": "display_data"
    }
   ],
   "source": [
    "\n",
    "x = pd.DataFrame(new_data.groupby( ['Store_name'] )['AUTO'].sum())\n",
    "plt.figure(figsize=(12,4))\n",
    "plt.title(\"AUTO_product\")\n",
    "sns.barplot(x.index, x.AUTO)\n",
    "plt.show()"
   ]
  },
  {
   "cell_type": "markdown",
   "metadata": {},
   "source": [
    "From the above result we can conclude that products are of 'PRODUITS', 'CARBURANT', 'LOTERIE', 'TABAC', 'AUTO' has no sales. LIVRAISON has sales in Epalinges 1 store\n",
    "Also PAIN,VIENNOISERIE,'PATISSERIE', 'TRAITEUR', 'BOISSON', 'CHAUDE','CHOCOLAT', 'EPICERIE', 'MENU', 'Tea_room', 'INVENTAIRE', these products has highest sales"
   ]
  },
  {
   "cell_type": "code",
   "execution_count": 59,
   "metadata": {},
   "outputs": [],
   "source": [
    "C=new_data.corr()"
   ]
  },
  {
   "cell_type": "code",
   "execution_count": 60,
   "metadata": {},
   "outputs": [
    {
     "data": {
      "text/html": [
       "<div>\n",
       "<style scoped>\n",
       "    .dataframe tbody tr th:only-of-type {\n",
       "        vertical-align: middle;\n",
       "    }\n",
       "\n",
       "    .dataframe tbody tr th {\n",
       "        vertical-align: top;\n",
       "    }\n",
       "\n",
       "    .dataframe thead th {\n",
       "        text-align: right;\n",
       "    }\n",
       "</style>\n",
       "<table border=\"1\" class=\"dataframe\">\n",
       "  <thead>\n",
       "    <tr style=\"text-align: right;\">\n",
       "      <th></th>\n",
       "      <th>ID</th>\n",
       "      <th>Ticket_number</th>\n",
       "      <th>Total</th>\n",
       "      <th>Amount(2.5%)</th>\n",
       "      <th>Amount(7.7%)</th>\n",
       "      <th>Quan(2.5%)</th>\n",
       "      <th>Quan(7.7%)</th>\n",
       "      <th>PAIN</th>\n",
       "      <th>VIENNOISERIE</th>\n",
       "      <th>PATISSERIE</th>\n",
       "      <th>...</th>\n",
       "      <th>LOTERIE</th>\n",
       "      <th>TABAC</th>\n",
       "      <th>AUTO</th>\n",
       "      <th>Month</th>\n",
       "      <th>Take_away</th>\n",
       "      <th>in_rest</th>\n",
       "      <th>Hour</th>\n",
       "      <th>Minute</th>\n",
       "      <th>Year</th>\n",
       "      <th>Count</th>\n",
       "    </tr>\n",
       "  </thead>\n",
       "  <tbody>\n",
       "    <tr>\n",
       "      <th>ID</th>\n",
       "      <td>1.000000</td>\n",
       "      <td>-0.026759</td>\n",
       "      <td>-0.000065</td>\n",
       "      <td>0.101992</td>\n",
       "      <td>-0.000461</td>\n",
       "      <td>0.077486</td>\n",
       "      <td>-0.000513</td>\n",
       "      <td>-0.011738</td>\n",
       "      <td>0.017994</td>\n",
       "      <td>0.056449</td>\n",
       "      <td>...</td>\n",
       "      <td>NaN</td>\n",
       "      <td>NaN</td>\n",
       "      <td>NaN</td>\n",
       "      <td>0.099744</td>\n",
       "      <td>0.002524</td>\n",
       "      <td>-0.000298</td>\n",
       "      <td>-0.004540</td>\n",
       "      <td>0.003724</td>\n",
       "      <td>0.954577</td>\n",
       "      <td>NaN</td>\n",
       "    </tr>\n",
       "    <tr>\n",
       "      <th>Ticket_number</th>\n",
       "      <td>-0.026759</td>\n",
       "      <td>1.000000</td>\n",
       "      <td>0.001663</td>\n",
       "      <td>0.003041</td>\n",
       "      <td>0.001660</td>\n",
       "      <td>0.005904</td>\n",
       "      <td>0.001664</td>\n",
       "      <td>0.010096</td>\n",
       "      <td>0.004527</td>\n",
       "      <td>-0.000873</td>\n",
       "      <td>...</td>\n",
       "      <td>NaN</td>\n",
       "      <td>NaN</td>\n",
       "      <td>NaN</td>\n",
       "      <td>-0.254204</td>\n",
       "      <td>0.000530</td>\n",
       "      <td>0.001704</td>\n",
       "      <td>-0.004266</td>\n",
       "      <td>-0.000970</td>\n",
       "      <td>0.047506</td>\n",
       "      <td>NaN</td>\n",
       "    </tr>\n",
       "    <tr>\n",
       "      <th>Total</th>\n",
       "      <td>-0.000065</td>\n",
       "      <td>0.001663</td>\n",
       "      <td>1.000000</td>\n",
       "      <td>0.005261</td>\n",
       "      <td>0.999989</td>\n",
       "      <td>0.003568</td>\n",
       "      <td>0.999990</td>\n",
       "      <td>-0.000213</td>\n",
       "      <td>0.002396</td>\n",
       "      <td>0.003604</td>\n",
       "      <td>...</td>\n",
       "      <td>NaN</td>\n",
       "      <td>NaN</td>\n",
       "      <td>NaN</td>\n",
       "      <td>0.001248</td>\n",
       "      <td>0.004645</td>\n",
       "      <td>0.999982</td>\n",
       "      <td>0.000366</td>\n",
       "      <td>0.001562</td>\n",
       "      <td>-0.000511</td>\n",
       "      <td>NaN</td>\n",
       "    </tr>\n",
       "    <tr>\n",
       "      <th>Amount(2.5%)</th>\n",
       "      <td>0.101992</td>\n",
       "      <td>0.003041</td>\n",
       "      <td>0.005261</td>\n",
       "      <td>1.000000</td>\n",
       "      <td>0.000544</td>\n",
       "      <td>0.774052</td>\n",
       "      <td>0.001015</td>\n",
       "      <td>0.152386</td>\n",
       "      <td>0.490047</td>\n",
       "      <td>0.464799</td>\n",
       "      <td>...</td>\n",
       "      <td>NaN</td>\n",
       "      <td>NaN</td>\n",
       "      <td>NaN</td>\n",
       "      <td>-0.028707</td>\n",
       "      <td>0.521509</td>\n",
       "      <td>0.000191</td>\n",
       "      <td>0.008466</td>\n",
       "      <td>0.005760</td>\n",
       "      <td>0.109357</td>\n",
       "      <td>NaN</td>\n",
       "    </tr>\n",
       "    <tr>\n",
       "      <th>Amount(7.7%)</th>\n",
       "      <td>-0.000461</td>\n",
       "      <td>0.001660</td>\n",
       "      <td>0.999989</td>\n",
       "      <td>0.000544</td>\n",
       "      <td>1.000000</td>\n",
       "      <td>-0.000129</td>\n",
       "      <td>0.999999</td>\n",
       "      <td>-0.001000</td>\n",
       "      <td>0.000052</td>\n",
       "      <td>0.001377</td>\n",
       "      <td>...</td>\n",
       "      <td>NaN</td>\n",
       "      <td>NaN</td>\n",
       "      <td>NaN</td>\n",
       "      <td>0.001408</td>\n",
       "      <td>0.002171</td>\n",
       "      <td>0.999995</td>\n",
       "      <td>0.000319</td>\n",
       "      <td>0.001534</td>\n",
       "      <td>-0.000955</td>\n",
       "      <td>NaN</td>\n",
       "    </tr>\n",
       "    <tr>\n",
       "      <th>Quan(2.5%)</th>\n",
       "      <td>0.077486</td>\n",
       "      <td>0.005904</td>\n",
       "      <td>0.003568</td>\n",
       "      <td>0.774052</td>\n",
       "      <td>-0.000129</td>\n",
       "      <td>1.000000</td>\n",
       "      <td>0.000119</td>\n",
       "      <td>0.213970</td>\n",
       "      <td>0.796146</td>\n",
       "      <td>0.369358</td>\n",
       "      <td>...</td>\n",
       "      <td>NaN</td>\n",
       "      <td>NaN</td>\n",
       "      <td>NaN</td>\n",
       "      <td>-0.025471</td>\n",
       "      <td>0.320667</td>\n",
       "      <td>0.000025</td>\n",
       "      <td>-0.086184</td>\n",
       "      <td>0.002068</td>\n",
       "      <td>0.084878</td>\n",
       "      <td>NaN</td>\n",
       "    </tr>\n",
       "    <tr>\n",
       "      <th>Quan(7.7%)</th>\n",
       "      <td>-0.000513</td>\n",
       "      <td>0.001664</td>\n",
       "      <td>0.999990</td>\n",
       "      <td>0.001015</td>\n",
       "      <td>0.999999</td>\n",
       "      <td>0.000119</td>\n",
       "      <td>1.000000</td>\n",
       "      <td>-0.000991</td>\n",
       "      <td>0.000499</td>\n",
       "      <td>0.001875</td>\n",
       "      <td>...</td>\n",
       "      <td>NaN</td>\n",
       "      <td>NaN</td>\n",
       "      <td>NaN</td>\n",
       "      <td>0.001412</td>\n",
       "      <td>0.003273</td>\n",
       "      <td>0.999991</td>\n",
       "      <td>0.000234</td>\n",
       "      <td>0.001530</td>\n",
       "      <td>-0.001006</td>\n",
       "      <td>NaN</td>\n",
       "    </tr>\n",
       "    <tr>\n",
       "      <th>PAIN</th>\n",
       "      <td>-0.011738</td>\n",
       "      <td>0.010096</td>\n",
       "      <td>-0.000213</td>\n",
       "      <td>0.152386</td>\n",
       "      <td>-0.001000</td>\n",
       "      <td>0.213970</td>\n",
       "      <td>-0.000991</td>\n",
       "      <td>1.000000</td>\n",
       "      <td>-0.007626</td>\n",
       "      <td>-0.027408</td>\n",
       "      <td>...</td>\n",
       "      <td>NaN</td>\n",
       "      <td>NaN</td>\n",
       "      <td>NaN</td>\n",
       "      <td>-0.023733</td>\n",
       "      <td>0.028513</td>\n",
       "      <td>-0.000502</td>\n",
       "      <td>0.105912</td>\n",
       "      <td>0.006525</td>\n",
       "      <td>-0.003869</td>\n",
       "      <td>NaN</td>\n",
       "    </tr>\n",
       "    <tr>\n",
       "      <th>VIENNOISERIE</th>\n",
       "      <td>0.017994</td>\n",
       "      <td>0.004527</td>\n",
       "      <td>0.002396</td>\n",
       "      <td>0.490047</td>\n",
       "      <td>0.000052</td>\n",
       "      <td>0.796146</td>\n",
       "      <td>0.000499</td>\n",
       "      <td>-0.007626</td>\n",
       "      <td>1.000000</td>\n",
       "      <td>0.055635</td>\n",
       "      <td>...</td>\n",
       "      <td>NaN</td>\n",
       "      <td>NaN</td>\n",
       "      <td>NaN</td>\n",
       "      <td>-0.000455</td>\n",
       "      <td>0.304132</td>\n",
       "      <td>-0.000426</td>\n",
       "      <td>-0.198266</td>\n",
       "      <td>-0.003099</td>\n",
       "      <td>0.018175</td>\n",
       "      <td>NaN</td>\n",
       "    </tr>\n",
       "    <tr>\n",
       "      <th>PATISSERIE</th>\n",
       "      <td>0.056449</td>\n",
       "      <td>-0.000873</td>\n",
       "      <td>0.003604</td>\n",
       "      <td>0.464799</td>\n",
       "      <td>0.001377</td>\n",
       "      <td>0.369358</td>\n",
       "      <td>0.001875</td>\n",
       "      <td>-0.027408</td>\n",
       "      <td>0.055635</td>\n",
       "      <td>1.000000</td>\n",
       "      <td>...</td>\n",
       "      <td>NaN</td>\n",
       "      <td>NaN</td>\n",
       "      <td>NaN</td>\n",
       "      <td>-0.010491</td>\n",
       "      <td>0.333475</td>\n",
       "      <td>0.000603</td>\n",
       "      <td>0.130522</td>\n",
       "      <td>0.003793</td>\n",
       "      <td>0.058879</td>\n",
       "      <td>NaN</td>\n",
       "    </tr>\n",
       "    <tr>\n",
       "      <th>TRAITEUR</th>\n",
       "      <td>0.049773</td>\n",
       "      <td>-0.016293</td>\n",
       "      <td>0.002709</td>\n",
       "      <td>0.301099</td>\n",
       "      <td>0.001258</td>\n",
       "      <td>0.188783</td>\n",
       "      <td>0.001115</td>\n",
       "      <td>-0.109951</td>\n",
       "      <td>-0.058476</td>\n",
       "      <td>0.093166</td>\n",
       "      <td>...</td>\n",
       "      <td>NaN</td>\n",
       "      <td>NaN</td>\n",
       "      <td>NaN</td>\n",
       "      <td>0.001866</td>\n",
       "      <td>0.011026</td>\n",
       "      <td>0.001072</td>\n",
       "      <td>0.031403</td>\n",
       "      <td>-0.004839</td>\n",
       "      <td>0.049254</td>\n",
       "      <td>NaN</td>\n",
       "    </tr>\n",
       "    <tr>\n",
       "      <th>BOISSON</th>\n",
       "      <td>0.018279</td>\n",
       "      <td>-0.001072</td>\n",
       "      <td>0.004434</td>\n",
       "      <td>0.527686</td>\n",
       "      <td>0.001929</td>\n",
       "      <td>0.325967</td>\n",
       "      <td>0.002979</td>\n",
       "      <td>-0.025756</td>\n",
       "      <td>0.249699</td>\n",
       "      <td>0.344119</td>\n",
       "      <td>...</td>\n",
       "      <td>NaN</td>\n",
       "      <td>NaN</td>\n",
       "      <td>NaN</td>\n",
       "      <td>-0.004294</td>\n",
       "      <td>0.943346</td>\n",
       "      <td>-0.000087</td>\n",
       "      <td>0.001034</td>\n",
       "      <td>-0.000611</td>\n",
       "      <td>0.019521</td>\n",
       "      <td>NaN</td>\n",
       "    </tr>\n",
       "    <tr>\n",
       "      <th>CHAUDE</th>\n",
       "      <td>-0.000399</td>\n",
       "      <td>0.001688</td>\n",
       "      <td>0.999981</td>\n",
       "      <td>-0.000202</td>\n",
       "      <td>0.999996</td>\n",
       "      <td>-0.000361</td>\n",
       "      <td>0.999993</td>\n",
       "      <td>-0.000825</td>\n",
       "      <td>-0.000531</td>\n",
       "      <td>0.000496</td>\n",
       "      <td>...</td>\n",
       "      <td>NaN</td>\n",
       "      <td>NaN</td>\n",
       "      <td>NaN</td>\n",
       "      <td>0.001333</td>\n",
       "      <td>0.000009</td>\n",
       "      <td>0.999999</td>\n",
       "      <td>0.000194</td>\n",
       "      <td>0.001545</td>\n",
       "      <td>-0.000868</td>\n",
       "      <td>NaN</td>\n",
       "    </tr>\n",
       "    <tr>\n",
       "      <th>CHOCOLAT</th>\n",
       "      <td>0.000574</td>\n",
       "      <td>0.004022</td>\n",
       "      <td>0.000704</td>\n",
       "      <td>0.133078</td>\n",
       "      <td>0.000067</td>\n",
       "      <td>0.086214</td>\n",
       "      <td>0.000176</td>\n",
       "      <td>-0.004935</td>\n",
       "      <td>0.025452</td>\n",
       "      <td>0.027955</td>\n",
       "      <td>...</td>\n",
       "      <td>NaN</td>\n",
       "      <td>NaN</td>\n",
       "      <td>NaN</td>\n",
       "      <td>-0.004086</td>\n",
       "      <td>0.089260</td>\n",
       "      <td>-0.000080</td>\n",
       "      <td>0.019230</td>\n",
       "      <td>0.001972</td>\n",
       "      <td>0.002127</td>\n",
       "      <td>NaN</td>\n",
       "    </tr>\n",
       "    <tr>\n",
       "      <th>EPICERIE</th>\n",
       "      <td>0.006188</td>\n",
       "      <td>0.001321</td>\n",
       "      <td>0.003842</td>\n",
       "      <td>0.476754</td>\n",
       "      <td>0.001570</td>\n",
       "      <td>0.266980</td>\n",
       "      <td>0.002451</td>\n",
       "      <td>0.009190</td>\n",
       "      <td>0.210916</td>\n",
       "      <td>0.262974</td>\n",
       "      <td>...</td>\n",
       "      <td>NaN</td>\n",
       "      <td>NaN</td>\n",
       "      <td>NaN</td>\n",
       "      <td>-0.005799</td>\n",
       "      <td>0.782073</td>\n",
       "      <td>-0.000083</td>\n",
       "      <td>0.008844</td>\n",
       "      <td>0.003374</td>\n",
       "      <td>0.007930</td>\n",
       "      <td>NaN</td>\n",
       "    </tr>\n",
       "    <tr>\n",
       "      <th>MENU</th>\n",
       "      <td>-0.040642</td>\n",
       "      <td>-0.006999</td>\n",
       "      <td>0.000928</td>\n",
       "      <td>-0.027360</td>\n",
       "      <td>0.001043</td>\n",
       "      <td>-0.051664</td>\n",
       "      <td>0.000693</td>\n",
       "      <td>-0.047131</td>\n",
       "      <td>-0.034702</td>\n",
       "      <td>0.082325</td>\n",
       "      <td>...</td>\n",
       "      <td>NaN</td>\n",
       "      <td>NaN</td>\n",
       "      <td>NaN</td>\n",
       "      <td>0.009398</td>\n",
       "      <td>-0.000422</td>\n",
       "      <td>-0.000136</td>\n",
       "      <td>0.028903</td>\n",
       "      <td>-0.004128</td>\n",
       "      <td>-0.042981</td>\n",
       "      <td>NaN</td>\n",
       "    </tr>\n",
       "    <tr>\n",
       "      <th>Tea_room</th>\n",
       "      <td>0.045113</td>\n",
       "      <td>-0.008718</td>\n",
       "      <td>0.000324</td>\n",
       "      <td>-0.062370</td>\n",
       "      <td>0.000623</td>\n",
       "      <td>-0.068089</td>\n",
       "      <td>0.000476</td>\n",
       "      <td>-0.051792</td>\n",
       "      <td>-0.018255</td>\n",
       "      <td>0.011733</td>\n",
       "      <td>...</td>\n",
       "      <td>NaN</td>\n",
       "      <td>NaN</td>\n",
       "      <td>NaN</td>\n",
       "      <td>0.017954</td>\n",
       "      <td>-0.001092</td>\n",
       "      <td>-0.000138</td>\n",
       "      <td>0.064493</td>\n",
       "      <td>-0.000574</td>\n",
       "      <td>0.038565</td>\n",
       "      <td>NaN</td>\n",
       "    </tr>\n",
       "    <tr>\n",
       "      <th>INVENTAIRE</th>\n",
       "      <td>NaN</td>\n",
       "      <td>NaN</td>\n",
       "      <td>NaN</td>\n",
       "      <td>NaN</td>\n",
       "      <td>NaN</td>\n",
       "      <td>NaN</td>\n",
       "      <td>NaN</td>\n",
       "      <td>NaN</td>\n",
       "      <td>NaN</td>\n",
       "      <td>NaN</td>\n",
       "      <td>...</td>\n",
       "      <td>NaN</td>\n",
       "      <td>NaN</td>\n",
       "      <td>NaN</td>\n",
       "      <td>NaN</td>\n",
       "      <td>NaN</td>\n",
       "      <td>NaN</td>\n",
       "      <td>NaN</td>\n",
       "      <td>NaN</td>\n",
       "      <td>NaN</td>\n",
       "      <td>NaN</td>\n",
       "    </tr>\n",
       "    <tr>\n",
       "      <th>LIVRAISON</th>\n",
       "      <td>0.000969</td>\n",
       "      <td>0.001035</td>\n",
       "      <td>0.004273</td>\n",
       "      <td>0.459445</td>\n",
       "      <td>0.002092</td>\n",
       "      <td>0.255178</td>\n",
       "      <td>0.003161</td>\n",
       "      <td>-0.000633</td>\n",
       "      <td>0.245547</td>\n",
       "      <td>0.306640</td>\n",
       "      <td>...</td>\n",
       "      <td>NaN</td>\n",
       "      <td>NaN</td>\n",
       "      <td>NaN</td>\n",
       "      <td>-0.000823</td>\n",
       "      <td>0.943771</td>\n",
       "      <td>0.000005</td>\n",
       "      <td>0.000166</td>\n",
       "      <td>-0.000125</td>\n",
       "      <td>0.001153</td>\n",
       "      <td>NaN</td>\n",
       "    </tr>\n",
       "    <tr>\n",
       "      <th>PRODUITS</th>\n",
       "      <td>NaN</td>\n",
       "      <td>NaN</td>\n",
       "      <td>NaN</td>\n",
       "      <td>NaN</td>\n",
       "      <td>NaN</td>\n",
       "      <td>NaN</td>\n",
       "      <td>NaN</td>\n",
       "      <td>NaN</td>\n",
       "      <td>NaN</td>\n",
       "      <td>NaN</td>\n",
       "      <td>...</td>\n",
       "      <td>NaN</td>\n",
       "      <td>NaN</td>\n",
       "      <td>NaN</td>\n",
       "      <td>NaN</td>\n",
       "      <td>NaN</td>\n",
       "      <td>NaN</td>\n",
       "      <td>NaN</td>\n",
       "      <td>NaN</td>\n",
       "      <td>NaN</td>\n",
       "      <td>NaN</td>\n",
       "    </tr>\n",
       "    <tr>\n",
       "      <th>CARBURANT</th>\n",
       "      <td>NaN</td>\n",
       "      <td>NaN</td>\n",
       "      <td>NaN</td>\n",
       "      <td>NaN</td>\n",
       "      <td>NaN</td>\n",
       "      <td>NaN</td>\n",
       "      <td>NaN</td>\n",
       "      <td>NaN</td>\n",
       "      <td>NaN</td>\n",
       "      <td>NaN</td>\n",
       "      <td>...</td>\n",
       "      <td>NaN</td>\n",
       "      <td>NaN</td>\n",
       "      <td>NaN</td>\n",
       "      <td>NaN</td>\n",
       "      <td>NaN</td>\n",
       "      <td>NaN</td>\n",
       "      <td>NaN</td>\n",
       "      <td>NaN</td>\n",
       "      <td>NaN</td>\n",
       "      <td>NaN</td>\n",
       "    </tr>\n",
       "    <tr>\n",
       "      <th>LOTERIE</th>\n",
       "      <td>NaN</td>\n",
       "      <td>NaN</td>\n",
       "      <td>NaN</td>\n",
       "      <td>NaN</td>\n",
       "      <td>NaN</td>\n",
       "      <td>NaN</td>\n",
       "      <td>NaN</td>\n",
       "      <td>NaN</td>\n",
       "      <td>NaN</td>\n",
       "      <td>NaN</td>\n",
       "      <td>...</td>\n",
       "      <td>NaN</td>\n",
       "      <td>NaN</td>\n",
       "      <td>NaN</td>\n",
       "      <td>NaN</td>\n",
       "      <td>NaN</td>\n",
       "      <td>NaN</td>\n",
       "      <td>NaN</td>\n",
       "      <td>NaN</td>\n",
       "      <td>NaN</td>\n",
       "      <td>NaN</td>\n",
       "    </tr>\n",
       "    <tr>\n",
       "      <th>TABAC</th>\n",
       "      <td>NaN</td>\n",
       "      <td>NaN</td>\n",
       "      <td>NaN</td>\n",
       "      <td>NaN</td>\n",
       "      <td>NaN</td>\n",
       "      <td>NaN</td>\n",
       "      <td>NaN</td>\n",
       "      <td>NaN</td>\n",
       "      <td>NaN</td>\n",
       "      <td>NaN</td>\n",
       "      <td>...</td>\n",
       "      <td>NaN</td>\n",
       "      <td>NaN</td>\n",
       "      <td>NaN</td>\n",
       "      <td>NaN</td>\n",
       "      <td>NaN</td>\n",
       "      <td>NaN</td>\n",
       "      <td>NaN</td>\n",
       "      <td>NaN</td>\n",
       "      <td>NaN</td>\n",
       "      <td>NaN</td>\n",
       "    </tr>\n",
       "    <tr>\n",
       "      <th>AUTO</th>\n",
       "      <td>NaN</td>\n",
       "      <td>NaN</td>\n",
       "      <td>NaN</td>\n",
       "      <td>NaN</td>\n",
       "      <td>NaN</td>\n",
       "      <td>NaN</td>\n",
       "      <td>NaN</td>\n",
       "      <td>NaN</td>\n",
       "      <td>NaN</td>\n",
       "      <td>NaN</td>\n",
       "      <td>...</td>\n",
       "      <td>NaN</td>\n",
       "      <td>NaN</td>\n",
       "      <td>NaN</td>\n",
       "      <td>NaN</td>\n",
       "      <td>NaN</td>\n",
       "      <td>NaN</td>\n",
       "      <td>NaN</td>\n",
       "      <td>NaN</td>\n",
       "      <td>NaN</td>\n",
       "      <td>NaN</td>\n",
       "    </tr>\n",
       "    <tr>\n",
       "      <th>Month</th>\n",
       "      <td>0.099744</td>\n",
       "      <td>-0.254204</td>\n",
       "      <td>0.001248</td>\n",
       "      <td>-0.028707</td>\n",
       "      <td>0.001408</td>\n",
       "      <td>-0.025471</td>\n",
       "      <td>0.001412</td>\n",
       "      <td>-0.023733</td>\n",
       "      <td>-0.000455</td>\n",
       "      <td>-0.010491</td>\n",
       "      <td>...</td>\n",
       "      <td>NaN</td>\n",
       "      <td>NaN</td>\n",
       "      <td>NaN</td>\n",
       "      <td>1.000000</td>\n",
       "      <td>-0.001491</td>\n",
       "      <td>0.001284</td>\n",
       "      <td>-0.024234</td>\n",
       "      <td>-0.000067</td>\n",
       "      <td>-0.198637</td>\n",
       "      <td>NaN</td>\n",
       "    </tr>\n",
       "    <tr>\n",
       "      <th>Take_away</th>\n",
       "      <td>0.002524</td>\n",
       "      <td>0.000530</td>\n",
       "      <td>0.004645</td>\n",
       "      <td>0.521509</td>\n",
       "      <td>0.002171</td>\n",
       "      <td>0.320667</td>\n",
       "      <td>0.003273</td>\n",
       "      <td>0.028513</td>\n",
       "      <td>0.304132</td>\n",
       "      <td>0.333475</td>\n",
       "      <td>...</td>\n",
       "      <td>NaN</td>\n",
       "      <td>NaN</td>\n",
       "      <td>NaN</td>\n",
       "      <td>-0.001491</td>\n",
       "      <td>1.000000</td>\n",
       "      <td>0.000001</td>\n",
       "      <td>-0.001956</td>\n",
       "      <td>-0.000062</td>\n",
       "      <td>0.002923</td>\n",
       "      <td>NaN</td>\n",
       "    </tr>\n",
       "    <tr>\n",
       "      <th>in_rest</th>\n",
       "      <td>-0.000298</td>\n",
       "      <td>0.001704</td>\n",
       "      <td>0.999982</td>\n",
       "      <td>0.000191</td>\n",
       "      <td>0.999995</td>\n",
       "      <td>0.000025</td>\n",
       "      <td>0.999991</td>\n",
       "      <td>-0.000502</td>\n",
       "      <td>-0.000426</td>\n",
       "      <td>0.000603</td>\n",
       "      <td>...</td>\n",
       "      <td>NaN</td>\n",
       "      <td>NaN</td>\n",
       "      <td>NaN</td>\n",
       "      <td>0.001284</td>\n",
       "      <td>0.000001</td>\n",
       "      <td>1.000000</td>\n",
       "      <td>0.000302</td>\n",
       "      <td>0.001560</td>\n",
       "      <td>-0.000754</td>\n",
       "      <td>NaN</td>\n",
       "    </tr>\n",
       "    <tr>\n",
       "      <th>Hour</th>\n",
       "      <td>-0.004540</td>\n",
       "      <td>-0.004266</td>\n",
       "      <td>0.000366</td>\n",
       "      <td>0.008466</td>\n",
       "      <td>0.000319</td>\n",
       "      <td>-0.086184</td>\n",
       "      <td>0.000234</td>\n",
       "      <td>0.105912</td>\n",
       "      <td>-0.198266</td>\n",
       "      <td>0.130522</td>\n",
       "      <td>...</td>\n",
       "      <td>NaN</td>\n",
       "      <td>NaN</td>\n",
       "      <td>NaN</td>\n",
       "      <td>-0.024234</td>\n",
       "      <td>-0.001956</td>\n",
       "      <td>0.000302</td>\n",
       "      <td>1.000000</td>\n",
       "      <td>-0.048549</td>\n",
       "      <td>0.002498</td>\n",
       "      <td>NaN</td>\n",
       "    </tr>\n",
       "    <tr>\n",
       "      <th>Minute</th>\n",
       "      <td>0.003724</td>\n",
       "      <td>-0.000970</td>\n",
       "      <td>0.001562</td>\n",
       "      <td>0.005760</td>\n",
       "      <td>0.001534</td>\n",
       "      <td>0.002068</td>\n",
       "      <td>0.001530</td>\n",
       "      <td>0.006525</td>\n",
       "      <td>-0.003099</td>\n",
       "      <td>0.003793</td>\n",
       "      <td>...</td>\n",
       "      <td>NaN</td>\n",
       "      <td>NaN</td>\n",
       "      <td>NaN</td>\n",
       "      <td>-0.000067</td>\n",
       "      <td>-0.000062</td>\n",
       "      <td>0.001560</td>\n",
       "      <td>-0.048549</td>\n",
       "      <td>1.000000</td>\n",
       "      <td>0.003672</td>\n",
       "      <td>NaN</td>\n",
       "    </tr>\n",
       "    <tr>\n",
       "      <th>Year</th>\n",
       "      <td>0.954577</td>\n",
       "      <td>0.047506</td>\n",
       "      <td>-0.000511</td>\n",
       "      <td>0.109357</td>\n",
       "      <td>-0.000955</td>\n",
       "      <td>0.084878</td>\n",
       "      <td>-0.001006</td>\n",
       "      <td>-0.003869</td>\n",
       "      <td>0.018175</td>\n",
       "      <td>0.058879</td>\n",
       "      <td>...</td>\n",
       "      <td>NaN</td>\n",
       "      <td>NaN</td>\n",
       "      <td>NaN</td>\n",
       "      <td>-0.198637</td>\n",
       "      <td>0.002923</td>\n",
       "      <td>-0.000754</td>\n",
       "      <td>0.002498</td>\n",
       "      <td>0.003672</td>\n",
       "      <td>1.000000</td>\n",
       "      <td>NaN</td>\n",
       "    </tr>\n",
       "    <tr>\n",
       "      <th>Count</th>\n",
       "      <td>NaN</td>\n",
       "      <td>NaN</td>\n",
       "      <td>NaN</td>\n",
       "      <td>NaN</td>\n",
       "      <td>NaN</td>\n",
       "      <td>NaN</td>\n",
       "      <td>NaN</td>\n",
       "      <td>NaN</td>\n",
       "      <td>NaN</td>\n",
       "      <td>NaN</td>\n",
       "      <td>...</td>\n",
       "      <td>NaN</td>\n",
       "      <td>NaN</td>\n",
       "      <td>NaN</td>\n",
       "      <td>NaN</td>\n",
       "      <td>NaN</td>\n",
       "      <td>NaN</td>\n",
       "      <td>NaN</td>\n",
       "      <td>NaN</td>\n",
       "      <td>NaN</td>\n",
       "      <td>NaN</td>\n",
       "    </tr>\n",
       "  </tbody>\n",
       "</table>\n",
       "<p>31 rows × 31 columns</p>\n",
       "</div>"
      ],
      "text/plain": [
       "                     ID  Ticket_number     Total  Amount(2.5%)  Amount(7.7%)  \\\n",
       "ID             1.000000      -0.026759 -0.000065      0.101992     -0.000461   \n",
       "Ticket_number -0.026759       1.000000  0.001663      0.003041      0.001660   \n",
       "Total         -0.000065       0.001663  1.000000      0.005261      0.999989   \n",
       "Amount(2.5%)   0.101992       0.003041  0.005261      1.000000      0.000544   \n",
       "Amount(7.7%)  -0.000461       0.001660  0.999989      0.000544      1.000000   \n",
       "Quan(2.5%)     0.077486       0.005904  0.003568      0.774052     -0.000129   \n",
       "Quan(7.7%)    -0.000513       0.001664  0.999990      0.001015      0.999999   \n",
       "PAIN          -0.011738       0.010096 -0.000213      0.152386     -0.001000   \n",
       "VIENNOISERIE   0.017994       0.004527  0.002396      0.490047      0.000052   \n",
       "PATISSERIE     0.056449      -0.000873  0.003604      0.464799      0.001377   \n",
       "TRAITEUR       0.049773      -0.016293  0.002709      0.301099      0.001258   \n",
       "BOISSON        0.018279      -0.001072  0.004434      0.527686      0.001929   \n",
       "CHAUDE        -0.000399       0.001688  0.999981     -0.000202      0.999996   \n",
       "CHOCOLAT       0.000574       0.004022  0.000704      0.133078      0.000067   \n",
       "EPICERIE       0.006188       0.001321  0.003842      0.476754      0.001570   \n",
       "MENU          -0.040642      -0.006999  0.000928     -0.027360      0.001043   \n",
       "Tea_room       0.045113      -0.008718  0.000324     -0.062370      0.000623   \n",
       "INVENTAIRE          NaN            NaN       NaN           NaN           NaN   \n",
       "LIVRAISON      0.000969       0.001035  0.004273      0.459445      0.002092   \n",
       "PRODUITS            NaN            NaN       NaN           NaN           NaN   \n",
       "CARBURANT           NaN            NaN       NaN           NaN           NaN   \n",
       "LOTERIE             NaN            NaN       NaN           NaN           NaN   \n",
       "TABAC               NaN            NaN       NaN           NaN           NaN   \n",
       "AUTO                NaN            NaN       NaN           NaN           NaN   \n",
       "Month          0.099744      -0.254204  0.001248     -0.028707      0.001408   \n",
       "Take_away      0.002524       0.000530  0.004645      0.521509      0.002171   \n",
       "in_rest       -0.000298       0.001704  0.999982      0.000191      0.999995   \n",
       "Hour          -0.004540      -0.004266  0.000366      0.008466      0.000319   \n",
       "Minute         0.003724      -0.000970  0.001562      0.005760      0.001534   \n",
       "Year           0.954577       0.047506 -0.000511      0.109357     -0.000955   \n",
       "Count               NaN            NaN       NaN           NaN           NaN   \n",
       "\n",
       "               Quan(2.5%)  Quan(7.7%)      PAIN  VIENNOISERIE  PATISSERIE  \\\n",
       "ID               0.077486   -0.000513 -0.011738      0.017994    0.056449   \n",
       "Ticket_number    0.005904    0.001664  0.010096      0.004527   -0.000873   \n",
       "Total            0.003568    0.999990 -0.000213      0.002396    0.003604   \n",
       "Amount(2.5%)     0.774052    0.001015  0.152386      0.490047    0.464799   \n",
       "Amount(7.7%)    -0.000129    0.999999 -0.001000      0.000052    0.001377   \n",
       "Quan(2.5%)       1.000000    0.000119  0.213970      0.796146    0.369358   \n",
       "Quan(7.7%)       0.000119    1.000000 -0.000991      0.000499    0.001875   \n",
       "PAIN             0.213970   -0.000991  1.000000     -0.007626   -0.027408   \n",
       "VIENNOISERIE     0.796146    0.000499 -0.007626      1.000000    0.055635   \n",
       "PATISSERIE       0.369358    0.001875 -0.027408      0.055635    1.000000   \n",
       "TRAITEUR         0.188783    0.001115 -0.109951     -0.058476    0.093166   \n",
       "BOISSON          0.325967    0.002979 -0.025756      0.249699    0.344119   \n",
       "CHAUDE          -0.000361    0.999993 -0.000825     -0.000531    0.000496   \n",
       "CHOCOLAT         0.086214    0.000176 -0.004935      0.025452    0.027955   \n",
       "EPICERIE         0.266980    0.002451  0.009190      0.210916    0.262974   \n",
       "MENU            -0.051664    0.000693 -0.047131     -0.034702    0.082325   \n",
       "Tea_room        -0.068089    0.000476 -0.051792     -0.018255    0.011733   \n",
       "INVENTAIRE            NaN         NaN       NaN           NaN         NaN   \n",
       "LIVRAISON        0.255178    0.003161 -0.000633      0.245547    0.306640   \n",
       "PRODUITS              NaN         NaN       NaN           NaN         NaN   \n",
       "CARBURANT             NaN         NaN       NaN           NaN         NaN   \n",
       "LOTERIE               NaN         NaN       NaN           NaN         NaN   \n",
       "TABAC                 NaN         NaN       NaN           NaN         NaN   \n",
       "AUTO                  NaN         NaN       NaN           NaN         NaN   \n",
       "Month           -0.025471    0.001412 -0.023733     -0.000455   -0.010491   \n",
       "Take_away        0.320667    0.003273  0.028513      0.304132    0.333475   \n",
       "in_rest          0.000025    0.999991 -0.000502     -0.000426    0.000603   \n",
       "Hour            -0.086184    0.000234  0.105912     -0.198266    0.130522   \n",
       "Minute           0.002068    0.001530  0.006525     -0.003099    0.003793   \n",
       "Year             0.084878   -0.001006 -0.003869      0.018175    0.058879   \n",
       "Count                 NaN         NaN       NaN           NaN         NaN   \n",
       "\n",
       "               ...  LOTERIE  TABAC  AUTO     Month  Take_away   in_rest  \\\n",
       "ID             ...      NaN    NaN   NaN  0.099744   0.002524 -0.000298   \n",
       "Ticket_number  ...      NaN    NaN   NaN -0.254204   0.000530  0.001704   \n",
       "Total          ...      NaN    NaN   NaN  0.001248   0.004645  0.999982   \n",
       "Amount(2.5%)   ...      NaN    NaN   NaN -0.028707   0.521509  0.000191   \n",
       "Amount(7.7%)   ...      NaN    NaN   NaN  0.001408   0.002171  0.999995   \n",
       "Quan(2.5%)     ...      NaN    NaN   NaN -0.025471   0.320667  0.000025   \n",
       "Quan(7.7%)     ...      NaN    NaN   NaN  0.001412   0.003273  0.999991   \n",
       "PAIN           ...      NaN    NaN   NaN -0.023733   0.028513 -0.000502   \n",
       "VIENNOISERIE   ...      NaN    NaN   NaN -0.000455   0.304132 -0.000426   \n",
       "PATISSERIE     ...      NaN    NaN   NaN -0.010491   0.333475  0.000603   \n",
       "TRAITEUR       ...      NaN    NaN   NaN  0.001866   0.011026  0.001072   \n",
       "BOISSON        ...      NaN    NaN   NaN -0.004294   0.943346 -0.000087   \n",
       "CHAUDE         ...      NaN    NaN   NaN  0.001333   0.000009  0.999999   \n",
       "CHOCOLAT       ...      NaN    NaN   NaN -0.004086   0.089260 -0.000080   \n",
       "EPICERIE       ...      NaN    NaN   NaN -0.005799   0.782073 -0.000083   \n",
       "MENU           ...      NaN    NaN   NaN  0.009398  -0.000422 -0.000136   \n",
       "Tea_room       ...      NaN    NaN   NaN  0.017954  -0.001092 -0.000138   \n",
       "INVENTAIRE     ...      NaN    NaN   NaN       NaN        NaN       NaN   \n",
       "LIVRAISON      ...      NaN    NaN   NaN -0.000823   0.943771  0.000005   \n",
       "PRODUITS       ...      NaN    NaN   NaN       NaN        NaN       NaN   \n",
       "CARBURANT      ...      NaN    NaN   NaN       NaN        NaN       NaN   \n",
       "LOTERIE        ...      NaN    NaN   NaN       NaN        NaN       NaN   \n",
       "TABAC          ...      NaN    NaN   NaN       NaN        NaN       NaN   \n",
       "AUTO           ...      NaN    NaN   NaN       NaN        NaN       NaN   \n",
       "Month          ...      NaN    NaN   NaN  1.000000  -0.001491  0.001284   \n",
       "Take_away      ...      NaN    NaN   NaN -0.001491   1.000000  0.000001   \n",
       "in_rest        ...      NaN    NaN   NaN  0.001284   0.000001  1.000000   \n",
       "Hour           ...      NaN    NaN   NaN -0.024234  -0.001956  0.000302   \n",
       "Minute         ...      NaN    NaN   NaN -0.000067  -0.000062  0.001560   \n",
       "Year           ...      NaN    NaN   NaN -0.198637   0.002923 -0.000754   \n",
       "Count          ...      NaN    NaN   NaN       NaN        NaN       NaN   \n",
       "\n",
       "                   Hour    Minute      Year  Count  \n",
       "ID            -0.004540  0.003724  0.954577    NaN  \n",
       "Ticket_number -0.004266 -0.000970  0.047506    NaN  \n",
       "Total          0.000366  0.001562 -0.000511    NaN  \n",
       "Amount(2.5%)   0.008466  0.005760  0.109357    NaN  \n",
       "Amount(7.7%)   0.000319  0.001534 -0.000955    NaN  \n",
       "Quan(2.5%)    -0.086184  0.002068  0.084878    NaN  \n",
       "Quan(7.7%)     0.000234  0.001530 -0.001006    NaN  \n",
       "PAIN           0.105912  0.006525 -0.003869    NaN  \n",
       "VIENNOISERIE  -0.198266 -0.003099  0.018175    NaN  \n",
       "PATISSERIE     0.130522  0.003793  0.058879    NaN  \n",
       "TRAITEUR       0.031403 -0.004839  0.049254    NaN  \n",
       "BOISSON        0.001034 -0.000611  0.019521    NaN  \n",
       "CHAUDE         0.000194  0.001545 -0.000868    NaN  \n",
       "CHOCOLAT       0.019230  0.001972  0.002127    NaN  \n",
       "EPICERIE       0.008844  0.003374  0.007930    NaN  \n",
       "MENU           0.028903 -0.004128 -0.042981    NaN  \n",
       "Tea_room       0.064493 -0.000574  0.038565    NaN  \n",
       "INVENTAIRE          NaN       NaN       NaN    NaN  \n",
       "LIVRAISON      0.000166 -0.000125  0.001153    NaN  \n",
       "PRODUITS            NaN       NaN       NaN    NaN  \n",
       "CARBURANT           NaN       NaN       NaN    NaN  \n",
       "LOTERIE             NaN       NaN       NaN    NaN  \n",
       "TABAC               NaN       NaN       NaN    NaN  \n",
       "AUTO                NaN       NaN       NaN    NaN  \n",
       "Month         -0.024234 -0.000067 -0.198637    NaN  \n",
       "Take_away     -0.001956 -0.000062  0.002923    NaN  \n",
       "in_rest        0.000302  0.001560 -0.000754    NaN  \n",
       "Hour           1.000000 -0.048549  0.002498    NaN  \n",
       "Minute        -0.048549  1.000000  0.003672    NaN  \n",
       "Year           0.002498  0.003672  1.000000    NaN  \n",
       "Count               NaN       NaN       NaN    NaN  \n",
       "\n",
       "[31 rows x 31 columns]"
      ]
     },
     "execution_count": 60,
     "metadata": {},
     "output_type": "execute_result"
    }
   ],
   "source": [
    "C"
   ]
  },
  {
   "cell_type": "code",
   "execution_count": 61,
   "metadata": {},
   "outputs": [
    {
     "data": {
      "image/png": "[encoded data removed]",
      "text/plain": [
       "<Figure size 432x288 with 1 Axes>"
      ]
     },
     "metadata": {
      "needs_background": "light"
     },
     "output_type": "display_data"
    }
   ],
   "source": [
    "#finding the corrleration and heatmap\n",
    "ax1= sns.heatmap(C, cbar=False)"
   ]
  },
  {
   "cell_type": "code",
   "execution_count": 62,
   "metadata": {},
   "outputs": [
    {
     "data": {
      "text/html": [
       "<div>\n",
       "<style scoped>\n",
       "    .dataframe tbody tr th:only-of-type {\n",
       "        vertical-align: middle;\n",
       "    }\n",
       "\n",
       "    .dataframe tbody tr th {\n",
       "        vertical-align: top;\n",
       "    }\n",
       "\n",
       "    .dataframe thead th {\n",
       "        text-align: right;\n",
       "    }\n",
       "</style>\n",
       "<table border=\"1\" class=\"dataframe\">\n",
       "  <thead>\n",
       "    <tr style=\"text-align: right;\">\n",
       "      <th></th>\n",
       "      <th>ID</th>\n",
       "      <th>Date and Time</th>\n",
       "      <th>Ticket_number</th>\n",
       "      <th>Store_name</th>\n",
       "      <th>Total</th>\n",
       "      <th>Amount(2.5%)</th>\n",
       "      <th>Amount(7.7%)</th>\n",
       "      <th>Quan(2.5%)</th>\n",
       "      <th>Quan(7.7%)</th>\n",
       "      <th>PAIN</th>\n",
       "      <th>...</th>\n",
       "      <th>TABAC</th>\n",
       "      <th>AUTO</th>\n",
       "      <th>Month</th>\n",
       "      <th>Take_away</th>\n",
       "      <th>in_rest</th>\n",
       "      <th>Hour</th>\n",
       "      <th>Minute</th>\n",
       "      <th>Year</th>\n",
       "      <th>Count</th>\n",
       "      <th>week_day</th>\n",
       "    </tr>\n",
       "  </thead>\n",
       "  <tbody>\n",
       "    <tr>\n",
       "      <th>0</th>\n",
       "      <td>135470761</td>\n",
       "      <td>2021-12-14 18:45:44</td>\n",
       "      <td>6026</td>\n",
       "      <td>Bussigny TR</td>\n",
       "      <td>0.0</td>\n",
       "      <td>0.0</td>\n",
       "      <td>0.0</td>\n",
       "      <td>1.0</td>\n",
       "      <td>1.0</td>\n",
       "      <td>1.0</td>\n",
       "      <td>...</td>\n",
       "      <td>0</td>\n",
       "      <td>0</td>\n",
       "      <td>12</td>\n",
       "      <td>0.0</td>\n",
       "      <td>0.0</td>\n",
       "      <td>18</td>\n",
       "      <td>45</td>\n",
       "      <td>2021</td>\n",
       "      <td>1</td>\n",
       "      <td>Tuesday</td>\n",
       "    </tr>\n",
       "    <tr>\n",
       "      <th>1</th>\n",
       "      <td>135470732</td>\n",
       "      <td>2021-12-14 18:37:57</td>\n",
       "      <td>9625</td>\n",
       "      <td>Bussigny mag</td>\n",
       "      <td>14.3</td>\n",
       "      <td>14.3</td>\n",
       "      <td>0.0</td>\n",
       "      <td>4.0</td>\n",
       "      <td>0.0</td>\n",
       "      <td>1.0</td>\n",
       "      <td>...</td>\n",
       "      <td>0</td>\n",
       "      <td>0</td>\n",
       "      <td>12</td>\n",
       "      <td>57.2</td>\n",
       "      <td>0.0</td>\n",
       "      <td>18</td>\n",
       "      <td>37</td>\n",
       "      <td>2021</td>\n",
       "      <td>1</td>\n",
       "      <td>Tuesday</td>\n",
       "    </tr>\n",
       "    <tr>\n",
       "      <th>2</th>\n",
       "      <td>135470700</td>\n",
       "      <td>2021-12-14 18:28:36</td>\n",
       "      <td>9624</td>\n",
       "      <td>Bussigny mag</td>\n",
       "      <td>3.7</td>\n",
       "      <td>3.7</td>\n",
       "      <td>0.0</td>\n",
       "      <td>1.0</td>\n",
       "      <td>0.0</td>\n",
       "      <td>1.0</td>\n",
       "      <td>...</td>\n",
       "      <td>0</td>\n",
       "      <td>0</td>\n",
       "      <td>12</td>\n",
       "      <td>3.7</td>\n",
       "      <td>0.0</td>\n",
       "      <td>18</td>\n",
       "      <td>28</td>\n",
       "      <td>2021</td>\n",
       "      <td>1</td>\n",
       "      <td>Tuesday</td>\n",
       "    </tr>\n",
       "    <tr>\n",
       "      <th>3</th>\n",
       "      <td>135470666</td>\n",
       "      <td>2021-12-14 18:17:10</td>\n",
       "      <td>9623</td>\n",
       "      <td>Bussigny mag</td>\n",
       "      <td>3.9</td>\n",
       "      <td>3.9</td>\n",
       "      <td>0.0</td>\n",
       "      <td>1.0</td>\n",
       "      <td>0.0</td>\n",
       "      <td>0.0</td>\n",
       "      <td>...</td>\n",
       "      <td>0</td>\n",
       "      <td>0</td>\n",
       "      <td>12</td>\n",
       "      <td>3.9</td>\n",
       "      <td>0.0</td>\n",
       "      <td>18</td>\n",
       "      <td>17</td>\n",
       "      <td>2021</td>\n",
       "      <td>1</td>\n",
       "      <td>Tuesday</td>\n",
       "    </tr>\n",
       "    <tr>\n",
       "      <th>4</th>\n",
       "      <td>135470654</td>\n",
       "      <td>2021-12-14 18:14:09</td>\n",
       "      <td>9622</td>\n",
       "      <td>Bussigny mag</td>\n",
       "      <td>22.8</td>\n",
       "      <td>22.8</td>\n",
       "      <td>0.0</td>\n",
       "      <td>7.0</td>\n",
       "      <td>0.0</td>\n",
       "      <td>0.0</td>\n",
       "      <td>...</td>\n",
       "      <td>0</td>\n",
       "      <td>0</td>\n",
       "      <td>12</td>\n",
       "      <td>159.6</td>\n",
       "      <td>0.0</td>\n",
       "      <td>18</td>\n",
       "      <td>14</td>\n",
       "      <td>2021</td>\n",
       "      <td>1</td>\n",
       "      <td>Tuesday</td>\n",
       "    </tr>\n",
       "  </tbody>\n",
       "</table>\n",
       "<p>5 rows × 34 columns</p>\n",
       "</div>"
      ],
      "text/plain": [
       "          ID       Date and Time  Ticket_number    Store_name  Total  \\\n",
       "0  135470761 2021-12-14 18:45:44           6026   Bussigny TR    0.0   \n",
       "1  135470732 2021-12-14 18:37:57           9625  Bussigny mag   14.3   \n",
       "2  135470700 2021-12-14 18:28:36           9624  Bussigny mag    3.7   \n",
       "3  135470666 2021-12-14 18:17:10           9623  Bussigny mag    3.9   \n",
       "4  135470654 2021-12-14 18:14:09           9622  Bussigny mag   22.8   \n",
       "\n",
       "   Amount(2.5%)  Amount(7.7%)  Quan(2.5%)  Quan(7.7%)  PAIN  ...  TABAC  AUTO  \\\n",
       "0           0.0           0.0         1.0         1.0   1.0  ...      0     0   \n",
       "1          14.3           0.0         4.0         0.0   1.0  ...      0     0   \n",
       "2           3.7           0.0         1.0         0.0   1.0  ...      0     0   \n",
       "3           3.9           0.0         1.0         0.0   0.0  ...      0     0   \n",
       "4          22.8           0.0         7.0         0.0   0.0  ...      0     0   \n",
       "\n",
       "   Month  Take_away  in_rest  Hour  Minute  Year  Count  week_day  \n",
       "0     12        0.0      0.0    18      45  2021      1   Tuesday  \n",
       "1     12       57.2      0.0    18      37  2021      1   Tuesday  \n",
       "2     12        3.7      0.0    18      28  2021      1   Tuesday  \n",
       "3     12        3.9      0.0    18      17  2021      1   Tuesday  \n",
       "4     12      159.6      0.0    18      14  2021      1   Tuesday  \n",
       "\n",
       "[5 rows x 34 columns]"
      ]
     },
     "execution_count": 62,
     "metadata": {},
     "output_type": "execute_result"
    }
   ],
   "source": [
    "new_data.head()"
   ]
  },
  {
   "cell_type": "code",
   "execution_count": 63,
   "metadata": {},
   "outputs": [
    {
     "name": "stdout",
     "output_type": "stream",
     "text": [
      "DataFrame is written to Excel File successfully.\n"
     ]
    }
   ],
   "source": [
    "# writing to Excel\n",
    "datatoexcel = pd.ExcelWriter('StoreData_1.xlsx')\n",
    "# write DataFrame to excel\n",
    "new_data.to_excel(datatoexcel)\n",
    "  \n",
    "# save the excel\n",
    "datatoexcel.save()\n",
    "print('DataFrame is written to Excel File successfully.')"
   ]
  },
  {
   "cell_type": "code",
   "execution_count": null,
   "metadata": {},
   "outputs": [],
   "source": []
  },
  {
   "cell_type": "code",
   "execution_count": 15,
   "metadata": {},
   "outputs": [
    {
     "data": {
      "text/html": [
       "<div>\n",
       "<style scoped>\n",
       "    .dataframe tbody tr th:only-of-type {\n",
       "        vertical-align: middle;\n",
       "    }\n",
       "\n",
       "    .dataframe tbody tr th {\n",
       "        vertical-align: top;\n",
       "    }\n",
       "\n",
       "    .dataframe thead th {\n",
       "        text-align: right;\n",
       "    }\n",
       "</style>\n",
       "<table border=\"1\" class=\"dataframe\">\n",
       "  <thead>\n",
       "    <tr style=\"text-align: right;\">\n",
       "      <th></th>\n",
       "      <th>ID</th>\n",
       "      <th>Date and Time</th>\n",
       "      <th>Ticket_number</th>\n",
       "      <th>Store_name</th>\n",
       "      <th>Total</th>\n",
       "      <th>Amount(2.5%)</th>\n",
       "      <th>Amount(7.7%)</th>\n",
       "      <th>Quan(2.5%)</th>\n",
       "      <th>Quan(7.7%)</th>\n",
       "      <th>PAIN</th>\n",
       "      <th>...</th>\n",
       "      <th>EPICERIE</th>\n",
       "      <th>MENU ET FORMULE</th>\n",
       "      <th>Tea-room / cuisine</th>\n",
       "      <th>INVENTAIRE MENSUEL</th>\n",
       "      <th>LIVRAISON</th>\n",
       "      <th>PRODUITS DE REVENTE</th>\n",
       "      <th>CARBURANT</th>\n",
       "      <th>LOTERIE</th>\n",
       "      <th>TABAC</th>\n",
       "      <th>PRODUITS AUTO</th>\n",
       "    </tr>\n",
       "  </thead>\n",
       "  <tbody>\n",
       "    <tr>\n",
       "      <th>0</th>\n",
       "      <td>135470761</td>\n",
       "      <td>2021-12-14 18:45:44</td>\n",
       "      <td>6026</td>\n",
       "      <td>Bussigny TR</td>\n",
       "      <td>0.0</td>\n",
       "      <td>0.0</td>\n",
       "      <td>0.0</td>\n",
       "      <td>1.0</td>\n",
       "      <td>1.0</td>\n",
       "      <td>1.0</td>\n",
       "      <td>...</td>\n",
       "      <td>0.0</td>\n",
       "      <td>0</td>\n",
       "      <td>0</td>\n",
       "      <td>0</td>\n",
       "      <td>0</td>\n",
       "      <td>0</td>\n",
       "      <td>0</td>\n",
       "      <td>0</td>\n",
       "      <td>0</td>\n",
       "      <td>0</td>\n",
       "    </tr>\n",
       "    <tr>\n",
       "      <th>1</th>\n",
       "      <td>135470732</td>\n",
       "      <td>2021-12-14 18:37:57</td>\n",
       "      <td>9625</td>\n",
       "      <td>Bussigny mag</td>\n",
       "      <td>14.3</td>\n",
       "      <td>14.3</td>\n",
       "      <td>0.0</td>\n",
       "      <td>4.0</td>\n",
       "      <td>0.0</td>\n",
       "      <td>1.0</td>\n",
       "      <td>...</td>\n",
       "      <td>0.0</td>\n",
       "      <td>0</td>\n",
       "      <td>0</td>\n",
       "      <td>0</td>\n",
       "      <td>0</td>\n",
       "      <td>0</td>\n",
       "      <td>0</td>\n",
       "      <td>0</td>\n",
       "      <td>0</td>\n",
       "      <td>0</td>\n",
       "    </tr>\n",
       "    <tr>\n",
       "      <th>2</th>\n",
       "      <td>135470700</td>\n",
       "      <td>2021-12-14 18:28:36</td>\n",
       "      <td>9624</td>\n",
       "      <td>Bussigny mag</td>\n",
       "      <td>3.7</td>\n",
       "      <td>3.7</td>\n",
       "      <td>0.0</td>\n",
       "      <td>1.0</td>\n",
       "      <td>0.0</td>\n",
       "      <td>1.0</td>\n",
       "      <td>...</td>\n",
       "      <td>0.0</td>\n",
       "      <td>0</td>\n",
       "      <td>0</td>\n",
       "      <td>0</td>\n",
       "      <td>0</td>\n",
       "      <td>0</td>\n",
       "      <td>0</td>\n",
       "      <td>0</td>\n",
       "      <td>0</td>\n",
       "      <td>0</td>\n",
       "    </tr>\n",
       "    <tr>\n",
       "      <th>3</th>\n",
       "      <td>135470666</td>\n",
       "      <td>2021-12-14 18:17:10</td>\n",
       "      <td>9623</td>\n",
       "      <td>Bussigny mag</td>\n",
       "      <td>3.9</td>\n",
       "      <td>3.9</td>\n",
       "      <td>0.0</td>\n",
       "      <td>1.0</td>\n",
       "      <td>0.0</td>\n",
       "      <td>0.0</td>\n",
       "      <td>...</td>\n",
       "      <td>0.0</td>\n",
       "      <td>0</td>\n",
       "      <td>0</td>\n",
       "      <td>0</td>\n",
       "      <td>0</td>\n",
       "      <td>0</td>\n",
       "      <td>0</td>\n",
       "      <td>0</td>\n",
       "      <td>0</td>\n",
       "      <td>0</td>\n",
       "    </tr>\n",
       "    <tr>\n",
       "      <th>4</th>\n",
       "      <td>135470654</td>\n",
       "      <td>2021-12-14 18:14:09</td>\n",
       "      <td>9622</td>\n",
       "      <td>Bussigny mag</td>\n",
       "      <td>22.8</td>\n",
       "      <td>22.8</td>\n",
       "      <td>0.0</td>\n",
       "      <td>7.0</td>\n",
       "      <td>0.0</td>\n",
       "      <td>0.0</td>\n",
       "      <td>...</td>\n",
       "      <td>0.0</td>\n",
       "      <td>0</td>\n",
       "      <td>0</td>\n",
       "      <td>0</td>\n",
       "      <td>0</td>\n",
       "      <td>0</td>\n",
       "      <td>0</td>\n",
       "      <td>0</td>\n",
       "      <td>0</td>\n",
       "      <td>0</td>\n",
       "    </tr>\n",
       "  </tbody>\n",
       "</table>\n",
       "<p>5 rows × 26 columns</p>\n",
       "</div>"
      ],
      "text/plain": [
       "          ID       Date and Time  Ticket_number    Store_name  Total  \\\n",
       "0  135470761 2021-12-14 18:45:44           6026   Bussigny TR    0.0   \n",
       "1  135470732 2021-12-14 18:37:57           9625  Bussigny mag   14.3   \n",
       "2  135470700 2021-12-14 18:28:36           9624  Bussigny mag    3.7   \n",
       "3  135470666 2021-12-14 18:17:10           9623  Bussigny mag    3.9   \n",
       "4  135470654 2021-12-14 18:14:09           9622  Bussigny mag   22.8   \n",
       "\n",
       "   Amount(2.5%)  Amount(7.7%)  Quan(2.5%)  Quan(7.7%)  PAIN  ...  EPICERIE  \\\n",
       "0           0.0           0.0         1.0         1.0   1.0  ...       0.0   \n",
       "1          14.3           0.0         4.0         0.0   1.0  ...       0.0   \n",
       "2           3.7           0.0         1.0         0.0   1.0  ...       0.0   \n",
       "3           3.9           0.0         1.0         0.0   0.0  ...       0.0   \n",
       "4          22.8           0.0         7.0         0.0   0.0  ...       0.0   \n",
       "\n",
       "   MENU ET FORMULE  Tea-room / cuisine  INVENTAIRE MENSUEL  LIVRAISON  \\\n",
       "0                0                   0                   0          0   \n",
       "1                0                   0                   0          0   \n",
       "2                0                   0                   0          0   \n",
       "3                0                   0                   0          0   \n",
       "4                0                   0                   0          0   \n",
       "\n",
       "   PRODUITS DE REVENTE  CARBURANT  LOTERIE  TABAC  PRODUITS AUTO  \n",
       "0                    0          0        0      0              0  \n",
       "1                    0          0        0      0              0  \n",
       "2                    0          0        0      0              0  \n",
       "3                    0          0        0      0              0  \n",
       "4                    0          0        0      0              0  \n",
       "\n",
       "[5 rows x 26 columns]"
      ]
     },
     "execution_count": 15,
     "metadata": {},
     "output_type": "execute_result"
    }
   ],
   "source": [
    "#hence the null percentage is very low. We can drop the null values as it doesn't effect the data\n",
    "new_data = result_data.dropna().reset_index(drop = True)\n",
    "new_data.head()"
   ]
  },
  {
   "cell_type": "code",
   "execution_count": 16,
   "metadata": {},
   "outputs": [
    {
     "data": {
      "text/plain": [
       "ID                     0\n",
       "Date and Time          0\n",
       "Ticket_number          0\n",
       "Store_name             0\n",
       "Total                  0\n",
       "Amount(2.5%)           0\n",
       "Amount(7.7%)           0\n",
       "Quan(2.5%)             0\n",
       "Quan(7.7%)             0\n",
       "PAIN                   0\n",
       "VIENNOISERIE           0\n",
       "PATISSERIE             0\n",
       "TRAITEUR - SANDWICH    0\n",
       "BOISSON EMPORTER       0\n",
       "BOISSON CHAUDE         0\n",
       "CHOCOLAT               0\n",
       "EPICERIE               0\n",
       "MENU ET FORMULE        0\n",
       "Tea-room / cuisine     0\n",
       "INVENTAIRE MENSUEL     0\n",
       "LIVRAISON              0\n",
       "PRODUITS DE REVENTE    0\n",
       "CARBURANT              0\n",
       "LOTERIE                0\n",
       "TABAC                  0\n",
       "PRODUITS AUTO          0\n",
       "dtype: int64"
      ]
     },
     "execution_count": 16,
     "metadata": {},
     "output_type": "execute_result"
    }
   ],
   "source": [
    "new_data.isnull().sum()"
   ]
  }
 ],
 "metadata": {
  "kernelspec": {
   "display_name": "Python 3",
   "language": "python",
   "name": "python3"
  },
  "language_info": {
   "codemirror_mode": {
    "name": "ipython",
    "version": 3
   },
   "file_extension": ".py",
   "mimetype": "text/x-python",
   "name": "python",
   "nbconvert_exporter": "python",
   "pygments_lexer": "ipython3",
   "version": "3.7.6"
  }
 },
 "nbformat": 4,
 "nbformat_minor": 4
}

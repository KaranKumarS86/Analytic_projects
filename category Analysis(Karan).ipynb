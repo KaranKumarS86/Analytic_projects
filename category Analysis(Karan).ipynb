{
 "cells": [
  {
   "cell_type": "code",
   "execution_count": 1,
   "id": "b67748e1",
   "metadata": {},
   "outputs": [],
   "source": [
    "import pandas as pd\n",
    "import numpy as np\n",
    "import psycopg2\n",
    "import json\n",
    "import requests\n",
    "import re\n",
    "from bs4 import BeautifulSoup\n",
    "\n",
    "import pandas as pd\n",
    "import numpy as np\n",
    "from bs4 import BeautifulSoup\n",
    "from selenium import webdriver\n",
    "from selenium.webdriver.common.by import By\n",
    "import requests\n",
    "from selenium.webdriver.support.ui import WebDriverWait\n",
    "import selenium.webdriver.support.expected_conditions as EC\n",
    "from tqdm.notebook import tqdm\n",
    "import time"
   ]
  },
  {
   "cell_type": "code",
   "execution_count": 2,
   "id": "5b3c2262",
   "metadata": {},
   "outputs": [
    {
     "name": "stdout",
     "output_type": "stream",
     "text": [
      "{'user': 'postgres', 'channel_binding': 'prefer', 'dbname': 'postgres', 'host': '3.pgsql.db.1digitalstack.com', 'port': '5432', 'options': '', 'sslmode': 'prefer', 'sslcompression': '0', 'sslsni': '1', 'ssl_min_protocol_version': 'TLSv1.2', 'gssencmode': 'disable', 'krbsrvname': 'postgres', 'target_session_attrs': 'any'} \n",
      "\n",
      "{'user': 'postgres', 'channel_binding': 'prefer', 'dbname': 'postgres', 'host': '2.pgsql.db.1digitalstack.com', 'port': '5432', 'options': '', 'sslmode': 'prefer', 'sslcompression': '0', 'sslsni': '1', 'ssl_min_protocol_version': 'TLSv1.2', 'gssencmode': 'disable', 'krbsrvname': 'postgres', 'target_session_attrs': 'any'} \n",
      "\n"
     ]
    }
   ],
   "source": [
    "class postgres_conn:\n",
    "    def getConn(self):\n",
    "        try:\n",
    "            connection = psycopg2.connect(user='postgres',\n",
    "                                          password='postgres_007',\n",
    "                                          host=\"3.pgsql.db.1digitalstack.com\",\n",
    "                                          port='5432',\n",
    "                                          database='postgres')\n",
    "\n",
    "            cursor = connection.cursor()\n",
    "            # Print PostgreSQL Connection properties\n",
    "            print(connection.get_dsn_parameters(), \"\\n\")\n",
    "\n",
    "            # Print PostgreSQL version\n",
    "            return cursor, connection\n",
    "\n",
    "        except (Exception, psycopg2.Error) as error:\n",
    "            print(\"Error while connecting to PostgreSQL\", error)\n",
    "            return error, error\n",
    "    def getConn2(self):\n",
    "        try:\n",
    "            connection = psycopg2.connect(user='postgres',\n",
    "                                          password='reporting_007',\n",
    "                                          host=\"2.pgsql.db.1digitalstack.com\",\n",
    "                                          port='5432',\n",
    "                                          database='postgres')\n",
    "\n",
    "            cursor = connection.cursor()\n",
    "            # Print PostgreSQL Connection properties\n",
    "            print(connection.get_dsn_parameters(), \"\\n\")\n",
    "\n",
    "            # Print PostgreSQL version\n",
    "            return cursor, connection\n",
    "\n",
    "        except (Exception, psycopg2.Error) as error:\n",
    "            print(\"Error while connecting to PostgreSQL\", error)\n",
    "            return error, error\n",
    "\n",
    "\n",
    "    def close_connection(self, cursor, connection):\n",
    "        # closing database connection.\n",
    "        if(connection):\n",
    "            cursor.close()\n",
    "            connection.close()\n",
    "            print(\"PostgreSQL connection is closed\")\n",
    "            \n",
    "pg = postgres_conn()\n",
    "conn = pg.getConn()\n",
    "conn2 = pg.getConn2()"
   ]
  },
  {
   "cell_type": "code",
   "execution_count": null,
   "id": "51be8fdc",
   "metadata": {},
   "outputs": [],
   "source": [
    "id= input(\"Enter the category id:\\n\")# 231515\n",
    "\n",
    "print(' input date in format as shown here 2022-07-22')\n",
    "startingdate=input('Starting Date')\n",
    "endingdate= input('Ending Date')"
   ]
  },
  {
   "cell_type": "code",
   "execution_count": null,
   "id": "2c0f9c69",
   "metadata": {},
   "outputs": [],
   "source": [
    "# cat data from production\n",
    "query = f\"\"\"\n",
    "select *\n",
    "from ready.ready_product\n",
    "where  crawl_date between '{startingdate}' and '{endingdate}' and category_id='{id}'\n",
    "\"\"\"\n",
    "\n",
    "ready_product = pd.read_sql_query(query, conn[1])\n",
    "\n",
    "ready_product.dropna(subset=['asin'], inplace=True)\n",
    "\n",
    "ready_product"
   ]
  },
  {
   "cell_type": "code",
   "execution_count": null,
   "id": "4741ed8c",
   "metadata": {},
   "outputs": [],
   "source": [
    "asin_cnt=ready_product.groupby([\"pipeline_id\"])[\"asin\"].nunique().reset_index()\n",
    "asin_cnt"
   ]
  },
  {
   "cell_type": "code",
   "execution_count": null,
   "id": "e8a1d570",
   "metadata": {},
   "outputs": [],
   "source": [
    "count=[100]\n",
    "alist=list(asin_cnt[asin_cnt['asin'].isin(count)]['pipeline_id'])\n",
    "\n",
    "ready_product=ready_product[ready_product['pipeline_id'].isin(alist)]\n",
    "ready_product"
   ]
  },
  {
   "cell_type": "code",
   "execution_count": null,
   "id": "c8144278",
   "metadata": {},
   "outputs": [],
   "source": [
    "ask=input(\"enter anything you want. just wanted to confirm that upd are uploaded or not\")"
   ]
  },
  {
   "cell_type": "code",
   "execution_count": null,
   "id": "5851def7",
   "metadata": {},
   "outputs": [],
   "source": [
    "upd_df=pd.read_excel(r\"C:\\Users\\visha\\Downloads\\category_upd (1).xlsx\")\n",
    "upd_df"
   ]
  },
  {
   "cell_type": "code",
   "execution_count": null,
   "id": "cd0ca61c",
   "metadata": {
    "scrolled": true
   },
   "outputs": [],
   "source": [
    "ready_product_with_upd=pd.merge(ready_product,upd_df,left_on='rank',right_on='BSR 2', how='left')\n",
    "ready_product_with_upd"
   ]
  },
  {
   "cell_type": "code",
   "execution_count": null,
   "id": "3e14f008",
   "metadata": {},
   "outputs": [],
   "source": []
  },
  {
   "cell_type": "code",
   "execution_count": null,
   "id": "02d96bbd",
   "metadata": {},
   "outputs": [],
   "source": [
    "country_code=input('enter country code like \"AU\". \\n')"
   ]
  },
  {
   "cell_type": "code",
   "execution_count": null,
   "id": "98edc15e",
   "metadata": {},
   "outputs": [],
   "source": [
    "# brand mapping\n",
    "\n",
    "query3= f\"\"\"\n",
    "select *\n",
    "from  entity.product_master\n",
    "where  channel_sku_id in {tuple(ready_product['asin'])} and country_code='{country_code}'\n",
    "\"\"\"\n",
    "\n",
    "product_master = pd.read_sql_query(query3, conn[1])\n",
    "product_master['brand_name']=product_master['brand_name'].str.lower()\n",
    "product_master"
   ]
  },
  {
   "cell_type": "code",
   "execution_count": null,
   "id": "102ad4bf",
   "metadata": {},
   "outputs": [],
   "source": [
    "msi_df=pd.merge(ready_product_with_upd[['asin','unit_per_day', 'price','rank']],product_master[['channel_sku_id','brand_name','title']], left_on='asin',right_on='channel_sku_id', how='left')#.fillna('others')\n",
    "\n",
    "msi_df"
   ]
  },
  {
   "cell_type": "code",
   "execution_count": null,
   "id": "704cf64a",
   "metadata": {},
   "outputs": [],
   "source": [
    "msi_df.sort_values('brand_name', inplace= True)\n",
    "\n",
    "brands_df=msi_df[['asin','brand_name']].drop_duplicates('asin')\n",
    "\n",
    "msi_df.sort_values('price', inplace= True)\n",
    "\n",
    "prices_df=msi_df[['asin','price']].drop_duplicates('asin')\n",
    "\n",
    "msii_df=pd.merge(brands_df, prices_df, on='asin', how='outer')\n",
    "msii_df\n",
    "\n",
    "gh_df=msii_df[(msii_df['brand_name'].isna())|(msii_df['price'].isna())]\n",
    "gh_df"
   ]
  },
  {
   "cell_type": "code",
   "execution_count": null,
   "id": "d5bb3a45",
   "metadata": {},
   "outputs": [],
   "source": []
  },
  {
   "cell_type": "code",
   "execution_count": null,
   "id": "4b51c050",
   "metadata": {},
   "outputs": [],
   "source": [
    "\n",
    "asinList = list(gh_df['asin'])\n",
    "len(asinList)"
   ]
  },
  {
   "cell_type": "code",
   "execution_count": null,
   "id": "17a22635",
   "metadata": {},
   "outputs": [],
   "source": [
    "chrome_options = webdriver.ChromeOptions()\n",
    "chrome_options.add_argument(\"--incognito\")\n",
    "driver = webdriver.Chrome(executable_path = r\"C:\\Users\\Tanuja Thakur\\OneDrive\\Desktop\\chromedriver.exe\",chrome_options = chrome_options)\n"
   ]
  },
  {
   "cell_type": "code",
   "execution_count": null,
   "id": "8ff1210b",
   "metadata": {},
   "outputs": [],
   "source": [
    "        l1 = \"https:amazon.fr\"\n",
    "        print(l1)\n",
    "        driver.get(l1)"
   ]
  },
  {
   "cell_type": "code",
   "execution_count": null,
   "id": "95d3f110",
   "metadata": {
    "scrolled": true
   },
   "outputs": [],
   "source": [
    "timeout = 10\n",
    "locator = \"imgTagWrapperId\"\n",
    "productDetails = {}\n",
    "lastIdx = 0\n",
    "for val in tqdm(range(0,len(asinList))):\n",
    "    try:\n",
    "   \n",
    "        i = asinList[val]\n",
    "        print(val,i)\n",
    "        productDetails[i] = {}\n",
    "        lastIdx = val\n",
    "        link = l1+\"/dp/\" + i\n",
    "        print(link)\n",
    "        driver.get(link)\n",
    "        WebDriverWait(driver, timeout).until(EC.visibility_of_element_located((By.ID, locator)))\n",
    "        try:\n",
    "            TitleVal = driver.find_element(By.ID,'title')\n",
    "            productDetails[i]['Title'] = TitleVal.text\n",
    "            print(TitleVal.text)\n",
    "        \n",
    "        except:\n",
    "            productDetails[i]['Title'] = \"Not Found\"\n",
    "            print(\"Product Title not found\")\n",
    "\n",
    "\n",
    "        try:\n",
    "            BrandVal = driver.find_element(By.ID,'bylineInfo')\n",
    "            productDetails[i]['Brand_Subscript'] = BrandVal.text\n",
    "            print(BrandVal.text)\n",
    "\n",
    "        except:\n",
    "            productDetails[i]['Brand_Subscript'] = \"Not Found\"\n",
    "            print(\"Brand from subscript not found\")\n",
    "        \n",
    "        try:\n",
    "            soup = BeautifulSoup(driver.page_source, \"html.parser\")\n",
    "            z=soup.find_all('span', class_='a-offscreen')\n",
    "            \n",
    "            price=z[0].text\n",
    "            productDetails[i]['Price'] =price\n",
    "\n",
    "            print(price)\n",
    "        except:\n",
    "            productDetails[i]['Price'] = \"Not Found\"\n",
    "            print(\"Price not found\")\n",
    "            \n",
    "         \n",
    "            \n",
    "            \n",
    "    except:\n",
    "        pass"
   ]
  },
  {
   "cell_type": "code",
   "execution_count": null,
   "id": "6041cc75",
   "metadata": {},
   "outputs": [],
   "source": [
    "df_productDetails = pd.DataFrame.from_dict(productDetails,orient='index')\n",
    "df_productDetails['Brand_Subscript'] = df_productDetails['Brand_Subscript'].str.replace('^Brand:\\s','').str.replace('\\sStore','').str.replace('^Visit\\sthe\\s','').str.replace('^Marca:\\s','').str.replace('^Visita\\slo\\sdi\\s','').str.replace('^Visita\\sla\\sde\\s','').str.replace('^Merk:\\s','').str.replace('^De\\s',''). str.replace('openen','').str.replace('^Marque :\\s','').str.replace('^Visiter la boutique\\s','').str.lower()\n",
    "df_productDetails['Price']=df_productDetails['Price'].str.replace(\"€\",\"\")\n",
    "my_df= pd.merge(msii_df, df_productDetails, left_on='asin', right_on=df_productDetails.index, how= \"left\")\n",
    "my_df"
   ]
  },
  {
   "cell_type": "code",
   "execution_count": null,
   "id": "1afba909",
   "metadata": {},
   "outputs": [],
   "source": [
    "my_df.brand_name.fillna(my_df.Brand_Subscript, inplace=True)\n",
    "my_df.price.fillna(my_df.Price, inplace=True)\n",
    "\n",
    "my_df"
   ]
  },
  {
   "cell_type": "code",
   "execution_count": null,
   "id": "69e04304",
   "metadata": {},
   "outputs": [],
   "source": [
    "ms_df=pd.merge(ready_product_with_upd[['asin','rank','unit_per_day','title']],my_df[['asin','brand_name','price']], on=\"asin\", how='left')\n",
    "ms_df"
   ]
  },
  {
   "cell_type": "code",
   "execution_count": null,
   "id": "9fa5ac63",
   "metadata": {},
   "outputs": [],
   "source": [
    "top_brand=ms_df.groupby(['brand_name']).unit_per_day.sum().reset_index(name='upd').sort_values(by=['upd'],ascending=False)\n",
    "\n",
    "top_brand"
   ]
  },
  {
   "cell_type": "markdown",
   "id": "f535b465",
   "metadata": {},
   "source": [
    "# Brand's number of Asin in BSR 100\n"
   ]
  },
  {
   "cell_type": "code",
   "execution_count": null,
   "id": "5c4783e8",
   "metadata": {
    "scrolled": true
   },
   "outputs": [],
   "source": [
    "brand_wise_asin_in_bsr_top100=ms_df.drop_duplicates('asin').groupby(['brand_name']).count().reset_index() #count() #.sort_values(by=['count'],ascending=False)\n",
    "\n",
    "brand_wise_asin_in_bsr_top100"
   ]
  },
  {
   "cell_type": "markdown",
   "id": "97f39f21",
   "metadata": {},
   "source": [
    "# brands wise count of asin in top 10 BSR"
   ]
  },
  {
   "cell_type": "code",
   "execution_count": null,
   "id": "2ea13005",
   "metadata": {},
   "outputs": [],
   "source": [
    "brand_wise_asin_in_bsr_top10=ms_df[ms_df['rank']<=10].drop_duplicates('asin').groupby(['brand_name']).count().reset_index() #count() #.sort_values(by=['count'],ascending=False)\n",
    "\n",
    "brand_wise_asin_in_bsr_top10"
   ]
  },
  {
   "cell_type": "code",
   "execution_count": null,
   "id": "41edaeed",
   "metadata": {},
   "outputs": [],
   "source": []
  },
  {
   "cell_type": "markdown",
   "id": "b6e8e2cc",
   "metadata": {},
   "source": [
    "# Brand wise average price"
   ]
  },
  {
   "cell_type": "code",
   "execution_count": null,
   "id": "641d7947",
   "metadata": {},
   "outputs": [],
   "source": [
    "client_id=input('client id ')#'130'"
   ]
  },
  {
   "cell_type": "code",
   "execution_count": null,
   "id": "c8562661",
   "metadata": {},
   "outputs": [],
   "source": [
    "tablename2='client_{0}.serp_data_{1}'.format(client_id,client_id)"
   ]
  },
  {
   "cell_type": "code",
   "execution_count": null,
   "id": "0d463d0b",
   "metadata": {},
   "outputs": [],
   "source": [
    "feature=input('Please insert Feature from Keyword_category:')\n",
    "feature"
   ]
  },
  {
   "cell_type": "code",
   "execution_count": null,
   "id": "d22239de",
   "metadata": {},
   "outputs": [],
   "source": [
    "feature=tuple(['239','240','241'])"
   ]
  },
  {
   "cell_type": "code",
   "execution_count": null,
   "id": "2f79f891",
   "metadata": {},
   "outputs": [],
   "source": [
    "query5=f\"\"\"\n",
    "select*\n",
    "from entity.keyword_category\n",
    "where feature = '{feature}'\n",
    "\n",
    "\"\"\"\n",
    "\n",
    "keyword_df = pd.read_sql_query(query5, conn[1])\n",
    "keyword_df"
   ]
  },
  {
   "cell_type": "code",
   "execution_count": null,
   "id": "1ee15cb5",
   "metadata": {},
   "outputs": [],
   "source": [
    "keyword_df=keyword_df[keyword_df['sub_category']=='ear care']\n",
    "keyword_df"
   ]
  },
  {
   "cell_type": "code",
   "execution_count": null,
   "id": "cf066de3",
   "metadata": {},
   "outputs": [],
   "source": [
    "keystone_key1= \"'\" +  (\"'\" + \"','\".join(name.replace(\"'\", r\"''\") for name in list(keyword_df['keyword'])) + \"'\") + \"'\"\n",
    "keystone_key1"
   ]
  },
  {
   "cell_type": "code",
   "execution_count": null,
   "id": "ed14305c",
   "metadata": {},
   "outputs": [],
   "source": []
  },
  {
   "cell_type": "code",
   "execution_count": null,
   "id": "7051aa3c",
   "metadata": {},
   "outputs": [],
   "source": [
    "#keyword_list=pd.read_excel('keystone_keyword.xlsx')\n"
   ]
  },
  {
   "cell_type": "code",
   "execution_count": null,
   "id": "bb52756a",
   "metadata": {},
   "outputs": [],
   "source": [
    "query4 = f\"\"\"\n",
    "select *\n",
    "from  {tablename2} \n",
    "where  crawl_date between '{startingdate}' and '{endingdate}' and channel_id= '{1}' and keyword  in ({str(keystone_key1)[1:-1]})\n",
    "\"\"\"\n",
    "\n",
    "serp_data = pd.read_sql_query(query4, conn2[1])"
   ]
  },
  {
   "cell_type": "code",
   "execution_count": null,
   "id": "a1b626ea",
   "metadata": {},
   "outputs": [],
   "source": [
    "serp_data"
   ]
  },
  {
   "cell_type": "code",
   "execution_count": null,
   "id": "6c8604b0",
   "metadata": {},
   "outputs": [],
   "source": [
    "serp_data['brand_name']=serp_data['brand_name'].str.lower()\n",
    "\n",
    "avg_price=serp_data.groupby(['channel_sku_id','brand_name'])['price'].mean().reset_index()\n",
    "\n",
    "avg_price1=avg_price.groupby(['brand_name'])['price'].mean().reset_index()\n",
    "\n",
    "brand_wise_avg_price=avg_price1[avg_price1['brand_name'].isin(list(top_brand['brand_name']))]\n",
    "\n",
    "brand_wise_avg_price"
   ]
  },
  {
   "cell_type": "markdown",
   "id": "23fdad17",
   "metadata": {},
   "source": [
    "# Total review count"
   ]
  },
  {
   "cell_type": "code",
   "execution_count": null,
   "id": "3dd1a3a8",
   "metadata": {},
   "outputs": [],
   "source": [
    "\n",
    "\n",
    "total_review_count=serp_data.groupby(['channel_sku_id','brand_name'])['rating_count'].max().reset_index()\n",
    "\n",
    "total_review_count1=total_review_count.groupby(['brand_name'])['rating_count'].sum().reset_index()\n",
    "\n",
    "brand_wise_total_review_count=total_review_count1[total_review_count1['brand_name'].isin(list(top_brand['brand_name']))]\n",
    "\n",
    "brand_wise_total_review_count"
   ]
  },
  {
   "cell_type": "markdown",
   "id": "dce2c3f6",
   "metadata": {},
   "source": [
    "# Average rating"
   ]
  },
  {
   "cell_type": "code",
   "execution_count": null,
   "id": "a5f31811",
   "metadata": {},
   "outputs": [],
   "source": [
    "avg_rating=serp_data.groupby(['channel_sku_id','brand_name'])['rating'].mean().reset_index()\n",
    "\n",
    "avg_rating1=avg_rating.groupby(['brand_name'])['rating'].mean().reset_index()\n",
    "\n",
    "brand_wise_avg_rating=avg_rating1[avg_rating1['brand_name'].isin(list(top_brand['brand_name']))]\n",
    "\n",
    "brand_wise_avg_rating"
   ]
  },
  {
   "cell_type": "markdown",
   "id": "2ff41d73",
   "metadata": {},
   "source": [
    "# AVERAGE REVIEW VELOCITY"
   ]
  },
  {
   "cell_type": "code",
   "execution_count": null,
   "id": "6b460878",
   "metadata": {},
   "outputs": [],
   "source": [
    "ratings_df=serp_data[['channel_sku_id','sku_title','brand_name','rating','rating_count','crawl_date']]\n",
    "max_count=ratings_df.groupby(['channel_sku_id','brand_name'])['rating_count'].max().reset_index()\n",
    "min_count=ratings_df.groupby(['channel_sku_id','brand_name'])['rating_count'].min().reset_index()\n",
    "\n",
    "dif_review=pd.merge(min_count,max_count, on=['channel_sku_id','brand_name'], how= 'outer')\n",
    "dif_review=dif_review.fillna(0)\n",
    "dif_review['change_in_rating']=dif_review['rating_count_y']-dif_review['rating_count_x']\n",
    "\n",
    "brand_wise_velocity=dif_review[dif_review['brand_name'].isin(list(top_brand['brand_name']))]\n",
    "\n",
    "brand_wise_review_velocity=brand_wise_velocity.groupby(['brand_name'])['change_in_rating'].sum().reset_index()\n",
    "\n",
    "brand_wise_review_velocity"
   ]
  },
  {
   "cell_type": "markdown",
   "id": "e7ca24bd",
   "metadata": {},
   "source": [
    "# GENERIC KEYWORD COVERAGE"
   ]
  },
  {
   "cell_type": "code",
   "execution_count": null,
   "id": "4e33618c",
   "metadata": {},
   "outputs": [],
   "source": [
    "generic_serp_data=serp_data[serp_data['sponsored']!=1]\n",
    "\n",
    "generic_kwd_coverage=generic_serp_data.drop_duplicates(subset=['keyword','brand_name'])[['brand_name','keyword']]\n",
    "\n",
    "generic_kwd_coverage1=generic_kwd_coverage.groupby(['brand_name']).count().reset_index()\n",
    "\n",
    "generic_kwd_coverage1['kwd_coverage_%']=generic_kwd_coverage1['keyword']/len(list(keyword_df['keyword']))\n",
    "\n",
    "brand_wise_generic_kwd_coverage=generic_kwd_coverage1[generic_kwd_coverage1['brand_name'].isin(list(top_brand['brand_name']))]\n",
    "\n",
    "brand_wise_generic_kwd_coverage"
   ]
  },
  {
   "cell_type": "markdown",
   "id": "e8f5a71e",
   "metadata": {},
   "source": [
    "# PAID KEYWORD COVERAGE"
   ]
  },
  {
   "cell_type": "code",
   "execution_count": null,
   "id": "b3af7084",
   "metadata": {},
   "outputs": [],
   "source": [
    "paid_serp_data=serp_data[serp_data['sponsored']==1]\n",
    "\n",
    "paid_kwd_coverage=paid_serp_data.drop_duplicates(subset=['keyword','brand_name'])[['brand_name','keyword']]\n",
    "\n",
    "paid_kwd_coverage1=paid_kwd_coverage.groupby(['brand_name']).count().reset_index()\n",
    "\n",
    "paid_kwd_coverage1['kwd_coverage_%']=paid_kwd_coverage1['keyword']/len(list(keyword_df['keyword']))\n",
    "\n",
    "brand_wise_paid_kwd_coverage=paid_kwd_coverage1[paid_kwd_coverage1['brand_name'].isin(list(top_brand['brand_name']))]\n",
    "\n",
    "brand_wise_paid_kwd_coverage"
   ]
  },
  {
   "cell_type": "code",
   "execution_count": null,
   "id": "33c13add",
   "metadata": {},
   "outputs": [],
   "source": []
  },
  {
   "cell_type": "code",
   "execution_count": null,
   "id": "d355c9ce",
   "metadata": {},
   "outputs": [],
   "source": []
  },
  {
   "cell_type": "code",
   "execution_count": null,
   "id": "3f7a5ad5",
   "metadata": {},
   "outputs": [],
   "source": []
  },
  {
   "cell_type": "code",
   "execution_count": null,
   "id": "352e1e3f",
   "metadata": {},
   "outputs": [],
   "source": []
  },
  {
   "cell_type": "code",
   "execution_count": null,
   "id": "557a46c3",
   "metadata": {},
   "outputs": [],
   "source": [
    "one=pd.merge(top_brand,brand_wise_asin_in_bsr_top100[['brand_name','asin']],on='brand_name',how='left').rename(columns={'asin':'No. of ASINs in BSR (Top 100)'})"
   ]
  },
  {
   "cell_type": "code",
   "execution_count": null,
   "id": "5f386814",
   "metadata": {},
   "outputs": [],
   "source": [
    "\n",
    "two=one.merge(brand_wise_asin_in_bsr_top10[['brand_name','asin']],on='brand_name', how='left').rename(columns={'asin':'No. of ASIN in BSR (Top 10)'})"
   ]
  },
  {
   "cell_type": "code",
   "execution_count": null,
   "id": "7c2a630d",
   "metadata": {},
   "outputs": [],
   "source": [
    "three=two.merge(brand_wise_avg_price[['brand_name','price']],on='brand_name',how='left').rename(columns={'price':'AVR Price'})"
   ]
  },
  {
   "cell_type": "code",
   "execution_count": null,
   "id": "145792fb",
   "metadata": {},
   "outputs": [],
   "source": [
    "three=three.rename(columns={'upd':'Est. Volume'})"
   ]
  },
  {
   "cell_type": "code",
   "execution_count": null,
   "id": "2f478aec",
   "metadata": {},
   "outputs": [],
   "source": [
    "four=three.merge(brand_wise_total_review_count[['brand_name','rating_count']],on='brand_name',how='left')"
   ]
  },
  {
   "cell_type": "code",
   "execution_count": null,
   "id": "51718e91",
   "metadata": {},
   "outputs": [],
   "source": [
    "five=four.merge(brand_wise_avg_rating[['brand_name','rating']],on='brand_name',how='left')"
   ]
  },
  {
   "cell_type": "code",
   "execution_count": null,
   "id": "de2dcfdb",
   "metadata": {},
   "outputs": [],
   "source": [
    "six=five.merge(brand_wise_review_velocity[['brand_name','change_in_rating']],on='brand_name',how='left')"
   ]
  },
  {
   "cell_type": "code",
   "execution_count": null,
   "id": "fb214e51",
   "metadata": {},
   "outputs": [],
   "source": [
    "seven=six.merge(brand_wise_generic_kwd_coverage[['brand_name','kwd_coverage_%']],on='brand_name', how='left').rename(columns={'kwd_coverage_%':'Keyword Coverage (Organic)'})"
   ]
  },
  {
   "cell_type": "code",
   "execution_count": null,
   "id": "c07dbb6f",
   "metadata": {},
   "outputs": [],
   "source": [
    "eight=seven.merge(brand_wise_paid_kwd_coverage[['brand_name','kwd_coverage_%']],on='brand_name', how='left').rename(columns={'kwd_coverage_%':'Keyword Coverage (Paid)','rating_count':'Total Review Count','rating':'Average Rating','change_in_rating':'Average Review Velocity','brand_name':'Brand'})"
   ]
  },
  {
   "cell_type": "code",
   "execution_count": null,
   "id": "b39a1a11",
   "metadata": {},
   "outputs": [],
   "source": [
    "eight['Total Number of ASINs']=\"\"\n",
    "eight['Market Share (volume)']=\"\"\n",
    "eight['Estimated Revenue']=\"\"\n",
    "eight['Market Share']=\"\"\n",
    "eight['Country']=\"France\"\n",
    "eight['Category']=\"\"\n",
    "eight['Sub-category']=\"\"\n",
    "eight['Sub-Sub Category']=\"\"\n",
    "eight['Marketplace']=\"Amazon\"\n",
    "eight['Tier']=\"\"\n",
    "eight['Ranking']=\"\""
   ]
  },
  {
   "cell_type": "code",
   "execution_count": null,
   "id": "f4991425",
   "metadata": {},
   "outputs": [],
   "source": [
    "eight=eight[['Country','Category','Sub-category','Sub-Sub Category','Marketplace','Tier','Ranking',\n",
    "             'Brand','Total Number of ASINs','No. of ASINs in BSR (Top 100)','No. of ASIN in BSR (Top 10)',\n",
    "      'AVR Price','Est. Volume','Market Share (volume)','Estimated Revenue',\n",
    "             'Market Share','Keyword Coverage (Organic)','Keyword Coverage (Paid)','Total Review Count','Average Rating','Average Review Velocity']]\n",
    "eight"
   ]
  },
  {
   "cell_type": "code",
   "execution_count": null,
   "id": "0be38096",
   "metadata": {},
   "outputs": [],
   "source": [
    "fileout=\"551 category analysis.xlsx\" "
   ]
  },
  {
   "cell_type": "code",
   "execution_count": null,
   "id": "cd6585d2",
   "metadata": {},
   "outputs": [],
   "source": [
    "with pd.ExcelWriter(fileout, engine='xlsxwriter')as writer:\n",
    "        eight.to_excel(writer,sheet_name='analysis' ,startrow=0,startcol=0,index=False)\n",
    "        ms_df.to_excel(writer,sheet_name='cat_data' ,startrow=0,startcol=0,index=False)\n",
    "#         serp_data.to_excel(writer,sheet_name='serp_data' ,startrow=0,startcol=0,index=False)"
   ]
  },
  {
   "cell_type": "code",
   "execution_count": null,
   "id": "379195ad",
   "metadata": {},
   "outputs": [],
   "source": [
    "conn[0].close()\n",
    "conn[1].close()\n",
    "conn2[0].close()\n",
    "conn2[1].close()"
   ]
  },
  {
   "cell_type": "code",
   "execution_count": null,
   "id": "0981ce80",
   "metadata": {},
   "outputs": [],
   "source": []
  },
  {
   "cell_type": "code",
   "execution_count": null,
   "id": "82c5b158",
   "metadata": {},
   "outputs": [],
   "source": []
  },
  {
   "cell_type": "code",
   "execution_count": null,
   "id": "7c6bfbdd",
   "metadata": {},
   "outputs": [],
   "source": []
  },
  {
   "cell_type": "code",
   "execution_count": null,
   "id": "f24f9cfd",
   "metadata": {},
   "outputs": [],
   "source": []
  },
  {
   "cell_type": "code",
   "execution_count": null,
   "id": "28a8a828",
   "metadata": {},
   "outputs": [],
   "source": []
  },
  {
   "cell_type": "code",
   "execution_count": null,
   "id": "456892de",
   "metadata": {},
   "outputs": [],
   "source": [
    "msi_df.sort_values('brand_name', inplace= True)\n",
    "\n",
    "brands_df=msi_df[['asin','brand_name']].drop_duplicates('asin')\n",
    "\n",
    "msi_df.sort_values('price', inplace= True)\n",
    "\n",
    "prices_df=msi_df[['asin','price']].drop_duplicates('asin')\n",
    "\n",
    "msii_df=pd.merge(brands_df, prices_df, on='asin', how='outer')\n",
    "msii_df\n",
    "\n",
    "gh_df=msii_df[(msii_df['brand_name'].isna())|(msii_df['price'].isna())]\n",
    "gh_df"
   ]
  },
  {
   "cell_type": "code",
   "execution_count": null,
   "id": "efcf518d",
   "metadata": {},
   "outputs": [],
   "source": []
  },
  {
   "cell_type": "code",
   "execution_count": null,
   "id": "9ee45718",
   "metadata": {},
   "outputs": [],
   "source": []
  },
  {
   "cell_type": "code",
   "execution_count": null,
   "id": "47d36efa",
   "metadata": {},
   "outputs": [],
   "source": []
  },
  {
   "cell_type": "code",
   "execution_count": null,
   "id": "92d812fa",
   "metadata": {},
   "outputs": [],
   "source": [
    "unique_sku=msi_df[['asin']].drop_duplicates()\n",
    "unique_sku"
   ]
  },
  {
   "cell_type": "code",
   "execution_count": null,
   "id": "60753ddd",
   "metadata": {},
   "outputs": [],
   "source": []
  },
  {
   "cell_type": "code",
   "execution_count": null,
   "id": "338b66cf",
   "metadata": {},
   "outputs": [],
   "source": [
    "unique_sku['brand']=unique_sku.apply(lambda x: msi_df[msi_df['asin']==x]['brand_name'][0] , axis=1)\n",
    "unique_sku"
   ]
  },
  {
   "cell_type": "code",
   "execution_count": null,
   "id": "691f40a9",
   "metadata": {},
   "outputs": [],
   "source": [
    "unique_sku['price']=unique_sku.apply(lambda x: )"
   ]
  },
  {
   "cell_type": "code",
   "execution_count": null,
   "id": "cecda1a5",
   "metadata": {},
   "outputs": [],
   "source": [
    "msi_df[msi_df['asin']=='B073TW58NZ']"
   ]
  },
  {
   "cell_type": "code",
   "execution_count": null,
   "id": "eb874bd2",
   "metadata": {},
   "outputs": [],
   "source": [
    "msi_df['brand_name'][0]"
   ]
  },
  {
   "cell_type": "code",
   "execution_count": null,
   "id": "5c720fdd",
   "metadata": {},
   "outputs": [],
   "source": []
  },
  {
   "cell_type": "code",
   "execution_count": null,
   "id": "28df2f3d",
   "metadata": {},
   "outputs": [],
   "source": []
  },
  {
   "cell_type": "code",
   "execution_count": null,
   "id": "a551df73",
   "metadata": {},
   "outputs": [],
   "source": []
  },
  {
   "cell_type": "code",
   "execution_count": null,
   "id": "40f78fc2",
   "metadata": {},
   "outputs": [],
   "source": []
  },
  {
   "cell_type": "code",
   "execution_count": null,
   "id": "ebf1db60",
   "metadata": {},
   "outputs": [],
   "source": []
  },
  {
   "cell_type": "code",
   "execution_count": null,
   "id": "97f81d64",
   "metadata": {},
   "outputs": [],
   "source": []
  },
  {
   "cell_type": "code",
   "execution_count": null,
   "id": "6730449c",
   "metadata": {},
   "outputs": [],
   "source": [
    "pip install yake"
   ]
  },
  {
   "cell_type": "code",
   "execution_count": null,
   "id": "e242d675",
   "metadata": {},
   "outputs": [],
   "source": [
    "import yake\n"
   ]
  },
  {
   "cell_type": "code",
   "execution_count": null,
   "id": "d2ce283f",
   "metadata": {},
   "outputs": [],
   "source": [
    "cvdf=pd.read_csv(r\"C:\\Users\\nitin\\Downloads\\traditional laptop.csv\")\n",
    "mygh=list(cvdf['Product Details'])\n",
    "mygh\n"
   ]
  },
  {
   "cell_type": "code",
   "execution_count": null,
   "id": "a113c986",
   "metadata": {},
   "outputs": [],
   "source": [
    "text=\"\".join(mygh)\n",
    "text"
   ]
  },
  {
   "cell_type": "code",
   "execution_count": null,
   "id": "bd7cc8cb",
   "metadata": {},
   "outputs": [],
   "source": [
    "\n",
    "kw_extractor = yake.KeywordExtractor()\n",
    "#text =\"\"\"HP 15s, 11th Gen Intel Core i3, 8GB RAM/512GB SSD 15.6-inch(39.6 cm) Micro-Edge Anti-Glare FHD Laptop/Alexa Built-in/Win 11/Intel UHD Graphics/Dual Speakers/ MS Office 2021/1.69 Kg, 15s-fr2511TU Lenovo IdeaPad Slim 3 Intel Celeron N4020 4th Gen 15.6\" (39.62cm) HD Thin & Light Laptop (8GB/256GB SSD/Windows 11/Office 2021/2Yr Warranty/3months Game Pass/Platinum Grey/1.7Kg), 81WQ00MQIN \"\"\" \n",
    "language = \"es\"\n",
    "max_ngram_size = 3\n",
    "deduplication_threshold = 0.5\n",
    "numOfKeywords = 20\n",
    "custom_kw_extractor = yake.KeywordExtractor(lan=language, n=max_ngram_size, dedupLim=deduplication_threshold, top=numOfKeywords, features=None)\n",
    "keywords = custom_kw_extractor.extract_keywords(text)\n",
    "for kw in keywords:\n",
    "    print(kw)"
   ]
  },
  {
   "cell_type": "code",
   "execution_count": null,
   "id": "c7260c94",
   "metadata": {},
   "outputs": [],
   "source": [
    "len(keywords)\n"
   ]
  },
  {
   "cell_type": "code",
   "execution_count": null,
   "id": "e25e7aea",
   "metadata": {},
   "outputs": [],
   "source": [
    "import streamlit as st\n",
    "import yake\n",
    "import pandas as pd\n",
    "import numpy as np\n",
    "from wordcloud import WordCloud\n",
    "import matplotlib.pyplot as plt\n",
    "from spacy import displacy\n",
    "import re"
   ]
  },
  {
   "cell_type": "code",
   "execution_count": null,
   "id": "1361a264",
   "metadata": {},
   "outputs": [],
   "source": [
    "st.write('<style>div.row-widget.stRadio > div{flex-direction:row;}</style>', unsafe_allow_html=True)\n",
    "HTML_WRAPPER = \"\"\"<div style=\"overflow-x: hidden; border: 1px solid #e6e9ef; border-radius: 0.25rem; padding: 1rem; margin-bottom: 2.5rem\">{}</div>\"\"\"\n",
    "\n",
    "\n",
    "st.sidebar.title(\"Yet Another Keyword Extractor (YAKE)\")\n",
    "st.sidebar.markdown(\"\"\"\n",
    "Unsupervised Approach for Automatic Keyword Extraction using Text Features.\n",
    "https://liaad.github.io/yake/\n",
    "\"\"\"\n",
    ")\n",
    "\n",
    "st.sidebar.markdown(\"\"\"\n",
    "[![Open In Colab](https://colab.research.google.com/assets/colab-badge.svg)](https://colab.research.google.com/github/LIAAD/yake/blob/gh-pages/notebooks/YAKE_tutorial.ipynb)\n",
    "\"\"\")\n",
    "\n",
    "st.sidebar.header('Parameters')\n",
    "\n",
    "#side bar parameters\n",
    "max_ngram_size = st.sidebar.slider(\"Select max ngram size\", 1, 10, 3)\n",
    "deduplication_thresold = st.sidebar.slider(\"Select deduplication threshold\", 0.5, 1.0, 0.9)\n",
    "numOfKeywords = st.sidebar.slider(\"Select number of keywords to return\", 1, 50, 10)\n",
    "deduplication_algo = st.sidebar.selectbox('deduplication function', ('leve','jaro','seqm'),2)\n",
    "\n",
    "\n",
    "\n",
    "input_text_demo = [\n",
    "    \"Extracting keywords from texts has become a challenge for individuals and organizations  as the information grows in complexity and size . The need to automate this task so that text can be processed in a timely and adequate manner has led to the emergence of automatic keyword extraction tools . Yake is a novel  feature-based system for multi-lingual keyword extraction , which supports texts of different sizes, domain or languages. Unlike other approaches, Yake does not rely on dictionaries nor thesauri, neither is trained against any corpora. Instead, it follows an unsupervised approach which builds upon features extracted from the text, making it thus applicable to documents written in different languages without the need for further knowledge. This can be beneficial for a large number of tasks and a plethora of situations where access to training corpora is either limited or restricted.\",\n",
    "    \"Google is acquiring data science community Kaggle. Sources tell us that Google is acquiring Kaggle, a platform that hosts data science and machine learning   competitions. Details about the transaction remain somewhat vague , but given that Google is hosting   its Cloud Next conference in San Francisco this week, the official announcement could come as early   as tomorrow.  Reached by phone, Kaggle co-founder CEO Anthony Goldbloom declined to deny that the   acquisition is happening. Google itself declined 'to comment on rumors'.   Kaggle, which has about half a million data scientists on its platform, was founded by Goldbloom   and Ben Hamner in 2010. The service got an early start and even though it has a few competitors   like DrivenData, TopCoder and HackerRank, it has managed to stay well ahead of them by focusing on its   specific niche. The service is basically the de facto home for running data science  and machine learning   competitions.  With Kaggle, Google is buying one of the largest and most active communities for   data scientists - and with that, it will get increased mindshare in this community, too   (though it already has plenty of that thanks to Tensorflow and other projects).   Kaggle has a bit of a history with Google, too, but that's pretty recent. Earlier this month,   Google and Kaggle teamed up to host a $100,000 machine learning competition around classifying   YouTube videos. That competition had some deep integrations with the Google Cloud Platform, too.   Our understanding is that Google will keep the service running - likely under its current name.   While the acquisition is probably more about Kaggle's community than technology, Kaggle did build   some interesting tools for hosting its competition and 'kernels', too. On Kaggle, kernels are   basically the source code for analyzing data sets and developers can share this code on the   platform (the company previously called them 'scripts').  Like similar competition-centric sites,   Kaggle also runs a job board, too. It's unclear what Google will do with that part of the service.   According to Crunchbase, Kaggle raised $12.5 million (though PitchBook says it's $12.75) since its   launch in 2010. Investors in Kaggle include Index Ventures, SV Angel, Max Levchin, Naval Ravikant,   Google chief economist Hal Varian, Khosla Ventures and Yuri Milner\",\n",
    "    \"Genius quietly laid off a bunch of its engineers — now can it survive as a media company?.  Genius, which raised $56.9 million on the promise that it would one day annotate the entire internet, has been losing its minds. In January, the company quietly laid off a quarter of its staff, with the bulk of the cuts coming from the engineering department. In a post on the Genius blog at the time, co-founder Tom Lehman told employees that Genius planned to shift its emphasis away from the annotation platform that once attracted top-tier investors in favor of becoming a more video-focused media company.  'After taking a careful look at the company and our priorities,' Lehman wrote, 'we’ve had to make some tough decisions about how we want to spend our resources. And unfortunately this meant that today we laid off some very talented people.' The company then took the unusual step of posting the Genius usernames of those it had laid off — 12 full-time and five part-time employees.  'WE NEEDED TO SHIFT RESOURCES FROM CAPTURING KNOWLEDGE... TOWARD PACKAGING AND DISTRIBUTING KNOWLEDGE.' At the same time, Lehman noted that the company was continuing to hire for roles in video and sales. The company recently redesigned its homepage with expanded space for editorial content and advertising. It has also been deepening its Behind the Lyrics partnership with Spotify, for which it contributes a mix of song lyrics and factoids that pop up in a slideshow format when you’re listening to popular songs.  'The change we made in January was in recognition of the fact that we needed to shift resources from capturing knowledge — which we've been doing almost exclusively for the past five years — toward packaging and distributing knowledge into easy-to-consume formats like video and Spotify Behind the Lyrics,' Lehman told The Verge.  It’s not unusual for tech companies to transform over time, though typically they are loath to lay off engineers. But Genius’ shift is more dramatic than most: going from all-encompassing annotator of the internet to a more traditional media company model, chasing video views alongside an ever-growing number of well-capitalized competitors. The move illustrates the company’s difficulty attracting contributors — and an audience for their contributions — particularly outside of the music world.  In an interview last week, Lehman said the company had turned to video in an effort to reach its core audience‚ which continues to be rap fans, beyond its website and mobile apps. 'Video makes it a little bit more accessible,' he said. 'I love the Genius website. One of my favorite websites. But it can be a little frustrating to use. You have to be really, really dedicated to learn everything about a song on Genius. You've got to be down to click and read a lot.'  Genius’ videos to date have included interviews with artists about their craft, and a series where rappers perform original freestyle verses. One of Lehman’s favorite videos traces a whistle sample featured in a series of popular songs back to its origins in a Quentin Tarantino movie. Last week, Genius posted a video about rapper Lil Yachty learning how to make pizza. The company is also investing in original editorial content, aggregating news headlines, doing Q&As with artists like the Track Burnaz, and writing short profiles. \",\n",
    "]\n",
    "\n",
    "\n",
    "\n",
    "windowSize = 1\n",
    "\n",
    "#User text in content\n",
    "st.header('Demo')\n",
    "\n",
    "selected_input_text = st.selectbox(\"Select sample text\", input_text_demo)\n",
    "text = st.text_area(\"Selected text\", selected_input_text, 330)\n",
    "language = \"english\"\n",
    "\n",
    "#use yake to extract keywords\n",
    "custom_kw_extractor = yake.KeywordExtractor(lan=language, n=max_ngram_size, dedupLim=deduplication_thresold, dedupFunc=deduplication_algo, windowsSize=windowSize, top=numOfKeywords, features=None)\n",
    "keywords = custom_kw_extractor.extract_keywords(text)\n",
    "\n",
    "\n",
    "\n",
    "\n",
    "#get keywords and their position\n",
    "ents = []\n",
    "text_lower = text.lower()\n",
    "\n",
    "keywords_list = str(keywords[0][0])\n",
    "for m in re.finditer(keywords_list, text_lower): \n",
    "    d = dict(start = m.start(), end = m.end(), label = \"\")\n",
    "    ents.append(d)\n",
    "    \n",
    "for i in range(1, len(keywords)):\n",
    "    kwords = str(keywords[i][0])\n",
    "    keywords_list += (', ' + kwords)\n",
    "    for m in re.finditer(kwords, text_lower): \n",
    "        d = dict(start = m.start(), end = m.end(), label = \"\")\n",
    "        ents.append(d)\n",
    "        \n",
    "#sort the result by ents, as ent rule suggests\n",
    "sort_ents = sorted(ents, key=lambda x: x[\"start\"])\n",
    "\n",
    "st.header('Output')\n",
    "\n",
    "result_view = st.radio(\"Choose visualization type\",('Highlighting', 'Word cloud', 'Table'), index=0)\n",
    "if result_view == 'Highlighting':\n",
    "    #use spacy to higlight the keywords\n",
    "    ex = [{\"text\": text,\n",
    "        \"ents\": sort_ents,\n",
    "        \"title\": None}]\n",
    "\n",
    "    html = displacy.render(ex, style=\"ent\", manual=True)\n",
    "    #html = html.replace(\"\\n\", \" \")\n",
    "    st.write(HTML_WRAPPER.format(html), unsafe_allow_html=True)\n",
    "elif result_view == \"Table\":\n",
    "    #tabular data (columns: keywords, score)\n",
    "    df = pd.DataFrame(keywords, columns=(\"keywords\",\"score\"))\n",
    "    st.table(df)\n",
    "    \n",
    "else:\n",
    "    #create and generate a word cloud image\n",
    "    wordcloud = WordCloud(width = 1000, height = 600, max_font_size = 80, \n",
    "                min_font_size=10, prefer_horizontal=1, \n",
    "                max_words=numOfKeywords,\n",
    "                background_color=\"white\", \n",
    "                collocations=False, \n",
    "                regexp = r\"\\w[\\w ']+\").generate(keywords_list)\n",
    "\n",
    "    #display the generated image\n",
    "    plt.imshow(wordcloud, interpolation='bilinear')\n",
    "    plt.axis(\"off\")\n",
    "    st.pyplot(plt)"
   ]
  },
  {
   "cell_type": "code",
   "execution_count": null,
   "id": "fece27a6",
   "metadata": {},
   "outputs": [],
   "source": [
    "keywords"
   ]
  },
  {
   "cell_type": "code",
   "execution_count": null,
   "id": "5a24b1ff",
   "metadata": {},
   "outputs": [],
   "source": [
    "import numpy as np"
   ]
  },
  {
   "cell_type": "code",
   "execution_count": null,
   "id": "fe2b54b9",
   "metadata": {},
   "outputs": [],
   "source": [
    "size_x=5\n",
    "size_y=3"
   ]
  },
  {
   "cell_type": "code",
   "execution_count": null,
   "id": "56bb642d",
   "metadata": {},
   "outputs": [],
   "source": [
    "matrix = np.zeros ((size_x, size_y))\n",
    "matrix"
   ]
  },
  {
   "cell_type": "code",
   "execution_count": null,
   "id": "7be968a1",
   "metadata": {},
   "outputs": [],
   "source": [
    "        for x in range(size_x):\n",
    "            matrix [x, 0] = x\n",
    "        for y in range(size_y):\n",
    "            matrix [0, y] = y"
   ]
  },
  {
   "cell_type": "code",
   "execution_count": null,
   "id": "f0255a73",
   "metadata": {},
   "outputs": [],
   "source": [
    "matrix"
   ]
  },
  {
   "cell_type": "code",
   "execution_count": null,
   "id": "b364f96b",
   "metadata": {},
   "outputs": [],
   "source": [
    "        for x in range(size_x):\n",
    "            matrix [x, 0] = x\n",
    "            print(matrix)"
   ]
  },
  {
   "cell_type": "code",
   "execution_count": null,
   "id": "19dff43b",
   "metadata": {},
   "outputs": [],
   "source": [
    "candidate_string='I am a good boy. My name is NITIN Bhayana'"
   ]
  },
  {
   "cell_type": "code",
   "execution_count": null,
   "id": "38ba90a5",
   "metadata": {},
   "outputs": [],
   "source": [
    "from segtok.segmenter import split_multi\n",
    "from segtok.tokenizer import web_tokenizer, split_contractions"
   ]
  },
  {
   "cell_type": "code",
   "execution_count": null,
   "id": "3150c9b1",
   "metadata": {},
   "outputs": [],
   "source": [
    "sentences_str = [w for w in split_contractions(web_tokenizer(candidate_string.lower())) if not (w.startswith(\"'\") and len(w) > 1) and len(w) > 0]"
   ]
  },
  {
   "cell_type": "code",
   "execution_count": null,
   "id": "be8302f8",
   "metadata": {},
   "outputs": [],
   "source": [
    "sentences_str"
   ]
  },
  {
   "cell_type": "code",
   "execution_count": null,
   "id": "04c449d3",
   "metadata": {},
   "outputs": [],
   "source": [
    "    def getTag( word, i):\n",
    "        try:\n",
    "            w2 = word.replace(\",\",\"\")\n",
    "            float(w2)\n",
    "            return \"d\"\n",
    "        except:\n",
    "            cdigit = len([c for c in word if c.isdigit()])\n",
    "            calpha = len([c for c in word if c.isalpha()])\n",
    "            if ( cdigit > 0 and calpha > 0 ) or (cdigit == 0 and calpha == 0) or len([c for c in word if c in .exclude]) > 1:\n",
    "                return \"u\"\n",
    "            if len(word) == len([c for c in word if c.isupper()]):\n",
    "                return \"a\"\n",
    "            if len([c for c in word if c.isupper()]) == 1 and len(word) > 1 and word[0].isupper() and i > 0:\n",
    "                return \"n\"\n",
    "        return \"p\""
   ]
  },
  {
   "cell_type": "code",
   "execution_count": null,
   "id": "890756f0",
   "metadata": {},
   "outputs": [],
   "source": [
    "z=enumerate('mylist',2)"
   ]
  },
  {
   "cell_type": "code",
   "execution_count": null,
   "id": "9bafaf89",
   "metadata": {},
   "outputs": [],
   "source": [
    "print(list(z))"
   ]
  },
  {
   "cell_type": "code",
   "execution_count": null,
   "id": "8e11a92a",
   "metadata": {},
   "outputs": [],
   "source": []
  }
 ],
 "metadata": {
  "kernelspec": {
   "display_name": "Python 3 (ipykernel)",
   "language": "python",
   "name": "python3"
  },
  "language_info": {
   "codemirror_mode": {
    "name": "ipython",
    "version": 3
   },
   "file_extension": ".py",
   "mimetype": "text/x-python",
   "name": "python",
   "nbconvert_exporter": "python",
   "pygments_lexer": "ipython3",
   "version": "3.9.12"
  }
 },
 "nbformat": 4,
 "nbformat_minor": 5
}
